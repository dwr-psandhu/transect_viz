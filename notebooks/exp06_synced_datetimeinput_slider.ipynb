{
 "cells": [
  {
   "cell_type": "code",
   "execution_count": null,
   "id": "7fc4660d",
   "metadata": {},
   "outputs": [],
   "source": [
    "import pandas as pd\n",
    "import panel as pn\n",
    "pn.extension()\n",
    "\n",
    "sdate=pd.to_datetime('2022-01-01')\n",
    "\n",
    "time_array = [(sdate + pd.to_timedelta(f'{i*15}T')).strftime('%Y-%m-%d %H:%M') for i in range(1000)]\n",
    "date_slider = pn.widgets.DiscretePlayer(\n",
    "    name='Date Slider', options=time_array)\n",
    "date_time_input = pn.widgets.DatetimeInput(\n",
    "    name='Datetime Input', value=pd.to_datetime(date_slider.value))\n",
    "\n",
    "def sync_slider(target, event):\n",
    "    target.value = event.new.strftime('%Y-%m-%d %H:%M')\n",
    "def sync_dt_input(target, event):\n",
    "    target.value = pd.to_datetime(event.new)\n",
    "\n",
    "\n",
    "_ = date_time_input.link(date_slider, callbacks={'value': sync_slider})\n",
    "_ = date_slider.link(date_time_input, callbacks={'value': sync_dt_input})\n",
    "\n",
    "pn.Column(date_slider,date_time_input)"
   ]
  },
  {
   "cell_type": "code",
   "execution_count": null,
   "id": "43dce429",
   "metadata": {},
   "outputs": [],
   "source": []
  }
 ],
 "metadata": {
  "kernelspec": {
   "display_name": "Python [conda env:Miniconda3-dev_transect_viz]",
   "language": "python",
   "name": "conda-env-Miniconda3-dev_transect_viz-py"
  },
  "language_info": {
   "codemirror_mode": {
    "name": "ipython",
    "version": 3
   },
   "file_extension": ".py",
   "mimetype": "text/x-python",
   "name": "python",
   "nbconvert_exporter": "python",
   "pygments_lexer": "ipython3",
   "version": "3.9.13"
  },
  "toc": {
   "base_numbering": 1,
   "nav_menu": {},
   "number_sections": true,
   "sideBar": true,
   "skip_h1_title": false,
   "title_cell": "Table of Contents",
   "title_sidebar": "Contents",
   "toc_cell": false,
   "toc_position": {},
   "toc_section_display": true,
   "toc_window_display": false
  }
 },
 "nbformat": 4,
 "nbformat_minor": 5
}
