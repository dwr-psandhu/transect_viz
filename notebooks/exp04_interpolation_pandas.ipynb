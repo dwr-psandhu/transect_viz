{
 "cells": [
  {
   "cell_type": "code",
   "execution_count": null,
   "id": "d124e5e7",
   "metadata": {},
   "outputs": [],
   "source": [
    "import pandas as pd\n",
    "import numpy as np"
   ]
  },
  {
   "cell_type": "code",
   "execution_count": null,
   "id": "a4011d47",
   "metadata": {},
   "outputs": [],
   "source": [
    "df1=pd.DataFrame({'x':[1,2.5,3],'y':[0,np.nan,10]})\n",
    "df1"
   ]
  },
  {
   "cell_type": "code",
   "execution_count": null,
   "id": "6213078d",
   "metadata": {},
   "outputs": [],
   "source": [
    "df1.interpolate('linear')"
   ]
  },
  {
   "cell_type": "code",
   "execution_count": null,
   "id": "37f549a5",
   "metadata": {},
   "outputs": [],
   "source": [
    "df1.set_index('x').interpolate('linear')"
   ]
  },
  {
   "cell_type": "code",
   "execution_count": null,
   "id": "e80cbdec",
   "metadata": {},
   "outputs": [],
   "source": [
    "df1.set_index('x').interpolate('index')"
   ]
  },
  {
   "cell_type": "code",
   "execution_count": null,
   "id": "aabfdd74",
   "metadata": {},
   "outputs": [],
   "source": []
  }
 ],
 "metadata": {
  "kernelspec": {
   "display_name": "Python [conda env:holoviz]",
   "language": "python",
   "name": "conda-env-holoviz-py"
  },
  "language_info": {
   "codemirror_mode": {
    "name": "ipython",
    "version": 3
   },
   "file_extension": ".py",
   "mimetype": "text/x-python",
   "name": "python",
   "nbconvert_exporter": "python",
   "pygments_lexer": "ipython3",
   "version": "3.9.13"
  },
  "toc": {
   "base_numbering": 1,
   "nav_menu": {},
   "number_sections": true,
   "sideBar": true,
   "skip_h1_title": false,
   "title_cell": "Table of Contents",
   "title_sidebar": "Contents",
   "toc_cell": false,
   "toc_position": {},
   "toc_section_display": true,
   "toc_window_display": false
  }
 },
 "nbformat": 4,
 "nbformat_minor": 5
}
