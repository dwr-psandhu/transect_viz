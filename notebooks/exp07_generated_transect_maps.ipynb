{
 "cells": [
  {
   "cell_type": "code",
   "execution_count": null,
   "id": "c7989c88",
   "metadata": {},
   "outputs": [],
   "source": [
    "import holoviews as hv\n",
    "import panel as pn\n",
    "pn.extension()"
   ]
  },
  {
   "cell_type": "code",
   "execution_count": null,
   "id": "3c5f0ec6",
   "metadata": {},
   "outputs": [],
   "source": [
    "import transect_viz\n",
    "from transect_viz import transect_animator\n",
    "from transect_viz import transect_generator"
   ]
  },
  {
   "cell_type": "code",
   "execution_count": null,
   "id": "0be7c936",
   "metadata": {},
   "outputs": [],
   "source": [
    "transect_generator.convert_geojson_line_to_pts('../geodata/tom_paine_slough.geojson', '../geodata/tom_paine_slough_pts.geojson')"
   ]
  },
  {
   "cell_type": "code",
   "execution_count": null,
   "id": "e0e87ff3",
   "metadata": {},
   "outputs": [],
   "source": [
    "tps = transect_animator.TransectMap('../geodata/tom_paine_slough_pts.geojson',\n",
    "                                       ['TPI','TPP'],\n",
    "                                       'ec',\n",
    "                                       '01-01-2022',\n",
    "                                       '10-10-2022',\n",
    "                                       (300, 800))"
   ]
  },
  {
   "cell_type": "code",
   "execution_count": null,
   "id": "21b5dfdc",
   "metadata": {},
   "outputs": [],
   "source": [
    "tps.setup()"
   ]
  },
  {
   "cell_type": "code",
   "execution_count": null,
   "id": "3a33304a",
   "metadata": {},
   "outputs": [],
   "source": [
    "v=tps.view('03-03-2022 00:00')\n",
    "pn.Row(v)"
   ]
  },
  {
   "cell_type": "code",
   "execution_count": null,
   "id": "da73784d",
   "metadata": {},
   "outputs": [],
   "source": [
    "pdc = transect_animator.TransectMap('../geodata/paradise_cut_pts.geojson',\n",
    "                                       ['PDC'],\n",
    "                                       'ec',\n",
    "                                       '01-01-2022',\n",
    "                                       '10-10-2022',\n",
    "                                       (300, 800))"
   ]
  },
  {
   "cell_type": "code",
   "execution_count": null,
   "id": "ad8e8c8d",
   "metadata": {},
   "outputs": [],
   "source": [
    "pdc.setup()"
   ]
  },
  {
   "cell_type": "code",
   "execution_count": null,
   "id": "d8d14742",
   "metadata": {},
   "outputs": [],
   "source": [
    "v=pdc.view('03-03-2022 00:00')\n",
    "pn.Row(v)"
   ]
  },
  {
   "cell_type": "code",
   "execution_count": null,
   "id": "3f6813e1",
   "metadata": {},
   "outputs": [],
   "source": [
    "fabian = transect_animator.TransectMap('../geodata/fabian_tract_pts.geojson',\n",
    "                                       ['ORM', 'ODM', 'OLD', 'GLE', 'GLC', 'DGL'],\n",
    "                                       'ec',\n",
    "                                       '01-01-2022',\n",
    "                                       '10-10-2022',\n",
    "                                       (300, 800),\n",
    "                                       close_transect=True)"
   ]
  },
  {
   "cell_type": "code",
   "execution_count": null,
   "id": "2a3df625",
   "metadata": {},
   "outputs": [],
   "source": [
    "fabian.setup()"
   ]
  },
  {
   "cell_type": "code",
   "execution_count": null,
   "id": "410e96c9",
   "metadata": {},
   "outputs": [],
   "source": [
    "v=fabian.view('03-03-2022 00:00')\n",
    "print(v)"
   ]
  },
  {
   "cell_type": "code",
   "execution_count": null,
   "id": "0991d6a4",
   "metadata": {},
   "outputs": [],
   "source": [
    "pn.Row(v)"
   ]
  },
  {
   "cell_type": "code",
   "execution_count": null,
   "id": "eeebd668",
   "metadata": {},
   "outputs": [],
   "source": [
    "sugar_cut = transect_animator.TransectMap('../geodata/sugarcut_pts.geojson',\n",
    "                                          ['DAR', 'SUR', 'SGA'],\n",
    "                                          'ec',\n",
    "                                          '01-01-2022',\n",
    "                                          '10-10-2022',\n",
    "                                          (300, 800))"
   ]
  },
  {
   "cell_type": "code",
   "execution_count": null,
   "id": "01799589",
   "metadata": {},
   "outputs": [],
   "source": [
    "sugar_cut.setup()"
   ]
  },
  {
   "cell_type": "code",
   "execution_count": null,
   "id": "44a3974e",
   "metadata": {},
   "outputs": [],
   "source": [
    "v2=sugar_cut.view('03-03-2022 00:00')\n",
    "print(v2)"
   ]
  },
  {
   "cell_type": "code",
   "execution_count": null,
   "id": "2b121f56",
   "metadata": {},
   "outputs": [],
   "source": [
    "pn.Row(hv.Overlay([v,v2]))"
   ]
  },
  {
   "cell_type": "code",
   "execution_count": null,
   "id": "c9742302",
   "metadata": {},
   "outputs": [],
   "source": [
    "from transect_viz import transect_generator"
   ]
  },
  {
   "cell_type": "code",
   "execution_count": null,
   "id": "fa061b16",
   "metadata": {},
   "outputs": [],
   "source": [
    "transect_generator.convert_geojson_line_to_pts('../geodata/vns2dgl.geojson','../geodata/vns2dgl_pts.geojson')"
   ]
  },
  {
   "cell_type": "code",
   "execution_count": null,
   "id": "df65dd14",
   "metadata": {},
   "outputs": [],
   "source": [
    "vns2dgl = transect_animator.TransectMap('../geodata/vns2dgl_pts.geojson',\n",
    "                                        ['SJR', 'MSD', 'OH1', 'UNI', 'ORX', 'DGL'],\n",
    "                                        'ec',\n",
    "                                        '01-01-2022',\n",
    "                                        '10-10-2022',\n",
    "                                        (300, 800))"
   ]
  },
  {
   "cell_type": "code",
   "execution_count": null,
   "id": "801d91cb",
   "metadata": {},
   "outputs": [],
   "source": [
    "vns2dgl.setup()"
   ]
  },
  {
   "cell_type": "code",
   "execution_count": null,
   "id": "cd306aca",
   "metadata": {},
   "outputs": [],
   "source": [
    "v3=vns2dgl.view('03-03-2022 00:00')\n",
    "print(v3)"
   ]
  },
  {
   "cell_type": "code",
   "execution_count": null,
   "id": "9c6df9a3",
   "metadata": {},
   "outputs": [],
   "source": [
    "cartolight = hv.element.tiles.CartoLight()"
   ]
  },
  {
   "cell_type": "code",
   "execution_count": null,
   "id": "cb71f863",
   "metadata": {},
   "outputs": [],
   "source": [
    "m=cartolight*v3*v2*v"
   ]
  },
  {
   "cell_type": "code",
   "execution_count": null,
   "id": "dc74b820",
   "metadata": {},
   "outputs": [],
   "source": [
    "print(m)"
   ]
  },
  {
   "cell_type": "code",
   "execution_count": null,
   "id": "b86e0ece",
   "metadata": {},
   "outputs": [],
   "source": [
    "from holoviews import opts"
   ]
  },
  {
   "cell_type": "code",
   "execution_count": null,
   "id": "1e2268ff",
   "metadata": {},
   "outputs": [],
   "source": [
    "pn.Row(m.opts(opts.Overlay(responsive=True)), sizing_mode='stretch_both').show()"
   ]
  },
  {
   "cell_type": "code",
   "execution_count": null,
   "id": "ae00e6f8",
   "metadata": {},
   "outputs": [],
   "source": []
  }
 ],
 "metadata": {
  "kernelspec": {
   "display_name": "Python [conda env:Miniconda3-dev_transect_viz]",
   "language": "python",
   "name": "conda-env-Miniconda3-dev_transect_viz-py"
  },
  "language_info": {
   "codemirror_mode": {
    "name": "ipython",
    "version": 3
   },
   "file_extension": ".py",
   "mimetype": "text/x-python",
   "name": "python",
   "nbconvert_exporter": "python",
   "pygments_lexer": "ipython3",
   "version": "3.9.13"
  },
  "toc": {
   "base_numbering": 1,
   "nav_menu": {},
   "number_sections": true,
   "sideBar": true,
   "skip_h1_title": false,
   "title_cell": "Table of Contents",
   "title_sidebar": "Contents",
   "toc_cell": false,
   "toc_position": {},
   "toc_section_display": true,
   "toc_window_display": false
  }
 },
 "nbformat": 4,
 "nbformat_minor": 5
}
