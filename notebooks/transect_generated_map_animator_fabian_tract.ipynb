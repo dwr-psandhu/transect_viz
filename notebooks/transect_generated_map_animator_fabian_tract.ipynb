{
 "cells": [
  {
   "cell_type": "code",
   "execution_count": null,
   "id": "de4f080a",
   "metadata": {},
   "outputs": [],
   "source": [
    "import warnings\n",
    "warnings.filterwarnings('ignore')"
   ]
  },
  {
   "cell_type": "code",
   "execution_count": null,
   "id": "ed80f94a",
   "metadata": {},
   "outputs": [],
   "source": [
    "import transect_viz\n",
    "from transect_viz import transect_generator\n",
    "from transect_viz import transect_animator\n",
    "from transect_viz import transect_data\n",
    "from transect_viz import transect_cdec_data\n",
    "from transect_viz.transect_animator import GeneratedECMapAnimator\n",
    "import panel as pn\n",
    "pn.extension()"
   ]
  },
  {
   "cell_type": "code",
   "execution_count": null,
   "id": "e8aeb890",
   "metadata": {},
   "outputs": [],
   "source": [
    "sdate='2022-01-01'\n",
    "edate='2022-10-16'\n",
    "value_range=(300,800)"
   ]
  },
  {
   "cell_type": "code",
   "execution_count": null,
   "id": "daf25b98",
   "metadata": {},
   "outputs": [],
   "source": [
    "# uncomment to generate equidistant points from line string geojson (one long line string i.e.)\n",
    "#transect_generator.convert_geojson_line_to_pts('geodata/vns2dgl.geojson','geodata/vns2dgl_pts.geojson')\n",
    "#transect_generator.convert_geojson_line_to_pts('geodata/middle_river.geojson','geodata/middle_river_pts.geojson')\n",
    "#transect_generator.convert_geojson_line_to_pts('geodata/victoria_canal.geojson','geodata/victoria_canal_pts.geojson')\n",
    "#transect_generator.convert_geojson_line_to_pts('geodata/paradise_cut.geojson','geodata/paradise_cut_pts.geojson')"
   ]
  },
  {
   "cell_type": "code",
   "execution_count": null,
   "id": "9c37dc69",
   "metadata": {},
   "outputs": [],
   "source": [
    "station_ids = ['ORM', 'ODM', 'OLD', 'GLE', 'GLC', 'DGL']\n",
    "stations_csv_file='fabian_tract_stations.csv'\n",
    "ec_data_csv_file='fabian_tract_ec_data.csv'\n",
    "flow_data_csv_file='fabian_tract_flow_data.csv'\n",
    "flow_station_ids=['ORM','ODM','OLD','GLE','GLC',]\n",
    "barrier_file='../data/barriers.csv'\n",
    "stations_info_file='../data/station_info_file.csv'\n",
    "transect_pts_file='../geodata/fabian_tract_pts.geojson'"
   ]
  },
  {
   "cell_type": "code",
   "execution_count": null,
   "id": "d998c6e8",
   "metadata": {},
   "outputs": [],
   "source": [
    "transect_cdec_data.generate_stations_csv_file(station_ids, stations_csv_file)"
   ]
  },
  {
   "cell_type": "code",
   "execution_count": null,
   "id": "f6f21e66",
   "metadata": {},
   "outputs": [],
   "source": [
    "transect_cdec_data.generate_data_csv_file(station_ids, sdate, edate, 'EC', ec_data_csv_file)"
   ]
  },
  {
   "cell_type": "code",
   "execution_count": null,
   "id": "ceeeb51e",
   "metadata": {},
   "outputs": [],
   "source": [
    "transect_cdec_data.generate_data_csv_file(flow_station_ids, sdate, edate, 'FLOW', flow_data_csv_file)"
   ]
  },
  {
   "cell_type": "code",
   "execution_count": null,
   "id": "1caca473",
   "metadata": {},
   "outputs": [],
   "source": [
    "transect_pts = transect_data.read_geojson(transect_pts_file)"
   ]
  },
  {
   "cell_type": "code",
   "execution_count": null,
   "id": "6697db61",
   "metadata": {},
   "outputs": [],
   "source": [
    "dfs = transect_data.read_stations_csv_file(stations_csv_file)"
   ]
  },
  {
   "cell_type": "code",
   "execution_count": null,
   "id": "d86d50ef",
   "metadata": {},
   "outputs": [],
   "source": [
    "ec_data = transect_data.read_data_csv_file(ec_data_csv_file)"
   ]
  },
  {
   "cell_type": "code",
   "execution_count": null,
   "id": "ef5ae9ee",
   "metadata": {},
   "outputs": [],
   "source": [
    "fabian = transect_animator.TransectMap(transect_pts, dfs,\n",
    "                                       ec_data,\n",
    "                                       sdate,\n",
    "                                       edate,\n",
    "                                       value_range,\n",
    "                                       close_transect=True)\n",
    "tmap_list = [fabian]\n",
    "for t in tmap_list:\n",
    "    t.setup()"
   ]
  },
  {
   "cell_type": "code",
   "execution_count": null,
   "id": "b31d8856",
   "metadata": {},
   "outputs": [],
   "source": [
    "flow_data = transect_data.read_data_csv_file(flow_data_csv_file)"
   ]
  },
  {
   "cell_type": "code",
   "execution_count": null,
   "id": "f441a7b6",
   "metadata": {},
   "outputs": [],
   "source": [
    "station_display_info = transect_data.read_station_display_info(stations_info_file)"
   ]
  },
  {
   "cell_type": "code",
   "execution_count": null,
   "id": "37176d30",
   "metadata": {},
   "outputs": [],
   "source": [
    "barrier_info = transect_data.read_barriers_info(barrier_file)"
   ]
  },
  {
   "cell_type": "code",
   "execution_count": null,
   "id": "b228a160",
   "metadata": {},
   "outputs": [],
   "source": [
    "pn.config.sizing_mode='scale_both'\n",
    "map_animator = GeneratedECMapAnimator(tmap_list, sdate, edate, dfs, station_display_info, flow_data, barrier_info)\n",
    "\n",
    "app = map_animator.create_app()\n",
    "#pn.serve(app, static_dirs={'transect_data':'./transect_data/'}) # uncomment only for running locally\n",
    "\n",
    "def load_anim():\n",
    "    map_animator.setup_main_panel()\n",
    "\n",
    "pn.state.onload(load_anim)\n"
   ]
  },
  {
   "cell_type": "code",
   "execution_count": null,
   "id": "5052c8a9",
   "metadata": {},
   "outputs": [],
   "source": [
    "app.show()"
   ]
  },
  {
   "cell_type": "code",
   "execution_count": null,
   "id": "aead9be7",
   "metadata": {},
   "outputs": [],
   "source": []
  }
 ],
 "metadata": {
  "kernelspec": {
   "display_name": "Python [conda env:dev_transect_viz]",
   "language": "python",
   "name": "conda-env-dev_transect_viz-py"
  },
  "language_info": {
   "codemirror_mode": {
    "name": "ipython",
    "version": 3
   },
   "file_extension": ".py",
   "mimetype": "text/x-python",
   "name": "python",
   "nbconvert_exporter": "python",
   "pygments_lexer": "ipython3",
   "version": "3.7.13"
  },
  "toc": {
   "base_numbering": 1,
   "nav_menu": {},
   "number_sections": true,
   "sideBar": true,
   "skip_h1_title": false,
   "title_cell": "Table of Contents",
   "title_sidebar": "Contents",
   "toc_cell": false,
   "toc_position": {},
   "toc_section_display": true,
   "toc_window_display": false
  },
  "vscode": {
   "interpreter": {
    "hash": "f656b49c43cca08cc10f90635159e59d108aee76bacba62e8bb8235506f4beb4"
   }
  }
 },
 "nbformat": 4,
 "nbformat_minor": 5
}
