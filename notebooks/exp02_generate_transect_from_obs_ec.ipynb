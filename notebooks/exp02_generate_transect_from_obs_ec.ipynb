{
 "cells": [
  {
   "cell_type": "code",
   "execution_count": null,
   "id": "08571420",
   "metadata": {},
   "outputs": [],
   "source": [
    "import warnings\n",
    "warnings.filterwarnings('ignore')"
   ]
  },
  {
   "cell_type": "code",
   "execution_count": 14,
   "id": "bf97363c",
   "metadata": {
    "ExecuteTime": {
     "end_time": "2022-10-25T16:46:40.661460Z",
     "start_time": "2022-10-25T16:46:40.364004Z"
    }
   },
   "outputs": [],
   "source": [
    "import transect_viz\n",
    "from transect_viz import transect_cdec_data\n",
    "import pandas as pd"
   ]
  },
  {
   "cell_type": "code",
   "execution_count": 15,
   "id": "8f7a8eff",
   "metadata": {
    "ExecuteTime": {
     "end_time": "2022-10-25T16:46:41.247213Z",
     "start_time": "2022-10-25T16:46:40.914597Z"
    }
   },
   "outputs": [
    {
     "data": {
      "text/html": [
       "<div>\n",
       "<style scoped>\n",
       "    .dataframe tbody tr th:only-of-type {\n",
       "        vertical-align: middle;\n",
       "    }\n",
       "\n",
       "    .dataframe tbody tr th {\n",
       "        vertical-align: top;\n",
       "    }\n",
       "\n",
       "    .dataframe thead th {\n",
       "        text-align: right;\n",
       "    }\n",
       "</style>\n",
       "<table border=\"1\" class=\"dataframe\">\n",
       "  <thead>\n",
       "    <tr style=\"text-align: right;\">\n",
       "      <th></th>\n",
       "      <th>DateTime</th>\n",
       "      <th>RECORD</th>\n",
       "      <th>RunName</th>\n",
       "      <th>Longitude</th>\n",
       "      <th>Latitude</th>\n",
       "      <th>GPS_SOG</th>\n",
       "      <th>Lag Estimate (ft)</th>\n",
       "      <th>GPS_COG</th>\n",
       "      <th>PumpVolt</th>\n",
       "      <th>Sonde1_Temp</th>\n",
       "      <th>...</th>\n",
       "      <th>Sonde2_Temp</th>\n",
       "      <th>Sonde2_SpCond</th>\n",
       "      <th>Sonde2_Turbidity</th>\n",
       "      <th>Sonde2_DO_sat</th>\n",
       "      <th>Sonde2_DO_conc</th>\n",
       "      <th>Sonde2_Depth</th>\n",
       "      <th>Sonde2_pH</th>\n",
       "      <th>Sonde2_Chlor_ugL</th>\n",
       "      <th>Pump</th>\n",
       "      <th>EC</th>\n",
       "    </tr>\n",
       "  </thead>\n",
       "  <tbody>\n",
       "    <tr>\n",
       "      <th>0</th>\n",
       "      <td>3/2/2022 10:52</td>\n",
       "      <td>41358</td>\n",
       "      <td>Run_01</td>\n",
       "      <td>-121.457512</td>\n",
       "      <td>37.802799</td>\n",
       "      <td>0.0</td>\n",
       "      <td>0.0</td>\n",
       "      <td>0.0</td>\n",
       "      <td>11.64388</td>\n",
       "      <td>13.431</td>\n",
       "      <td>...</td>\n",
       "      <td>13.042</td>\n",
       "      <td>842.51</td>\n",
       "      <td>2.09</td>\n",
       "      <td>95.20</td>\n",
       "      <td>10.00</td>\n",
       "      <td>1.353</td>\n",
       "      <td>7.71</td>\n",
       "      <td>3.50</td>\n",
       "      <td>On</td>\n",
       "      <td>840.80</td>\n",
       "    </tr>\n",
       "    <tr>\n",
       "      <th>1</th>\n",
       "      <td>3/2/2022 10:52</td>\n",
       "      <td>41359</td>\n",
       "      <td>Run_01</td>\n",
       "      <td>-121.457512</td>\n",
       "      <td>37.802799</td>\n",
       "      <td>0.0</td>\n",
       "      <td>0.0</td>\n",
       "      <td>0.0</td>\n",
       "      <td>11.64569</td>\n",
       "      <td>13.429</td>\n",
       "      <td>...</td>\n",
       "      <td>13.041</td>\n",
       "      <td>842.52</td>\n",
       "      <td>2.16</td>\n",
       "      <td>95.15</td>\n",
       "      <td>9.99</td>\n",
       "      <td>1.353</td>\n",
       "      <td>7.70</td>\n",
       "      <td>3.23</td>\n",
       "      <td>On</td>\n",
       "      <td>841.13</td>\n",
       "    </tr>\n",
       "    <tr>\n",
       "      <th>2</th>\n",
       "      <td>3/2/2022 10:52</td>\n",
       "      <td>41360</td>\n",
       "      <td>Run_01</td>\n",
       "      <td>-121.457520</td>\n",
       "      <td>37.802799</td>\n",
       "      <td>0.0</td>\n",
       "      <td>0.0</td>\n",
       "      <td>0.0</td>\n",
       "      <td>11.62740</td>\n",
       "      <td>13.427</td>\n",
       "      <td>...</td>\n",
       "      <td>13.040</td>\n",
       "      <td>842.52</td>\n",
       "      <td>2.18</td>\n",
       "      <td>95.12</td>\n",
       "      <td>9.99</td>\n",
       "      <td>1.357</td>\n",
       "      <td>7.70</td>\n",
       "      <td>3.17</td>\n",
       "      <td>On</td>\n",
       "      <td>841.11</td>\n",
       "    </tr>\n",
       "  </tbody>\n",
       "</table>\n",
       "<p>3 rows × 22 columns</p>\n",
       "</div>"
      ],
      "text/plain": [
       "         DateTime  RECORD RunName   Longitude   Latitude  GPS_SOG  \\\n",
       "0  3/2/2022 10:52   41358  Run_01 -121.457512  37.802799      0.0   \n",
       "1  3/2/2022 10:52   41359  Run_01 -121.457512  37.802799      0.0   \n",
       "2  3/2/2022 10:52   41360  Run_01 -121.457520  37.802799      0.0   \n",
       "\n",
       "   Lag Estimate (ft)  GPS_COG  PumpVolt  Sonde1_Temp  ...  Sonde2_Temp  \\\n",
       "0                0.0      0.0  11.64388       13.431  ...       13.042   \n",
       "1                0.0      0.0  11.64569       13.429  ...       13.041   \n",
       "2                0.0      0.0  11.62740       13.427  ...       13.040   \n",
       "\n",
       "   Sonde2_SpCond  Sonde2_Turbidity  Sonde2_DO_sat  Sonde2_DO_conc  \\\n",
       "0         842.51              2.09          95.20           10.00   \n",
       "1         842.52              2.16          95.15            9.99   \n",
       "2         842.52              2.18          95.12            9.99   \n",
       "\n",
       "   Sonde2_Depth  Sonde2_pH  Sonde2_Chlor_ugL  Pump      EC  \n",
       "0         1.353       7.71              3.50    On  840.80  \n",
       "1         1.353       7.70              3.23    On  841.13  \n",
       "2         1.357       7.70              3.17    On  841.11  \n",
       "\n",
       "[3 rows x 22 columns]"
      ]
     },
     "execution_count": 15,
     "metadata": {},
     "output_type": "execute_result"
    }
   ],
   "source": [
    "df = transect_viz.load_transect_file('../data/Transect_20220302_Fabian.csv')\n",
    "df['EC'] = df['Sonde1_SpCond']\n",
    "df.head(3)"
   ]
  },
  {
   "cell_type": "code",
   "execution_count": 16,
   "id": "782bfcf8",
   "metadata": {
    "ExecuteTime": {
     "end_time": "2022-10-25T16:46:41.691005Z",
     "start_time": "2022-10-25T16:46:41.379298Z"
    }
   },
   "outputs": [],
   "source": [
    "import shapely"
   ]
  },
  {
   "cell_type": "code",
   "execution_count": 17,
   "id": "36c0db45",
   "metadata": {
    "ExecuteTime": {
     "end_time": "2022-10-25T16:46:42.083873Z",
     "start_time": "2022-10-25T16:46:41.769113Z"
    }
   },
   "outputs": [],
   "source": [
    "from shapely.geometry import Point, LineString"
   ]
  },
  {
   "cell_type": "code",
   "execution_count": 18,
   "id": "eddbcd03",
   "metadata": {
    "ExecuteTime": {
     "end_time": "2022-10-25T16:46:42.428280Z",
     "start_time": "2022-10-25T16:46:42.126125Z"
    }
   },
   "outputs": [],
   "source": [
    "lonlats=df[['Longitude','Latitude']].values"
   ]
  },
  {
   "cell_type": "code",
   "execution_count": 19,
   "id": "623c2770",
   "metadata": {
    "ExecuteTime": {
     "end_time": "2022-10-25T16:46:43.101025Z",
     "start_time": "2022-10-25T16:46:42.799742Z"
    }
   },
   "outputs": [],
   "source": [
    "transect_line = LineString(coordinates=lonlats)"
   ]
  },
  {
   "cell_type": "code",
   "execution_count": 22,
   "id": "20eecc68",
   "metadata": {
    "ExecuteTime": {
     "end_time": "2022-10-25T16:47:41.355520Z",
     "start_time": "2022-10-25T16:47:41.041759Z"
    }
   },
   "outputs": [],
   "source": [
    "dfs = transect_cdec_data.get_stations_cached(['ORM','ODM','OLD','GLE','GLC'])"
   ]
  },
  {
   "cell_type": "code",
   "execution_count": 23,
   "id": "573c689c",
   "metadata": {
    "ExecuteTime": {
     "end_time": "2022-10-25T16:47:42.522395Z",
     "start_time": "2022-10-25T16:47:42.169313Z"
    }
   },
   "outputs": [
    {
     "data": {
      "text/html": [
       "<div>\n",
       "<style scoped>\n",
       "    .dataframe tbody tr th:only-of-type {\n",
       "        vertical-align: middle;\n",
       "    }\n",
       "\n",
       "    .dataframe tbody tr th {\n",
       "        vertical-align: top;\n",
       "    }\n",
       "\n",
       "    .dataframe thead th {\n",
       "        text-align: right;\n",
       "    }\n",
       "</style>\n",
       "<table border=\"1\" class=\"dataframe\">\n",
       "  <thead>\n",
       "    <tr style=\"text-align: right;\">\n",
       "      <th></th>\n",
       "      <th>Station ID</th>\n",
       "      <th>Longitude</th>\n",
       "      <th>Latitude</th>\n",
       "    </tr>\n",
       "  </thead>\n",
       "  <tbody>\n",
       "    <tr>\n",
       "      <th>0</th>\n",
       "      <td>GLC</td>\n",
       "      <td>-121.548500</td>\n",
       "      <td>37.819600</td>\n",
       "    </tr>\n",
       "    <tr>\n",
       "      <th>1</th>\n",
       "      <td>GLE</td>\n",
       "      <td>-121.434856</td>\n",
       "      <td>37.820258</td>\n",
       "    </tr>\n",
       "    <tr>\n",
       "      <th>2</th>\n",
       "      <td>ODM</td>\n",
       "      <td>-121.542145</td>\n",
       "      <td>37.810295</td>\n",
       "    </tr>\n",
       "    <tr>\n",
       "      <th>3</th>\n",
       "      <td>OLD</td>\n",
       "      <td>-121.449562</td>\n",
       "      <td>37.804810</td>\n",
       "    </tr>\n",
       "    <tr>\n",
       "      <th>4</th>\n",
       "      <td>ORM</td>\n",
       "      <td>-121.517380</td>\n",
       "      <td>37.793840</td>\n",
       "    </tr>\n",
       "  </tbody>\n",
       "</table>\n",
       "</div>"
      ],
      "text/plain": [
       "  Station ID   Longitude   Latitude\n",
       "0        GLC -121.548500  37.819600\n",
       "1        GLE -121.434856  37.820258\n",
       "2        ODM -121.542145  37.810295\n",
       "3        OLD -121.449562  37.804810\n",
       "4        ORM -121.517380  37.793840"
      ]
     },
     "execution_count": 23,
     "metadata": {},
     "output_type": "execute_result"
    }
   ],
   "source": [
    "dfs"
   ]
  },
  {
   "cell_type": "code",
   "execution_count": 24,
   "id": "db3b6052",
   "metadata": {
    "ExecuteTime": {
     "end_time": "2022-10-25T16:47:43.505925Z",
     "start_time": "2022-10-25T16:47:43.200558Z"
    }
   },
   "outputs": [
    {
     "data": {
      "image/svg+xml": [
       "<svg xmlns=\"http://www.w3.org/2000/svg\" xmlns:xlink=\"http://www.w3.org/1999/xlink\" width=\"100.0\" height=\"100.0\" viewBox=\"-121.561052832 37.775777288 0.15208916400000305 0.05260573399999657\" preserveAspectRatio=\"xMinYMin meet\"><g transform=\"matrix(1,0,0,-1,0,75.60416031)\"><polyline fill=\"none\" stroke=\"#66cc99\" stroke-width=\"0.003041783280000061\" points=\"-121.4575119,37.80279922 -121.4575272,37.80280304 -121.4575348,37.80279541 -121.4575348,37.80280304 -121.4575272,37.80280304 -121.4575272,37.80279922 -121.4575195,37.80279922 -121.4575119,37.80278015 -121.4574509,37.80276489 -121.4565582,37.8027153 -121.4539032,37.80139542 -121.4493713,37.80463409 -121.4431305,37.80184937 -121.4388657,37.80213547 -121.4351044,37.80070877 -121.4338531,37.79482269 -121.4310074,37.7938385 -121.4263458,37.79566193 -121.4192581,37.80520248 -121.4145966,37.80651474 -121.4174805,37.81047058 -121.4302368,37.82007217 -121.5472717,37.81987381 -121.5519867,37.82275009 -121.5554199,37.81668091 -121.5336533,37.8052063 -121.5264816,37.79870224 -121.5222549,37.79778671 -121.513649,37.78957367 -121.5076904,37.79020691 -121.5021515,37.78717041 -121.4974747,37.78158569 -121.4921417,37.78358841 -121.4888153,37.78141022 -121.4836349,37.78222656 -121.4703598,37.79443359 -121.4676437,37.8016243 -121.459404,37.80127335 -121.4584198,37.80225754 -121.4575958,37.80270386 -121.4575348,37.80274963 -121.4575195,37.80277634 -121.4575119,37.80278015 -121.4575043,37.80278778 -121.4575043,37.80278778 -121.4575043,37.8027916 -121.4575043,37.80279541 -121.4575043,37.80279541 -121.4574966,37.80279541 -121.457489,37.80279541 -121.457489,37.8027916 -121.4574966,37.8027916 -121.457489,37.80279541 -121.4574966,37.80280304 -121.4575119,37.80279541\" opacity=\"0.8\" /></g></svg>"
      ],
      "text/plain": [
       "<shapely.geometry.linestring.LineString at 0x289e0f646c8>"
      ]
     },
     "execution_count": 24,
     "metadata": {},
     "output_type": "execute_result"
    }
   ],
   "source": [
    "transect_line.simplify(tolerance=0.001)"
   ]
  },
  {
   "cell_type": "code",
   "execution_count": 25,
   "id": "8c9ffd20",
   "metadata": {
    "ExecuteTime": {
     "end_time": "2022-10-25T16:47:45.556907Z",
     "start_time": "2022-10-25T16:47:45.205638Z"
    }
   },
   "outputs": [],
   "source": [
    "p3 = Point(dfs.loc[3,['Longitude','Latitude']].values)"
   ]
  },
  {
   "cell_type": "code",
   "execution_count": 26,
   "id": "bb740347",
   "metadata": {
    "ExecuteTime": {
     "end_time": "2022-10-25T16:47:46.412673Z",
     "start_time": "2022-10-25T16:47:46.093507Z"
    }
   },
   "outputs": [
    {
     "name": "stdout",
     "output_type": "stream",
     "text": [
      "POINT (-121.449562 37.80481)\n"
     ]
    }
   ],
   "source": [
    "print(p3)"
   ]
  },
  {
   "cell_type": "code",
   "execution_count": 27,
   "id": "7787d6ef",
   "metadata": {
    "ExecuteTime": {
     "end_time": "2022-10-25T16:47:47.117928Z",
     "start_time": "2022-10-25T16:47:46.807095Z"
    }
   },
   "outputs": [
    {
     "data": {
      "text/plain": [
       "0.009654323496645474"
      ]
     },
     "execution_count": 27,
     "metadata": {},
     "output_type": "execute_result"
    }
   ],
   "source": [
    "transect_line.project(p3)"
   ]
  },
  {
   "cell_type": "code",
   "execution_count": 28,
   "id": "e17640cd",
   "metadata": {
    "ExecuteTime": {
     "end_time": "2022-10-25T16:47:47.821666Z",
     "start_time": "2022-10-25T16:47:47.513154Z"
    }
   },
   "outputs": [
    {
     "name": "stdout",
     "output_type": "stream",
     "text": [
      "POINT (-121.449562 37.80462646)\n"
     ]
    }
   ],
   "source": [
    "print(transect_line.interpolate(transect_line.project(p3)))"
   ]
  },
  {
   "cell_type": "code",
   "execution_count": 29,
   "id": "826a6bcc",
   "metadata": {
    "ExecuteTime": {
     "end_time": "2022-10-25T16:47:48.531088Z",
     "start_time": "2022-10-25T16:47:48.209572Z"
    }
   },
   "outputs": [],
   "source": [
    "from shapely.geometry import LinearRing"
   ]
  },
  {
   "cell_type": "code",
   "execution_count": 30,
   "id": "751f8462",
   "metadata": {
    "ExecuteTime": {
     "end_time": "2022-10-25T16:47:49.214608Z",
     "start_time": "2022-10-25T16:47:48.879894Z"
    }
   },
   "outputs": [],
   "source": [
    "transect_ring = LinearRing(transect_line.coords)"
   ]
  },
  {
   "cell_type": "code",
   "execution_count": 31,
   "id": "c8759eb5",
   "metadata": {
    "ExecuteTime": {
     "end_time": "2022-10-25T16:47:49.541631Z",
     "start_time": "2022-10-25T16:47:49.218810Z"
    }
   },
   "outputs": [],
   "source": [
    "from shapely.ops import nearest_points"
   ]
  },
  {
   "cell_type": "code",
   "execution_count": 32,
   "id": "b6d10c9b",
   "metadata": {
    "ExecuteTime": {
     "end_time": "2022-10-25T16:47:50.470845Z",
     "start_time": "2022-10-25T16:47:50.165462Z"
    }
   },
   "outputs": [
    {
     "name": "stdout",
     "output_type": "stream",
     "text": [
      "POINT (-121.449562 37.80462646)\n",
      "POINT (-121.449562 37.80481)\n"
     ]
    }
   ],
   "source": [
    "for x in nearest_points(transect_ring, p3): print(x)"
   ]
  },
  {
   "cell_type": "code",
   "execution_count": 33,
   "id": "947eca0b",
   "metadata": {
    "ExecuteTime": {
     "end_time": "2022-10-25T16:47:52.191772Z",
     "start_time": "2022-10-25T16:47:51.029086Z"
    }
   },
   "outputs": [],
   "source": [
    "import geopandas as gpd"
   ]
  },
  {
   "cell_type": "code",
   "execution_count": 34,
   "id": "ba9c740f",
   "metadata": {
    "ExecuteTime": {
     "end_time": "2022-10-25T16:47:52.545525Z",
     "start_time": "2022-10-25T16:47:52.193803Z"
    }
   },
   "outputs": [],
   "source": [
    "gdf = gpd.GeoDataFrame(df)"
   ]
  },
  {
   "cell_type": "code",
   "execution_count": 35,
   "id": "82a697eb",
   "metadata": {
    "ExecuteTime": {
     "end_time": "2022-10-25T16:47:53.159573Z",
     "start_time": "2022-10-25T16:47:52.668956Z"
    }
   },
   "outputs": [
    {
     "name": "stderr",
     "output_type": "stream",
     "text": [
      "c:\\Users\\psandhu\\Miniconda3\\envs\\dev_transect_viz\\lib\\site-packages\\geopandas\\array.py:275: ShapelyDeprecationWarning: The array interface is deprecated and will no longer work in Shapely 2.0. Convert the '.coords' to a numpy array instead.\n",
      "  return GeometryArray(vectorized.points_from_xy(x, y, z), crs=crs)\n"
     ]
    }
   ],
   "source": [
    "gdf['geometry']=gpd.points_from_xy(df['Longitude'],df['Latitude'],crs=\"EPSG:4326\")"
   ]
  },
  {
   "cell_type": "code",
   "execution_count": 36,
   "id": "936c9514",
   "metadata": {
    "ExecuteTime": {
     "end_time": "2022-10-25T16:47:54.180721Z",
     "start_time": "2022-10-25T16:47:53.601547Z"
    }
   },
   "outputs": [],
   "source": [
    "gdf = gdf.to_crs('EPSG:32610')"
   ]
  },
  {
   "cell_type": "code",
   "execution_count": 37,
   "id": "b72e4fec",
   "metadata": {
    "ExecuteTime": {
     "end_time": "2022-10-25T16:47:54.854556Z",
     "start_time": "2022-10-25T16:47:54.529773Z"
    }
   },
   "outputs": [],
   "source": [
    "utmxy = gdf.geometry"
   ]
  },
  {
   "cell_type": "code",
   "execution_count": 38,
   "id": "2e877daf",
   "metadata": {
    "ExecuteTime": {
     "end_time": "2022-10-25T16:47:55.816342Z",
     "start_time": "2022-10-25T16:47:55.419210Z"
    }
   },
   "outputs": [],
   "source": [
    "transect_line = LineString(utmxy)"
   ]
  },
  {
   "cell_type": "code",
   "execution_count": 39,
   "id": "b949d2cf",
   "metadata": {
    "ExecuteTime": {
     "end_time": "2022-10-25T16:47:56.315341Z",
     "start_time": "2022-10-25T16:47:56.001810Z"
    }
   },
   "outputs": [
    {
     "data": {
      "text/plain": [
       "31515.09594037082"
      ]
     },
     "execution_count": 39,
     "metadata": {},
     "output_type": "execute_result"
    }
   ],
   "source": [
    "transect_line.project(utmxy.iloc[-1])"
   ]
  },
  {
   "cell_type": "code",
   "execution_count": 40,
   "id": "3b3b7638",
   "metadata": {
    "ExecuteTime": {
     "end_time": "2022-10-25T16:47:57.063319Z",
     "start_time": "2022-10-25T16:47:56.698940Z"
    }
   },
   "outputs": [],
   "source": [
    "cdec_stations=['GLE','GLC','ORM','ODM','OLD']"
   ]
  },
  {
   "cell_type": "code",
   "execution_count": 42,
   "id": "ca88dc9a",
   "metadata": {
    "ExecuteTime": {
     "end_time": "2022-10-25T16:48:20.812866Z",
     "start_time": "2022-10-25T16:48:19.518947Z"
    }
   },
   "outputs": [],
   "source": [
    "dfs = transect_cdec_data.get_stations_cached(cdec_stations)"
   ]
  },
  {
   "cell_type": "code",
   "execution_count": 43,
   "id": "85391e12",
   "metadata": {
    "ExecuteTime": {
     "end_time": "2022-10-25T16:48:21.147436Z",
     "start_time": "2022-10-25T16:48:20.815108Z"
    }
   },
   "outputs": [
    {
     "data": {
      "text/html": [
       "<div>\n",
       "<style scoped>\n",
       "    .dataframe tbody tr th:only-of-type {\n",
       "        vertical-align: middle;\n",
       "    }\n",
       "\n",
       "    .dataframe tbody tr th {\n",
       "        vertical-align: top;\n",
       "    }\n",
       "\n",
       "    .dataframe thead th {\n",
       "        text-align: right;\n",
       "    }\n",
       "</style>\n",
       "<table border=\"1\" class=\"dataframe\">\n",
       "  <thead>\n",
       "    <tr style=\"text-align: right;\">\n",
       "      <th></th>\n",
       "      <th>Station ID</th>\n",
       "      <th>Longitude</th>\n",
       "      <th>Latitude</th>\n",
       "    </tr>\n",
       "  </thead>\n",
       "  <tbody>\n",
       "    <tr>\n",
       "      <th>0</th>\n",
       "      <td>GLC</td>\n",
       "      <td>-121.548500</td>\n",
       "      <td>37.819600</td>\n",
       "    </tr>\n",
       "    <tr>\n",
       "      <th>1</th>\n",
       "      <td>GLE</td>\n",
       "      <td>-121.434856</td>\n",
       "      <td>37.820258</td>\n",
       "    </tr>\n",
       "    <tr>\n",
       "      <th>2</th>\n",
       "      <td>ODM</td>\n",
       "      <td>-121.542145</td>\n",
       "      <td>37.810295</td>\n",
       "    </tr>\n",
       "    <tr>\n",
       "      <th>3</th>\n",
       "      <td>OLD</td>\n",
       "      <td>-121.449562</td>\n",
       "      <td>37.804810</td>\n",
       "    </tr>\n",
       "    <tr>\n",
       "      <th>4</th>\n",
       "      <td>ORM</td>\n",
       "      <td>-121.517380</td>\n",
       "      <td>37.793840</td>\n",
       "    </tr>\n",
       "  </tbody>\n",
       "</table>\n",
       "</div>"
      ],
      "text/plain": [
       "  Station ID   Longitude   Latitude\n",
       "0        GLC -121.548500  37.819600\n",
       "1        GLE -121.434856  37.820258\n",
       "2        ODM -121.542145  37.810295\n",
       "3        OLD -121.449562  37.804810\n",
       "4        ORM -121.517380  37.793840"
      ]
     },
     "execution_count": 43,
     "metadata": {},
     "output_type": "execute_result"
    }
   ],
   "source": [
    "dfs"
   ]
  },
  {
   "cell_type": "code",
   "execution_count": 44,
   "id": "744ff575",
   "metadata": {
    "ExecuteTime": {
     "end_time": "2022-10-25T16:48:21.670093Z",
     "start_time": "2022-10-25T16:48:21.357132Z"
    }
   },
   "outputs": [
    {
     "data": {
      "text/plain": [
       "26277.67019288347"
      ]
     },
     "execution_count": 44,
     "metadata": {},
     "output_type": "execute_result"
    }
   ],
   "source": [
    "transect_line.project(Point(dfs.loc[0,['Longitude','Latitude']]))"
   ]
  },
  {
   "cell_type": "code",
   "execution_count": 45,
   "id": "71ae6aeb",
   "metadata": {
    "ExecuteTime": {
     "end_time": "2022-10-25T16:48:22.859366Z",
     "start_time": "2022-10-25T16:48:22.538770Z"
    }
   },
   "outputs": [
    {
     "name": "stderr",
     "output_type": "stream",
     "text": [
      "c:\\Users\\psandhu\\Miniconda3\\envs\\dev_transect_viz\\lib\\site-packages\\geopandas\\array.py:275: ShapelyDeprecationWarning: The array interface is deprecated and will no longer work in Shapely 2.0. Convert the '.coords' to a numpy array instead.\n",
      "  return GeometryArray(vectorized.points_from_xy(x, y, z), crs=crs)\n"
     ]
    }
   ],
   "source": [
    "gdfs = gpd.GeoDataFrame(dfs, geometry=gpd.points_from_xy(dfs['Longitude'],dfs['Latitude'],crs='EPSG:4326'))"
   ]
  },
  {
   "cell_type": "code",
   "execution_count": 46,
   "id": "b5d53e1f",
   "metadata": {
    "ExecuteTime": {
     "end_time": "2022-10-25T16:48:25.575370Z",
     "start_time": "2022-10-25T16:48:25.270765Z"
    }
   },
   "outputs": [
    {
     "data": {
      "text/html": [
       "<div>\n",
       "<style scoped>\n",
       "    .dataframe tbody tr th:only-of-type {\n",
       "        vertical-align: middle;\n",
       "    }\n",
       "\n",
       "    .dataframe tbody tr th {\n",
       "        vertical-align: top;\n",
       "    }\n",
       "\n",
       "    .dataframe thead th {\n",
       "        text-align: right;\n",
       "    }\n",
       "</style>\n",
       "<table border=\"1\" class=\"dataframe\">\n",
       "  <thead>\n",
       "    <tr style=\"text-align: right;\">\n",
       "      <th></th>\n",
       "      <th>Station ID</th>\n",
       "      <th>Longitude</th>\n",
       "      <th>Latitude</th>\n",
       "      <th>geometry</th>\n",
       "    </tr>\n",
       "  </thead>\n",
       "  <tbody>\n",
       "    <tr>\n",
       "      <th>0</th>\n",
       "      <td>GLC</td>\n",
       "      <td>-121.548500</td>\n",
       "      <td>37.819600</td>\n",
       "      <td>POINT (-121.54850 37.81960)</td>\n",
       "    </tr>\n",
       "    <tr>\n",
       "      <th>1</th>\n",
       "      <td>GLE</td>\n",
       "      <td>-121.434856</td>\n",
       "      <td>37.820258</td>\n",
       "      <td>POINT (-121.43486 37.82026)</td>\n",
       "    </tr>\n",
       "    <tr>\n",
       "      <th>2</th>\n",
       "      <td>ODM</td>\n",
       "      <td>-121.542145</td>\n",
       "      <td>37.810295</td>\n",
       "      <td>POINT (-121.54215 37.81030)</td>\n",
       "    </tr>\n",
       "    <tr>\n",
       "      <th>3</th>\n",
       "      <td>OLD</td>\n",
       "      <td>-121.449562</td>\n",
       "      <td>37.804810</td>\n",
       "      <td>POINT (-121.44956 37.80481)</td>\n",
       "    </tr>\n",
       "    <tr>\n",
       "      <th>4</th>\n",
       "      <td>ORM</td>\n",
       "      <td>-121.517380</td>\n",
       "      <td>37.793840</td>\n",
       "      <td>POINT (-121.51738 37.79384)</td>\n",
       "    </tr>\n",
       "  </tbody>\n",
       "</table>\n",
       "</div>"
      ],
      "text/plain": [
       "  Station ID   Longitude   Latitude                     geometry\n",
       "0        GLC -121.548500  37.819600  POINT (-121.54850 37.81960)\n",
       "1        GLE -121.434856  37.820258  POINT (-121.43486 37.82026)\n",
       "2        ODM -121.542145  37.810295  POINT (-121.54215 37.81030)\n",
       "3        OLD -121.449562  37.804810  POINT (-121.44956 37.80481)\n",
       "4        ORM -121.517380  37.793840  POINT (-121.51738 37.79384)"
      ]
     },
     "execution_count": 46,
     "metadata": {},
     "output_type": "execute_result"
    }
   ],
   "source": [
    "gdfs"
   ]
  },
  {
   "cell_type": "code",
   "execution_count": 47,
   "id": "cce9eb12",
   "metadata": {
    "ExecuteTime": {
     "end_time": "2022-10-25T16:48:26.643302Z",
     "start_time": "2022-10-25T16:48:26.341999Z"
    }
   },
   "outputs": [
    {
     "data": {
      "text/plain": [
       "26277.67019288347"
      ]
     },
     "execution_count": 47,
     "metadata": {},
     "output_type": "execute_result"
    }
   ],
   "source": [
    "transect_line.project(gdfs.geometry[0])"
   ]
  },
  {
   "cell_type": "code",
   "execution_count": 48,
   "id": "02707b62",
   "metadata": {
    "ExecuteTime": {
     "end_time": "2022-10-25T16:48:29.595642Z",
     "start_time": "2022-10-25T16:48:29.241798Z"
    }
   },
   "outputs": [],
   "source": [
    "gdfs = gdfs.to_crs('EPSG:32610')"
   ]
  },
  {
   "cell_type": "code",
   "execution_count": 49,
   "id": "d953c9be",
   "metadata": {
    "ExecuteTime": {
     "end_time": "2022-10-25T16:48:30.405454Z",
     "start_time": "2022-10-25T16:48:30.098964Z"
    }
   },
   "outputs": [
    {
     "data": {
      "text/html": [
       "<div>\n",
       "<style scoped>\n",
       "    .dataframe tbody tr th:only-of-type {\n",
       "        vertical-align: middle;\n",
       "    }\n",
       "\n",
       "    .dataframe tbody tr th {\n",
       "        vertical-align: top;\n",
       "    }\n",
       "\n",
       "    .dataframe thead th {\n",
       "        text-align: right;\n",
       "    }\n",
       "</style>\n",
       "<table border=\"1\" class=\"dataframe\">\n",
       "  <thead>\n",
       "    <tr style=\"text-align: right;\">\n",
       "      <th></th>\n",
       "      <th>Station ID</th>\n",
       "      <th>Longitude</th>\n",
       "      <th>Latitude</th>\n",
       "      <th>geometry</th>\n",
       "    </tr>\n",
       "  </thead>\n",
       "  <tbody>\n",
       "    <tr>\n",
       "      <th>0</th>\n",
       "      <td>GLC</td>\n",
       "      <td>-121.548500</td>\n",
       "      <td>37.819600</td>\n",
       "      <td>POINT (627752.794 4186791.943)</td>\n",
       "    </tr>\n",
       "    <tr>\n",
       "      <th>1</th>\n",
       "      <td>GLE</td>\n",
       "      <td>-121.434856</td>\n",
       "      <td>37.820258</td>\n",
       "      <td>POINT (637754.471 4187026.458)</td>\n",
       "    </tr>\n",
       "    <tr>\n",
       "      <th>2</th>\n",
       "      <td>ODM</td>\n",
       "      <td>-121.542145</td>\n",
       "      <td>37.810295</td>\n",
       "      <td>POINT (628328.265 4185768.192)</td>\n",
       "    </tr>\n",
       "    <tr>\n",
       "      <th>3</th>\n",
       "      <td>OLD</td>\n",
       "      <td>-121.449562</td>\n",
       "      <td>37.804810</td>\n",
       "      <td>POINT (636488.503 4185290.782)</td>\n",
       "    </tr>\n",
       "    <tr>\n",
       "      <th>4</th>\n",
       "      <td>ORM</td>\n",
       "      <td>-121.517380</td>\n",
       "      <td>37.793840</td>\n",
       "      <td>POINT (630537.300 4183976.686)</td>\n",
       "    </tr>\n",
       "  </tbody>\n",
       "</table>\n",
       "</div>"
      ],
      "text/plain": [
       "  Station ID   Longitude   Latitude                        geometry\n",
       "0        GLC -121.548500  37.819600  POINT (627752.794 4186791.943)\n",
       "1        GLE -121.434856  37.820258  POINT (637754.471 4187026.458)\n",
       "2        ODM -121.542145  37.810295  POINT (628328.265 4185768.192)\n",
       "3        OLD -121.449562  37.804810  POINT (636488.503 4185290.782)\n",
       "4        ORM -121.517380  37.793840  POINT (630537.300 4183976.686)"
      ]
     },
     "execution_count": 49,
     "metadata": {},
     "output_type": "execute_result"
    }
   ],
   "source": [
    "gdfs"
   ]
  },
  {
   "cell_type": "code",
   "execution_count": 50,
   "id": "dc1091ca",
   "metadata": {
    "ExecuteTime": {
     "end_time": "2022-10-25T16:48:31.587232Z",
     "start_time": "2022-10-25T16:48:31.280191Z"
    }
   },
   "outputs": [
    {
     "data": {
      "text/plain": [
       "20817.601494416962"
      ]
     },
     "execution_count": 50,
     "metadata": {},
     "output_type": "execute_result"
    }
   ],
   "source": [
    "transect_line.project(gdfs.geometry[2])"
   ]
  },
  {
   "cell_type": "code",
   "execution_count": 51,
   "id": "6b79bc3f",
   "metadata": {
    "ExecuteTime": {
     "end_time": "2022-10-25T16:48:32.219215Z",
     "start_time": "2022-10-25T16:48:31.914767Z"
    }
   },
   "outputs": [],
   "source": [
    "gdfs['transect_dist']=[transect_line.project(row.geometry) for _,row in gdfs.iterrows()]\n",
    "    "
   ]
  },
  {
   "cell_type": "code",
   "execution_count": 52,
   "id": "c5cf0a4f",
   "metadata": {
    "ExecuteTime": {
     "end_time": "2022-10-25T16:48:33.244560Z",
     "start_time": "2022-10-25T16:48:32.928688Z"
    }
   },
   "outputs": [
    {
     "data": {
      "text/html": [
       "<div>\n",
       "<style scoped>\n",
       "    .dataframe tbody tr th:only-of-type {\n",
       "        vertical-align: middle;\n",
       "    }\n",
       "\n",
       "    .dataframe tbody tr th {\n",
       "        vertical-align: top;\n",
       "    }\n",
       "\n",
       "    .dataframe thead th {\n",
       "        text-align: right;\n",
       "    }\n",
       "</style>\n",
       "<table border=\"1\" class=\"dataframe\">\n",
       "  <thead>\n",
       "    <tr style=\"text-align: right;\">\n",
       "      <th></th>\n",
       "      <th>Station ID</th>\n",
       "      <th>Longitude</th>\n",
       "      <th>Latitude</th>\n",
       "      <th>geometry</th>\n",
       "      <th>transect_dist</th>\n",
       "    </tr>\n",
       "  </thead>\n",
       "  <tbody>\n",
       "    <tr>\n",
       "      <th>3</th>\n",
       "      <td>OLD</td>\n",
       "      <td>-121.449562</td>\n",
       "      <td>37.804810</td>\n",
       "      <td>POINT (636488.503 4185290.782)</td>\n",
       "      <td>919.705799</td>\n",
       "    </tr>\n",
       "    <tr>\n",
       "      <th>1</th>\n",
       "      <td>GLE</td>\n",
       "      <td>-121.434856</td>\n",
       "      <td>37.820258</td>\n",
       "      <td>POINT (637754.471 4187026.458)</td>\n",
       "      <td>8108.819784</td>\n",
       "    </tr>\n",
       "    <tr>\n",
       "      <th>0</th>\n",
       "      <td>GLC</td>\n",
       "      <td>-121.548500</td>\n",
       "      <td>37.819600</td>\n",
       "      <td>POINT (627752.794 4186791.943)</td>\n",
       "      <td>18147.702519</td>\n",
       "    </tr>\n",
       "    <tr>\n",
       "      <th>2</th>\n",
       "      <td>ODM</td>\n",
       "      <td>-121.542145</td>\n",
       "      <td>37.810295</td>\n",
       "      <td>POINT (628328.265 4185768.192)</td>\n",
       "      <td>20817.601494</td>\n",
       "    </tr>\n",
       "    <tr>\n",
       "      <th>4</th>\n",
       "      <td>ORM</td>\n",
       "      <td>-121.517380</td>\n",
       "      <td>37.793840</td>\n",
       "      <td>POINT (630537.300 4183976.686)</td>\n",
       "      <td>23757.157066</td>\n",
       "    </tr>\n",
       "  </tbody>\n",
       "</table>\n",
       "</div>"
      ],
      "text/plain": [
       "  Station ID   Longitude   Latitude                        geometry  \\\n",
       "3        OLD -121.449562  37.804810  POINT (636488.503 4185290.782)   \n",
       "1        GLE -121.434856  37.820258  POINT (637754.471 4187026.458)   \n",
       "0        GLC -121.548500  37.819600  POINT (627752.794 4186791.943)   \n",
       "2        ODM -121.542145  37.810295  POINT (628328.265 4185768.192)   \n",
       "4        ORM -121.517380  37.793840  POINT (630537.300 4183976.686)   \n",
       "\n",
       "   transect_dist  \n",
       "3     919.705799  \n",
       "1    8108.819784  \n",
       "0   18147.702519  \n",
       "2   20817.601494  \n",
       "4   23757.157066  "
      ]
     },
     "execution_count": 52,
     "metadata": {},
     "output_type": "execute_result"
    }
   ],
   "source": [
    "gdfs.sort_values(by='transect_dist')"
   ]
  },
  {
   "cell_type": "code",
   "execution_count": 53,
   "id": "255ac4ad",
   "metadata": {
    "ExecuteTime": {
     "end_time": "2022-10-25T16:48:34.376466Z",
     "start_time": "2022-10-25T16:48:34.062755Z"
    }
   },
   "outputs": [],
   "source": [
    "bsdate, bedate = transect_viz.get_buffered_start_end_dates(df)"
   ]
  },
  {
   "cell_type": "code",
   "execution_count": 54,
   "id": "9162aede",
   "metadata": {
    "ExecuteTime": {
     "end_time": "2022-10-25T16:48:36.227612Z",
     "start_time": "2022-10-25T16:48:35.919345Z"
    }
   },
   "outputs": [],
   "source": [
    "import pandas as pd"
   ]
  },
  {
   "cell_type": "code",
   "execution_count": 61,
   "id": "ad2f38a0",
   "metadata": {
    "ExecuteTime": {
     "end_time": "2022-10-25T16:51:11.782290Z",
     "start_time": "2022-10-25T16:50:46.192962Z"
    }
   },
   "outputs": [
    {
     "name": "stdout",
     "output_type": "stream",
     "text": [
      " Getting EC data from CDEC for  ['GLE', 'GLC', 'ORM', 'ODM', 'OLD']  from  2022-02-28 00:00:00  to  2022-03-05 00:00:00\n"
     ]
    }
   ],
   "source": [
    "df_cdec_15 = transect_cdec_data.get_cdec_data_cached(bsdate, bedate, cdec_stations,data_type='EC')"
   ]
  },
  {
   "cell_type": "code",
   "execution_count": 62,
   "id": "1fc45c57",
   "metadata": {
    "ExecuteTime": {
     "end_time": "2022-10-25T16:51:15.017349Z",
     "start_time": "2022-10-25T16:51:14.642241Z"
    }
   },
   "outputs": [
    {
     "data": {
      "text/plain": [
       "0       3/2/2022 10:52\n",
       "1       3/2/2022 10:52\n",
       "2       3/2/2022 10:52\n",
       "3       3/2/2022 10:52\n",
       "4       3/2/2022 10:52\n",
       "             ...      \n",
       "6008    3/2/2022 13:01\n",
       "6009    3/2/2022 13:01\n",
       "6010    3/2/2022 13:01\n",
       "6011    3/2/2022 13:01\n",
       "6012    3/2/2022 13:01\n",
       "Name: DateTime, Length: 6013, dtype: object"
      ]
     },
     "execution_count": 62,
     "metadata": {},
     "output_type": "execute_result"
    }
   ],
   "source": [
    "df.DateTime"
   ]
  },
  {
   "cell_type": "code",
   "execution_count": 63,
   "id": "98598056",
   "metadata": {
    "ExecuteTime": {
     "end_time": "2022-10-25T16:51:16.023557Z",
     "start_time": "2022-10-25T16:51:15.674935Z"
    }
   },
   "outputs": [],
   "source": [
    "df_cdec_15_1min = df_cdec_15.resample('T').interpolate()"
   ]
  },
  {
   "cell_type": "code",
   "execution_count": 64,
   "id": "4e6dfb73",
   "metadata": {
    "ExecuteTime": {
     "end_time": "2022-10-25T16:51:16.980733Z",
     "start_time": "2022-10-25T16:51:16.617834Z"
    }
   },
   "outputs": [
    {
     "data": {
      "text/plain": [
       "GLE    551.466667\n",
       "GLC    516.600000\n",
       "ORM    840.066667\n",
       "ODM    515.933333\n",
       "OLD    813.066667\n",
       "Name: 2022-03-02 10:52:00, dtype: float64"
      ]
     },
     "execution_count": 64,
     "metadata": {},
     "output_type": "execute_result"
    }
   ],
   "source": [
    "df_cdec_15_1min.loc[df.DateTime.iloc[0]]"
   ]
  },
  {
   "cell_type": "code",
   "execution_count": 65,
   "id": "d5927399",
   "metadata": {
    "ExecuteTime": {
     "end_time": "2022-10-25T16:51:17.955921Z",
     "start_time": "2022-10-25T16:51:17.576386Z"
    }
   },
   "outputs": [
    {
     "data": {
      "text/html": [
       "<div>\n",
       "<style scoped>\n",
       "    .dataframe tbody tr th:only-of-type {\n",
       "        vertical-align: middle;\n",
       "    }\n",
       "\n",
       "    .dataframe tbody tr th {\n",
       "        vertical-align: top;\n",
       "    }\n",
       "\n",
       "    .dataframe thead th {\n",
       "        text-align: right;\n",
       "    }\n",
       "</style>\n",
       "<table border=\"1\" class=\"dataframe\">\n",
       "  <thead>\n",
       "    <tr style=\"text-align: right;\">\n",
       "      <th></th>\n",
       "      <th>GLE</th>\n",
       "      <th>GLC</th>\n",
       "      <th>ORM</th>\n",
       "      <th>ODM</th>\n",
       "      <th>OLD</th>\n",
       "    </tr>\n",
       "    <tr>\n",
       "      <th>DATE TIME</th>\n",
       "      <th></th>\n",
       "      <th></th>\n",
       "      <th></th>\n",
       "      <th></th>\n",
       "      <th></th>\n",
       "    </tr>\n",
       "  </thead>\n",
       "  <tbody>\n",
       "    <tr>\n",
       "      <th>2022-03-02 10:52:00</th>\n",
       "      <td>551.466667</td>\n",
       "      <td>516.6</td>\n",
       "      <td>840.066667</td>\n",
       "      <td>515.933333</td>\n",
       "      <td>813.066667</td>\n",
       "    </tr>\n",
       "    <tr>\n",
       "      <th>2022-03-02 10:53:00</th>\n",
       "      <td>551.533333</td>\n",
       "      <td>517.4</td>\n",
       "      <td>840.933333</td>\n",
       "      <td>517.066667</td>\n",
       "      <td>812.933333</td>\n",
       "    </tr>\n",
       "    <tr>\n",
       "      <th>2022-03-02 10:54:00</th>\n",
       "      <td>551.600000</td>\n",
       "      <td>518.2</td>\n",
       "      <td>841.800000</td>\n",
       "      <td>518.200000</td>\n",
       "      <td>812.800000</td>\n",
       "    </tr>\n",
       "    <tr>\n",
       "      <th>2022-03-02 10:55:00</th>\n",
       "      <td>551.666667</td>\n",
       "      <td>519.0</td>\n",
       "      <td>842.666667</td>\n",
       "      <td>519.333333</td>\n",
       "      <td>812.666667</td>\n",
       "    </tr>\n",
       "    <tr>\n",
       "      <th>2022-03-02 10:56:00</th>\n",
       "      <td>551.733333</td>\n",
       "      <td>519.8</td>\n",
       "      <td>843.533333</td>\n",
       "      <td>520.466667</td>\n",
       "      <td>812.533333</td>\n",
       "    </tr>\n",
       "    <tr>\n",
       "      <th>...</th>\n",
       "      <td>...</td>\n",
       "      <td>...</td>\n",
       "      <td>...</td>\n",
       "      <td>...</td>\n",
       "      <td>...</td>\n",
       "    </tr>\n",
       "    <tr>\n",
       "      <th>2022-03-02 12:57:00</th>\n",
       "      <td>544.000000</td>\n",
       "      <td>577.8</td>\n",
       "      <td>911.600000</td>\n",
       "      <td>685.800000</td>\n",
       "      <td>792.000000</td>\n",
       "    </tr>\n",
       "    <tr>\n",
       "      <th>2022-03-02 12:58:00</th>\n",
       "      <td>544.333333</td>\n",
       "      <td>578.2</td>\n",
       "      <td>912.066667</td>\n",
       "      <td>689.533333</td>\n",
       "      <td>791.666667</td>\n",
       "    </tr>\n",
       "    <tr>\n",
       "      <th>2022-03-02 12:59:00</th>\n",
       "      <td>544.666667</td>\n",
       "      <td>578.6</td>\n",
       "      <td>912.533333</td>\n",
       "      <td>693.266667</td>\n",
       "      <td>791.333333</td>\n",
       "    </tr>\n",
       "    <tr>\n",
       "      <th>2022-03-02 13:00:00</th>\n",
       "      <td>545.000000</td>\n",
       "      <td>579.0</td>\n",
       "      <td>913.000000</td>\n",
       "      <td>697.000000</td>\n",
       "      <td>791.000000</td>\n",
       "    </tr>\n",
       "    <tr>\n",
       "      <th>2022-03-02 13:01:00</th>\n",
       "      <td>545.066667</td>\n",
       "      <td>579.0</td>\n",
       "      <td>913.600000</td>\n",
       "      <td>697.466667</td>\n",
       "      <td>790.666667</td>\n",
       "    </tr>\n",
       "  </tbody>\n",
       "</table>\n",
       "<p>129 rows × 5 columns</p>\n",
       "</div>"
      ],
      "text/plain": [
       "                            GLE    GLC         ORM         ODM         OLD\n",
       "DATE TIME                                                                 \n",
       "2022-03-02 10:52:00  551.466667  516.6  840.066667  515.933333  813.066667\n",
       "2022-03-02 10:53:00  551.533333  517.4  840.933333  517.066667  812.933333\n",
       "2022-03-02 10:54:00  551.600000  518.2  841.800000  518.200000  812.800000\n",
       "2022-03-02 10:55:00  551.666667  519.0  842.666667  519.333333  812.666667\n",
       "2022-03-02 10:56:00  551.733333  519.8  843.533333  520.466667  812.533333\n",
       "...                         ...    ...         ...         ...         ...\n",
       "2022-03-02 12:57:00  544.000000  577.8  911.600000  685.800000  792.000000\n",
       "2022-03-02 12:58:00  544.333333  578.2  912.066667  689.533333  791.666667\n",
       "2022-03-02 12:59:00  544.666667  578.6  912.533333  693.266667  791.333333\n",
       "2022-03-02 13:00:00  545.000000  579.0  913.000000  697.000000  791.000000\n",
       "2022-03-02 13:01:00  545.066667  579.0  913.600000  697.466667  790.666667\n",
       "\n",
       "[129 rows x 5 columns]"
      ]
     },
     "execution_count": 65,
     "metadata": {},
     "output_type": "execute_result"
    }
   ],
   "source": [
    "df_cdec_15_1min.loc[df.DateTime.unique()]"
   ]
  },
  {
   "cell_type": "code",
   "execution_count": 66,
   "id": "9ee26a39",
   "metadata": {
    "ExecuteTime": {
     "end_time": "2022-10-25T16:51:21.119103Z",
     "start_time": "2022-10-25T16:51:18.958337Z"
    }
   },
   "outputs": [],
   "source": [
    "gdf['transect_dist'] = [transect_line.project(row.geometry) for _,row in gdf.iterrows()]"
   ]
  },
  {
   "cell_type": "code",
   "execution_count": 67,
   "id": "31fbf3c7",
   "metadata": {
    "ExecuteTime": {
     "end_time": "2022-10-25T16:51:22.455490Z",
     "start_time": "2022-10-25T16:51:22.084946Z"
    }
   },
   "outputs": [
    {
     "data": {
      "text/html": [
       "<div>\n",
       "<style scoped>\n",
       "    .dataframe tbody tr th:only-of-type {\n",
       "        vertical-align: middle;\n",
       "    }\n",
       "\n",
       "    .dataframe tbody tr th {\n",
       "        vertical-align: top;\n",
       "    }\n",
       "\n",
       "    .dataframe thead th {\n",
       "        text-align: right;\n",
       "    }\n",
       "</style>\n",
       "<table border=\"1\" class=\"dataframe\">\n",
       "  <thead>\n",
       "    <tr style=\"text-align: right;\">\n",
       "      <th></th>\n",
       "      <th>DateTime</th>\n",
       "      <th>RECORD</th>\n",
       "      <th>RunName</th>\n",
       "      <th>Longitude</th>\n",
       "      <th>Latitude</th>\n",
       "      <th>GPS_SOG</th>\n",
       "      <th>Lag Estimate (ft)</th>\n",
       "      <th>GPS_COG</th>\n",
       "      <th>PumpVolt</th>\n",
       "      <th>Sonde1_Temp</th>\n",
       "      <th>...</th>\n",
       "      <th>Sonde2_Turbidity</th>\n",
       "      <th>Sonde2_DO_sat</th>\n",
       "      <th>Sonde2_DO_conc</th>\n",
       "      <th>Sonde2_Depth</th>\n",
       "      <th>Sonde2_pH</th>\n",
       "      <th>Sonde2_Chlor_ugL</th>\n",
       "      <th>Pump</th>\n",
       "      <th>EC</th>\n",
       "      <th>geometry</th>\n",
       "      <th>transect_dist</th>\n",
       "    </tr>\n",
       "  </thead>\n",
       "  <tbody>\n",
       "    <tr>\n",
       "      <th>0</th>\n",
       "      <td>3/2/2022 10:52</td>\n",
       "      <td>41358</td>\n",
       "      <td>Run_01</td>\n",
       "      <td>-121.457512</td>\n",
       "      <td>37.802799</td>\n",
       "      <td>0.0</td>\n",
       "      <td>0.0</td>\n",
       "      <td>0.0</td>\n",
       "      <td>11.64388</td>\n",
       "      <td>13.431</td>\n",
       "      <td>...</td>\n",
       "      <td>2.09</td>\n",
       "      <td>95.20</td>\n",
       "      <td>10.00</td>\n",
       "      <td>1.353</td>\n",
       "      <td>7.71</td>\n",
       "      <td>3.50</td>\n",
       "      <td>On</td>\n",
       "      <td>840.80</td>\n",
       "      <td>POINT (635792.295 4185056.087)</td>\n",
       "      <td>0.000000</td>\n",
       "    </tr>\n",
       "    <tr>\n",
       "      <th>1</th>\n",
       "      <td>3/2/2022 10:52</td>\n",
       "      <td>41359</td>\n",
       "      <td>Run_01</td>\n",
       "      <td>-121.457512</td>\n",
       "      <td>37.802799</td>\n",
       "      <td>0.0</td>\n",
       "      <td>0.0</td>\n",
       "      <td>0.0</td>\n",
       "      <td>11.64569</td>\n",
       "      <td>13.429</td>\n",
       "      <td>...</td>\n",
       "      <td>2.16</td>\n",
       "      <td>95.15</td>\n",
       "      <td>9.99</td>\n",
       "      <td>1.353</td>\n",
       "      <td>7.70</td>\n",
       "      <td>3.23</td>\n",
       "      <td>On</td>\n",
       "      <td>841.13</td>\n",
       "      <td>POINT (635792.295 4185056.087)</td>\n",
       "      <td>0.000000</td>\n",
       "    </tr>\n",
       "    <tr>\n",
       "      <th>2</th>\n",
       "      <td>3/2/2022 10:52</td>\n",
       "      <td>41360</td>\n",
       "      <td>Run_01</td>\n",
       "      <td>-121.457520</td>\n",
       "      <td>37.802799</td>\n",
       "      <td>0.0</td>\n",
       "      <td>0.0</td>\n",
       "      <td>0.0</td>\n",
       "      <td>11.62740</td>\n",
       "      <td>13.427</td>\n",
       "      <td>...</td>\n",
       "      <td>2.18</td>\n",
       "      <td>95.12</td>\n",
       "      <td>9.99</td>\n",
       "      <td>1.357</td>\n",
       "      <td>7.70</td>\n",
       "      <td>3.17</td>\n",
       "      <td>On</td>\n",
       "      <td>841.11</td>\n",
       "      <td>POINT (635791.626 4185056.076)</td>\n",
       "      <td>0.669195</td>\n",
       "    </tr>\n",
       "    <tr>\n",
       "      <th>3</th>\n",
       "      <td>3/2/2022 10:52</td>\n",
       "      <td>41361</td>\n",
       "      <td>Run_01</td>\n",
       "      <td>-121.457520</td>\n",
       "      <td>37.802799</td>\n",
       "      <td>0.0</td>\n",
       "      <td>0.0</td>\n",
       "      <td>0.0</td>\n",
       "      <td>11.60062</td>\n",
       "      <td>13.426</td>\n",
       "      <td>...</td>\n",
       "      <td>0.00</td>\n",
       "      <td>0.00</td>\n",
       "      <td>0.00</td>\n",
       "      <td>0.000</td>\n",
       "      <td>0.00</td>\n",
       "      <td>0.00</td>\n",
       "      <td>On</td>\n",
       "      <td>841.07</td>\n",
       "      <td>POINT (635791.626 4185056.076)</td>\n",
       "      <td>0.669195</td>\n",
       "    </tr>\n",
       "    <tr>\n",
       "      <th>4</th>\n",
       "      <td>3/2/2022 10:52</td>\n",
       "      <td>41362</td>\n",
       "      <td>Run_01</td>\n",
       "      <td>-121.457520</td>\n",
       "      <td>37.802799</td>\n",
       "      <td>0.0</td>\n",
       "      <td>0.0</td>\n",
       "      <td>0.0</td>\n",
       "      <td>11.64065</td>\n",
       "      <td>13.426</td>\n",
       "      <td>...</td>\n",
       "      <td>0.00</td>\n",
       "      <td>0.00</td>\n",
       "      <td>0.00</td>\n",
       "      <td>0.000</td>\n",
       "      <td>0.00</td>\n",
       "      <td>0.00</td>\n",
       "      <td>On</td>\n",
       "      <td>841.10</td>\n",
       "      <td>POINT (635791.626 4185056.076)</td>\n",
       "      <td>0.669195</td>\n",
       "    </tr>\n",
       "    <tr>\n",
       "      <th>...</th>\n",
       "      <td>...</td>\n",
       "      <td>...</td>\n",
       "      <td>...</td>\n",
       "      <td>...</td>\n",
       "      <td>...</td>\n",
       "      <td>...</td>\n",
       "      <td>...</td>\n",
       "      <td>...</td>\n",
       "      <td>...</td>\n",
       "      <td>...</td>\n",
       "      <td>...</td>\n",
       "      <td>...</td>\n",
       "      <td>...</td>\n",
       "      <td>...</td>\n",
       "      <td>...</td>\n",
       "      <td>...</td>\n",
       "      <td>...</td>\n",
       "      <td>...</td>\n",
       "      <td>...</td>\n",
       "      <td>...</td>\n",
       "      <td>...</td>\n",
       "    </tr>\n",
       "    <tr>\n",
       "      <th>6008</th>\n",
       "      <td>3/2/2022 13:01</td>\n",
       "      <td>48287</td>\n",
       "      <td>Run_01</td>\n",
       "      <td>-121.457512</td>\n",
       "      <td>37.802792</td>\n",
       "      <td>0.0</td>\n",
       "      <td>0.0</td>\n",
       "      <td>26.0</td>\n",
       "      <td>11.97513</td>\n",
       "      <td>14.296</td>\n",
       "      <td>...</td>\n",
       "      <td>2.47</td>\n",
       "      <td>100.44</td>\n",
       "      <td>10.39</td>\n",
       "      <td>1.296</td>\n",
       "      <td>7.76</td>\n",
       "      <td>3.64</td>\n",
       "      <td>On</td>\n",
       "      <td>805.27</td>\n",
       "      <td>POINT (635792.309 4185055.242)</td>\n",
       "      <td>31514.673131</td>\n",
       "    </tr>\n",
       "    <tr>\n",
       "      <th>6009</th>\n",
       "      <td>3/2/2022 13:01</td>\n",
       "      <td>48288</td>\n",
       "      <td>Run_01</td>\n",
       "      <td>-121.457512</td>\n",
       "      <td>37.802792</td>\n",
       "      <td>0.0</td>\n",
       "      <td>0.0</td>\n",
       "      <td>26.0</td>\n",
       "      <td>11.99872</td>\n",
       "      <td>14.294</td>\n",
       "      <td>...</td>\n",
       "      <td>2.50</td>\n",
       "      <td>100.53</td>\n",
       "      <td>10.40</td>\n",
       "      <td>1.297</td>\n",
       "      <td>7.76</td>\n",
       "      <td>3.56</td>\n",
       "      <td>On</td>\n",
       "      <td>804.35</td>\n",
       "      <td>POINT (635792.309 4185055.242)</td>\n",
       "      <td>31514.673131</td>\n",
       "    </tr>\n",
       "    <tr>\n",
       "      <th>6010</th>\n",
       "      <td>3/2/2022 13:01</td>\n",
       "      <td>48289</td>\n",
       "      <td>Run_01</td>\n",
       "      <td>-121.457512</td>\n",
       "      <td>37.802792</td>\n",
       "      <td>0.0</td>\n",
       "      <td>0.0</td>\n",
       "      <td>26.0</td>\n",
       "      <td>11.98750</td>\n",
       "      <td>14.294</td>\n",
       "      <td>...</td>\n",
       "      <td>2.48</td>\n",
       "      <td>100.56</td>\n",
       "      <td>10.40</td>\n",
       "      <td>1.299</td>\n",
       "      <td>7.76</td>\n",
       "      <td>3.66</td>\n",
       "      <td>On</td>\n",
       "      <td>803.25</td>\n",
       "      <td>POINT (635792.309 4185055.242)</td>\n",
       "      <td>31514.673131</td>\n",
       "    </tr>\n",
       "    <tr>\n",
       "      <th>6011</th>\n",
       "      <td>3/2/2022 13:01</td>\n",
       "      <td>48290</td>\n",
       "      <td>Run_01</td>\n",
       "      <td>-121.457512</td>\n",
       "      <td>37.802795</td>\n",
       "      <td>0.0</td>\n",
       "      <td>0.0</td>\n",
       "      <td>26.0</td>\n",
       "      <td>11.95543</td>\n",
       "      <td>14.295</td>\n",
       "      <td>...</td>\n",
       "      <td>2.46</td>\n",
       "      <td>100.53</td>\n",
       "      <td>10.40</td>\n",
       "      <td>1.300</td>\n",
       "      <td>7.76</td>\n",
       "      <td>3.75</td>\n",
       "      <td>On</td>\n",
       "      <td>802.21</td>\n",
       "      <td>POINT (635792.302 4185055.664)</td>\n",
       "      <td>31515.095940</td>\n",
       "    </tr>\n",
       "    <tr>\n",
       "      <th>6012</th>\n",
       "      <td>3/2/2022 13:01</td>\n",
       "      <td>48291</td>\n",
       "      <td>Run_01</td>\n",
       "      <td>-121.457512</td>\n",
       "      <td>37.802795</td>\n",
       "      <td>0.0</td>\n",
       "      <td>0.0</td>\n",
       "      <td>26.0</td>\n",
       "      <td>11.97503</td>\n",
       "      <td>14.298</td>\n",
       "      <td>...</td>\n",
       "      <td>2.49</td>\n",
       "      <td>100.53</td>\n",
       "      <td>10.40</td>\n",
       "      <td>1.302</td>\n",
       "      <td>7.77</td>\n",
       "      <td>3.72</td>\n",
       "      <td>On</td>\n",
       "      <td>801.92</td>\n",
       "      <td>POINT (635792.302 4185055.664)</td>\n",
       "      <td>31515.095940</td>\n",
       "    </tr>\n",
       "  </tbody>\n",
       "</table>\n",
       "<p>6013 rows × 24 columns</p>\n",
       "</div>"
      ],
      "text/plain": [
       "            DateTime  RECORD RunName   Longitude   Latitude  GPS_SOG  \\\n",
       "0     3/2/2022 10:52   41358  Run_01 -121.457512  37.802799      0.0   \n",
       "1     3/2/2022 10:52   41359  Run_01 -121.457512  37.802799      0.0   \n",
       "2     3/2/2022 10:52   41360  Run_01 -121.457520  37.802799      0.0   \n",
       "3     3/2/2022 10:52   41361  Run_01 -121.457520  37.802799      0.0   \n",
       "4     3/2/2022 10:52   41362  Run_01 -121.457520  37.802799      0.0   \n",
       "...              ...     ...     ...         ...        ...      ...   \n",
       "6008  3/2/2022 13:01   48287  Run_01 -121.457512  37.802792      0.0   \n",
       "6009  3/2/2022 13:01   48288  Run_01 -121.457512  37.802792      0.0   \n",
       "6010  3/2/2022 13:01   48289  Run_01 -121.457512  37.802792      0.0   \n",
       "6011  3/2/2022 13:01   48290  Run_01 -121.457512  37.802795      0.0   \n",
       "6012  3/2/2022 13:01   48291  Run_01 -121.457512  37.802795      0.0   \n",
       "\n",
       "      Lag Estimate (ft)  GPS_COG  PumpVolt  Sonde1_Temp  ...  \\\n",
       "0                   0.0      0.0  11.64388       13.431  ...   \n",
       "1                   0.0      0.0  11.64569       13.429  ...   \n",
       "2                   0.0      0.0  11.62740       13.427  ...   \n",
       "3                   0.0      0.0  11.60062       13.426  ...   \n",
       "4                   0.0      0.0  11.64065       13.426  ...   \n",
       "...                 ...      ...       ...          ...  ...   \n",
       "6008                0.0     26.0  11.97513       14.296  ...   \n",
       "6009                0.0     26.0  11.99872       14.294  ...   \n",
       "6010                0.0     26.0  11.98750       14.294  ...   \n",
       "6011                0.0     26.0  11.95543       14.295  ...   \n",
       "6012                0.0     26.0  11.97503       14.298  ...   \n",
       "\n",
       "      Sonde2_Turbidity  Sonde2_DO_sat  Sonde2_DO_conc  Sonde2_Depth  \\\n",
       "0                 2.09          95.20           10.00         1.353   \n",
       "1                 2.16          95.15            9.99         1.353   \n",
       "2                 2.18          95.12            9.99         1.357   \n",
       "3                 0.00           0.00            0.00         0.000   \n",
       "4                 0.00           0.00            0.00         0.000   \n",
       "...                ...            ...             ...           ...   \n",
       "6008              2.47         100.44           10.39         1.296   \n",
       "6009              2.50         100.53           10.40         1.297   \n",
       "6010              2.48         100.56           10.40         1.299   \n",
       "6011              2.46         100.53           10.40         1.300   \n",
       "6012              2.49         100.53           10.40         1.302   \n",
       "\n",
       "      Sonde2_pH  Sonde2_Chlor_ugL  Pump      EC  \\\n",
       "0          7.71              3.50    On  840.80   \n",
       "1          7.70              3.23    On  841.13   \n",
       "2          7.70              3.17    On  841.11   \n",
       "3          0.00              0.00    On  841.07   \n",
       "4          0.00              0.00    On  841.10   \n",
       "...         ...               ...   ...     ...   \n",
       "6008       7.76              3.64    On  805.27   \n",
       "6009       7.76              3.56    On  804.35   \n",
       "6010       7.76              3.66    On  803.25   \n",
       "6011       7.76              3.75    On  802.21   \n",
       "6012       7.77              3.72    On  801.92   \n",
       "\n",
       "                            geometry  transect_dist  \n",
       "0     POINT (635792.295 4185056.087)       0.000000  \n",
       "1     POINT (635792.295 4185056.087)       0.000000  \n",
       "2     POINT (635791.626 4185056.076)       0.669195  \n",
       "3     POINT (635791.626 4185056.076)       0.669195  \n",
       "4     POINT (635791.626 4185056.076)       0.669195  \n",
       "...                              ...            ...  \n",
       "6008  POINT (635792.309 4185055.242)   31514.673131  \n",
       "6009  POINT (635792.309 4185055.242)   31514.673131  \n",
       "6010  POINT (635792.309 4185055.242)   31514.673131  \n",
       "6011  POINT (635792.302 4185055.664)   31515.095940  \n",
       "6012  POINT (635792.302 4185055.664)   31515.095940  \n",
       "\n",
       "[6013 rows x 24 columns]"
      ]
     },
     "execution_count": 67,
     "metadata": {},
     "output_type": "execute_result"
    }
   ],
   "source": [
    "gdf"
   ]
  },
  {
   "cell_type": "code",
   "execution_count": 68,
   "id": "8c6aaeb1",
   "metadata": {
    "ExecuteTime": {
     "end_time": "2022-10-25T16:51:23.661684Z",
     "start_time": "2022-10-25T16:51:23.301008Z"
    }
   },
   "outputs": [],
   "source": [
    "import numpy as np"
   ]
  },
  {
   "cell_type": "code",
   "execution_count": 69,
   "id": "1e12ed86",
   "metadata": {
    "ExecuteTime": {
     "end_time": "2022-10-25T16:51:25.118201Z",
     "start_time": "2022-10-25T16:51:24.753419Z"
    }
   },
   "outputs": [],
   "source": [
    "gdf = gdf.astype({'DateTime':np.datetime64})"
   ]
  },
  {
   "cell_type": "code",
   "execution_count": 70,
   "id": "fcc446ed",
   "metadata": {
    "ExecuteTime": {
     "end_time": "2022-10-25T16:51:26.865429Z",
     "start_time": "2022-10-25T16:51:26.477119Z"
    }
   },
   "outputs": [
    {
     "data": {
      "text/html": [
       "<div>\n",
       "<style scoped>\n",
       "    .dataframe tbody tr th:only-of-type {\n",
       "        vertical-align: middle;\n",
       "    }\n",
       "\n",
       "    .dataframe tbody tr th {\n",
       "        vertical-align: top;\n",
       "    }\n",
       "\n",
       "    .dataframe thead th {\n",
       "        text-align: right;\n",
       "    }\n",
       "</style>\n",
       "<table border=\"1\" class=\"dataframe\">\n",
       "  <thead>\n",
       "    <tr style=\"text-align: right;\">\n",
       "      <th></th>\n",
       "      <th>DateTime</th>\n",
       "      <th>RECORD</th>\n",
       "      <th>RunName</th>\n",
       "      <th>Longitude</th>\n",
       "      <th>Latitude</th>\n",
       "      <th>GPS_SOG</th>\n",
       "      <th>Lag Estimate (ft)</th>\n",
       "      <th>GPS_COG</th>\n",
       "      <th>PumpVolt</th>\n",
       "      <th>Sonde1_Temp</th>\n",
       "      <th>...</th>\n",
       "      <th>Sonde2_Chlor_ugL</th>\n",
       "      <th>Pump</th>\n",
       "      <th>EC</th>\n",
       "      <th>geometry</th>\n",
       "      <th>transect_dist</th>\n",
       "      <th>GLE</th>\n",
       "      <th>GLC</th>\n",
       "      <th>ORM</th>\n",
       "      <th>ODM</th>\n",
       "      <th>OLD</th>\n",
       "    </tr>\n",
       "  </thead>\n",
       "  <tbody>\n",
       "    <tr>\n",
       "      <th>0</th>\n",
       "      <td>2022-03-02 10:52:00</td>\n",
       "      <td>41358</td>\n",
       "      <td>Run_01</td>\n",
       "      <td>-121.457512</td>\n",
       "      <td>37.802799</td>\n",
       "      <td>0.0</td>\n",
       "      <td>0.0</td>\n",
       "      <td>0.0</td>\n",
       "      <td>11.64388</td>\n",
       "      <td>13.431</td>\n",
       "      <td>...</td>\n",
       "      <td>3.50</td>\n",
       "      <td>On</td>\n",
       "      <td>840.80</td>\n",
       "      <td>POINT (635792.295 4185056.087)</td>\n",
       "      <td>0.000000</td>\n",
       "      <td>NaN</td>\n",
       "      <td>NaN</td>\n",
       "      <td>NaN</td>\n",
       "      <td>NaN</td>\n",
       "      <td>NaN</td>\n",
       "    </tr>\n",
       "    <tr>\n",
       "      <th>1</th>\n",
       "      <td>2022-03-02 10:52:00</td>\n",
       "      <td>41359</td>\n",
       "      <td>Run_01</td>\n",
       "      <td>-121.457512</td>\n",
       "      <td>37.802799</td>\n",
       "      <td>0.0</td>\n",
       "      <td>0.0</td>\n",
       "      <td>0.0</td>\n",
       "      <td>11.64569</td>\n",
       "      <td>13.429</td>\n",
       "      <td>...</td>\n",
       "      <td>3.23</td>\n",
       "      <td>On</td>\n",
       "      <td>841.13</td>\n",
       "      <td>POINT (635792.295 4185056.087)</td>\n",
       "      <td>0.000000</td>\n",
       "      <td>NaN</td>\n",
       "      <td>NaN</td>\n",
       "      <td>NaN</td>\n",
       "      <td>NaN</td>\n",
       "      <td>NaN</td>\n",
       "    </tr>\n",
       "    <tr>\n",
       "      <th>2</th>\n",
       "      <td>2022-03-02 10:52:00</td>\n",
       "      <td>41360</td>\n",
       "      <td>Run_01</td>\n",
       "      <td>-121.457520</td>\n",
       "      <td>37.802799</td>\n",
       "      <td>0.0</td>\n",
       "      <td>0.0</td>\n",
       "      <td>0.0</td>\n",
       "      <td>11.62740</td>\n",
       "      <td>13.427</td>\n",
       "      <td>...</td>\n",
       "      <td>3.17</td>\n",
       "      <td>On</td>\n",
       "      <td>841.11</td>\n",
       "      <td>POINT (635791.626 4185056.076)</td>\n",
       "      <td>0.669195</td>\n",
       "      <td>NaN</td>\n",
       "      <td>NaN</td>\n",
       "      <td>NaN</td>\n",
       "      <td>NaN</td>\n",
       "      <td>NaN</td>\n",
       "    </tr>\n",
       "    <tr>\n",
       "      <th>3</th>\n",
       "      <td>2022-03-02 10:52:00</td>\n",
       "      <td>41361</td>\n",
       "      <td>Run_01</td>\n",
       "      <td>-121.457520</td>\n",
       "      <td>37.802799</td>\n",
       "      <td>0.0</td>\n",
       "      <td>0.0</td>\n",
       "      <td>0.0</td>\n",
       "      <td>11.60062</td>\n",
       "      <td>13.426</td>\n",
       "      <td>...</td>\n",
       "      <td>0.00</td>\n",
       "      <td>On</td>\n",
       "      <td>841.07</td>\n",
       "      <td>POINT (635791.626 4185056.076)</td>\n",
       "      <td>0.669195</td>\n",
       "      <td>NaN</td>\n",
       "      <td>NaN</td>\n",
       "      <td>NaN</td>\n",
       "      <td>NaN</td>\n",
       "      <td>NaN</td>\n",
       "    </tr>\n",
       "    <tr>\n",
       "      <th>4</th>\n",
       "      <td>2022-03-02 10:52:00</td>\n",
       "      <td>41362</td>\n",
       "      <td>Run_01</td>\n",
       "      <td>-121.457520</td>\n",
       "      <td>37.802799</td>\n",
       "      <td>0.0</td>\n",
       "      <td>0.0</td>\n",
       "      <td>0.0</td>\n",
       "      <td>11.64065</td>\n",
       "      <td>13.426</td>\n",
       "      <td>...</td>\n",
       "      <td>0.00</td>\n",
       "      <td>On</td>\n",
       "      <td>841.10</td>\n",
       "      <td>POINT (635791.626 4185056.076)</td>\n",
       "      <td>0.669195</td>\n",
       "      <td>NaN</td>\n",
       "      <td>NaN</td>\n",
       "      <td>NaN</td>\n",
       "      <td>NaN</td>\n",
       "      <td>NaN</td>\n",
       "    </tr>\n",
       "    <tr>\n",
       "      <th>...</th>\n",
       "      <td>...</td>\n",
       "      <td>...</td>\n",
       "      <td>...</td>\n",
       "      <td>...</td>\n",
       "      <td>...</td>\n",
       "      <td>...</td>\n",
       "      <td>...</td>\n",
       "      <td>...</td>\n",
       "      <td>...</td>\n",
       "      <td>...</td>\n",
       "      <td>...</td>\n",
       "      <td>...</td>\n",
       "      <td>...</td>\n",
       "      <td>...</td>\n",
       "      <td>...</td>\n",
       "      <td>...</td>\n",
       "      <td>...</td>\n",
       "      <td>...</td>\n",
       "      <td>...</td>\n",
       "      <td>...</td>\n",
       "      <td>...</td>\n",
       "    </tr>\n",
       "    <tr>\n",
       "      <th>6008</th>\n",
       "      <td>2022-03-02 13:01:00</td>\n",
       "      <td>48287</td>\n",
       "      <td>Run_01</td>\n",
       "      <td>-121.457512</td>\n",
       "      <td>37.802792</td>\n",
       "      <td>0.0</td>\n",
       "      <td>0.0</td>\n",
       "      <td>26.0</td>\n",
       "      <td>11.97513</td>\n",
       "      <td>14.296</td>\n",
       "      <td>...</td>\n",
       "      <td>3.64</td>\n",
       "      <td>On</td>\n",
       "      <td>805.27</td>\n",
       "      <td>POINT (635792.309 4185055.242)</td>\n",
       "      <td>31514.673131</td>\n",
       "      <td>NaN</td>\n",
       "      <td>NaN</td>\n",
       "      <td>NaN</td>\n",
       "      <td>NaN</td>\n",
       "      <td>NaN</td>\n",
       "    </tr>\n",
       "    <tr>\n",
       "      <th>6009</th>\n",
       "      <td>2022-03-02 13:01:00</td>\n",
       "      <td>48288</td>\n",
       "      <td>Run_01</td>\n",
       "      <td>-121.457512</td>\n",
       "      <td>37.802792</td>\n",
       "      <td>0.0</td>\n",
       "      <td>0.0</td>\n",
       "      <td>26.0</td>\n",
       "      <td>11.99872</td>\n",
       "      <td>14.294</td>\n",
       "      <td>...</td>\n",
       "      <td>3.56</td>\n",
       "      <td>On</td>\n",
       "      <td>804.35</td>\n",
       "      <td>POINT (635792.309 4185055.242)</td>\n",
       "      <td>31514.673131</td>\n",
       "      <td>NaN</td>\n",
       "      <td>NaN</td>\n",
       "      <td>NaN</td>\n",
       "      <td>NaN</td>\n",
       "      <td>NaN</td>\n",
       "    </tr>\n",
       "    <tr>\n",
       "      <th>6010</th>\n",
       "      <td>2022-03-02 13:01:00</td>\n",
       "      <td>48289</td>\n",
       "      <td>Run_01</td>\n",
       "      <td>-121.457512</td>\n",
       "      <td>37.802792</td>\n",
       "      <td>0.0</td>\n",
       "      <td>0.0</td>\n",
       "      <td>26.0</td>\n",
       "      <td>11.98750</td>\n",
       "      <td>14.294</td>\n",
       "      <td>...</td>\n",
       "      <td>3.66</td>\n",
       "      <td>On</td>\n",
       "      <td>803.25</td>\n",
       "      <td>POINT (635792.309 4185055.242)</td>\n",
       "      <td>31514.673131</td>\n",
       "      <td>NaN</td>\n",
       "      <td>NaN</td>\n",
       "      <td>NaN</td>\n",
       "      <td>NaN</td>\n",
       "      <td>NaN</td>\n",
       "    </tr>\n",
       "    <tr>\n",
       "      <th>6011</th>\n",
       "      <td>2022-03-02 13:01:00</td>\n",
       "      <td>48290</td>\n",
       "      <td>Run_01</td>\n",
       "      <td>-121.457512</td>\n",
       "      <td>37.802795</td>\n",
       "      <td>0.0</td>\n",
       "      <td>0.0</td>\n",
       "      <td>26.0</td>\n",
       "      <td>11.95543</td>\n",
       "      <td>14.295</td>\n",
       "      <td>...</td>\n",
       "      <td>3.75</td>\n",
       "      <td>On</td>\n",
       "      <td>802.21</td>\n",
       "      <td>POINT (635792.302 4185055.664)</td>\n",
       "      <td>31515.095940</td>\n",
       "      <td>NaN</td>\n",
       "      <td>NaN</td>\n",
       "      <td>NaN</td>\n",
       "      <td>NaN</td>\n",
       "      <td>NaN</td>\n",
       "    </tr>\n",
       "    <tr>\n",
       "      <th>6012</th>\n",
       "      <td>2022-03-02 13:01:00</td>\n",
       "      <td>48291</td>\n",
       "      <td>Run_01</td>\n",
       "      <td>-121.457512</td>\n",
       "      <td>37.802795</td>\n",
       "      <td>0.0</td>\n",
       "      <td>0.0</td>\n",
       "      <td>26.0</td>\n",
       "      <td>11.97503</td>\n",
       "      <td>14.298</td>\n",
       "      <td>...</td>\n",
       "      <td>3.72</td>\n",
       "      <td>On</td>\n",
       "      <td>801.92</td>\n",
       "      <td>POINT (635792.302 4185055.664)</td>\n",
       "      <td>31515.095940</td>\n",
       "      <td>NaN</td>\n",
       "      <td>NaN</td>\n",
       "      <td>NaN</td>\n",
       "      <td>NaN</td>\n",
       "      <td>NaN</td>\n",
       "    </tr>\n",
       "  </tbody>\n",
       "</table>\n",
       "<p>6013 rows × 29 columns</p>\n",
       "</div>"
      ],
      "text/plain": [
       "                DateTime  RECORD RunName   Longitude   Latitude  GPS_SOG  \\\n",
       "0    2022-03-02 10:52:00   41358  Run_01 -121.457512  37.802799      0.0   \n",
       "1    2022-03-02 10:52:00   41359  Run_01 -121.457512  37.802799      0.0   \n",
       "2    2022-03-02 10:52:00   41360  Run_01 -121.457520  37.802799      0.0   \n",
       "3    2022-03-02 10:52:00   41361  Run_01 -121.457520  37.802799      0.0   \n",
       "4    2022-03-02 10:52:00   41362  Run_01 -121.457520  37.802799      0.0   \n",
       "...                  ...     ...     ...         ...        ...      ...   \n",
       "6008 2022-03-02 13:01:00   48287  Run_01 -121.457512  37.802792      0.0   \n",
       "6009 2022-03-02 13:01:00   48288  Run_01 -121.457512  37.802792      0.0   \n",
       "6010 2022-03-02 13:01:00   48289  Run_01 -121.457512  37.802792      0.0   \n",
       "6011 2022-03-02 13:01:00   48290  Run_01 -121.457512  37.802795      0.0   \n",
       "6012 2022-03-02 13:01:00   48291  Run_01 -121.457512  37.802795      0.0   \n",
       "\n",
       "      Lag Estimate (ft)  GPS_COG  PumpVolt  Sonde1_Temp  ...  \\\n",
       "0                   0.0      0.0  11.64388       13.431  ...   \n",
       "1                   0.0      0.0  11.64569       13.429  ...   \n",
       "2                   0.0      0.0  11.62740       13.427  ...   \n",
       "3                   0.0      0.0  11.60062       13.426  ...   \n",
       "4                   0.0      0.0  11.64065       13.426  ...   \n",
       "...                 ...      ...       ...          ...  ...   \n",
       "6008                0.0     26.0  11.97513       14.296  ...   \n",
       "6009                0.0     26.0  11.99872       14.294  ...   \n",
       "6010                0.0     26.0  11.98750       14.294  ...   \n",
       "6011                0.0     26.0  11.95543       14.295  ...   \n",
       "6012                0.0     26.0  11.97503       14.298  ...   \n",
       "\n",
       "      Sonde2_Chlor_ugL  Pump      EC                        geometry  \\\n",
       "0                 3.50    On  840.80  POINT (635792.295 4185056.087)   \n",
       "1                 3.23    On  841.13  POINT (635792.295 4185056.087)   \n",
       "2                 3.17    On  841.11  POINT (635791.626 4185056.076)   \n",
       "3                 0.00    On  841.07  POINT (635791.626 4185056.076)   \n",
       "4                 0.00    On  841.10  POINT (635791.626 4185056.076)   \n",
       "...                ...   ...     ...                             ...   \n",
       "6008              3.64    On  805.27  POINT (635792.309 4185055.242)   \n",
       "6009              3.56    On  804.35  POINT (635792.309 4185055.242)   \n",
       "6010              3.66    On  803.25  POINT (635792.309 4185055.242)   \n",
       "6011              3.75    On  802.21  POINT (635792.302 4185055.664)   \n",
       "6012              3.72    On  801.92  POINT (635792.302 4185055.664)   \n",
       "\n",
       "      transect_dist  GLE  GLC  ORM  ODM  OLD  \n",
       "0          0.000000  NaN  NaN  NaN  NaN  NaN  \n",
       "1          0.000000  NaN  NaN  NaN  NaN  NaN  \n",
       "2          0.669195  NaN  NaN  NaN  NaN  NaN  \n",
       "3          0.669195  NaN  NaN  NaN  NaN  NaN  \n",
       "4          0.669195  NaN  NaN  NaN  NaN  NaN  \n",
       "...             ...  ...  ...  ...  ...  ...  \n",
       "6008   31514.673131  NaN  NaN  NaN  NaN  NaN  \n",
       "6009   31514.673131  NaN  NaN  NaN  NaN  NaN  \n",
       "6010   31514.673131  NaN  NaN  NaN  NaN  NaN  \n",
       "6011   31515.095940  NaN  NaN  NaN  NaN  NaN  \n",
       "6012   31515.095940  NaN  NaN  NaN  NaN  NaN  \n",
       "\n",
       "[6013 rows x 29 columns]"
      ]
     },
     "execution_count": 70,
     "metadata": {},
     "output_type": "execute_result"
    }
   ],
   "source": [
    "gdf.join(df_cdec_15_1min)"
   ]
  },
  {
   "cell_type": "code",
   "execution_count": 71,
   "id": "ab8a00f9",
   "metadata": {
    "ExecuteTime": {
     "end_time": "2022-10-25T16:51:28.117400Z",
     "start_time": "2022-10-25T16:51:27.776433Z"
    }
   },
   "outputs": [
    {
     "data": {
      "text/html": [
       "<div>\n",
       "<style scoped>\n",
       "    .dataframe tbody tr th:only-of-type {\n",
       "        vertical-align: middle;\n",
       "    }\n",
       "\n",
       "    .dataframe tbody tr th {\n",
       "        vertical-align: top;\n",
       "    }\n",
       "\n",
       "    .dataframe thead th {\n",
       "        text-align: right;\n",
       "    }\n",
       "</style>\n",
       "<table border=\"1\" class=\"dataframe\">\n",
       "  <thead>\n",
       "    <tr style=\"text-align: right;\">\n",
       "      <th></th>\n",
       "      <th>GLE</th>\n",
       "      <th>GLC</th>\n",
       "      <th>ORM</th>\n",
       "      <th>ODM</th>\n",
       "      <th>OLD</th>\n",
       "    </tr>\n",
       "    <tr>\n",
       "      <th>DATE TIME</th>\n",
       "      <th></th>\n",
       "      <th></th>\n",
       "      <th></th>\n",
       "      <th></th>\n",
       "      <th></th>\n",
       "    </tr>\n",
       "  </thead>\n",
       "  <tbody>\n",
       "    <tr>\n",
       "      <th>2022-02-28 00:00:00</th>\n",
       "      <td>498.000000</td>\n",
       "      <td>575.000000</td>\n",
       "      <td>834.000000</td>\n",
       "      <td>754.0</td>\n",
       "      <td>787.000000</td>\n",
       "    </tr>\n",
       "    <tr>\n",
       "      <th>2022-02-28 00:01:00</th>\n",
       "      <td>498.066667</td>\n",
       "      <td>574.866667</td>\n",
       "      <td>833.266667</td>\n",
       "      <td>755.4</td>\n",
       "      <td>786.466667</td>\n",
       "    </tr>\n",
       "    <tr>\n",
       "      <th>2022-02-28 00:02:00</th>\n",
       "      <td>498.133333</td>\n",
       "      <td>574.733333</td>\n",
       "      <td>832.533333</td>\n",
       "      <td>756.8</td>\n",
       "      <td>785.933333</td>\n",
       "    </tr>\n",
       "    <tr>\n",
       "      <th>2022-02-28 00:03:00</th>\n",
       "      <td>498.200000</td>\n",
       "      <td>574.600000</td>\n",
       "      <td>831.800000</td>\n",
       "      <td>758.2</td>\n",
       "      <td>785.400000</td>\n",
       "    </tr>\n",
       "    <tr>\n",
       "      <th>2022-02-28 00:04:00</th>\n",
       "      <td>498.266667</td>\n",
       "      <td>574.466667</td>\n",
       "      <td>831.066667</td>\n",
       "      <td>759.6</td>\n",
       "      <td>784.866667</td>\n",
       "    </tr>\n",
       "    <tr>\n",
       "      <th>...</th>\n",
       "      <td>...</td>\n",
       "      <td>...</td>\n",
       "      <td>...</td>\n",
       "      <td>...</td>\n",
       "      <td>...</td>\n",
       "    </tr>\n",
       "    <tr>\n",
       "      <th>2022-03-04 23:56:00</th>\n",
       "      <td>560.533333</td>\n",
       "      <td>479.600000</td>\n",
       "      <td>642.666667</td>\n",
       "      <td>483.6</td>\n",
       "      <td>870.533333</td>\n",
       "    </tr>\n",
       "    <tr>\n",
       "      <th>2022-03-04 23:57:00</th>\n",
       "      <td>560.400000</td>\n",
       "      <td>480.200000</td>\n",
       "      <td>644.000000</td>\n",
       "      <td>484.2</td>\n",
       "      <td>870.400000</td>\n",
       "    </tr>\n",
       "    <tr>\n",
       "      <th>2022-03-04 23:58:00</th>\n",
       "      <td>560.266667</td>\n",
       "      <td>480.800000</td>\n",
       "      <td>645.333333</td>\n",
       "      <td>484.8</td>\n",
       "      <td>870.266667</td>\n",
       "    </tr>\n",
       "    <tr>\n",
       "      <th>2022-03-04 23:59:00</th>\n",
       "      <td>560.133333</td>\n",
       "      <td>481.400000</td>\n",
       "      <td>646.666667</td>\n",
       "      <td>485.4</td>\n",
       "      <td>870.133333</td>\n",
       "    </tr>\n",
       "    <tr>\n",
       "      <th>2022-03-05 00:00:00</th>\n",
       "      <td>560.000000</td>\n",
       "      <td>482.000000</td>\n",
       "      <td>648.000000</td>\n",
       "      <td>486.0</td>\n",
       "      <td>870.000000</td>\n",
       "    </tr>\n",
       "  </tbody>\n",
       "</table>\n",
       "<p>7201 rows × 5 columns</p>\n",
       "</div>"
      ],
      "text/plain": [
       "                            GLE         GLC         ORM    ODM         OLD\n",
       "DATE TIME                                                                 \n",
       "2022-02-28 00:00:00  498.000000  575.000000  834.000000  754.0  787.000000\n",
       "2022-02-28 00:01:00  498.066667  574.866667  833.266667  755.4  786.466667\n",
       "2022-02-28 00:02:00  498.133333  574.733333  832.533333  756.8  785.933333\n",
       "2022-02-28 00:03:00  498.200000  574.600000  831.800000  758.2  785.400000\n",
       "2022-02-28 00:04:00  498.266667  574.466667  831.066667  759.6  784.866667\n",
       "...                         ...         ...         ...    ...         ...\n",
       "2022-03-04 23:56:00  560.533333  479.600000  642.666667  483.6  870.533333\n",
       "2022-03-04 23:57:00  560.400000  480.200000  644.000000  484.2  870.400000\n",
       "2022-03-04 23:58:00  560.266667  480.800000  645.333333  484.8  870.266667\n",
       "2022-03-04 23:59:00  560.133333  481.400000  646.666667  485.4  870.133333\n",
       "2022-03-05 00:00:00  560.000000  482.000000  648.000000  486.0  870.000000\n",
       "\n",
       "[7201 rows x 5 columns]"
      ]
     },
     "execution_count": 71,
     "metadata": {},
     "output_type": "execute_result"
    }
   ],
   "source": [
    "df_cdec_15_1min"
   ]
  },
  {
   "cell_type": "code",
   "execution_count": 72,
   "id": "2b12a9eb",
   "metadata": {
    "ExecuteTime": {
     "end_time": "2022-10-25T16:51:29.160634Z",
     "start_time": "2022-10-25T16:51:28.788184Z"
    }
   },
   "outputs": [
    {
     "data": {
      "text/html": [
       "<div>\n",
       "<style scoped>\n",
       "    .dataframe tbody tr th:only-of-type {\n",
       "        vertical-align: middle;\n",
       "    }\n",
       "\n",
       "    .dataframe tbody tr th {\n",
       "        vertical-align: top;\n",
       "    }\n",
       "\n",
       "    .dataframe thead th {\n",
       "        text-align: right;\n",
       "    }\n",
       "</style>\n",
       "<table border=\"1\" class=\"dataframe\">\n",
       "  <thead>\n",
       "    <tr style=\"text-align: right;\">\n",
       "      <th></th>\n",
       "      <th>RECORD</th>\n",
       "      <th>RunName</th>\n",
       "      <th>Longitude</th>\n",
       "      <th>Latitude</th>\n",
       "      <th>GPS_SOG</th>\n",
       "      <th>Lag Estimate (ft)</th>\n",
       "      <th>GPS_COG</th>\n",
       "      <th>PumpVolt</th>\n",
       "      <th>Sonde1_Temp</th>\n",
       "      <th>Sonde1_SpCond</th>\n",
       "      <th>...</th>\n",
       "      <th>Sonde2_Chlor_ugL</th>\n",
       "      <th>Pump</th>\n",
       "      <th>EC</th>\n",
       "      <th>geometry</th>\n",
       "      <th>transect_dist</th>\n",
       "      <th>GLE</th>\n",
       "      <th>GLC</th>\n",
       "      <th>ORM</th>\n",
       "      <th>ODM</th>\n",
       "      <th>OLD</th>\n",
       "    </tr>\n",
       "  </thead>\n",
       "  <tbody>\n",
       "    <tr>\n",
       "      <th>2022-03-02 10:52:00</th>\n",
       "      <td>41358</td>\n",
       "      <td>Run_01</td>\n",
       "      <td>-121.457512</td>\n",
       "      <td>37.802799</td>\n",
       "      <td>0.0</td>\n",
       "      <td>0.0</td>\n",
       "      <td>0.0</td>\n",
       "      <td>11.64388</td>\n",
       "      <td>13.431</td>\n",
       "      <td>840.80</td>\n",
       "      <td>...</td>\n",
       "      <td>3.50</td>\n",
       "      <td>On</td>\n",
       "      <td>840.80</td>\n",
       "      <td>POINT (635792.295 4185056.087)</td>\n",
       "      <td>0.000000</td>\n",
       "      <td>551.466667</td>\n",
       "      <td>516.6</td>\n",
       "      <td>840.066667</td>\n",
       "      <td>515.933333</td>\n",
       "      <td>813.066667</td>\n",
       "    </tr>\n",
       "    <tr>\n",
       "      <th>2022-03-02 10:52:00</th>\n",
       "      <td>41359</td>\n",
       "      <td>Run_01</td>\n",
       "      <td>-121.457512</td>\n",
       "      <td>37.802799</td>\n",
       "      <td>0.0</td>\n",
       "      <td>0.0</td>\n",
       "      <td>0.0</td>\n",
       "      <td>11.64569</td>\n",
       "      <td>13.429</td>\n",
       "      <td>841.13</td>\n",
       "      <td>...</td>\n",
       "      <td>3.23</td>\n",
       "      <td>On</td>\n",
       "      <td>841.13</td>\n",
       "      <td>POINT (635792.295 4185056.087)</td>\n",
       "      <td>0.000000</td>\n",
       "      <td>551.466667</td>\n",
       "      <td>516.6</td>\n",
       "      <td>840.066667</td>\n",
       "      <td>515.933333</td>\n",
       "      <td>813.066667</td>\n",
       "    </tr>\n",
       "    <tr>\n",
       "      <th>2022-03-02 10:52:00</th>\n",
       "      <td>41360</td>\n",
       "      <td>Run_01</td>\n",
       "      <td>-121.457520</td>\n",
       "      <td>37.802799</td>\n",
       "      <td>0.0</td>\n",
       "      <td>0.0</td>\n",
       "      <td>0.0</td>\n",
       "      <td>11.62740</td>\n",
       "      <td>13.427</td>\n",
       "      <td>841.11</td>\n",
       "      <td>...</td>\n",
       "      <td>3.17</td>\n",
       "      <td>On</td>\n",
       "      <td>841.11</td>\n",
       "      <td>POINT (635791.626 4185056.076)</td>\n",
       "      <td>0.669195</td>\n",
       "      <td>551.466667</td>\n",
       "      <td>516.6</td>\n",
       "      <td>840.066667</td>\n",
       "      <td>515.933333</td>\n",
       "      <td>813.066667</td>\n",
       "    </tr>\n",
       "    <tr>\n",
       "      <th>2022-03-02 10:52:00</th>\n",
       "      <td>41361</td>\n",
       "      <td>Run_01</td>\n",
       "      <td>-121.457520</td>\n",
       "      <td>37.802799</td>\n",
       "      <td>0.0</td>\n",
       "      <td>0.0</td>\n",
       "      <td>0.0</td>\n",
       "      <td>11.60062</td>\n",
       "      <td>13.426</td>\n",
       "      <td>841.07</td>\n",
       "      <td>...</td>\n",
       "      <td>0.00</td>\n",
       "      <td>On</td>\n",
       "      <td>841.07</td>\n",
       "      <td>POINT (635791.626 4185056.076)</td>\n",
       "      <td>0.669195</td>\n",
       "      <td>551.466667</td>\n",
       "      <td>516.6</td>\n",
       "      <td>840.066667</td>\n",
       "      <td>515.933333</td>\n",
       "      <td>813.066667</td>\n",
       "    </tr>\n",
       "    <tr>\n",
       "      <th>2022-03-02 10:52:00</th>\n",
       "      <td>41362</td>\n",
       "      <td>Run_01</td>\n",
       "      <td>-121.457520</td>\n",
       "      <td>37.802799</td>\n",
       "      <td>0.0</td>\n",
       "      <td>0.0</td>\n",
       "      <td>0.0</td>\n",
       "      <td>11.64065</td>\n",
       "      <td>13.426</td>\n",
       "      <td>841.10</td>\n",
       "      <td>...</td>\n",
       "      <td>0.00</td>\n",
       "      <td>On</td>\n",
       "      <td>841.10</td>\n",
       "      <td>POINT (635791.626 4185056.076)</td>\n",
       "      <td>0.669195</td>\n",
       "      <td>551.466667</td>\n",
       "      <td>516.6</td>\n",
       "      <td>840.066667</td>\n",
       "      <td>515.933333</td>\n",
       "      <td>813.066667</td>\n",
       "    </tr>\n",
       "    <tr>\n",
       "      <th>...</th>\n",
       "      <td>...</td>\n",
       "      <td>...</td>\n",
       "      <td>...</td>\n",
       "      <td>...</td>\n",
       "      <td>...</td>\n",
       "      <td>...</td>\n",
       "      <td>...</td>\n",
       "      <td>...</td>\n",
       "      <td>...</td>\n",
       "      <td>...</td>\n",
       "      <td>...</td>\n",
       "      <td>...</td>\n",
       "      <td>...</td>\n",
       "      <td>...</td>\n",
       "      <td>...</td>\n",
       "      <td>...</td>\n",
       "      <td>...</td>\n",
       "      <td>...</td>\n",
       "      <td>...</td>\n",
       "      <td>...</td>\n",
       "      <td>...</td>\n",
       "    </tr>\n",
       "    <tr>\n",
       "      <th>2022-03-02 13:01:00</th>\n",
       "      <td>48287</td>\n",
       "      <td>Run_01</td>\n",
       "      <td>-121.457512</td>\n",
       "      <td>37.802792</td>\n",
       "      <td>0.0</td>\n",
       "      <td>0.0</td>\n",
       "      <td>26.0</td>\n",
       "      <td>11.97513</td>\n",
       "      <td>14.296</td>\n",
       "      <td>805.27</td>\n",
       "      <td>...</td>\n",
       "      <td>3.64</td>\n",
       "      <td>On</td>\n",
       "      <td>805.27</td>\n",
       "      <td>POINT (635792.309 4185055.242)</td>\n",
       "      <td>31514.673131</td>\n",
       "      <td>545.066667</td>\n",
       "      <td>579.0</td>\n",
       "      <td>913.600000</td>\n",
       "      <td>697.466667</td>\n",
       "      <td>790.666667</td>\n",
       "    </tr>\n",
       "    <tr>\n",
       "      <th>2022-03-02 13:01:00</th>\n",
       "      <td>48288</td>\n",
       "      <td>Run_01</td>\n",
       "      <td>-121.457512</td>\n",
       "      <td>37.802792</td>\n",
       "      <td>0.0</td>\n",
       "      <td>0.0</td>\n",
       "      <td>26.0</td>\n",
       "      <td>11.99872</td>\n",
       "      <td>14.294</td>\n",
       "      <td>804.35</td>\n",
       "      <td>...</td>\n",
       "      <td>3.56</td>\n",
       "      <td>On</td>\n",
       "      <td>804.35</td>\n",
       "      <td>POINT (635792.309 4185055.242)</td>\n",
       "      <td>31514.673131</td>\n",
       "      <td>545.066667</td>\n",
       "      <td>579.0</td>\n",
       "      <td>913.600000</td>\n",
       "      <td>697.466667</td>\n",
       "      <td>790.666667</td>\n",
       "    </tr>\n",
       "    <tr>\n",
       "      <th>2022-03-02 13:01:00</th>\n",
       "      <td>48289</td>\n",
       "      <td>Run_01</td>\n",
       "      <td>-121.457512</td>\n",
       "      <td>37.802792</td>\n",
       "      <td>0.0</td>\n",
       "      <td>0.0</td>\n",
       "      <td>26.0</td>\n",
       "      <td>11.98750</td>\n",
       "      <td>14.294</td>\n",
       "      <td>803.25</td>\n",
       "      <td>...</td>\n",
       "      <td>3.66</td>\n",
       "      <td>On</td>\n",
       "      <td>803.25</td>\n",
       "      <td>POINT (635792.309 4185055.242)</td>\n",
       "      <td>31514.673131</td>\n",
       "      <td>545.066667</td>\n",
       "      <td>579.0</td>\n",
       "      <td>913.600000</td>\n",
       "      <td>697.466667</td>\n",
       "      <td>790.666667</td>\n",
       "    </tr>\n",
       "    <tr>\n",
       "      <th>2022-03-02 13:01:00</th>\n",
       "      <td>48290</td>\n",
       "      <td>Run_01</td>\n",
       "      <td>-121.457512</td>\n",
       "      <td>37.802795</td>\n",
       "      <td>0.0</td>\n",
       "      <td>0.0</td>\n",
       "      <td>26.0</td>\n",
       "      <td>11.95543</td>\n",
       "      <td>14.295</td>\n",
       "      <td>802.21</td>\n",
       "      <td>...</td>\n",
       "      <td>3.75</td>\n",
       "      <td>On</td>\n",
       "      <td>802.21</td>\n",
       "      <td>POINT (635792.302 4185055.664)</td>\n",
       "      <td>31515.095940</td>\n",
       "      <td>545.066667</td>\n",
       "      <td>579.0</td>\n",
       "      <td>913.600000</td>\n",
       "      <td>697.466667</td>\n",
       "      <td>790.666667</td>\n",
       "    </tr>\n",
       "    <tr>\n",
       "      <th>2022-03-02 13:01:00</th>\n",
       "      <td>48291</td>\n",
       "      <td>Run_01</td>\n",
       "      <td>-121.457512</td>\n",
       "      <td>37.802795</td>\n",
       "      <td>0.0</td>\n",
       "      <td>0.0</td>\n",
       "      <td>26.0</td>\n",
       "      <td>11.97503</td>\n",
       "      <td>14.298</td>\n",
       "      <td>801.92</td>\n",
       "      <td>...</td>\n",
       "      <td>3.72</td>\n",
       "      <td>On</td>\n",
       "      <td>801.92</td>\n",
       "      <td>POINT (635792.302 4185055.664)</td>\n",
       "      <td>31515.095940</td>\n",
       "      <td>545.066667</td>\n",
       "      <td>579.0</td>\n",
       "      <td>913.600000</td>\n",
       "      <td>697.466667</td>\n",
       "      <td>790.666667</td>\n",
       "    </tr>\n",
       "  </tbody>\n",
       "</table>\n",
       "<p>6013 rows × 28 columns</p>\n",
       "</div>"
      ],
      "text/plain": [
       "                     RECORD RunName   Longitude   Latitude  GPS_SOG  \\\n",
       "2022-03-02 10:52:00   41358  Run_01 -121.457512  37.802799      0.0   \n",
       "2022-03-02 10:52:00   41359  Run_01 -121.457512  37.802799      0.0   \n",
       "2022-03-02 10:52:00   41360  Run_01 -121.457520  37.802799      0.0   \n",
       "2022-03-02 10:52:00   41361  Run_01 -121.457520  37.802799      0.0   \n",
       "2022-03-02 10:52:00   41362  Run_01 -121.457520  37.802799      0.0   \n",
       "...                     ...     ...         ...        ...      ...   \n",
       "2022-03-02 13:01:00   48287  Run_01 -121.457512  37.802792      0.0   \n",
       "2022-03-02 13:01:00   48288  Run_01 -121.457512  37.802792      0.0   \n",
       "2022-03-02 13:01:00   48289  Run_01 -121.457512  37.802792      0.0   \n",
       "2022-03-02 13:01:00   48290  Run_01 -121.457512  37.802795      0.0   \n",
       "2022-03-02 13:01:00   48291  Run_01 -121.457512  37.802795      0.0   \n",
       "\n",
       "                     Lag Estimate (ft)  GPS_COG  PumpVolt  Sonde1_Temp  \\\n",
       "2022-03-02 10:52:00                0.0      0.0  11.64388       13.431   \n",
       "2022-03-02 10:52:00                0.0      0.0  11.64569       13.429   \n",
       "2022-03-02 10:52:00                0.0      0.0  11.62740       13.427   \n",
       "2022-03-02 10:52:00                0.0      0.0  11.60062       13.426   \n",
       "2022-03-02 10:52:00                0.0      0.0  11.64065       13.426   \n",
       "...                                ...      ...       ...          ...   \n",
       "2022-03-02 13:01:00                0.0     26.0  11.97513       14.296   \n",
       "2022-03-02 13:01:00                0.0     26.0  11.99872       14.294   \n",
       "2022-03-02 13:01:00                0.0     26.0  11.98750       14.294   \n",
       "2022-03-02 13:01:00                0.0     26.0  11.95543       14.295   \n",
       "2022-03-02 13:01:00                0.0     26.0  11.97503       14.298   \n",
       "\n",
       "                     Sonde1_SpCond  ...  Sonde2_Chlor_ugL  Pump      EC  \\\n",
       "2022-03-02 10:52:00         840.80  ...              3.50    On  840.80   \n",
       "2022-03-02 10:52:00         841.13  ...              3.23    On  841.13   \n",
       "2022-03-02 10:52:00         841.11  ...              3.17    On  841.11   \n",
       "2022-03-02 10:52:00         841.07  ...              0.00    On  841.07   \n",
       "2022-03-02 10:52:00         841.10  ...              0.00    On  841.10   \n",
       "...                            ...  ...               ...   ...     ...   \n",
       "2022-03-02 13:01:00         805.27  ...              3.64    On  805.27   \n",
       "2022-03-02 13:01:00         804.35  ...              3.56    On  804.35   \n",
       "2022-03-02 13:01:00         803.25  ...              3.66    On  803.25   \n",
       "2022-03-02 13:01:00         802.21  ...              3.75    On  802.21   \n",
       "2022-03-02 13:01:00         801.92  ...              3.72    On  801.92   \n",
       "\n",
       "                                           geometry  transect_dist  \\\n",
       "2022-03-02 10:52:00  POINT (635792.295 4185056.087)       0.000000   \n",
       "2022-03-02 10:52:00  POINT (635792.295 4185056.087)       0.000000   \n",
       "2022-03-02 10:52:00  POINT (635791.626 4185056.076)       0.669195   \n",
       "2022-03-02 10:52:00  POINT (635791.626 4185056.076)       0.669195   \n",
       "2022-03-02 10:52:00  POINT (635791.626 4185056.076)       0.669195   \n",
       "...                                             ...            ...   \n",
       "2022-03-02 13:01:00  POINT (635792.309 4185055.242)   31514.673131   \n",
       "2022-03-02 13:01:00  POINT (635792.309 4185055.242)   31514.673131   \n",
       "2022-03-02 13:01:00  POINT (635792.309 4185055.242)   31514.673131   \n",
       "2022-03-02 13:01:00  POINT (635792.302 4185055.664)   31515.095940   \n",
       "2022-03-02 13:01:00  POINT (635792.302 4185055.664)   31515.095940   \n",
       "\n",
       "                            GLE    GLC         ORM         ODM         OLD  \n",
       "2022-03-02 10:52:00  551.466667  516.6  840.066667  515.933333  813.066667  \n",
       "2022-03-02 10:52:00  551.466667  516.6  840.066667  515.933333  813.066667  \n",
       "2022-03-02 10:52:00  551.466667  516.6  840.066667  515.933333  813.066667  \n",
       "2022-03-02 10:52:00  551.466667  516.6  840.066667  515.933333  813.066667  \n",
       "2022-03-02 10:52:00  551.466667  516.6  840.066667  515.933333  813.066667  \n",
       "...                         ...    ...         ...         ...         ...  \n",
       "2022-03-02 13:01:00  545.066667  579.0  913.600000  697.466667  790.666667  \n",
       "2022-03-02 13:01:00  545.066667  579.0  913.600000  697.466667  790.666667  \n",
       "2022-03-02 13:01:00  545.066667  579.0  913.600000  697.466667  790.666667  \n",
       "2022-03-02 13:01:00  545.066667  579.0  913.600000  697.466667  790.666667  \n",
       "2022-03-02 13:01:00  545.066667  579.0  913.600000  697.466667  790.666667  \n",
       "\n",
       "[6013 rows x 28 columns]"
      ]
     },
     "execution_count": 72,
     "metadata": {},
     "output_type": "execute_result"
    }
   ],
   "source": [
    "gdf.set_index('DateTime').join(df_cdec_15_1min)"
   ]
  },
  {
   "cell_type": "code",
   "execution_count": 73,
   "id": "f97d48db",
   "metadata": {
    "ExecuteTime": {
     "end_time": "2022-10-25T16:51:30.103563Z",
     "start_time": "2022-10-25T16:51:29.757309Z"
    }
   },
   "outputs": [],
   "source": [
    "transect_max, transect_min = gdf.transect_dist.agg(['max','min'])"
   ]
  },
  {
   "cell_type": "code",
   "execution_count": 74,
   "id": "71bd1acc",
   "metadata": {
    "ExecuteTime": {
     "end_time": "2022-10-25T16:51:31.070769Z",
     "start_time": "2022-10-25T16:51:30.726305Z"
    }
   },
   "outputs": [
    {
     "data": {
      "text/html": [
       "<div>\n",
       "<style scoped>\n",
       "    .dataframe tbody tr th:only-of-type {\n",
       "        vertical-align: middle;\n",
       "    }\n",
       "\n",
       "    .dataframe tbody tr th {\n",
       "        vertical-align: top;\n",
       "    }\n",
       "\n",
       "    .dataframe thead th {\n",
       "        text-align: right;\n",
       "    }\n",
       "</style>\n",
       "<table border=\"1\" class=\"dataframe\">\n",
       "  <thead>\n",
       "    <tr style=\"text-align: right;\">\n",
       "      <th></th>\n",
       "      <th>GLE</th>\n",
       "      <th>GLC</th>\n",
       "      <th>ORM</th>\n",
       "      <th>ODM</th>\n",
       "      <th>OLD</th>\n",
       "    </tr>\n",
       "    <tr>\n",
       "      <th>DATE TIME</th>\n",
       "      <th></th>\n",
       "      <th></th>\n",
       "      <th></th>\n",
       "      <th></th>\n",
       "      <th></th>\n",
       "    </tr>\n",
       "  </thead>\n",
       "  <tbody>\n",
       "    <tr>\n",
       "      <th>2022-02-28 00:00:00</th>\n",
       "      <td>498.0</td>\n",
       "      <td>575.0</td>\n",
       "      <td>834.0</td>\n",
       "      <td>754.0</td>\n",
       "      <td>787.0</td>\n",
       "    </tr>\n",
       "    <tr>\n",
       "      <th>2022-02-28 00:15:00</th>\n",
       "      <td>499.0</td>\n",
       "      <td>573.0</td>\n",
       "      <td>823.0</td>\n",
       "      <td>775.0</td>\n",
       "      <td>779.0</td>\n",
       "    </tr>\n",
       "    <tr>\n",
       "      <th>2022-02-28 00:30:00</th>\n",
       "      <td>501.0</td>\n",
       "      <td>569.0</td>\n",
       "      <td>843.0</td>\n",
       "      <td>795.0</td>\n",
       "      <td>775.0</td>\n",
       "    </tr>\n",
       "    <tr>\n",
       "      <th>2022-02-28 00:45:00</th>\n",
       "      <td>506.0</td>\n",
       "      <td>567.0</td>\n",
       "      <td>850.0</td>\n",
       "      <td>805.0</td>\n",
       "      <td>768.0</td>\n",
       "    </tr>\n",
       "    <tr>\n",
       "      <th>2022-02-28 01:00:00</th>\n",
       "      <td>508.0</td>\n",
       "      <td>565.0</td>\n",
       "      <td>863.0</td>\n",
       "      <td>811.0</td>\n",
       "      <td>762.0</td>\n",
       "    </tr>\n",
       "    <tr>\n",
       "      <th>...</th>\n",
       "      <td>...</td>\n",
       "      <td>...</td>\n",
       "      <td>...</td>\n",
       "      <td>...</td>\n",
       "      <td>...</td>\n",
       "    </tr>\n",
       "    <tr>\n",
       "      <th>2022-03-04 23:00:00</th>\n",
       "      <td>570.0</td>\n",
       "      <td>452.0</td>\n",
       "      <td>585.0</td>\n",
       "      <td>461.0</td>\n",
       "      <td>876.0</td>\n",
       "    </tr>\n",
       "    <tr>\n",
       "      <th>2022-03-04 23:15:00</th>\n",
       "      <td>568.0</td>\n",
       "      <td>459.0</td>\n",
       "      <td>595.0</td>\n",
       "      <td>465.0</td>\n",
       "      <td>875.0</td>\n",
       "    </tr>\n",
       "    <tr>\n",
       "      <th>2022-03-04 23:30:00</th>\n",
       "      <td>564.0</td>\n",
       "      <td>466.0</td>\n",
       "      <td>608.0</td>\n",
       "      <td>470.0</td>\n",
       "      <td>874.0</td>\n",
       "    </tr>\n",
       "    <tr>\n",
       "      <th>2022-03-04 23:45:00</th>\n",
       "      <td>562.0</td>\n",
       "      <td>473.0</td>\n",
       "      <td>628.0</td>\n",
       "      <td>477.0</td>\n",
       "      <td>872.0</td>\n",
       "    </tr>\n",
       "    <tr>\n",
       "      <th>2022-03-05 00:00:00</th>\n",
       "      <td>560.0</td>\n",
       "      <td>482.0</td>\n",
       "      <td>648.0</td>\n",
       "      <td>486.0</td>\n",
       "      <td>870.0</td>\n",
       "    </tr>\n",
       "  </tbody>\n",
       "</table>\n",
       "<p>481 rows × 5 columns</p>\n",
       "</div>"
      ],
      "text/plain": [
       "                       GLE    GLC    ORM    ODM    OLD\n",
       "DATE TIME                                             \n",
       "2022-02-28 00:00:00  498.0  575.0  834.0  754.0  787.0\n",
       "2022-02-28 00:15:00  499.0  573.0  823.0  775.0  779.0\n",
       "2022-02-28 00:30:00  501.0  569.0  843.0  795.0  775.0\n",
       "2022-02-28 00:45:00  506.0  567.0  850.0  805.0  768.0\n",
       "2022-02-28 01:00:00  508.0  565.0  863.0  811.0  762.0\n",
       "...                    ...    ...    ...    ...    ...\n",
       "2022-03-04 23:00:00  570.0  452.0  585.0  461.0  876.0\n",
       "2022-03-04 23:15:00  568.0  459.0  595.0  465.0  875.0\n",
       "2022-03-04 23:30:00  564.0  466.0  608.0  470.0  874.0\n",
       "2022-03-04 23:45:00  562.0  473.0  628.0  477.0  872.0\n",
       "2022-03-05 00:00:00  560.0  482.0  648.0  486.0  870.0\n",
       "\n",
       "[481 rows x 5 columns]"
      ]
     },
     "execution_count": 74,
     "metadata": {},
     "output_type": "execute_result"
    }
   ],
   "source": [
    "df_cdec_15"
   ]
  },
  {
   "cell_type": "code",
   "execution_count": 75,
   "id": "1dc617d6",
   "metadata": {
    "ExecuteTime": {
     "end_time": "2022-10-25T16:51:32.035054Z",
     "start_time": "2022-10-25T16:51:31.689847Z"
    }
   },
   "outputs": [
    {
     "data": {
      "text/html": [
       "<div>\n",
       "<style scoped>\n",
       "    .dataframe tbody tr th:only-of-type {\n",
       "        vertical-align: middle;\n",
       "    }\n",
       "\n",
       "    .dataframe tbody tr th {\n",
       "        vertical-align: top;\n",
       "    }\n",
       "\n",
       "    .dataframe thead th {\n",
       "        text-align: right;\n",
       "    }\n",
       "</style>\n",
       "<table border=\"1\" class=\"dataframe\">\n",
       "  <thead>\n",
       "    <tr style=\"text-align: right;\">\n",
       "      <th></th>\n",
       "      <th>Station ID</th>\n",
       "      <th>Longitude</th>\n",
       "      <th>Latitude</th>\n",
       "      <th>geometry</th>\n",
       "      <th>transect_dist</th>\n",
       "    </tr>\n",
       "  </thead>\n",
       "  <tbody>\n",
       "    <tr>\n",
       "      <th>0</th>\n",
       "      <td>OLD</td>\n",
       "      <td>-121.449562</td>\n",
       "      <td>37.804810</td>\n",
       "      <td>POINT (636488.503 4185290.782)</td>\n",
       "      <td>919.705799</td>\n",
       "    </tr>\n",
       "    <tr>\n",
       "      <th>1</th>\n",
       "      <td>GLE</td>\n",
       "      <td>-121.434856</td>\n",
       "      <td>37.820258</td>\n",
       "      <td>POINT (637754.471 4187026.458)</td>\n",
       "      <td>8108.819784</td>\n",
       "    </tr>\n",
       "    <tr>\n",
       "      <th>2</th>\n",
       "      <td>GLC</td>\n",
       "      <td>-121.548500</td>\n",
       "      <td>37.819600</td>\n",
       "      <td>POINT (627752.794 4186791.943)</td>\n",
       "      <td>18147.702519</td>\n",
       "    </tr>\n",
       "    <tr>\n",
       "      <th>3</th>\n",
       "      <td>ODM</td>\n",
       "      <td>-121.542145</td>\n",
       "      <td>37.810295</td>\n",
       "      <td>POINT (628328.265 4185768.192)</td>\n",
       "      <td>20817.601494</td>\n",
       "    </tr>\n",
       "    <tr>\n",
       "      <th>4</th>\n",
       "      <td>ORM</td>\n",
       "      <td>-121.517380</td>\n",
       "      <td>37.793840</td>\n",
       "      <td>POINT (630537.300 4183976.686)</td>\n",
       "      <td>23757.157066</td>\n",
       "    </tr>\n",
       "  </tbody>\n",
       "</table>\n",
       "</div>"
      ],
      "text/plain": [
       "  Station ID   Longitude   Latitude                        geometry  \\\n",
       "0        OLD -121.449562  37.804810  POINT (636488.503 4185290.782)   \n",
       "1        GLE -121.434856  37.820258  POINT (637754.471 4187026.458)   \n",
       "2        GLC -121.548500  37.819600  POINT (627752.794 4186791.943)   \n",
       "3        ODM -121.542145  37.810295  POINT (628328.265 4185768.192)   \n",
       "4        ORM -121.517380  37.793840  POINT (630537.300 4183976.686)   \n",
       "\n",
       "   transect_dist  \n",
       "0     919.705799  \n",
       "1    8108.819784  \n",
       "2   18147.702519  \n",
       "3   20817.601494  \n",
       "4   23757.157066  "
      ]
     },
     "execution_count": 75,
     "metadata": {},
     "output_type": "execute_result"
    }
   ],
   "source": [
    "gdfs = gdfs.sort_values(by='transect_dist').reset_index(drop=True)\n",
    "gdfs"
   ]
  },
  {
   "cell_type": "code",
   "execution_count": null,
   "id": "6b394341",
   "metadata": {},
   "outputs": [],
   "source": []
  },
  {
   "cell_type": "code",
   "execution_count": 76,
   "id": "af4c8940",
   "metadata": {
    "ExecuteTime": {
     "end_time": "2022-10-25T16:51:33.693394Z",
     "start_time": "2022-10-25T16:51:33.343886Z"
    }
   },
   "outputs": [
    {
     "data": {
      "text/html": [
       "<div>\n",
       "<style scoped>\n",
       "    .dataframe tbody tr th:only-of-type {\n",
       "        vertical-align: middle;\n",
       "    }\n",
       "\n",
       "    .dataframe tbody tr th {\n",
       "        vertical-align: top;\n",
       "    }\n",
       "\n",
       "    .dataframe thead th {\n",
       "        text-align: right;\n",
       "    }\n",
       "</style>\n",
       "<table border=\"1\" class=\"dataframe\">\n",
       "  <thead>\n",
       "    <tr style=\"text-align: right;\">\n",
       "      <th></th>\n",
       "      <th>Station ID</th>\n",
       "      <th>Longitude</th>\n",
       "      <th>Latitude</th>\n",
       "      <th>geometry</th>\n",
       "      <th>transect_dist</th>\n",
       "    </tr>\n",
       "  </thead>\n",
       "  <tbody>\n",
       "    <tr>\n",
       "      <th>0</th>\n",
       "      <td>BEG</td>\n",
       "      <td>37.803000</td>\n",
       "      <td>-121.475000</td>\n",
       "      <td>None</td>\n",
       "      <td>0.000000</td>\n",
       "    </tr>\n",
       "    <tr>\n",
       "      <th>0</th>\n",
       "      <td>OLD</td>\n",
       "      <td>-121.449562</td>\n",
       "      <td>37.804810</td>\n",
       "      <td>POINT (636488.503 4185290.782)</td>\n",
       "      <td>919.705799</td>\n",
       "    </tr>\n",
       "    <tr>\n",
       "      <th>1</th>\n",
       "      <td>GLE</td>\n",
       "      <td>-121.434856</td>\n",
       "      <td>37.820258</td>\n",
       "      <td>POINT (637754.471 4187026.458)</td>\n",
       "      <td>8108.819784</td>\n",
       "    </tr>\n",
       "    <tr>\n",
       "      <th>2</th>\n",
       "      <td>GLC</td>\n",
       "      <td>-121.548500</td>\n",
       "      <td>37.819600</td>\n",
       "      <td>POINT (627752.794 4186791.943)</td>\n",
       "      <td>18147.702519</td>\n",
       "    </tr>\n",
       "    <tr>\n",
       "      <th>3</th>\n",
       "      <td>ODM</td>\n",
       "      <td>-121.542145</td>\n",
       "      <td>37.810295</td>\n",
       "      <td>POINT (628328.265 4185768.192)</td>\n",
       "      <td>20817.601494</td>\n",
       "    </tr>\n",
       "    <tr>\n",
       "      <th>4</th>\n",
       "      <td>ORM</td>\n",
       "      <td>-121.517380</td>\n",
       "      <td>37.793840</td>\n",
       "      <td>POINT (630537.300 4183976.686)</td>\n",
       "      <td>23757.157066</td>\n",
       "    </tr>\n",
       "  </tbody>\n",
       "</table>\n",
       "</div>"
      ],
      "text/plain": [
       "  Station ID   Longitude    Latitude                        geometry  \\\n",
       "0        BEG   37.803000 -121.475000                            None   \n",
       "0        OLD -121.449562   37.804810  POINT (636488.503 4185290.782)   \n",
       "1        GLE -121.434856   37.820258  POINT (637754.471 4187026.458)   \n",
       "2        GLC -121.548500   37.819600  POINT (627752.794 4186791.943)   \n",
       "3        ODM -121.542145   37.810295  POINT (628328.265 4185768.192)   \n",
       "4        ORM -121.517380   37.793840  POINT (630537.300 4183976.686)   \n",
       "\n",
       "   transect_dist  \n",
       "0       0.000000  \n",
       "0     919.705799  \n",
       "1    8108.819784  \n",
       "2   18147.702519  \n",
       "3   20817.601494  \n",
       "4   23757.157066  "
      ]
     },
     "execution_count": 76,
     "metadata": {},
     "output_type": "execute_result"
    }
   ],
   "source": [
    "pd.concat([pd.DataFrame(data=[['BEG',37.803,-121.475,np.nan,0]], columns=gdfs.columns),gdfs])"
   ]
  },
  {
   "cell_type": "code",
   "execution_count": 77,
   "id": "0e20d6c6",
   "metadata": {
    "ExecuteTime": {
     "end_time": "2022-10-25T16:51:34.910906Z",
     "start_time": "2022-10-25T16:51:34.558380Z"
    }
   },
   "outputs": [],
   "source": [
    "pgdf = gdf[['Latitude','Longitude','Sonde1_SpCond','transect_dist']]"
   ]
  },
  {
   "cell_type": "code",
   "execution_count": 78,
   "id": "10f7e823",
   "metadata": {
    "ExecuteTime": {
     "end_time": "2022-10-25T16:51:35.776155Z",
     "start_time": "2022-10-25T16:51:35.434998Z"
    }
   },
   "outputs": [
    {
     "data": {
      "text/html": [
       "<div>\n",
       "<style scoped>\n",
       "    .dataframe tbody tr th:only-of-type {\n",
       "        vertical-align: middle;\n",
       "    }\n",
       "\n",
       "    .dataframe tbody tr th {\n",
       "        vertical-align: top;\n",
       "    }\n",
       "\n",
       "    .dataframe thead th {\n",
       "        text-align: right;\n",
       "    }\n",
       "</style>\n",
       "<table border=\"1\" class=\"dataframe\">\n",
       "  <thead>\n",
       "    <tr style=\"text-align: right;\">\n",
       "      <th></th>\n",
       "      <th>Latitude</th>\n",
       "      <th>Longitude</th>\n",
       "      <th>Sonde1_SpCond</th>\n",
       "      <th>transect_dist</th>\n",
       "      <th>Station ID</th>\n",
       "    </tr>\n",
       "  </thead>\n",
       "  <tbody>\n",
       "    <tr>\n",
       "      <th>0</th>\n",
       "      <td>37.802799</td>\n",
       "      <td>-121.457512</td>\n",
       "      <td>840.80</td>\n",
       "      <td>0.00000</td>\n",
       "      <td>BEG</td>\n",
       "    </tr>\n",
       "    <tr>\n",
       "      <th>6012</th>\n",
       "      <td>37.802795</td>\n",
       "      <td>-121.457512</td>\n",
       "      <td>801.92</td>\n",
       "      <td>31515.09594</td>\n",
       "      <td>END</td>\n",
       "    </tr>\n",
       "  </tbody>\n",
       "</table>\n",
       "</div>"
      ],
      "text/plain": [
       "       Latitude   Longitude  Sonde1_SpCond  transect_dist Station ID\n",
       "0     37.802799 -121.457512         840.80        0.00000        BEG\n",
       "6012  37.802795 -121.457512         801.92    31515.09594        END"
      ]
     },
     "execution_count": 78,
     "metadata": {},
     "output_type": "execute_result"
    }
   ],
   "source": [
    "df_end_points = pd.DataFrame(pgdf.iloc[[0,-1]])\n",
    "df_end_points['Station ID']=['BEG','END']\n",
    "df_end_points"
   ]
  },
  {
   "cell_type": "code",
   "execution_count": 79,
   "id": "3a51a5c9",
   "metadata": {
    "ExecuteTime": {
     "end_time": "2022-10-25T16:51:36.764484Z",
     "start_time": "2022-10-25T16:51:36.406158Z"
    }
   },
   "outputs": [
    {
     "data": {
      "text/html": [
       "<div>\n",
       "<style scoped>\n",
       "    .dataframe tbody tr th:only-of-type {\n",
       "        vertical-align: middle;\n",
       "    }\n",
       "\n",
       "    .dataframe tbody tr th {\n",
       "        vertical-align: top;\n",
       "    }\n",
       "\n",
       "    .dataframe thead th {\n",
       "        text-align: right;\n",
       "    }\n",
       "</style>\n",
       "<table border=\"1\" class=\"dataframe\">\n",
       "  <thead>\n",
       "    <tr style=\"text-align: right;\">\n",
       "      <th></th>\n",
       "      <th>Latitude</th>\n",
       "      <th>Longitude</th>\n",
       "      <th>Sonde1_SpCond</th>\n",
       "      <th>transect_dist</th>\n",
       "      <th>Station ID</th>\n",
       "      <th>geometry</th>\n",
       "    </tr>\n",
       "  </thead>\n",
       "  <tbody>\n",
       "    <tr>\n",
       "      <th>0</th>\n",
       "      <td>37.802799</td>\n",
       "      <td>-121.457512</td>\n",
       "      <td>840.80</td>\n",
       "      <td>0.000000</td>\n",
       "      <td>BEG</td>\n",
       "      <td>None</td>\n",
       "    </tr>\n",
       "    <tr>\n",
       "      <th>1</th>\n",
       "      <td>37.804810</td>\n",
       "      <td>-121.449562</td>\n",
       "      <td>NaN</td>\n",
       "      <td>919.705799</td>\n",
       "      <td>OLD</td>\n",
       "      <td>POINT (636488.503 4185290.782)</td>\n",
       "    </tr>\n",
       "    <tr>\n",
       "      <th>2</th>\n",
       "      <td>37.820258</td>\n",
       "      <td>-121.434856</td>\n",
       "      <td>NaN</td>\n",
       "      <td>8108.819784</td>\n",
       "      <td>GLE</td>\n",
       "      <td>POINT (637754.471 4187026.458)</td>\n",
       "    </tr>\n",
       "    <tr>\n",
       "      <th>3</th>\n",
       "      <td>37.819600</td>\n",
       "      <td>-121.548500</td>\n",
       "      <td>NaN</td>\n",
       "      <td>18147.702519</td>\n",
       "      <td>GLC</td>\n",
       "      <td>POINT (627752.794 4186791.943)</td>\n",
       "    </tr>\n",
       "    <tr>\n",
       "      <th>4</th>\n",
       "      <td>37.810295</td>\n",
       "      <td>-121.542145</td>\n",
       "      <td>NaN</td>\n",
       "      <td>20817.601494</td>\n",
       "      <td>ODM</td>\n",
       "      <td>POINT (628328.265 4185768.192)</td>\n",
       "    </tr>\n",
       "    <tr>\n",
       "      <th>5</th>\n",
       "      <td>37.793840</td>\n",
       "      <td>-121.517380</td>\n",
       "      <td>NaN</td>\n",
       "      <td>23757.157066</td>\n",
       "      <td>ORM</td>\n",
       "      <td>POINT (630537.300 4183976.686)</td>\n",
       "    </tr>\n",
       "    <tr>\n",
       "      <th>6</th>\n",
       "      <td>37.802795</td>\n",
       "      <td>-121.457512</td>\n",
       "      <td>801.92</td>\n",
       "      <td>31515.095940</td>\n",
       "      <td>END</td>\n",
       "      <td>None</td>\n",
       "    </tr>\n",
       "  </tbody>\n",
       "</table>\n",
       "</div>"
      ],
      "text/plain": [
       "    Latitude   Longitude  Sonde1_SpCond  transect_dist Station ID  \\\n",
       "0  37.802799 -121.457512         840.80       0.000000        BEG   \n",
       "1  37.804810 -121.449562            NaN     919.705799        OLD   \n",
       "2  37.820258 -121.434856            NaN    8108.819784        GLE   \n",
       "3  37.819600 -121.548500            NaN   18147.702519        GLC   \n",
       "4  37.810295 -121.542145            NaN   20817.601494        ODM   \n",
       "5  37.793840 -121.517380            NaN   23757.157066        ORM   \n",
       "6  37.802795 -121.457512         801.92   31515.095940        END   \n",
       "\n",
       "                         geometry  \n",
       "0                            None  \n",
       "1  POINT (636488.503 4185290.782)  \n",
       "2  POINT (637754.471 4187026.458)  \n",
       "3  POINT (627752.794 4186791.943)  \n",
       "4  POINT (628328.265 4185768.192)  \n",
       "5  POINT (630537.300 4183976.686)  \n",
       "6                            None  "
      ]
     },
     "execution_count": 79,
     "metadata": {},
     "output_type": "execute_result"
    }
   ],
   "source": [
    "df_ec_linear_refs=pd.concat([df_end_points,gdfs]).sort_values('transect_dist').reset_index(drop=True)\n",
    "df_ec_linear_refs"
   ]
  },
  {
   "cell_type": "code",
   "execution_count": 80,
   "id": "9bf8c262",
   "metadata": {
    "ExecuteTime": {
     "end_time": "2022-10-25T16:51:37.672469Z",
     "start_time": "2022-10-25T16:51:37.334163Z"
    }
   },
   "outputs": [
    {
     "data": {
      "text/html": [
       "<div>\n",
       "<style scoped>\n",
       "    .dataframe tbody tr th:only-of-type {\n",
       "        vertical-align: middle;\n",
       "    }\n",
       "\n",
       "    .dataframe tbody tr th {\n",
       "        vertical-align: top;\n",
       "    }\n",
       "\n",
       "    .dataframe thead th {\n",
       "        text-align: right;\n",
       "    }\n",
       "</style>\n",
       "<table border=\"1\" class=\"dataframe\">\n",
       "  <thead>\n",
       "    <tr style=\"text-align: right;\">\n",
       "      <th></th>\n",
       "      <th>Latitude</th>\n",
       "      <th>Longitude</th>\n",
       "      <th>Sonde1_SpCond</th>\n",
       "      <th>transect_dist</th>\n",
       "      <th>Station ID</th>\n",
       "      <th>geometry</th>\n",
       "    </tr>\n",
       "  </thead>\n",
       "  <tbody>\n",
       "    <tr>\n",
       "      <th>1</th>\n",
       "      <td>37.804810</td>\n",
       "      <td>-121.449562</td>\n",
       "      <td>NaN</td>\n",
       "      <td>919.705799</td>\n",
       "      <td>OLD</td>\n",
       "      <td>POINT (636488.503 4185290.782)</td>\n",
       "    </tr>\n",
       "    <tr>\n",
       "      <th>2</th>\n",
       "      <td>37.820258</td>\n",
       "      <td>-121.434856</td>\n",
       "      <td>NaN</td>\n",
       "      <td>8108.819784</td>\n",
       "      <td>GLE</td>\n",
       "      <td>POINT (637754.471 4187026.458)</td>\n",
       "    </tr>\n",
       "    <tr>\n",
       "      <th>3</th>\n",
       "      <td>37.819600</td>\n",
       "      <td>-121.548500</td>\n",
       "      <td>NaN</td>\n",
       "      <td>18147.702519</td>\n",
       "      <td>GLC</td>\n",
       "      <td>POINT (627752.794 4186791.943)</td>\n",
       "    </tr>\n",
       "    <tr>\n",
       "      <th>4</th>\n",
       "      <td>37.810295</td>\n",
       "      <td>-121.542145</td>\n",
       "      <td>NaN</td>\n",
       "      <td>20817.601494</td>\n",
       "      <td>ODM</td>\n",
       "      <td>POINT (628328.265 4185768.192)</td>\n",
       "    </tr>\n",
       "    <tr>\n",
       "      <th>5</th>\n",
       "      <td>37.793840</td>\n",
       "      <td>-121.517380</td>\n",
       "      <td>NaN</td>\n",
       "      <td>23757.157066</td>\n",
       "      <td>ORM</td>\n",
       "      <td>POINT (630537.300 4183976.686)</td>\n",
       "    </tr>\n",
       "  </tbody>\n",
       "</table>\n",
       "</div>"
      ],
      "text/plain": [
       "    Latitude   Longitude  Sonde1_SpCond  transect_dist Station ID  \\\n",
       "1  37.804810 -121.449562            NaN     919.705799        OLD   \n",
       "2  37.820258 -121.434856            NaN    8108.819784        GLE   \n",
       "3  37.819600 -121.548500            NaN   18147.702519        GLC   \n",
       "4  37.810295 -121.542145            NaN   20817.601494        ODM   \n",
       "5  37.793840 -121.517380            NaN   23757.157066        ORM   \n",
       "\n",
       "                         geometry  \n",
       "1  POINT (636488.503 4185290.782)  \n",
       "2  POINT (637754.471 4187026.458)  \n",
       "3  POINT (627752.794 4186791.943)  \n",
       "4  POINT (628328.265 4185768.192)  \n",
       "5  POINT (630537.300 4183976.686)  "
      ]
     },
     "execution_count": 80,
     "metadata": {},
     "output_type": "execute_result"
    }
   ],
   "source": [
    "df_ec_linear_refs.iloc[1:6]"
   ]
  },
  {
   "cell_type": "code",
   "execution_count": 81,
   "id": "fe263978",
   "metadata": {
    "ExecuteTime": {
     "end_time": "2022-10-25T16:51:38.561835Z",
     "start_time": "2022-10-25T16:51:38.222239Z"
    }
   },
   "outputs": [
    {
     "data": {
      "text/html": [
       "<div>\n",
       "<style scoped>\n",
       "    .dataframe tbody tr th:only-of-type {\n",
       "        vertical-align: middle;\n",
       "    }\n",
       "\n",
       "    .dataframe tbody tr th {\n",
       "        vertical-align: top;\n",
       "    }\n",
       "\n",
       "    .dataframe thead th {\n",
       "        text-align: right;\n",
       "    }\n",
       "</style>\n",
       "<table border=\"1\" class=\"dataframe\">\n",
       "  <thead>\n",
       "    <tr style=\"text-align: right;\">\n",
       "      <th></th>\n",
       "      <th>Obs EC</th>\n",
       "    </tr>\n",
       "  </thead>\n",
       "  <tbody>\n",
       "    <tr>\n",
       "      <th>GLE</th>\n",
       "      <td>498.0</td>\n",
       "    </tr>\n",
       "    <tr>\n",
       "      <th>GLC</th>\n",
       "      <td>575.0</td>\n",
       "    </tr>\n",
       "    <tr>\n",
       "      <th>ORM</th>\n",
       "      <td>834.0</td>\n",
       "    </tr>\n",
       "    <tr>\n",
       "      <th>ODM</th>\n",
       "      <td>754.0</td>\n",
       "    </tr>\n",
       "    <tr>\n",
       "      <th>OLD</th>\n",
       "      <td>787.0</td>\n",
       "    </tr>\n",
       "  </tbody>\n",
       "</table>\n",
       "</div>"
      ],
      "text/plain": [
       "     Obs EC\n",
       "GLE   498.0\n",
       "GLC   575.0\n",
       "ORM   834.0\n",
       "ODM   754.0\n",
       "OLD   787.0"
      ]
     },
     "execution_count": 81,
     "metadata": {},
     "output_type": "execute_result"
    }
   ],
   "source": [
    "df_ec_vals = df_cdec_15.iloc[0:1].T\n",
    "df_ec_vals.columns=['Obs EC']\n",
    "df_ec_vals"
   ]
  },
  {
   "cell_type": "code",
   "execution_count": 82,
   "id": "66231d4a",
   "metadata": {
    "ExecuteTime": {
     "end_time": "2022-10-25T16:51:39.496530Z",
     "start_time": "2022-10-25T16:51:39.145133Z"
    }
   },
   "outputs": [],
   "source": [
    "df_ec_at_stations=df_ec_vals.join(df_ec_linear_refs.set_index('Station ID')).sort_values(by='transect_dist')"
   ]
  },
  {
   "cell_type": "code",
   "execution_count": 83,
   "id": "bd97dc05",
   "metadata": {
    "ExecuteTime": {
     "end_time": "2022-10-25T16:51:40.194512Z",
     "start_time": "2022-10-25T16:51:39.841209Z"
    }
   },
   "outputs": [
    {
     "data": {
      "text/html": [
       "<div>\n",
       "<style scoped>\n",
       "    .dataframe tbody tr th:only-of-type {\n",
       "        vertical-align: middle;\n",
       "    }\n",
       "\n",
       "    .dataframe tbody tr th {\n",
       "        vertical-align: top;\n",
       "    }\n",
       "\n",
       "    .dataframe thead th {\n",
       "        text-align: right;\n",
       "    }\n",
       "</style>\n",
       "<table border=\"1\" class=\"dataframe\">\n",
       "  <thead>\n",
       "    <tr style=\"text-align: right;\">\n",
       "      <th></th>\n",
       "      <th>Obs EC</th>\n",
       "      <th>Latitude</th>\n",
       "      <th>Longitude</th>\n",
       "      <th>Sonde1_SpCond</th>\n",
       "      <th>transect_dist</th>\n",
       "      <th>geometry</th>\n",
       "    </tr>\n",
       "  </thead>\n",
       "  <tbody>\n",
       "    <tr>\n",
       "      <th>OLD</th>\n",
       "      <td>787.0</td>\n",
       "      <td>37.804810</td>\n",
       "      <td>-121.449562</td>\n",
       "      <td>NaN</td>\n",
       "      <td>919.705799</td>\n",
       "      <td>POINT (636488.503 4185290.782)</td>\n",
       "    </tr>\n",
       "    <tr>\n",
       "      <th>GLE</th>\n",
       "      <td>498.0</td>\n",
       "      <td>37.820258</td>\n",
       "      <td>-121.434856</td>\n",
       "      <td>NaN</td>\n",
       "      <td>8108.819784</td>\n",
       "      <td>POINT (637754.471 4187026.458)</td>\n",
       "    </tr>\n",
       "    <tr>\n",
       "      <th>GLC</th>\n",
       "      <td>575.0</td>\n",
       "      <td>37.819600</td>\n",
       "      <td>-121.548500</td>\n",
       "      <td>NaN</td>\n",
       "      <td>18147.702519</td>\n",
       "      <td>POINT (627752.794 4186791.943)</td>\n",
       "    </tr>\n",
       "    <tr>\n",
       "      <th>ODM</th>\n",
       "      <td>754.0</td>\n",
       "      <td>37.810295</td>\n",
       "      <td>-121.542145</td>\n",
       "      <td>NaN</td>\n",
       "      <td>20817.601494</td>\n",
       "      <td>POINT (628328.265 4185768.192)</td>\n",
       "    </tr>\n",
       "    <tr>\n",
       "      <th>ORM</th>\n",
       "      <td>834.0</td>\n",
       "      <td>37.793840</td>\n",
       "      <td>-121.517380</td>\n",
       "      <td>NaN</td>\n",
       "      <td>23757.157066</td>\n",
       "      <td>POINT (630537.300 4183976.686)</td>\n",
       "    </tr>\n",
       "  </tbody>\n",
       "</table>\n",
       "</div>"
      ],
      "text/plain": [
       "     Obs EC   Latitude   Longitude  Sonde1_SpCond  transect_dist  \\\n",
       "OLD   787.0  37.804810 -121.449562            NaN     919.705799   \n",
       "GLE   498.0  37.820258 -121.434856            NaN    8108.819784   \n",
       "GLC   575.0  37.819600 -121.548500            NaN   18147.702519   \n",
       "ODM   754.0  37.810295 -121.542145            NaN   20817.601494   \n",
       "ORM   834.0  37.793840 -121.517380            NaN   23757.157066   \n",
       "\n",
       "                           geometry  \n",
       "OLD  POINT (636488.503 4185290.782)  \n",
       "GLE  POINT (637754.471 4187026.458)  \n",
       "GLC  POINT (627752.794 4186791.943)  \n",
       "ODM  POINT (628328.265 4185768.192)  \n",
       "ORM  POINT (630537.300 4183976.686)  "
      ]
     },
     "execution_count": 83,
     "metadata": {},
     "output_type": "execute_result"
    }
   ],
   "source": [
    "df_ec_at_stations"
   ]
  },
  {
   "cell_type": "code",
   "execution_count": 84,
   "id": "e9df1f48",
   "metadata": {
    "ExecuteTime": {
     "end_time": "2022-10-25T16:51:40.553827Z",
     "start_time": "2022-10-25T16:51:40.198721Z"
    }
   },
   "outputs": [
    {
     "data": {
      "text/plain": [
       "(919.7057990810158, 31515.09594037082)"
      ]
     },
     "execution_count": 84,
     "metadata": {},
     "output_type": "execute_result"
    }
   ],
   "source": [
    "df_ec_at_stations.loc['OLD']['transect_dist'], transect_max"
   ]
  },
  {
   "cell_type": "code",
   "execution_count": 85,
   "id": "9065b095",
   "metadata": {
    "ExecuteTime": {
     "end_time": "2022-10-25T16:51:40.920814Z",
     "start_time": "2022-10-25T16:51:40.555958Z"
    }
   },
   "outputs": [],
   "source": [
    "factor = df_ec_at_stations.loc['OLD']['transect_dist']/(transect_max-df_ec_at_stations.loc['ORM']['transect_dist'])"
   ]
  },
  {
   "cell_type": "code",
   "execution_count": 86,
   "id": "306b9587",
   "metadata": {
    "ExecuteTime": {
     "end_time": "2022-10-25T16:51:41.271516Z",
     "start_time": "2022-10-25T16:51:40.922913Z"
    }
   },
   "outputs": [],
   "source": [
    "ec_beg_end = df_ec_at_stations.loc['OLD']['Obs EC'] + factor * (df_ec_at_stations.loc['OLD']['Obs EC']-df_ec_at_stations.loc['ORM']['Obs EC'])"
   ]
  },
  {
   "cell_type": "code",
   "execution_count": 87,
   "id": "509638f4",
   "metadata": {
    "ExecuteTime": {
     "end_time": "2022-10-25T16:51:41.642308Z",
     "start_time": "2022-10-25T16:51:41.273819Z"
    }
   },
   "outputs": [
    {
     "data": {
      "text/plain": [
       "781.4281370020655"
      ]
     },
     "execution_count": 87,
     "metadata": {},
     "output_type": "execute_result"
    }
   ],
   "source": [
    "ec_beg_end"
   ]
  },
  {
   "cell_type": "code",
   "execution_count": 88,
   "id": "8243c54a",
   "metadata": {
    "ExecuteTime": {
     "end_time": "2022-10-25T16:51:41.999087Z",
     "start_time": "2022-10-25T16:51:41.644596Z"
    }
   },
   "outputs": [
    {
     "data": {
      "text/html": [
       "<div>\n",
       "<style scoped>\n",
       "    .dataframe tbody tr th:only-of-type {\n",
       "        vertical-align: middle;\n",
       "    }\n",
       "\n",
       "    .dataframe tbody tr th {\n",
       "        vertical-align: top;\n",
       "    }\n",
       "\n",
       "    .dataframe thead th {\n",
       "        text-align: right;\n",
       "    }\n",
       "</style>\n",
       "<table border=\"1\" class=\"dataframe\">\n",
       "  <thead>\n",
       "    <tr style=\"text-align: right;\">\n",
       "      <th></th>\n",
       "      <th>Latitude</th>\n",
       "      <th>Longitude</th>\n",
       "      <th>Sonde1_SpCond</th>\n",
       "      <th>transect_dist</th>\n",
       "      <th>Station ID</th>\n",
       "      <th>geometry</th>\n",
       "    </tr>\n",
       "  </thead>\n",
       "  <tbody>\n",
       "    <tr>\n",
       "      <th>0</th>\n",
       "      <td>37.802799</td>\n",
       "      <td>-121.457512</td>\n",
       "      <td>840.80</td>\n",
       "      <td>0.000000</td>\n",
       "      <td>BEG</td>\n",
       "      <td>None</td>\n",
       "    </tr>\n",
       "    <tr>\n",
       "      <th>1</th>\n",
       "      <td>37.804810</td>\n",
       "      <td>-121.449562</td>\n",
       "      <td>NaN</td>\n",
       "      <td>919.705799</td>\n",
       "      <td>OLD</td>\n",
       "      <td>POINT (636488.503 4185290.782)</td>\n",
       "    </tr>\n",
       "    <tr>\n",
       "      <th>2</th>\n",
       "      <td>37.820258</td>\n",
       "      <td>-121.434856</td>\n",
       "      <td>NaN</td>\n",
       "      <td>8108.819784</td>\n",
       "      <td>GLE</td>\n",
       "      <td>POINT (637754.471 4187026.458)</td>\n",
       "    </tr>\n",
       "    <tr>\n",
       "      <th>3</th>\n",
       "      <td>37.819600</td>\n",
       "      <td>-121.548500</td>\n",
       "      <td>NaN</td>\n",
       "      <td>18147.702519</td>\n",
       "      <td>GLC</td>\n",
       "      <td>POINT (627752.794 4186791.943)</td>\n",
       "    </tr>\n",
       "    <tr>\n",
       "      <th>4</th>\n",
       "      <td>37.810295</td>\n",
       "      <td>-121.542145</td>\n",
       "      <td>NaN</td>\n",
       "      <td>20817.601494</td>\n",
       "      <td>ODM</td>\n",
       "      <td>POINT (628328.265 4185768.192)</td>\n",
       "    </tr>\n",
       "    <tr>\n",
       "      <th>5</th>\n",
       "      <td>37.793840</td>\n",
       "      <td>-121.517380</td>\n",
       "      <td>NaN</td>\n",
       "      <td>23757.157066</td>\n",
       "      <td>ORM</td>\n",
       "      <td>POINT (630537.300 4183976.686)</td>\n",
       "    </tr>\n",
       "    <tr>\n",
       "      <th>6</th>\n",
       "      <td>37.802795</td>\n",
       "      <td>-121.457512</td>\n",
       "      <td>801.92</td>\n",
       "      <td>31515.095940</td>\n",
       "      <td>END</td>\n",
       "      <td>None</td>\n",
       "    </tr>\n",
       "  </tbody>\n",
       "</table>\n",
       "</div>"
      ],
      "text/plain": [
       "    Latitude   Longitude  Sonde1_SpCond  transect_dist Station ID  \\\n",
       "0  37.802799 -121.457512         840.80       0.000000        BEG   \n",
       "1  37.804810 -121.449562            NaN     919.705799        OLD   \n",
       "2  37.820258 -121.434856            NaN    8108.819784        GLE   \n",
       "3  37.819600 -121.548500            NaN   18147.702519        GLC   \n",
       "4  37.810295 -121.542145            NaN   20817.601494        ODM   \n",
       "5  37.793840 -121.517380            NaN   23757.157066        ORM   \n",
       "6  37.802795 -121.457512         801.92   31515.095940        END   \n",
       "\n",
       "                         geometry  \n",
       "0                            None  \n",
       "1  POINT (636488.503 4185290.782)  \n",
       "2  POINT (637754.471 4187026.458)  \n",
       "3  POINT (627752.794 4186791.943)  \n",
       "4  POINT (628328.265 4185768.192)  \n",
       "5  POINT (630537.300 4183976.686)  \n",
       "6                            None  "
      ]
     },
     "execution_count": 88,
     "metadata": {},
     "output_type": "execute_result"
    }
   ],
   "source": [
    "df_ec_linear_refs"
   ]
  },
  {
   "cell_type": "code",
   "execution_count": 89,
   "id": "450a19d4",
   "metadata": {
    "ExecuteTime": {
     "end_time": "2022-10-25T16:51:42.347172Z",
     "start_time": "2022-10-25T16:51:42.004088Z"
    }
   },
   "outputs": [],
   "source": [
    "df_ec_linear_refs.loc[df_ec_linear_refs['Station ID']=='BEG','Sonde1_SpCond'] = ec_beg_end"
   ]
  },
  {
   "cell_type": "code",
   "execution_count": 90,
   "id": "2a3fbf36",
   "metadata": {
    "ExecuteTime": {
     "end_time": "2022-10-25T16:51:42.691351Z",
     "start_time": "2022-10-25T16:51:42.350244Z"
    }
   },
   "outputs": [],
   "source": [
    "df_ec_linear_refs.loc[df_ec_linear_refs['Station ID']=='END','Sonde1_SpCond'] = ec_beg_end"
   ]
  },
  {
   "cell_type": "code",
   "execution_count": 91,
   "id": "c3a305de",
   "metadata": {
    "ExecuteTime": {
     "end_time": "2022-10-25T16:51:43.050430Z",
     "start_time": "2022-10-25T16:51:42.693491Z"
    }
   },
   "outputs": [
    {
     "data": {
      "text/html": [
       "<div>\n",
       "<style scoped>\n",
       "    .dataframe tbody tr th:only-of-type {\n",
       "        vertical-align: middle;\n",
       "    }\n",
       "\n",
       "    .dataframe tbody tr th {\n",
       "        vertical-align: top;\n",
       "    }\n",
       "\n",
       "    .dataframe thead th {\n",
       "        text-align: right;\n",
       "    }\n",
       "</style>\n",
       "<table border=\"1\" class=\"dataframe\">\n",
       "  <thead>\n",
       "    <tr style=\"text-align: right;\">\n",
       "      <th></th>\n",
       "      <th>Station ID</th>\n",
       "      <th>Latitude</th>\n",
       "      <th>Longitude</th>\n",
       "      <th>Sonde1_SpCond</th>\n",
       "      <th>transect_dist</th>\n",
       "      <th>geometry</th>\n",
       "      <th>Obs EC</th>\n",
       "    </tr>\n",
       "  </thead>\n",
       "  <tbody>\n",
       "    <tr>\n",
       "      <th>0</th>\n",
       "      <td>BEG</td>\n",
       "      <td>37.802799</td>\n",
       "      <td>-121.457512</td>\n",
       "      <td>781.428137</td>\n",
       "      <td>0.000000</td>\n",
       "      <td>None</td>\n",
       "      <td>NaN</td>\n",
       "    </tr>\n",
       "    <tr>\n",
       "      <th>1</th>\n",
       "      <td>OLD</td>\n",
       "      <td>37.804810</td>\n",
       "      <td>-121.449562</td>\n",
       "      <td>NaN</td>\n",
       "      <td>919.705799</td>\n",
       "      <td>POINT (636488.503 4185290.782)</td>\n",
       "      <td>787.0</td>\n",
       "    </tr>\n",
       "    <tr>\n",
       "      <th>2</th>\n",
       "      <td>GLE</td>\n",
       "      <td>37.820258</td>\n",
       "      <td>-121.434856</td>\n",
       "      <td>NaN</td>\n",
       "      <td>8108.819784</td>\n",
       "      <td>POINT (637754.471 4187026.458)</td>\n",
       "      <td>498.0</td>\n",
       "    </tr>\n",
       "    <tr>\n",
       "      <th>3</th>\n",
       "      <td>GLC</td>\n",
       "      <td>37.819600</td>\n",
       "      <td>-121.548500</td>\n",
       "      <td>NaN</td>\n",
       "      <td>18147.702519</td>\n",
       "      <td>POINT (627752.794 4186791.943)</td>\n",
       "      <td>575.0</td>\n",
       "    </tr>\n",
       "    <tr>\n",
       "      <th>4</th>\n",
       "      <td>ODM</td>\n",
       "      <td>37.810295</td>\n",
       "      <td>-121.542145</td>\n",
       "      <td>NaN</td>\n",
       "      <td>20817.601494</td>\n",
       "      <td>POINT (628328.265 4185768.192)</td>\n",
       "      <td>754.0</td>\n",
       "    </tr>\n",
       "    <tr>\n",
       "      <th>5</th>\n",
       "      <td>ORM</td>\n",
       "      <td>37.793840</td>\n",
       "      <td>-121.517380</td>\n",
       "      <td>NaN</td>\n",
       "      <td>23757.157066</td>\n",
       "      <td>POINT (630537.300 4183976.686)</td>\n",
       "      <td>834.0</td>\n",
       "    </tr>\n",
       "    <tr>\n",
       "      <th>6</th>\n",
       "      <td>END</td>\n",
       "      <td>37.802795</td>\n",
       "      <td>-121.457512</td>\n",
       "      <td>781.428137</td>\n",
       "      <td>31515.095940</td>\n",
       "      <td>None</td>\n",
       "      <td>NaN</td>\n",
       "    </tr>\n",
       "  </tbody>\n",
       "</table>\n",
       "</div>"
      ],
      "text/plain": [
       "  Station ID   Latitude   Longitude  Sonde1_SpCond  transect_dist  \\\n",
       "0        BEG  37.802799 -121.457512     781.428137       0.000000   \n",
       "1        OLD  37.804810 -121.449562            NaN     919.705799   \n",
       "2        GLE  37.820258 -121.434856            NaN    8108.819784   \n",
       "3        GLC  37.819600 -121.548500            NaN   18147.702519   \n",
       "4        ODM  37.810295 -121.542145            NaN   20817.601494   \n",
       "5        ORM  37.793840 -121.517380            NaN   23757.157066   \n",
       "6        END  37.802795 -121.457512     781.428137   31515.095940   \n",
       "\n",
       "                         geometry  Obs EC  \n",
       "0                            None     NaN  \n",
       "1  POINT (636488.503 4185290.782)   787.0  \n",
       "2  POINT (637754.471 4187026.458)   498.0  \n",
       "3  POINT (627752.794 4186791.943)   575.0  \n",
       "4  POINT (628328.265 4185768.192)   754.0  \n",
       "5  POINT (630537.300 4183976.686)   834.0  \n",
       "6                            None     NaN  "
      ]
     },
     "execution_count": 91,
     "metadata": {},
     "output_type": "execute_result"
    }
   ],
   "source": [
    "df_ec_linear_refs = df_ec_linear_refs.set_index('Station ID').join(df_ec_vals).reset_index()\n",
    "df_ec_linear_refs"
   ]
  },
  {
   "cell_type": "code",
   "execution_count": 92,
   "id": "9d1c2eed",
   "metadata": {
    "ExecuteTime": {
     "end_time": "2022-10-25T16:51:43.394997Z",
     "start_time": "2022-10-25T16:51:43.052460Z"
    }
   },
   "outputs": [],
   "source": [
    "df_ec_linear_refs['Sonde1_SpCond']=df_ec_linear_refs['Sonde1_SpCond'].fillna(df_ec_linear_refs['Obs EC'])"
   ]
  },
  {
   "cell_type": "code",
   "execution_count": 93,
   "id": "b1b10bc4",
   "metadata": {
    "ExecuteTime": {
     "end_time": "2022-10-25T16:51:43.760168Z",
     "start_time": "2022-10-25T16:51:43.395663Z"
    }
   },
   "outputs": [
    {
     "data": {
      "text/html": [
       "<div>\n",
       "<style scoped>\n",
       "    .dataframe tbody tr th:only-of-type {\n",
       "        vertical-align: middle;\n",
       "    }\n",
       "\n",
       "    .dataframe tbody tr th {\n",
       "        vertical-align: top;\n",
       "    }\n",
       "\n",
       "    .dataframe thead th {\n",
       "        text-align: right;\n",
       "    }\n",
       "</style>\n",
       "<table border=\"1\" class=\"dataframe\">\n",
       "  <thead>\n",
       "    <tr style=\"text-align: right;\">\n",
       "      <th></th>\n",
       "      <th>Station ID</th>\n",
       "      <th>Latitude</th>\n",
       "      <th>Longitude</th>\n",
       "      <th>Sonde1_SpCond</th>\n",
       "      <th>transect_dist</th>\n",
       "      <th>geometry</th>\n",
       "      <th>Obs EC</th>\n",
       "    </tr>\n",
       "  </thead>\n",
       "  <tbody>\n",
       "    <tr>\n",
       "      <th>0</th>\n",
       "      <td>BEG</td>\n",
       "      <td>37.802799</td>\n",
       "      <td>-121.457512</td>\n",
       "      <td>781.428137</td>\n",
       "      <td>0.000000</td>\n",
       "      <td>None</td>\n",
       "      <td>NaN</td>\n",
       "    </tr>\n",
       "    <tr>\n",
       "      <th>1</th>\n",
       "      <td>OLD</td>\n",
       "      <td>37.804810</td>\n",
       "      <td>-121.449562</td>\n",
       "      <td>787.000000</td>\n",
       "      <td>919.705799</td>\n",
       "      <td>POINT (636488.503 4185290.782)</td>\n",
       "      <td>787.0</td>\n",
       "    </tr>\n",
       "    <tr>\n",
       "      <th>2</th>\n",
       "      <td>GLE</td>\n",
       "      <td>37.820258</td>\n",
       "      <td>-121.434856</td>\n",
       "      <td>498.000000</td>\n",
       "      <td>8108.819784</td>\n",
       "      <td>POINT (637754.471 4187026.458)</td>\n",
       "      <td>498.0</td>\n",
       "    </tr>\n",
       "    <tr>\n",
       "      <th>3</th>\n",
       "      <td>GLC</td>\n",
       "      <td>37.819600</td>\n",
       "      <td>-121.548500</td>\n",
       "      <td>575.000000</td>\n",
       "      <td>18147.702519</td>\n",
       "      <td>POINT (627752.794 4186791.943)</td>\n",
       "      <td>575.0</td>\n",
       "    </tr>\n",
       "    <tr>\n",
       "      <th>4</th>\n",
       "      <td>ODM</td>\n",
       "      <td>37.810295</td>\n",
       "      <td>-121.542145</td>\n",
       "      <td>754.000000</td>\n",
       "      <td>20817.601494</td>\n",
       "      <td>POINT (628328.265 4185768.192)</td>\n",
       "      <td>754.0</td>\n",
       "    </tr>\n",
       "    <tr>\n",
       "      <th>5</th>\n",
       "      <td>ORM</td>\n",
       "      <td>37.793840</td>\n",
       "      <td>-121.517380</td>\n",
       "      <td>834.000000</td>\n",
       "      <td>23757.157066</td>\n",
       "      <td>POINT (630537.300 4183976.686)</td>\n",
       "      <td>834.0</td>\n",
       "    </tr>\n",
       "    <tr>\n",
       "      <th>6</th>\n",
       "      <td>END</td>\n",
       "      <td>37.802795</td>\n",
       "      <td>-121.457512</td>\n",
       "      <td>781.428137</td>\n",
       "      <td>31515.095940</td>\n",
       "      <td>None</td>\n",
       "      <td>NaN</td>\n",
       "    </tr>\n",
       "  </tbody>\n",
       "</table>\n",
       "</div>"
      ],
      "text/plain": [
       "  Station ID   Latitude   Longitude  Sonde1_SpCond  transect_dist  \\\n",
       "0        BEG  37.802799 -121.457512     781.428137       0.000000   \n",
       "1        OLD  37.804810 -121.449562     787.000000     919.705799   \n",
       "2        GLE  37.820258 -121.434856     498.000000    8108.819784   \n",
       "3        GLC  37.819600 -121.548500     575.000000   18147.702519   \n",
       "4        ODM  37.810295 -121.542145     754.000000   20817.601494   \n",
       "5        ORM  37.793840 -121.517380     834.000000   23757.157066   \n",
       "6        END  37.802795 -121.457512     781.428137   31515.095940   \n",
       "\n",
       "                         geometry  Obs EC  \n",
       "0                            None     NaN  \n",
       "1  POINT (636488.503 4185290.782)   787.0  \n",
       "2  POINT (637754.471 4187026.458)   498.0  \n",
       "3  POINT (627752.794 4186791.943)   575.0  \n",
       "4  POINT (628328.265 4185768.192)   754.0  \n",
       "5  POINT (630537.300 4183976.686)   834.0  \n",
       "6                            None     NaN  "
      ]
     },
     "execution_count": 93,
     "metadata": {},
     "output_type": "execute_result"
    }
   ],
   "source": [
    "df_ec_linear_refs"
   ]
  },
  {
   "cell_type": "code",
   "execution_count": 94,
   "id": "04ad5bd6",
   "metadata": {
    "ExecuteTime": {
     "end_time": "2022-10-25T16:51:44.110212Z",
     "start_time": "2022-10-25T16:51:43.760705Z"
    }
   },
   "outputs": [],
   "source": [
    "columns = ['Longitude','Latitude','Sonde1_SpCond','transect_dist']"
   ]
  },
  {
   "cell_type": "code",
   "execution_count": 95,
   "id": "6cfb6a36",
   "metadata": {
    "ExecuteTime": {
     "end_time": "2022-10-25T16:51:44.552548Z",
     "start_time": "2022-10-25T16:51:44.213391Z"
    }
   },
   "outputs": [],
   "source": [
    "dfcalc = df_ec_linear_refs[columns].copy()"
   ]
  },
  {
   "cell_type": "code",
   "execution_count": 96,
   "id": "560223e9",
   "metadata": {
    "ExecuteTime": {
     "end_time": "2022-10-25T16:51:45.239481Z",
     "start_time": "2022-10-25T16:51:44.886911Z"
    }
   },
   "outputs": [],
   "source": [
    "dfcalc.loc[:,'Sonde1_SpCond']=np.nan"
   ]
  },
  {
   "cell_type": "code",
   "execution_count": 97,
   "id": "42295149",
   "metadata": {
    "ExecuteTime": {
     "end_time": "2022-10-25T16:51:45.579179Z",
     "start_time": "2022-10-25T16:51:45.241532Z"
    }
   },
   "outputs": [
    {
     "data": {
      "text/html": [
       "<div>\n",
       "<style scoped>\n",
       "    .dataframe tbody tr th:only-of-type {\n",
       "        vertical-align: middle;\n",
       "    }\n",
       "\n",
       "    .dataframe tbody tr th {\n",
       "        vertical-align: top;\n",
       "    }\n",
       "\n",
       "    .dataframe thead th {\n",
       "        text-align: right;\n",
       "    }\n",
       "</style>\n",
       "<table border=\"1\" class=\"dataframe\">\n",
       "  <thead>\n",
       "    <tr style=\"text-align: right;\">\n",
       "      <th></th>\n",
       "      <th>Longitude</th>\n",
       "      <th>Latitude</th>\n",
       "      <th>Sonde1_SpCond</th>\n",
       "      <th>transect_dist</th>\n",
       "    </tr>\n",
       "  </thead>\n",
       "  <tbody>\n",
       "    <tr>\n",
       "      <th>0</th>\n",
       "      <td>-121.457512</td>\n",
       "      <td>37.802799</td>\n",
       "      <td>NaN</td>\n",
       "      <td>0.000000</td>\n",
       "    </tr>\n",
       "    <tr>\n",
       "      <th>1</th>\n",
       "      <td>-121.449562</td>\n",
       "      <td>37.804810</td>\n",
       "      <td>NaN</td>\n",
       "      <td>919.705799</td>\n",
       "    </tr>\n",
       "    <tr>\n",
       "      <th>2</th>\n",
       "      <td>-121.434856</td>\n",
       "      <td>37.820258</td>\n",
       "      <td>NaN</td>\n",
       "      <td>8108.819784</td>\n",
       "    </tr>\n",
       "    <tr>\n",
       "      <th>3</th>\n",
       "      <td>-121.548500</td>\n",
       "      <td>37.819600</td>\n",
       "      <td>NaN</td>\n",
       "      <td>18147.702519</td>\n",
       "    </tr>\n",
       "    <tr>\n",
       "      <th>4</th>\n",
       "      <td>-121.542145</td>\n",
       "      <td>37.810295</td>\n",
       "      <td>NaN</td>\n",
       "      <td>20817.601494</td>\n",
       "    </tr>\n",
       "    <tr>\n",
       "      <th>5</th>\n",
       "      <td>-121.517380</td>\n",
       "      <td>37.793840</td>\n",
       "      <td>NaN</td>\n",
       "      <td>23757.157066</td>\n",
       "    </tr>\n",
       "    <tr>\n",
       "      <th>6</th>\n",
       "      <td>-121.457512</td>\n",
       "      <td>37.802795</td>\n",
       "      <td>NaN</td>\n",
       "      <td>31515.095940</td>\n",
       "    </tr>\n",
       "  </tbody>\n",
       "</table>\n",
       "</div>"
      ],
      "text/plain": [
       "    Longitude   Latitude  Sonde1_SpCond  transect_dist\n",
       "0 -121.457512  37.802799            NaN       0.000000\n",
       "1 -121.449562  37.804810            NaN     919.705799\n",
       "2 -121.434856  37.820258            NaN    8108.819784\n",
       "3 -121.548500  37.819600            NaN   18147.702519\n",
       "4 -121.542145  37.810295            NaN   20817.601494\n",
       "5 -121.517380  37.793840            NaN   23757.157066\n",
       "6 -121.457512  37.802795            NaN   31515.095940"
      ]
     },
     "execution_count": 97,
     "metadata": {},
     "output_type": "execute_result"
    }
   ],
   "source": [
    "dfcalc"
   ]
  },
  {
   "cell_type": "code",
   "execution_count": 98,
   "id": "d5bcb350",
   "metadata": {
    "ExecuteTime": {
     "end_time": "2022-10-25T16:51:45.929566Z",
     "start_time": "2022-10-25T16:51:45.581226Z"
    }
   },
   "outputs": [],
   "source": [
    "dfmerged=pd.concat([dfcalc,gdf[columns]]).sort_values(by='transect_dist').reset_index(drop=True)"
   ]
  },
  {
   "cell_type": "code",
   "execution_count": 99,
   "id": "48a168d2",
   "metadata": {
    "ExecuteTime": {
     "end_time": "2022-10-25T16:51:46.301882Z",
     "start_time": "2022-10-25T16:51:45.931911Z"
    }
   },
   "outputs": [
    {
     "data": {
      "text/html": [
       "<div>\n",
       "<style scoped>\n",
       "    .dataframe tbody tr th:only-of-type {\n",
       "        vertical-align: middle;\n",
       "    }\n",
       "\n",
       "    .dataframe tbody tr th {\n",
       "        vertical-align: top;\n",
       "    }\n",
       "\n",
       "    .dataframe thead th {\n",
       "        text-align: right;\n",
       "    }\n",
       "</style>\n",
       "<table border=\"1\" class=\"dataframe\">\n",
       "  <thead>\n",
       "    <tr style=\"text-align: right;\">\n",
       "      <th></th>\n",
       "      <th>Longitude</th>\n",
       "      <th>Latitude</th>\n",
       "      <th>Sonde1_SpCond</th>\n",
       "      <th>transect_dist</th>\n",
       "    </tr>\n",
       "  </thead>\n",
       "  <tbody>\n",
       "    <tr>\n",
       "      <th>0</th>\n",
       "      <td>-121.457512</td>\n",
       "      <td>37.802799</td>\n",
       "      <td>NaN</td>\n",
       "      <td>0.000000</td>\n",
       "    </tr>\n",
       "    <tr>\n",
       "      <th>1</th>\n",
       "      <td>-121.457512</td>\n",
       "      <td>37.802799</td>\n",
       "      <td>840.80</td>\n",
       "      <td>0.000000</td>\n",
       "    </tr>\n",
       "    <tr>\n",
       "      <th>2</th>\n",
       "      <td>-121.457512</td>\n",
       "      <td>37.802799</td>\n",
       "      <td>841.13</td>\n",
       "      <td>0.000000</td>\n",
       "    </tr>\n",
       "    <tr>\n",
       "      <th>3</th>\n",
       "      <td>-121.457520</td>\n",
       "      <td>37.802799</td>\n",
       "      <td>839.39</td>\n",
       "      <td>0.669195</td>\n",
       "    </tr>\n",
       "    <tr>\n",
       "      <th>4</th>\n",
       "      <td>-121.457520</td>\n",
       "      <td>37.802799</td>\n",
       "      <td>841.13</td>\n",
       "      <td>0.669195</td>\n",
       "    </tr>\n",
       "    <tr>\n",
       "      <th>...</th>\n",
       "      <td>...</td>\n",
       "      <td>...</td>\n",
       "      <td>...</td>\n",
       "      <td>...</td>\n",
       "    </tr>\n",
       "    <tr>\n",
       "      <th>6015</th>\n",
       "      <td>-121.457512</td>\n",
       "      <td>37.802792</td>\n",
       "      <td>803.25</td>\n",
       "      <td>31514.673131</td>\n",
       "    </tr>\n",
       "    <tr>\n",
       "      <th>6016</th>\n",
       "      <td>-121.457512</td>\n",
       "      <td>37.802792</td>\n",
       "      <td>804.35</td>\n",
       "      <td>31514.673131</td>\n",
       "    </tr>\n",
       "    <tr>\n",
       "      <th>6017</th>\n",
       "      <td>-121.457512</td>\n",
       "      <td>37.802795</td>\n",
       "      <td>802.21</td>\n",
       "      <td>31515.095940</td>\n",
       "    </tr>\n",
       "    <tr>\n",
       "      <th>6018</th>\n",
       "      <td>-121.457512</td>\n",
       "      <td>37.802795</td>\n",
       "      <td>NaN</td>\n",
       "      <td>31515.095940</td>\n",
       "    </tr>\n",
       "    <tr>\n",
       "      <th>6019</th>\n",
       "      <td>-121.457512</td>\n",
       "      <td>37.802795</td>\n",
       "      <td>801.92</td>\n",
       "      <td>31515.095940</td>\n",
       "    </tr>\n",
       "  </tbody>\n",
       "</table>\n",
       "<p>6020 rows × 4 columns</p>\n",
       "</div>"
      ],
      "text/plain": [
       "       Longitude   Latitude  Sonde1_SpCond  transect_dist\n",
       "0    -121.457512  37.802799            NaN       0.000000\n",
       "1    -121.457512  37.802799         840.80       0.000000\n",
       "2    -121.457512  37.802799         841.13       0.000000\n",
       "3    -121.457520  37.802799         839.39       0.669195\n",
       "4    -121.457520  37.802799         841.13       0.669195\n",
       "...          ...        ...            ...            ...\n",
       "6015 -121.457512  37.802792         803.25   31514.673131\n",
       "6016 -121.457512  37.802792         804.35   31514.673131\n",
       "6017 -121.457512  37.802795         802.21   31515.095940\n",
       "6018 -121.457512  37.802795            NaN   31515.095940\n",
       "6019 -121.457512  37.802795         801.92   31515.095940\n",
       "\n",
       "[6020 rows x 4 columns]"
      ]
     },
     "execution_count": 99,
     "metadata": {},
     "output_type": "execute_result"
    }
   ],
   "source": [
    "dfmerged"
   ]
  },
  {
   "cell_type": "code",
   "execution_count": 100,
   "id": "115bbd74",
   "metadata": {
    "ExecuteTime": {
     "end_time": "2022-10-25T16:51:46.662570Z",
     "start_time": "2022-10-25T16:51:46.304066Z"
    }
   },
   "outputs": [],
   "source": [
    "dfresult = dfmerged.interpolate().dropna()"
   ]
  },
  {
   "cell_type": "code",
   "execution_count": 101,
   "id": "7a1db525",
   "metadata": {
    "ExecuteTime": {
     "end_time": "2022-10-25T16:51:47.088644Z",
     "start_time": "2022-10-25T16:51:46.740320Z"
    }
   },
   "outputs": [],
   "source": [
    "import hvplot.pandas"
   ]
  },
  {
   "cell_type": "code",
   "execution_count": 102,
   "id": "54f135ff",
   "metadata": {
    "ExecuteTime": {
     "end_time": "2022-10-25T16:51:47.499913Z",
     "start_time": "2022-10-25T16:51:47.139016Z"
    }
   },
   "outputs": [],
   "source": [
    "dfresult['DateTime']='2022-02-28 00:00'"
   ]
  },
  {
   "cell_type": "code",
   "execution_count": 105,
   "id": "119c5db0",
   "metadata": {
    "ExecuteTime": {
     "end_time": "2022-10-25T16:53:31.814905Z",
     "start_time": "2022-10-25T16:53:31.510378Z"
    }
   },
   "outputs": [
    {
     "data": {
      "text/html": [
       "<div>\n",
       "<style scoped>\n",
       "    .dataframe tbody tr th:only-of-type {\n",
       "        vertical-align: middle;\n",
       "    }\n",
       "\n",
       "    .dataframe tbody tr th {\n",
       "        vertical-align: top;\n",
       "    }\n",
       "\n",
       "    .dataframe thead th {\n",
       "        text-align: right;\n",
       "    }\n",
       "</style>\n",
       "<table border=\"1\" class=\"dataframe\">\n",
       "  <thead>\n",
       "    <tr style=\"text-align: right;\">\n",
       "      <th></th>\n",
       "      <th>Longitude</th>\n",
       "      <th>Latitude</th>\n",
       "      <th>Sonde1_SpCond</th>\n",
       "      <th>transect_dist</th>\n",
       "      <th>DateTime</th>\n",
       "    </tr>\n",
       "  </thead>\n",
       "  <tbody>\n",
       "    <tr>\n",
       "      <th>1</th>\n",
       "      <td>-121.457512</td>\n",
       "      <td>37.802799</td>\n",
       "      <td>840.800</td>\n",
       "      <td>0.000000</td>\n",
       "      <td>2022-02-28 00:00</td>\n",
       "    </tr>\n",
       "    <tr>\n",
       "      <th>2</th>\n",
       "      <td>-121.457512</td>\n",
       "      <td>37.802799</td>\n",
       "      <td>841.130</td>\n",
       "      <td>0.000000</td>\n",
       "      <td>2022-02-28 00:00</td>\n",
       "    </tr>\n",
       "    <tr>\n",
       "      <th>3</th>\n",
       "      <td>-121.457520</td>\n",
       "      <td>37.802799</td>\n",
       "      <td>839.390</td>\n",
       "      <td>0.669195</td>\n",
       "      <td>2022-02-28 00:00</td>\n",
       "    </tr>\n",
       "    <tr>\n",
       "      <th>4</th>\n",
       "      <td>-121.457520</td>\n",
       "      <td>37.802799</td>\n",
       "      <td>841.130</td>\n",
       "      <td>0.669195</td>\n",
       "      <td>2022-02-28 00:00</td>\n",
       "    </tr>\n",
       "    <tr>\n",
       "      <th>5</th>\n",
       "      <td>-121.457520</td>\n",
       "      <td>37.802799</td>\n",
       "      <td>841.120</td>\n",
       "      <td>0.669195</td>\n",
       "      <td>2022-02-28 00:00</td>\n",
       "    </tr>\n",
       "    <tr>\n",
       "      <th>...</th>\n",
       "      <td>...</td>\n",
       "      <td>...</td>\n",
       "      <td>...</td>\n",
       "      <td>...</td>\n",
       "      <td>...</td>\n",
       "    </tr>\n",
       "    <tr>\n",
       "      <th>6015</th>\n",
       "      <td>-121.457512</td>\n",
       "      <td>37.802792</td>\n",
       "      <td>803.250</td>\n",
       "      <td>31514.673131</td>\n",
       "      <td>2022-02-28 00:00</td>\n",
       "    </tr>\n",
       "    <tr>\n",
       "      <th>6016</th>\n",
       "      <td>-121.457512</td>\n",
       "      <td>37.802792</td>\n",
       "      <td>804.350</td>\n",
       "      <td>31514.673131</td>\n",
       "      <td>2022-02-28 00:00</td>\n",
       "    </tr>\n",
       "    <tr>\n",
       "      <th>6017</th>\n",
       "      <td>-121.457512</td>\n",
       "      <td>37.802795</td>\n",
       "      <td>802.210</td>\n",
       "      <td>31515.095940</td>\n",
       "      <td>2022-02-28 00:00</td>\n",
       "    </tr>\n",
       "    <tr>\n",
       "      <th>6018</th>\n",
       "      <td>-121.457512</td>\n",
       "      <td>37.802795</td>\n",
       "      <td>802.065</td>\n",
       "      <td>31515.095940</td>\n",
       "      <td>2022-02-28 00:00</td>\n",
       "    </tr>\n",
       "    <tr>\n",
       "      <th>6019</th>\n",
       "      <td>-121.457512</td>\n",
       "      <td>37.802795</td>\n",
       "      <td>801.920</td>\n",
       "      <td>31515.095940</td>\n",
       "      <td>2022-02-28 00:00</td>\n",
       "    </tr>\n",
       "  </tbody>\n",
       "</table>\n",
       "<p>6019 rows × 5 columns</p>\n",
       "</div>"
      ],
      "text/plain": [
       "       Longitude   Latitude  Sonde1_SpCond  transect_dist          DateTime\n",
       "1    -121.457512  37.802799        840.800       0.000000  2022-02-28 00:00\n",
       "2    -121.457512  37.802799        841.130       0.000000  2022-02-28 00:00\n",
       "3    -121.457520  37.802799        839.390       0.669195  2022-02-28 00:00\n",
       "4    -121.457520  37.802799        841.130       0.669195  2022-02-28 00:00\n",
       "5    -121.457520  37.802799        841.120       0.669195  2022-02-28 00:00\n",
       "...          ...        ...            ...            ...               ...\n",
       "6015 -121.457512  37.802792        803.250   31514.673131  2022-02-28 00:00\n",
       "6016 -121.457512  37.802792        804.350   31514.673131  2022-02-28 00:00\n",
       "6017 -121.457512  37.802795        802.210   31515.095940  2022-02-28 00:00\n",
       "6018 -121.457512  37.802795        802.065   31515.095940  2022-02-28 00:00\n",
       "6019 -121.457512  37.802795        801.920   31515.095940  2022-02-28 00:00\n",
       "\n",
       "[6019 rows x 5 columns]"
      ]
     },
     "execution_count": 105,
     "metadata": {},
     "output_type": "execute_result"
    }
   ],
   "source": [
    "dfresult"
   ]
  },
  {
   "cell_type": "code",
   "execution_count": 106,
   "id": "8a050944",
   "metadata": {
    "ExecuteTime": {
     "end_time": "2022-10-25T16:54:09.543964Z",
     "start_time": "2022-10-25T16:54:09.216040Z"
    }
   },
   "outputs": [],
   "source": [
    "map, legend = transect_viz.map_transect_with_size_and_color(dfresult, data_column='Sonde1_SpCond')"
   ]
  },
  {
   "cell_type": "code",
   "execution_count": 107,
   "id": "6409c8f3",
   "metadata": {
    "ExecuteTime": {
     "end_time": "2022-10-25T16:54:10.619193Z",
     "start_time": "2022-10-25T16:54:10.325520Z"
    }
   },
   "outputs": [],
   "source": [
    "carto_light_tiles=transect_viz.get_tile_layer()"
   ]
  },
  {
   "cell_type": "code",
   "execution_count": 108,
   "id": "abce99a7",
   "metadata": {
    "ExecuteTime": {
     "end_time": "2022-10-25T16:54:11.666469Z",
     "start_time": "2022-10-25T16:54:11.044603Z"
    }
   },
   "outputs": [
    {
     "name": "stderr",
     "output_type": "stream",
     "text": [
      "c:\\Users\\psandhu\\Miniconda3\\envs\\dev_transect_viz\\lib\\site-packages\\cartopy\\crs.py:245: ShapelyDeprecationWarning: __len__ for multi-part geometries is deprecated and will be removed in Shapely 2.0. Check the length of the `geoms` property instead to get the  number of parts of a multi-part geometry.\n",
      "  if len(multi_line_string) > 1:\n",
      "c:\\Users\\psandhu\\Miniconda3\\envs\\dev_transect_viz\\lib\\site-packages\\cartopy\\crs.py:297: ShapelyDeprecationWarning: Iteration over multi-part geometries is deprecated and will be removed in Shapely 2.0. Use the `geoms` property to access the constituent parts of a multi-part geometry.\n",
      "  for line in multi_line_string:\n",
      "c:\\Users\\psandhu\\Miniconda3\\envs\\dev_transect_viz\\lib\\site-packages\\cartopy\\crs.py:364: ShapelyDeprecationWarning: __len__ for multi-part geometries is deprecated and will be removed in Shapely 2.0. Check the length of the `geoms` property instead to get the  number of parts of a multi-part geometry.\n",
      "  if len(p_mline) > 0:\n",
      "c:\\Users\\psandhu\\Miniconda3\\envs\\dev_transect_viz\\lib\\site-packages\\cartopy\\crs.py:245: ShapelyDeprecationWarning: __len__ for multi-part geometries is deprecated and will be removed in Shapely 2.0. Check the length of the `geoms` property instead to get the  number of parts of a multi-part geometry.\n",
      "  if len(multi_line_string) > 1:\n",
      "c:\\Users\\psandhu\\Miniconda3\\envs\\dev_transect_viz\\lib\\site-packages\\cartopy\\crs.py:297: ShapelyDeprecationWarning: Iteration over multi-part geometries is deprecated and will be removed in Shapely 2.0. Use the `geoms` property to access the constituent parts of a multi-part geometry.\n",
      "  for line in multi_line_string:\n",
      "c:\\Users\\psandhu\\Miniconda3\\envs\\dev_transect_viz\\lib\\site-packages\\cartopy\\crs.py:364: ShapelyDeprecationWarning: __len__ for multi-part geometries is deprecated and will be removed in Shapely 2.0. Check the length of the `geoms` property instead to get the  number of parts of a multi-part geometry.\n",
      "  if len(p_mline) > 0:\n"
     ]
    },
    {
     "data": {},
     "metadata": {},
     "output_type": "display_data"
    },
    {
     "data": {
      "application/vnd.holoviews_exec.v0+json": "",
      "text/html": [
       "<div id='1004'>\n",
       "  <div class=\"bk-root\" id=\"27978a6c-7327-483a-a488-7af02a09d11e\" data-root-id=\"1004\"></div>\n",
       "</div>\n",
       "<script type=\"application/javascript\">(function(root) {\n",
       "  function embed_document(root) {\n",
       "    var docs_json = {\"383f5f27-871e-4b55-88ff-43e8e3d615ba\":{\"defs\":[{\"extends\":null,\"module\":null,\"name\":\"ReactiveHTML1\",\"overrides\":[],\"properties\":[]},{\"extends\":null,\"module\":null,\"name\":\"FlexBox1\",\"overrides\":[],\"properties\":[{\"default\":\"flex-start\",\"kind\":null,\"name\":\"align_content\"},{\"default\":\"flex-start\",\"kind\":null,\"name\":\"align_items\"},{\"default\":\"row\",\"kind\":null,\"name\":\"flex_direction\"},{\"default\":\"wrap\",\"kind\":null,\"name\":\"flex_wrap\"},{\"default\":\"flex-start\",\"kind\":null,\"name\":\"justify_content\"}]},{\"extends\":null,\"module\":null,\"name\":\"GridStack1\",\"overrides\":[],\"properties\":[{\"default\":\"warn\",\"kind\":null,\"name\":\"mode\"},{\"default\":null,\"kind\":null,\"name\":\"ncols\"},{\"default\":null,\"kind\":null,\"name\":\"nrows\"},{\"default\":true,\"kind\":null,\"name\":\"allow_resize\"},{\"default\":true,\"kind\":null,\"name\":\"allow_drag\"},{\"default\":[],\"kind\":null,\"name\":\"state\"}]},{\"extends\":null,\"module\":null,\"name\":\"click1\",\"overrides\":[],\"properties\":[{\"default\":\"\",\"kind\":null,\"name\":\"terminal_output\"},{\"default\":\"\",\"kind\":null,\"name\":\"debug_name\"},{\"default\":0,\"kind\":null,\"name\":\"clears\"}]},{\"extends\":null,\"module\":null,\"name\":\"NotificationAreaBase1\",\"overrides\":[],\"properties\":[{\"default\":\"bottom-right\",\"kind\":null,\"name\":\"position\"},{\"default\":0,\"kind\":null,\"name\":\"_clear\"}]},{\"extends\":null,\"module\":null,\"name\":\"NotificationArea1\",\"overrides\":[],\"properties\":[{\"default\":[],\"kind\":null,\"name\":\"notifications\"},{\"default\":\"bottom-right\",\"kind\":null,\"name\":\"position\"},{\"default\":0,\"kind\":null,\"name\":\"_clear\"},{\"default\":[{\"background\":\"#ffc107\",\"icon\":{\"className\":\"fas fa-exclamation-triangle\",\"color\":\"white\",\"tagName\":\"i\"},\"type\":\"warning\"},{\"background\":\"#007bff\",\"icon\":{\"className\":\"fas fa-info-circle\",\"color\":\"white\",\"tagName\":\"i\"},\"type\":\"info\"}],\"kind\":null,\"name\":\"types\"}]},{\"extends\":null,\"module\":null,\"name\":\"Notification\",\"overrides\":[],\"properties\":[{\"default\":null,\"kind\":null,\"name\":\"background\"},{\"default\":3000,\"kind\":null,\"name\":\"duration\"},{\"default\":null,\"kind\":null,\"name\":\"icon\"},{\"default\":\"\",\"kind\":null,\"name\":\"message\"},{\"default\":null,\"kind\":null,\"name\":\"notification_type\"},{\"default\":false,\"kind\":null,\"name\":\"_destroyed\"}]},{\"extends\":null,\"module\":null,\"name\":\"TemplateActions1\",\"overrides\":[],\"properties\":[{\"default\":0,\"kind\":null,\"name\":\"open_modal\"},{\"default\":0,\"kind\":null,\"name\":\"close_modal\"}]},{\"extends\":null,\"module\":null,\"name\":\"MaterialTemplateActions1\",\"overrides\":[],\"properties\":[{\"default\":0,\"kind\":null,\"name\":\"open_modal\"},{\"default\":0,\"kind\":null,\"name\":\"close_modal\"}]}],\"roots\":{\"references\":[{\"attributes\":{\"toolbar\":{\"id\":\"1171\"},\"toolbar_location\":\"above\"},\"id\":\"1172\",\"type\":\"ToolbarBox\"},{\"attributes\":{},\"id\":\"1126\",\"type\":\"AllLabels\"},{\"attributes\":{},\"id\":\"1076\",\"type\":\"Selection\"},{\"attributes\":{\"children\":[{\"id\":\"1172\"},{\"id\":\"1170\"}]},\"id\":\"1173\",\"type\":\"Column\"},{\"attributes\":{},\"id\":\"1112\",\"type\":\"WheelZoomTool\"},{\"attributes\":{\"high\":1000.0,\"low\":400.0,\"palette\":[\"#03006c\",\"#03006f\",\"#030072\",\"#040075\",\"#040078\",\"#04007b\",\"#04007e\",\"#040081\",\"#040084\",\"#040087\",\"#04008a\",\"#04008d\",\"#040090\",\"#040093\",\"#040096\",\"#040099\",\"#05009c\",\"#05019f\",\"#0501a2\",\"#0502a4\",\"#0503a7\",\"#0604aa\",\"#0605ac\",\"#0607ae\",\"#0709b1\",\"#070bb3\",\"#080db5\",\"#080fb7\",\"#0910b9\",\"#0912bb\",\"#0a14bd\",\"#0a16bf\",\"#0b18c1\",\"#0b19c3\",\"#0c1bc4\",\"#0c1dc6\",\"#0c1ec8\",\"#0d20ca\",\"#0d22cc\",\"#0d23ce\",\"#0e25d0\",\"#0e26d2\",\"#0e28d4\",\"#0f29d6\",\"#0f2bd8\",\"#0f2cda\",\"#102ddc\",\"#102fde\",\"#1030e0\",\"#1032e2\",\"#1133e3\",\"#1135e5\",\"#1136e7\",\"#1238e9\",\"#1239eb\",\"#123bec\",\"#133ced\",\"#143eee\",\"#1540ef\",\"#1642f0\",\"#1745ef\",\"#1947ef\",\"#1a4aee\",\"#1b4cec\",\"#1d4fea\",\"#1e52e8\",\"#1e55e5\",\"#1f58e1\",\"#1f5bde\",\"#1f5eda\",\"#1e61d6\",\"#1d64d2\",\"#1b67cd\",\"#196ac9\",\"#176dc5\",\"#1470c0\",\"#1072bc\",\"#0d75b7\",\"#0977b3\",\"#067aae\",\"#057ca9\",\"#057ea4\",\"#07809f\",\"#0b839a\",\"#108595\",\"#148790\",\"#19888a\",\"#1d8a85\",\"#208c7f\",\"#248e79\",\"#279073\",\"#29916e\",\"#2b9368\",\"#2d9562\",\"#2e975c\",\"#2f9855\",\"#2f9a4f\",\"#2f9c49\",\"#309e43\",\"#309f3d\",\"#31a137\",\"#31a232\",\"#32a42c\",\"#34a527\",\"#36a722\",\"#39a81d\",\"#3baa18\",\"#3fab14\",\"#42ac11\",\"#46ad0e\",\"#4aae0b\",\"#4eaf09\",\"#51b108\",\"#55b207\",\"#59b306\",\"#5db406\",\"#61b506\",\"#64b605\",\"#68b705\",\"#6bb805\",\"#6fb905\",\"#72ba05\",\"#76bb05\",\"#79bc05\",\"#7cbd04\",\"#80be04\",\"#83bf04\",\"#86c004\",\"#89c104\",\"#8dc204\",\"#90c304\",\"#93c404\",\"#96c503\",\"#99c603\",\"#9cc703\",\"#9fc803\",\"#a2c903\",\"#a5ca03\",\"#a8cb03\",\"#abcc03\",\"#afcd03\",\"#b2ce02\",\"#b5cf02\",\"#b8d002\",\"#bbd102\",\"#bed202\",\"#c0d302\",\"#c3d402\",\"#c6d502\",\"#c9d602\",\"#ccd701\",\"#cfd801\",\"#d2d901\",\"#d5da01\",\"#d8db01\",\"#dbdc01\",\"#dedc01\",\"#e1dd01\",\"#e4de01\",\"#e6de01\",\"#e9de01\",\"#ecde02\",\"#eede02\",\"#f0de02\",\"#f2dd03\",\"#f4dc03\",\"#f5db04\",\"#f6da05\",\"#f7d905\",\"#f8d706\",\"#f9d507\",\"#f9d308\",\"#f9d208\",\"#fad009\",\"#face0a\",\"#facc0b\",\"#faca0b\",\"#fac80c\",\"#fbc60d\",\"#fbc40d\",\"#fbc20e\",\"#fbc00e\",\"#fbbe0f\",\"#fbbc0f\",\"#fbb910\",\"#fbb710\",\"#fbb511\",\"#fbb311\",\"#fbb112\",\"#fbaf12\",\"#fbad12\",\"#fbab13\",\"#fba913\",\"#fba713\",\"#fba514\",\"#fba314\",\"#fba014\",\"#fb9e15\",\"#fb9c15\",\"#fb9a15\",\"#fb9815\",\"#fb9615\",\"#fb9315\",\"#fb9115\",\"#fb8f15\",\"#fb8c15\",\"#fc8a15\",\"#fc8714\",\"#fc8514\",\"#fc8314\",\"#fc8013\",\"#fc7d13\",\"#fd7b12\",\"#fd7812\",\"#fd7512\",\"#fd7311\",\"#fd7011\",\"#fd6d11\",\"#fd6a10\",\"#fe6710\",\"#fe640f\",\"#fe610f\",\"#fe5e0f\",\"#fe5b0f\",\"#fe580e\",\"#fe540e\",\"#fe510e\",\"#fe4d0d\",\"#fe4a0d\",\"#fe460d\",\"#fd420d\",\"#fd3f0d\",\"#fc3b0d\",\"#fc380d\",\"#fb340d\",\"#fa310c\",\"#f92e0c\",\"#f72b0c\",\"#f6290c\",\"#f4260c\",\"#f3240d\",\"#f1220d\",\"#ef200d\",\"#ed1e0d\",\"#eb1c0d\",\"#e91b0d\",\"#e8190d\",\"#e6170d\",\"#e4150d\",\"#e2130d\",\"#e0110d\",\"#de0f0d\",\"#dc0d0d\",\"#da0a0d\",\"#d8070d\",\"#d6050d\"]},\"id\":\"1074\",\"type\":\"LinearColorMapper\"},{\"attributes\":{\"dimension\":\"lat\"},\"id\":\"1054\",\"type\":\"MercatorTickFormatter\"},{\"attributes\":{\"toolbars\":[{\"id\":\"1042\"},{\"id\":\"1116\"}],\"tools\":[{\"id\":\"1016\"},{\"id\":\"1036\"},{\"id\":\"1037\"},{\"id\":\"1038\"},{\"id\":\"1039\"},{\"id\":\"1040\"},{\"id\":\"1110\"},{\"id\":\"1111\"},{\"id\":\"1112\"},{\"id\":\"1113\"},{\"id\":\"1114\"}]},\"id\":\"1171\",\"type\":\"ProxyToolbar\"},{\"attributes\":{\"dimension\":\"lon\"},\"id\":\"1052\",\"type\":\"MercatorTickFormatter\"},{\"attributes\":{},\"id\":\"1057\",\"type\":\"AllLabels\"},{\"attributes\":{},\"id\":\"1036\",\"type\":\"SaveTool\"},{\"attributes\":{\"data\":{\"labels\":[\"400\",\"500\",\"600\",\"700\",\"800\",\"900\"],\"x\":{\"__ndarray__\":\"AAAAAAAAAAAAAAAAAAAAAAAAAAAAAAAAAAAAAAAAAAAAAAAAAAAAAAAAAAAAAAAA\",\"dtype\":\"float64\",\"order\":\"little\",\"shape\":[6]},\"y\":{\"__ndarray__\":\"AAAAAAAA8D+rqqqqqqrqP1ZVVVVVVeU/AQAAAAAA4D9YVVVVVVXVP1xVVVVVVcU/\",\"dtype\":\"float64\",\"order\":\"little\",\"shape\":[6]}},\"selected\":{\"id\":\"1132\"},\"selection_policy\":{\"id\":\"1164\"}},\"id\":\"1131\",\"type\":\"ColumnDataSource\"},{\"attributes\":{},\"id\":\"1037\",\"type\":\"PanTool\"},{\"attributes\":{},\"id\":\"1040\",\"type\":\"ResetTool\"},{\"attributes\":{},\"id\":\"1098\",\"type\":\"LinearScale\"},{\"attributes\":{\"end\":4554999.256526823,\"min_interval\":5,\"reset_end\":4554999.256526823,\"reset_start\":4548004.688088599,\"start\":4548004.688088599,\"tags\":[[[\"Latitude\",\"Latitude\",null]]]},\"id\":\"1013\",\"type\":\"Range1d\"},{\"attributes\":{},\"id\":\"1038\",\"type\":\"WheelZoomTool\"},{\"attributes\":{\"coordinates\":null,\"group\":null,\"level\":\"glyph\",\"tile_source\":{\"id\":\"1069\"}},\"id\":\"1072\",\"type\":\"TileRenderer\"},{\"attributes\":{\"attribution\":\"&copy; <a href=\\\"https://www.openstreetmap.org/copyright\\\">OpenStreetMap</a> contributors, &copy; <a href=\\\"https://cartodb.com/attributions\\\">CartoDB</a>\",\"url\":\"https://cartodb-basemaps-4.global.ssl.fastly.net/light_all/{Z}/{X}/{Y}.png\"},\"id\":\"1069\",\"type\":\"WMTSTileSource\"},{\"attributes\":{\"overlay\":{\"id\":\"1041\"}},\"id\":\"1039\",\"type\":\"BoxZoomTool\"},{\"attributes\":{\"margin\":[5,5,5,5],\"name\":\"HSpacer01644\",\"sizing_mode\":\"stretch_width\"},\"id\":\"1193\",\"type\":\"Spacer\"},{\"attributes\":{},\"id\":\"1107\",\"type\":\"BasicTicker\"},{\"attributes\":{\"dimension\":\"lon\"},\"id\":\"1051\",\"type\":\"MercatorTicker\"},{\"attributes\":{\"end\":1.1,\"reset_end\":1.1,\"reset_start\":0,\"tags\":[[[\"y\",\"y\",null]]]},\"id\":\"1090\",\"type\":\"Range1d\"},{\"attributes\":{\"fill_alpha\":{\"value\":0.5},\"fill_color\":{\"field\":\"color\",\"transform\":{\"id\":\"1074\"}},\"hatch_alpha\":{\"value\":0.5},\"hatch_color\":{\"field\":\"color\",\"transform\":{\"id\":\"1074\"}},\"line_alpha\":{\"value\":0.5},\"line_color\":{\"field\":\"color\",\"transform\":{\"id\":\"1074\"}},\"size\":{\"field\":\"size\"},\"x\":{\"field\":\"Longitude\"},\"y\":{\"field\":\"Latitude\"}},\"id\":\"1081\",\"type\":\"Scatter\"},{\"attributes\":{\"fill_alpha\":{\"value\":0.2},\"fill_color\":{\"field\":\"color\",\"transform\":{\"id\":\"1074\"}},\"hatch_alpha\":{\"value\":0.2},\"hatch_color\":{\"field\":\"color\",\"transform\":{\"id\":\"1074\"}},\"line_alpha\":{\"value\":0.2},\"line_color\":{\"field\":\"color\",\"transform\":{\"id\":\"1074\"}},\"size\":{\"field\":\"size\"},\"x\":{\"field\":\"Longitude\"},\"y\":{\"field\":\"Latitude\"}},\"id\":\"1082\",\"type\":\"Scatter\"},{\"attributes\":{},\"id\":\"1141\",\"type\":\"Selection\"},{\"attributes\":{\"callback\":null,\"formatters\":{\"$x\":{\"id\":\"1087\"},\"$y\":{\"id\":\"1088\"}},\"renderers\":[{\"id\":\"1083\"}],\"tags\":[\"hv_created\"],\"tooltips\":[[\"Longitude\",\"$x{custom}\"],[\"Latitude\",\"$y{custom}\"],[\"Sonde1_SpCond\",\"@{Sonde1_SpCond}\"],[\"DateTime\",\"@{DateTime}\"]]},\"id\":\"1016\",\"type\":\"HoverTool\"},{\"attributes\":{\"bottom_units\":\"screen\",\"coordinates\":null,\"fill_alpha\":0.5,\"fill_color\":\"lightgrey\",\"group\":null,\"left_units\":\"screen\",\"level\":\"overlay\",\"line_alpha\":1.0,\"line_color\":\"black\",\"line_dash\":[4,4],\"line_width\":2,\"right_units\":\"screen\",\"syncable\":false,\"top_units\":\"screen\"},\"id\":\"1041\",\"type\":\"BoxAnnotation\"},{\"attributes\":{\"text\":{\"field\":\"labels\"},\"text_alpha\":{\"value\":0.1},\"text_baseline\":{\"value\":\"middle\"},\"text_color\":{\"value\":\"black\"},\"x\":{\"field\":\"x\",\"transform\":{\"id\":\"1130\"}},\"y\":{\"field\":\"y\"}},\"id\":\"1135\",\"type\":\"Text\"},{\"attributes\":{},\"id\":\"1166\",\"type\":\"UnionRenderers\"},{\"attributes\":{\"tools\":[{\"id\":\"1110\"},{\"id\":\"1111\"},{\"id\":\"1112\"},{\"id\":\"1113\"},{\"id\":\"1114\"}]},\"id\":\"1116\",\"type\":\"Toolbar\"},{\"attributes\":{\"data\":{\"DateTime\":[\"2022-02-28 00:00\",\"2022-02-28 00:00\",\"2022-02-28 00:00\",\"2022-02-28 00:00\",\"2022-02-28 00:00\",\"2022-02-28 00:00\",\"2022-02-28 00:00\",\"2022-02-28 00:00\",\"2022-02-28 00:00\",\"2022-02-28 00:00\",\"2022-02-28 00:00\",\"2022-02-28 00:00\",\"2022-02-28 00:00\",\"2022-02-28 00:00\",\"2022-02-28 00:00\",\"2022-02-28 00:00\",\"2022-02-28 00:00\",\"2022-02-28 00:00\",\"2022-02-28 00:00\",\"2022-02-28 00:00\",\"2022-02-28 00:00\",\"2022-02-28 00:00\",\"2022-02-28 00:00\",\"2022-02-28 00:00\",\"2022-02-28 00:00\",\"2022-02-28 00:00\",\"2022-02-28 00:00\",\"2022-02-28 00:00\",\"2022-02-28 00:00\",\"2022-02-28 00:00\",\"2022-02-28 00:00\",\"2022-02-28 00:00\",\"2022-02-28 00:00\",\"2022-02-28 00:00\",\"2022-02-28 00:00\",\"2022-02-28 00:00\",\"2022-02-28 00:00\",\"2022-02-28 00:00\",\"2022-02-28 00:00\",\"2022-02-28 00:00\",\"2022-02-28 00:00\",\"2022-02-28 00:00\",\"2022-02-28 00:00\",\"2022-02-28 00:00\",\"2022-02-28 00:00\",\"2022-02-28 00:00\",\"2022-02-28 00:00\",\"2022-02-28 00:00\",\"2022-02-28 00:00\",\"2022-02-28 00:00\",\"2022-02-28 00:00\",\"2022-02-28 00:00\",\"2022-02-28 00:00\",\"2022-02-28 00:00\",\"2022-02-28 00:00\",\"2022-02-28 00:00\",\"2022-02-28 00:00\",\"2022-02-28 00:00\",\"2022-02-28 00:00\",\"2022-02-28 00:00\",\"2022-02-28 00:00\",\"2022-02-28 00:00\",\"2022-02-28 00:00\",\"2022-02-28 00:00\",\"2022-02-28 00:00\",\"2022-02-28 00:00\",\"2022-02-28 00:00\",\"2022-02-28 00:00\",\"2022-02-28 00:00\",\"2022-02-28 00:00\",\"2022-02-28 00:00\",\"2022-02-28 00:00\",\"2022-02-28 00:00\",\"2022-02-28 00:00\",\"2022-02-28 00:00\",\"2022-02-28 00:00\",\"2022-02-28 00:00\",\"2022-02-28 00:00\",\"2022-02-28 00:00\",\"2022-02-28 00:00\",\"2022-02-28 00:00\",\"2022-02-28 00:00\",\"2022-02-28 00:00\",\"2022-02-28 00:00\",\"2022-02-28 00:00\",\"2022-02-28 00:00\",\"2022-02-28 00:00\",\"2022-02-28 00:00\",\"2022-02-28 00:00\",\"2022-02-28 00:00\",\"2022-02-28 00:00\",\"2022-02-28 00:00\",\"2022-02-28 00:00\",\"2022-02-28 00:00\",\"2022-02-28 00:00\",\"2022-02-28 00:00\",\"2022-02-28 00:00\",\"2022-02-28 00:00\",\"2022-02-28 00:00\",\"2022-02-28 00:00\",\"2022-02-28 00:00\",\"2022-02-28 00:00\",\"2022-02-28 00:00\",\"2022-02-28 00:00\",\"2022-02-28 00:00\",\"2022-02-28 00:00\",\"2022-02-28 00:00\",\"2022-02-28 00:00\",\"2022-02-28 00:00\",\"2022-02-28 00:00\",\"2022-02-28 00:00\",\"2022-02-28 00:00\",\"2022-02-28 00:00\",\"2022-02-28 00:00\",\"2022-02-28 00:00\",\"2022-02-28 00:00\",\"2022-02-28 00:00\",\"2022-02-28 00:00\",\"2022-02-28 00:00\",\"2022-02-28 00:00\",\"2022-02-28 00:00\",\"2022-02-28 00:00\",\"2022-02-28 00:00\",\"2022-02-28 00:00\",\"2022-02-28 00:00\",\"2022-02-28 00:00\",\"2022-02-28 00:00\",\"2022-02-28 00:00\",\"2022-02-28 00:00\",\"2022-02-28 00:00\",\"2022-02-28 00:00\",\"2022-02-28 00:00\",\"2022-02-28 00:00\",\"2022-02-28 00:00\",\"2022-02-28 00:00\",\"2022-02-28 00:00\",\"2022-02-28 00:00\",\"2022-02-28 00:00\",\"2022-02-28 00:00\",\"2022-02-28 00:00\",\"2022-02-28 00:00\",\"2022-02-28 00:00\",\"2022-02-28 00:00\",\"2022-02-28 00:00\",\"2022-02-28 00:00\",\"2022-02-28 00:00\",\"2022-02-28 00:00\",\"2022-02-28 00:00\",\"2022-02-28 00:00\",\"2022-02-28 00:00\",\"2022-02-28 00:00\",\"2022-02-28 00:00\",\"2022-02-28 00:00\",\"2022-02-28 00:00\",\"2022-02-28 00:00\",\"2022-02-28 00:00\",\"2022-02-28 00:00\",\"2022-02-28 00:00\",\"2022-02-28 00:00\",\"2022-02-28 00:00\",\"2022-02-28 00:00\",\"2022-02-28 00:00\",\"2022-02-28 00:00\",\"2022-02-28 00:00\",\"2022-02-28 00:00\",\"2022-02-28 00:00\",\"2022-02-28 00:00\",\"2022-02-28 00:00\",\"2022-02-28 00:00\",\"2022-02-28 00:00\",\"2022-02-28 00:00\",\"2022-02-28 00:00\",\"2022-02-28 00:00\",\"2022-02-28 00:00\",\"2022-02-28 00:00\",\"2022-02-28 00:00\",\"2022-02-28 00:00\",\"2022-02-28 00:00\",\"2022-02-28 00:00\",\"2022-02-28 00:00\",\"2022-02-28 00:00\",\"2022-02-28 00:00\",\"2022-02-28 00:00\",\"2022-02-28 00:00\",\"2022-02-28 00:00\",\"2022-02-28 00:00\",\"2022-02-28 00:00\",\"2022-02-28 00:00\",\"2022-02-28 00:00\",\"2022-02-28 00:00\",\"2022-02-28 00:00\",\"2022-02-28 00:00\",\"2022-02-28 00:00\",\"2022-02-28 00:00\",\"2022-02-28 00:00\",\"2022-02-28 00:00\",\"2022-02-28 00:00\",\"2022-02-28 00:00\",\"2022-02-28 00:00\",\"2022-02-28 00:00\",\"2022-02-28 00:00\",\"2022-02-28 00:00\",\"2022-02-28 00:00\",\"2022-02-28 00:00\",\"2022-02-28 00:00\",\"2022-02-28 00:00\",\"2022-02-28 00:00\",\"2022-02-28 00:00\",\"2022-02-28 00:00\",\"2022-02-28 00:00\",\"2022-02-28 00:00\",\"2022-02-28 00:00\",\"2022-02-28 00:00\",\"2022-02-28 00:00\",\"2022-02-28 00:00\",\"2022-02-28 00:00\",\"2022-02-28 00:00\",\"2022-02-28 00:00\",\"2022-02-28 00:00\",\"2022-02-28 00:00\",\"2022-02-28 00:00\",\"2022-02-28 00:00\",\"2022-02-28 00:00\",\"2022-02-28 00:00\",\"2022-02-28 00:00\",\"2022-02-28 00:00\",\"2022-02-28 00:00\",\"2022-02-28 00:00\",\"2022-02-28 00:00\",\"2022-02-28 00:00\",\"2022-02-28 00:00\",\"2022-02-28 00:00\",\"2022-02-28 00:00\",\"2022-02-28 00:00\",\"2022-02-28 00:00\",\"2022-02-28 00:00\",\"2022-02-28 00:00\",\"2022-02-28 00:00\",\"2022-02-28 00:00\",\"2022-02-28 00:00\",\"2022-02-28 00:00\",\"2022-02-28 00:00\",\"2022-02-28 00:00\",\"2022-02-28 00:00\",\"2022-02-28 00:00\",\"2022-02-28 00:00\",\"2022-02-28 00:00\",\"2022-02-28 00:00\",\"2022-02-28 00:00\",\"2022-02-28 00:00\",\"2022-02-28 00:00\",\"2022-02-28 00:00\",\"2022-02-28 00:00\",\"2022-02-28 00:00\",\"2022-02-28 00:00\",\"2022-02-28 00:00\",\"2022-02-28 00:00\",\"2022-02-28 00:00\",\"2022-02-28 00:00\",\"2022-02-28 00:00\",\"2022-02-28 00:00\",\"2022-02-28 00:00\",\"2022-02-28 00:00\",\"2022-02-28 00:00\",\"2022-02-28 00:00\",\"2022-02-28 00:00\",\"2022-02-28 00:00\",\"2022-02-28 00:00\",\"2022-02-28 00:00\",\"2022-02-28 00:00\",\"2022-02-28 00:00\",\"2022-02-28 00:00\",\"2022-02-28 00:00\",\"2022-02-28 00:00\",\"2022-02-28 00:00\",\"2022-02-28 00:00\",\"2022-02-28 00:00\",\"2022-02-28 00:00\",\"2022-02-28 00:00\",\"2022-02-28 00:00\",\"2022-02-28 00:00\",\"2022-02-28 00:00\",\"2022-02-28 00:00\",\"2022-02-28 00:00\",\"2022-02-28 00:00\",\"2022-02-28 00:00\",\"2022-02-28 00:00\",\"2022-02-28 00:00\",\"2022-02-28 00:00\",\"2022-02-28 00:00\",\"2022-02-28 00:00\",\"2022-02-28 00:00\",\"2022-02-28 00:00\",\"2022-02-28 00:00\",\"2022-02-28 00:00\",\"2022-02-28 00:00\",\"2022-02-28 00:00\",\"2022-02-28 00:00\",\"2022-02-28 00:00\",\"2022-02-28 00:00\",\"2022-02-28 00:00\",\"2022-02-28 00:00\",\"2022-02-28 00:00\",\"2022-02-28 00:00\",\"2022-02-28 00:00\",\"2022-02-28 00:00\",\"2022-02-28 00:00\",\"2022-02-28 00:00\",\"2022-02-28 00:00\",\"2022-02-28 00:00\",\"2022-02-28 00:00\",\"2022-02-28 00:00\",\"2022-02-28 00:00\",\"2022-02-28 00:00\",\"2022-02-28 00:00\",\"2022-02-28 00:00\",\"2022-02-28 00:00\",\"2022-02-28 00:00\",\"2022-02-28 00:00\",\"2022-02-28 00:00\",\"2022-02-28 00:00\",\"2022-02-28 00:00\",\"2022-02-28 00:00\",\"2022-02-28 00:00\",\"2022-02-28 00:00\",\"2022-02-28 00:00\",\"2022-02-28 00:00\",\"2022-02-28 00:00\",\"2022-02-28 00:00\",\"2022-02-28 00:00\",\"2022-02-28 00:00\",\"2022-02-28 00:00\",\"2022-02-28 00:00\",\"2022-02-28 00:00\",\"2022-02-28 00:00\",\"2022-02-28 00:00\",\"2022-02-28 00:00\",\"2022-02-28 00:00\",\"2022-02-28 00:00\",\"2022-02-28 00:00\",\"2022-02-28 00:00\",\"2022-02-28 00:00\",\"2022-02-28 00:00\",\"2022-02-28 00:00\",\"2022-02-28 00:00\",\"2022-02-28 00:00\",\"2022-02-28 00:00\",\"2022-02-28 00:00\",\"2022-02-28 00:00\",\"2022-02-28 00:00\",\"2022-02-28 00:00\",\"2022-02-28 00:00\",\"2022-02-28 00:00\",\"2022-02-28 00:00\",\"2022-02-28 00:00\",\"2022-02-28 00:00\",\"2022-02-28 00:00\",\"2022-02-28 00:00\",\"2022-02-28 00:00\",\"2022-02-28 00:00\",\"2022-02-28 00:00\",\"2022-02-28 00:00\",\"2022-02-28 00:00\",\"2022-02-28 00:00\",\"2022-02-28 00:00\",\"2022-02-28 00:00\",\"2022-02-28 00:00\",\"2022-02-28 00:00\",\"2022-02-28 00:00\",\"2022-02-28 00:00\",\"2022-02-28 00:00\",\"2022-02-28 00:00\",\"2022-02-28 00:00\",\"2022-02-28 00:00\",\"2022-02-28 00:00\",\"2022-02-28 00:00\",\"2022-02-28 00:00\",\"2022-02-28 00:00\",\"2022-02-28 00:00\",\"2022-02-28 00:00\",\"2022-02-28 00:00\",\"2022-02-28 00:00\",\"2022-02-28 00:00\",\"2022-02-28 00:00\",\"2022-02-28 00:00\",\"2022-02-28 00:00\",\"2022-02-28 00:00\",\"2022-02-28 00:00\",\"2022-02-28 00:00\",\"2022-02-28 00:00\",\"2022-02-28 00:00\",\"2022-02-28 00:00\",\"2022-02-28 00:00\",\"2022-02-28 00:00\",\"2022-02-28 00:00\",\"2022-02-28 00:00\",\"2022-02-28 00:00\",\"2022-02-28 00:00\",\"2022-02-28 00:00\",\"2022-02-28 00:00\",\"2022-02-28 00:00\",\"2022-02-28 00:00\",\"2022-02-28 00:00\",\"2022-02-28 00:00\",\"2022-02-28 00:00\",\"2022-02-28 00:00\",\"2022-02-28 00:00\",\"2022-02-28 00:00\",\"2022-02-28 00:00\",\"2022-02-28 00:00\",\"2022-02-28 00:00\",\"2022-02-28 00:00\",\"2022-02-28 00:00\",\"2022-02-28 00:00\",\"2022-02-28 00:00\",\"2022-02-28 00:00\",\"2022-02-28 00:00\",\"2022-02-28 00:00\",\"2022-02-28 00:00\",\"2022-02-28 00:00\",\"2022-02-28 00:00\",\"2022-02-28 00:00\",\"2022-02-28 00:00\",\"2022-02-28 00:00\",\"2022-02-28 00:00\",\"2022-02-28 00:00\",\"2022-02-28 00:00\",\"2022-02-28 00:00\",\"2022-02-28 00:00\",\"2022-02-28 00:00\",\"2022-02-28 00:00\",\"2022-02-28 00:00\",\"2022-02-28 00:00\",\"2022-02-28 00:00\",\"2022-02-28 00:00\",\"2022-02-28 00:00\",\"2022-02-28 00:00\",\"2022-02-28 00:00\",\"2022-02-28 00:00\",\"2022-02-28 00:00\",\"2022-02-28 00:00\",\"2022-02-28 00:00\",\"2022-02-28 00:00\",\"2022-02-28 00:00\",\"2022-02-28 00:00\",\"2022-02-28 00:00\",\"2022-02-28 00:00\",\"2022-02-28 00:00\",\"2022-02-28 00:00\",\"2022-02-28 00:00\",\"2022-02-28 00:00\",\"2022-02-28 00:00\",\"2022-02-28 00:00\",\"2022-02-28 00:00\",\"2022-02-28 00:00\",\"2022-02-28 00:00\",\"2022-02-28 00:00\",\"2022-02-28 00:00\",\"2022-02-28 00:00\",\"2022-02-28 00:00\",\"2022-02-28 00:00\",\"2022-02-28 00:00\",\"2022-02-28 00:00\",\"2022-02-28 00:00\",\"2022-02-28 00:00\",\"2022-02-28 00:00\",\"2022-02-28 00:00\",\"2022-02-28 00:00\",\"2022-02-28 00:00\",\"2022-02-28 00:00\",\"2022-02-28 00:00\",\"2022-02-28 00:00\",\"2022-02-28 00:00\",\"2022-02-28 00:00\",\"2022-02-28 00:00\",\"2022-02-28 00:00\",\"2022-02-28 00:00\",\"2022-02-28 00:00\",\"2022-02-28 00:00\",\"2022-02-28 00:00\",\"2022-02-28 00:00\",\"2022-02-28 00:00\",\"2022-02-28 00:00\",\"2022-02-28 00:00\",\"2022-02-28 00:00\",\"2022-02-28 00:00\",\"2022-02-28 00:00\",\"2022-02-28 00:00\",\"2022-02-28 00:00\",\"2022-02-28 00:00\",\"2022-02-28 00:00\",\"2022-02-28 00:00\",\"2022-02-28 00:00\",\"2022-02-28 00:00\",\"2022-02-28 00:00\",\"2022-02-28 00:00\",\"2022-02-28 00:00\",\"2022-02-28 00:00\",\"2022-02-28 00:00\",\"2022-02-28 00:00\",\"2022-02-28 00:00\",\"2022-02-28 00:00\",\"2022-02-28 00:00\",\"2022-02-28 00:00\",\"2022-02-28 00:00\",\"2022-02-28 00:00\",\"2022-02-28 00:00\",\"2022-02-28 00:00\",\"2022-02-28 00:00\",\"2022-02-28 00:00\",\"2022-02-28 00:00\",\"2022-02-28 00:00\",\"2022-02-28 00:00\",\"2022-02-28 00:00\",\"2022-02-28 00:00\",\"2022-02-28 00:00\",\"2022-02-28 00:00\",\"2022-02-28 00:00\",\"2022-02-28 00:00\",\"2022-02-28 00:00\",\"2022-02-28 00:00\",\"2022-02-28 00:00\",\"2022-02-28 00:00\",\"2022-02-28 00:00\",\"2022-02-28 00:00\",\"2022-02-28 00:00\",\"2022-02-28 00:00\",\"2022-02-28 00:00\",\"2022-02-28 00:00\",\"2022-02-28 00:00\",\"2022-02-28 00:00\",\"2022-02-28 00:00\",\"2022-02-28 00:00\",\"2022-02-28 00:00\",\"2022-02-28 00:00\",\"2022-02-28 00:00\",\"2022-02-28 00:00\",\"2022-02-28 00:00\",\"2022-02-28 00:00\",\"2022-02-28 00:00\",\"2022-02-28 00:00\",\"2022-02-28 00:00\",\"2022-02-28 00:00\",\"2022-02-28 00:00\",\"2022-02-28 00:00\",\"2022-02-28 00:00\",\"2022-02-28 00:00\",\"2022-02-28 00:00\",\"2022-02-28 00:00\",\"2022-02-28 00:00\",\"2022-02-28 00:00\",\"2022-02-28 00:00\",\"2022-02-28 00:00\",\"2022-02-28 00:00\",\"2022-02-28 00:00\",\"2022-02-28 00:00\",\"2022-02-28 00:00\",\"2022-02-28 00:00\",\"2022-02-28 00:00\",\"2022-02-28 00:00\",\"2022-02-28 00:00\",\"2022-02-28 00:00\",\"2022-02-28 00:00\",\"2022-02-28 00:00\",\"2022-02-28 00:00\",\"2022-02-28 00:00\",\"2022-02-28 00:00\",\"2022-02-28 00:00\",\"2022-02-28 00:00\",\"2022-02-28 00:00\",\"2022-02-28 00:00\",\"2022-02-28 00:00\",\"2022-02-28 00:00\",\"2022-02-28 00:00\",\"2022-02-28 00:00\",\"2022-02-28 00:00\",\"2022-02-28 00:00\",\"2022-02-28 00:00\",\"2022-02-28 00:00\",\"2022-02-28 00:00\",\"2022-02-28 00:00\",\"2022-02-28 00:00\",\"2022-02-28 00:00\",\"2022-02-28 00:00\",\"2022-02-28 00:00\",\"2022-02-28 00:00\",\"2022-02-28 00:00\",\"2022-02-28 00:00\",\"2022-02-28 00:00\",\"2022-02-28 00:00\",\"2022-02-28 00:00\",\"2022-02-28 00:00\",\"2022-02-28 00:00\",\"2022-02-28 00:00\",\"2022-02-28 00:00\",\"2022-02-28 00:00\",\"2022-02-28 00:00\",\"2022-02-28 00:00\",\"2022-02-28 00:00\",\"2022-02-28 00:00\",\"2022-02-28 00:00\",\"2022-02-28 00:00\",\"2022-02-28 00:00\",\"2022-02-28 00:00\",\"2022-02-28 00:00\",\"2022-02-28 00:00\",\"2022-02-28 00:00\",\"2022-02-28 00:00\",\"2022-02-28 00:00\",\"2022-02-28 00:00\",\"2022-02-28 00:00\",\"2022-02-28 00:00\",\"2022-02-28 00:00\",\"2022-02-28 00:00\",\"2022-02-28 00:00\",\"2022-02-28 00:00\",\"2022-02-28 00:00\",\"2022-02-28 00:00\",\"2022-02-28 00:00\",\"2022-02-28 00:00\",\"2022-02-28 00:00\",\"2022-02-28 00:00\",\"2022-02-28 00:00\",\"2022-02-28 00:00\",\"2022-02-28 00:00\",\"2022-02-28 00:00\",\"2022-02-28 00:00\",\"2022-02-28 00:00\",\"2022-02-28 00:00\",\"2022-02-28 00:00\",\"2022-02-28 00:00\",\"2022-02-28 00:00\",\"2022-02-28 00:00\",\"2022-02-28 00:00\",\"2022-02-28 00:00\",\"2022-02-28 00:00\",\"2022-02-28 00:00\",\"2022-02-28 00:00\",\"2022-02-28 00:00\",\"2022-02-28 00:00\",\"2022-02-28 00:00\",\"2022-02-28 00:00\",\"2022-02-28 00:00\",\"2022-02-28 00:00\",\"2022-02-28 00:00\",\"2022-02-28 00:00\",\"2022-02-28 00:00\",\"2022-02-28 00:00\",\"2022-02-28 00:00\",\"2022-02-28 00:00\",\"2022-02-28 00:00\",\"2022-02-28 00:00\",\"2022-02-28 00:00\",\"2022-02-28 00:00\",\"2022-02-28 00:00\",\"2022-02-28 00:00\",\"2022-02-28 00:00\",\"2022-02-28 00:00\",\"2022-02-28 00:00\",\"2022-02-28 00:00\",\"2022-02-28 00:00\",\"2022-02-28 00:00\",\"2022-02-28 00:00\",\"2022-02-28 00:00\",\"2022-02-28 00:00\",\"2022-02-28 00:00\",\"2022-02-28 00:00\",\"2022-02-28 00:00\",\"2022-02-28 00:00\",\"2022-02-28 00:00\",\"2022-02-28 00:00\",\"2022-02-28 00:00\",\"2022-02-28 00:00\",\"2022-02-28 00:00\",\"2022-02-28 00:00\",\"2022-02-28 00:00\",\"2022-02-28 00:00\",\"2022-02-28 00:00\",\"2022-02-28 00:00\",\"2022-02-28 00:00\",\"2022-02-28 00:00\",\"2022-02-28 00:00\",\"2022-02-28 00:00\",\"2022-02-28 00:00\",\"2022-02-28 00:00\",\"2022-02-28 00:00\",\"2022-02-28 00:00\",\"2022-02-28 00:00\",\"2022-02-28 00:00\",\"2022-02-28 00:00\",\"2022-02-28 00:00\",\"2022-02-28 00:00\",\"2022-02-28 00:00\",\"2022-02-28 00:00\",\"2022-02-28 00:00\",\"2022-02-28 00:00\",\"2022-02-28 00:00\",\"2022-02-28 00:00\",\"2022-02-28 00:00\",\"2022-02-28 00:00\",\"2022-02-28 00:00\",\"2022-02-28 00:00\",\"2022-02-28 00:00\",\"2022-02-28 00:00\",\"2022-02-28 00:00\",\"2022-02-28 00:00\",\"2022-02-28 00:00\",\"2022-02-28 00:00\",\"2022-02-28 00:00\",\"2022-02-28 00:00\",\"2022-02-28 00:00\",\"2022-02-28 00:00\",\"2022-02-28 00:00\",\"2022-02-28 00:00\",\"2022-02-28 00:00\",\"2022-02-28 00:00\",\"2022-02-28 00:00\",\"2022-02-28 00:00\",\"2022-02-28 00:00\",\"2022-02-28 00:00\",\"2022-02-28 00:00\",\"2022-02-28 00:00\",\"2022-02-28 00:00\",\"2022-02-28 00:00\",\"2022-02-28 00:00\",\"2022-02-28 00:00\",\"2022-02-28 00:00\",\"2022-02-28 00:00\",\"2022-02-28 00:00\",\"2022-02-28 00:00\",\"2022-02-28 00:00\",\"2022-02-28 00:00\",\"2022-02-28 00:00\",\"2022-02-28 00:00\",\"2022-02-28 00:00\",\"2022-02-28 00:00\",\"2022-02-28 00:00\",\"2022-02-28 00:00\",\"2022-02-28 00:00\",\"2022-02-28 00:00\",\"2022-02-28 00:00\",\"2022-02-28 00:00\",\"2022-02-28 00:00\",\"2022-02-28 00:00\",\"2022-02-28 00:00\",\"2022-02-28 00:00\",\"2022-02-28 00:00\",\"2022-02-28 00:00\",\"2022-02-28 00:00\",\"2022-02-28 00:00\",\"2022-02-28 00:00\",\"2022-02-28 00:00\",\"2022-02-28 00:00\",\"2022-02-28 00:00\",\"2022-02-28 00:00\",\"2022-02-28 00:00\",\"2022-02-28 00:00\",\"2022-02-28 00:00\",\"2022-02-28 00:00\",\"2022-02-28 00:00\",\"2022-02-28 00:00\",\"2022-02-28 00:00\",\"2022-02-28 00:00\",\"2022-02-28 00:00\",\"2022-02-28 00:00\",\"2022-02-28 00:00\",\"2022-02-28 00:00\",\"2022-02-28 00:00\",\"2022-02-28 00:00\",\"2022-02-28 00:00\",\"2022-02-28 00:00\",\"2022-02-28 00:00\",\"2022-02-28 00:00\",\"2022-02-28 00:00\",\"2022-02-28 00:00\",\"2022-02-28 00:00\",\"2022-02-28 00:00\",\"2022-02-28 00:00\",\"2022-02-28 00:00\",\"2022-02-28 00:00\",\"2022-02-28 00:00\",\"2022-02-28 00:00\",\"2022-02-28 00:00\",\"2022-02-28 00:00\",\"2022-02-28 00:00\",\"2022-02-28 00:00\",\"2022-02-28 00:00\",\"2022-02-28 00:00\",\"2022-02-28 00:00\",\"2022-02-28 00:00\",\"2022-02-28 00:00\",\"2022-02-28 00:00\",\"2022-02-28 00:00\",\"2022-02-28 00:00\",\"2022-02-28 00:00\",\"2022-02-28 00:00\",\"2022-02-28 00:00\",\"2022-02-28 00:00\",\"2022-02-28 00:00\",\"2022-02-28 00:00\",\"2022-02-28 00:00\",\"2022-02-28 00:00\",\"2022-02-28 00:00\",\"2022-02-28 00:00\",\"2022-02-28 00:00\",\"2022-02-28 00:00\",\"2022-02-28 00:00\",\"2022-02-28 00:00\",\"2022-02-28 00:00\",\"2022-02-28 00:00\",\"2022-02-28 00:00\",\"2022-02-28 00:00\",\"2022-02-28 00:00\",\"2022-02-28 00:00\",\"2022-02-28 00:00\",\"2022-02-28 00:00\",\"2022-02-28 00:00\",\"2022-02-28 00:00\",\"2022-02-28 00:00\",\"2022-02-28 00:00\",\"2022-02-28 00:00\",\"2022-02-28 00:00\",\"2022-02-28 00:00\",\"2022-02-28 00:00\",\"2022-02-28 00:00\",\"2022-02-28 00:00\",\"2022-02-28 00:00\",\"2022-02-28 00:00\",\"2022-02-28 00:00\",\"2022-02-28 00:00\",\"2022-02-28 00:00\",\"2022-02-28 00:00\",\"2022-02-28 00:00\",\"2022-02-28 00:00\",\"2022-02-28 00:00\",\"2022-02-28 00:00\",\"2022-02-28 00:00\",\"2022-02-28 00:00\",\"2022-02-28 00:00\",\"2022-02-28 00:00\",\"2022-02-28 00:00\",\"2022-02-28 00:00\",\"2022-02-28 00:00\",\"2022-02-28 00:00\",\"2022-02-28 00:00\",\"2022-02-28 00:00\",\"2022-02-28 00:00\",\"2022-02-28 00:00\",\"2022-02-28 00:00\",\"2022-02-28 00:00\",\"2022-02-28 00:00\",\"2022-02-28 00:00\",\"2022-02-28 00:00\",\"2022-02-28 00:00\",\"2022-02-28 00:00\",\"2022-02-28 00:00\",\"2022-02-28 00:00\",\"2022-02-28 00:00\",\"2022-02-28 00:00\",\"2022-02-28 00:00\",\"2022-02-28 00:00\",\"2022-02-28 00:00\",\"2022-02-28 00:00\",\"2022-02-28 00:00\",\"2022-02-28 00:00\",\"2022-02-28 00:00\",\"2022-02-28 00:00\",\"2022-02-28 00:00\",\"2022-02-28 00:00\",\"2022-02-28 00:00\",\"2022-02-28 00:00\",\"2022-02-28 00:00\",\"2022-02-28 00:00\",\"2022-02-28 00:00\",\"2022-02-28 00:00\",\"2022-02-28 00:00\",\"2022-02-28 00:00\",\"2022-02-28 00:00\",\"2022-02-28 00:00\",\"2022-02-28 00:00\",\"2022-02-28 00:00\",\"2022-02-28 00:00\",\"2022-02-28 00:00\",\"2022-02-28 00:00\",\"2022-02-28 00:00\",\"2022-02-28 00:00\",\"2022-02-28 00:00\",\"2022-02-28 00:00\",\"2022-02-28 00:00\",\"2022-02-28 00:00\",\"2022-02-28 00:00\",\"2022-02-28 00:00\",\"2022-02-28 00:00\",\"2022-02-28 00:00\",\"2022-02-28 00:00\",\"2022-02-28 00:00\",\"2022-02-28 00:00\",\"2022-02-28 00:00\",\"2022-02-28 00:00\",\"2022-02-28 00:00\",\"2022-02-28 00:00\",\"2022-02-28 00:00\",\"2022-02-28 00:00\",\"2022-02-28 00:00\",\"2022-02-28 00:00\",\"2022-02-28 00:00\",\"2022-02-28 00:00\",\"2022-02-28 00:00\",\"2022-02-28 00:00\",\"2022-02-28 00:00\",\"2022-02-28 00:00\",\"2022-02-28 00:00\",\"2022-02-28 00:00\",\"2022-02-28 00:00\",\"2022-02-28 00:00\",\"2022-02-28 00:00\",\"2022-02-28 00:00\",\"2022-02-28 00:00\",\"2022-02-28 00:00\",\"2022-02-28 00:00\",\"2022-02-28 00:00\",\"2022-02-28 00:00\",\"2022-02-28 00:00\",\"2022-02-28 00:00\",\"2022-02-28 00:00\",\"2022-02-28 00:00\",\"2022-02-28 00:00\",\"2022-02-28 00:00\",\"2022-02-28 00:00\",\"2022-02-28 00:00\",\"2022-02-28 00:00\",\"2022-02-28 00:00\",\"2022-02-28 00:00\",\"2022-02-28 00:00\",\"2022-02-28 00:00\",\"2022-02-28 00:00\",\"2022-02-28 00:00\",\"2022-02-28 00:00\",\"2022-02-28 00:00\",\"2022-02-28 00:00\",\"2022-02-28 00:00\",\"2022-02-28 00:00\",\"2022-02-28 00:00\",\"2022-02-28 00:00\",\"2022-02-28 00:00\",\"2022-02-28 00:00\",\"2022-02-28 00:00\",\"2022-02-28 00:00\",\"2022-02-28 00:00\",\"2022-02-28 00:00\",\"2022-02-28 00:00\",\"2022-02-28 00:00\",\"2022-02-28 00:00\",\"2022-02-28 00:00\",\"2022-02-28 00:00\",\"2022-02-28 00:00\",\"2022-02-28 00:00\",\"2022-02-28 00:00\",\"2022-02-28 00:00\",\"2022-02-28 00:00\",\"2022-02-28 00:00\",\"2022-02-28 00:00\",\"2022-02-28 00:00\",\"2022-02-28 00:00\",\"2022-02-28 00:00\",\"2022-02-28 00:00\",\"2022-02-28 00:00\",\"2022-02-28 00:00\",\"2022-02-28 00:00\",\"2022-02-28 00:00\",\"2022-02-28 00:00\",\"2022-02-28 00:00\",\"2022-02-28 00:00\",\"2022-02-28 00:00\",\"2022-02-28 00:00\",\"2022-02-28 00:00\",\"2022-02-28 00:00\",\"2022-02-28 00:00\",\"2022-02-28 00:00\",\"2022-02-28 00:00\",\"2022-02-28 00:00\",\"2022-02-28 00:00\",\"2022-02-28 00:00\",\"2022-02-28 00:00\",\"2022-02-28 00:00\",\"2022-02-28 00:00\",\"2022-02-28 00:00\",\"2022-02-28 00:00\",\"2022-02-28 00:00\",\"2022-02-28 00:00\",\"2022-02-28 00:00\",\"2022-02-28 00:00\",\"2022-02-28 00:00\",\"2022-02-28 00:00\",\"2022-02-28 00:00\",\"2022-02-28 00:00\",\"2022-02-28 00:00\",\"2022-02-28 00:00\",\"2022-02-28 00:00\",\"2022-02-28 00:00\",\"2022-02-28 00:00\",\"2022-02-28 00:00\",\"2022-02-28 00:00\",\"2022-02-28 00:00\",\"2022-02-28 00:00\",\"2022-02-28 00:00\",\"2022-02-28 00:00\",\"2022-02-28 00:00\",\"2022-02-28 00:00\",\"2022-02-28 00:00\",\"2022-02-28 00:00\",\"2022-02-28 00:00\",\"2022-02-28 00:00\",\"2022-02-28 00:00\",\"2022-02-28 00:00\",\"2022-02-28 00:00\",\"2022-02-28 00:00\",\"2022-02-28 00:00\",\"2022-02-28 00:00\",\"2022-02-28 00:00\",\"2022-02-28 00:00\",\"2022-02-28 00:00\",\"2022-02-28 00:00\",\"2022-02-28 00:00\",\"2022-02-28 00:00\",\"2022-02-28 00:00\",\"2022-02-28 00:00\",\"2022-02-28 00:00\",\"2022-02-28 00:00\",\"2022-02-28 00:00\",\"2022-02-28 00:00\",\"2022-02-28 00:00\",\"2022-02-28 00:00\",\"2022-02-28 00:00\",\"2022-02-28 00:00\",\"2022-02-28 00:00\",\"2022-02-28 00:00\",\"2022-02-28 00:00\",\"2022-02-28 00:00\",\"2022-02-28 00:00\",\"2022-02-28 00:00\",\"2022-02-28 00:00\",\"2022-02-28 00:00\",\"2022-02-28 00:00\",\"2022-02-28 00:00\",\"2022-02-28 00:00\",\"2022-02-28 00:00\",\"2022-02-28 00:00\",\"2022-02-28 00:00\",\"2022-02-28 00:00\",\"2022-02-28 00:00\",\"2022-02-28 00:00\",\"2022-02-28 00:00\",\"2022-02-28 00:00\",\"2022-02-28 00:00\",\"2022-02-28 00:00\",\"2022-02-28 00:00\",\"2022-02-28 00:00\",\"2022-02-28 00:00\",\"2022-02-28 00:00\",\"2022-02-28 00:00\",\"2022-02-28 00:00\",\"2022-02-28 00:00\",\"2022-02-28 00:00\",\"2022-02-28 00:00\",\"2022-02-28 00:00\",\"2022-02-28 00:00\",\"2022-02-28 00:00\",\"2022-02-28 00:00\",\"2022-02-28 00:00\",\"2022-02-28 00:00\",\"2022-02-28 00:00\",\"2022-02-28 00:00\",\"2022-02-28 00:00\",\"2022-02-28 00:00\",\"2022-02-28 00:00\",\"2022-02-28 00:00\",\"2022-02-28 00:00\",\"2022-02-28 00:00\",\"2022-02-28 00:00\",\"2022-02-28 00:00\",\"2022-02-28 00:00\",\"2022-02-28 00:00\",\"2022-02-28 00:00\",\"2022-02-28 00:00\",\"2022-02-28 00:00\",\"2022-02-28 00:00\",\"2022-02-28 00:00\",\"2022-02-28 00:00\",\"2022-02-28 00:00\",\"2022-02-28 00:00\",\"2022-02-28 00:00\",\"2022-02-28 00:00\",\"2022-02-28 00:00\",\"2022-02-28 00:00\",\"2022-02-28 00:00\",\"2022-02-28 00:00\",\"2022-02-28 00:00\",\"2022-02-28 00:00\",\"2022-02-28 00:00\",\"2022-02-28 00:00\",\"2022-02-28 00:00\",\"2022-02-28 00:00\",\"2022-02-28 00:00\",\"2022-02-28 00:00\",\"2022-02-28 00:00\",\"2022-02-28 00:00\",\"2022-02-28 00:00\",\"2022-02-28 00:00\",\"2022-02-28 00:00\",\"2022-02-28 00:00\",\"2022-02-28 00:00\",\"2022-02-28 00:00\",\"2022-02-28 00:00\",\"2022-02-28 00:00\",\"2022-02-28 00:00\",\"2022-02-28 00:00\",\"2022-02-28 00:00\",\"2022-02-28 00:00\",\"2022-02-28 00:00\",\"2022-02-28 00:00\",\"2022-02-28 00:00\",\"2022-02-28 00:00\",\"2022-02-28 00:00\",\"2022-02-28 00:00\",\"2022-02-28 00:00\",\"2022-02-28 00:00\",\"2022-02-28 00:00\",\"2022-02-28 00:00\",\"2022-02-28 00:00\",\"2022-02-28 00:00\",\"2022-02-28 00:00\",\"2022-02-28 00:00\",\"2022-02-28 00:00\",\"2022-02-28 00:00\",\"2022-02-28 00:00\",\"2022-02-28 00:00\",\"2022-02-28 00:00\",\"2022-02-28 00:00\",\"2022-02-28 00:00\",\"2022-02-28 00:00\",\"2022-02-28 00:00\",\"2022-02-28 00:00\",\"2022-02-28 00:00\",\"2022-02-28 00:00\",\"2022-02-28 00:00\",\"2022-02-28 00:00\",\"2022-02-28 00:00\",\"2022-02-28 00:00\",\"2022-02-28 00:00\",\"2022-02-28 00:00\",\"2022-02-28 00:00\",\"2022-02-28 00:00\",\"2022-02-28 00:00\",\"2022-02-28 00:00\",\"2022-02-28 00:00\",\"2022-02-28 00:00\",\"2022-02-28 00:00\",\"2022-02-28 00:00\",\"2022-02-28 00:00\",\"2022-02-28 00:00\",\"2022-02-28 00:00\",\"2022-02-28 00:00\",\"2022-02-28 00:00\",\"2022-02-28 00:00\",\"2022-02-28 00:00\",\"2022-02-28 00:00\",\"2022-02-28 00:00\",\"2022-02-28 00:00\",\"2022-02-28 00:00\",\"2022-02-28 00:00\",\"2022-02-28 00:00\",\"2022-02-28 00:00\",\"2022-02-28 00:00\",\"2022-02-28 00:00\",\"2022-02-28 00:00\",\"2022-02-28 00:00\",\"2022-02-28 00:00\",\"2022-02-28 00:00\",\"2022-02-28 00:00\",\"2022-02-28 00:00\",\"2022-02-28 00:00\",\"2022-02-28 00:00\",\"2022-02-28 00:00\",\"2022-02-28 00:00\",\"2022-02-28 00:00\",\"2022-02-28 00:00\",\"2022-02-28 00:00\",\"2022-02-28 00:00\",\"2022-02-28 00:00\",\"2022-02-28 00:00\",\"2022-02-28 00:00\",\"2022-02-28 00:00\",\"2022-02-28 00:00\",\"2022-02-28 00:00\",\"2022-02-28 00:00\",\"2022-02-28 00:00\",\"2022-02-28 00:00\",\"2022-02-28 00:00\",\"2022-02-28 00:00\",\"2022-02-28 00:00\",\"2022-02-28 00:00\",\"2022-02-28 00:00\",\"2022-02-28 00:00\",\"2022-02-28 00:00\",\"2022-02-28 00:00\",\"2022-02-28 00:00\",\"2022-02-28 00:00\",\"2022-02-28 00:00\",\"2022-02-28 00:00\",\"2022-02-28 00:00\",\"2022-02-28 00:00\",\"2022-02-28 00:00\",\"2022-02-28 00:00\",\"2022-02-28 00:00\",\"2022-02-28 00:00\",\"2022-02-28 00:00\",\"2022-02-28 00:00\",\"2022-02-28 00:00\",\"2022-02-28 00:00\",\"2022-02-28 00:00\",\"2022-02-28 00:00\",\"2022-02-28 00:00\",\"2022-02-28 00:00\",\"2022-02-28 00:00\",\"2022-02-28 00:00\",\"2022-02-28 00:00\",\"2022-02-28 00:00\",\"2022-02-28 00:00\",\"2022-02-28 00:00\",\"2022-02-28 00:00\",\"2022-02-28 00:00\",\"2022-02-28 00:00\",\"2022-02-28 00:00\",\"2022-02-28 00:00\",\"2022-02-28 00:00\",\"2022-02-28 00:00\",\"2022-02-28 00:00\",\"2022-02-28 00:00\",\"2022-02-28 00:00\",\"2022-02-28 00:00\",\"2022-02-28 00:00\",\"2022-02-28 00:00\",\"2022-02-28 00:00\",\"2022-02-28 00:00\",\"2022-02-28 00:00\",\"2022-02-28 00:00\",\"2022-02-28 00:00\",\"2022-02-28 00:00\",\"2022-02-28 00:00\",\"2022-02-28 00:00\",\"2022-02-28 00:00\",\"2022-02-28 00:00\",\"2022-02-28 00:00\",\"2022-02-28 00:00\",\"2022-02-28 00:00\",\"2022-02-28 00:00\",\"2022-02-28 00:00\",\"2022-02-28 00:00\",\"2022-02-28 00:00\",\"2022-02-28 00:00\",\"2022-02-28 00:00\",\"2022-02-28 00:00\",\"2022-02-28 00:00\",\"2022-02-28 00:00\",\"2022-02-28 00:00\",\"2022-02-28 00:00\",\"2022-02-28 00:00\",\"2022-02-28 00:00\",\"2022-02-28 00:00\",\"2022-02-28 00:00\",\"2022-02-28 00:00\",\"2022-02-28 00:00\",\"2022-02-28 00:00\",\"2022-02-28 00:00\",\"2022-02-28 00:00\",\"2022-02-28 00:00\",\"2022-02-28 00:00\",\"2022-02-28 00:00\",\"2022-02-28 00:00\",\"2022-02-28 00:00\",\"2022-02-28 00:00\",\"2022-02-28 00:00\",\"2022-02-28 00:00\",\"2022-02-28 00:00\",\"2022-02-28 00:00\",\"2022-02-28 00:00\",\"2022-02-28 00:00\",\"2022-02-28 00:00\",\"2022-02-28 00:00\",\"2022-02-28 00:00\",\"2022-02-28 00:00\",\"2022-02-28 00:00\",\"2022-02-28 00:00\",\"2022-02-28 00:00\",\"2022-02-28 00:00\",\"2022-02-28 00:00\",\"2022-02-28 00:00\",\"2022-02-28 00:00\",\"2022-02-28 00:00\",\"2022-02-28 00:00\",\"2022-02-28 00:00\",\"2022-02-28 00:00\",\"2022-02-28 00:00\",\"2022-02-28 00:00\",\"2022-02-28 00:00\",\"2022-02-28 00:00\",\"2022-02-28 00:00\",\"2022-02-28 00:00\",\"2022-02-28 00:00\",\"2022-02-28 00:00\",\"2022-02-28 00:00\",\"2022-02-28 00:00\",\"2022-02-28 00:00\",\"2022-02-28 00:00\",\"2022-02-28 00:00\",\"2022-02-28 00:00\",\"2022-02-28 00:00\",\"2022-02-28 00:00\",\"2022-02-28 00:00\",\"2022-02-28 00:00\",\"2022-02-28 00:00\",\"2022-02-28 00:00\",\"2022-02-28 00:00\",\"2022-02-28 00:00\",\"2022-02-28 00:00\",\"2022-02-28 00:00\",\"2022-02-28 00:00\",\"2022-02-28 00:00\",\"2022-02-28 00:00\",\"2022-02-28 00:00\",\"2022-02-28 00:00\",\"2022-02-28 00:00\",\"2022-02-28 00:00\",\"2022-02-28 00:00\",\"2022-02-28 00:00\",\"2022-02-28 00:00\",\"2022-02-28 00:00\",\"2022-02-28 00:00\",\"2022-02-28 00:00\",\"2022-02-28 00:00\",\"2022-02-28 00:00\",\"2022-02-28 00:00\",\"2022-02-28 00:00\",\"2022-02-28 00:00\",\"2022-02-28 00:00\",\"2022-02-28 00:00\",\"2022-02-28 00:00\",\"2022-02-28 00:00\",\"2022-02-28 00:00\",\"2022-02-28 00:00\",\"2022-02-28 00:00\",\"2022-02-28 00:00\",\"2022-02-28 00:00\",\"2022-02-28 00:00\",\"2022-02-28 00:00\",\"2022-02-28 00:00\",\"2022-02-28 00:00\",\"2022-02-28 00:00\",\"2022-02-28 00:00\",\"2022-02-28 00:00\",\"2022-02-28 00:00\",\"2022-02-28 00:00\",\"2022-02-28 00:00\",\"2022-02-28 00:00\",\"2022-02-28 00:00\",\"2022-02-28 00:00\",\"2022-02-28 00:00\",\"2022-02-28 00:00\",\"2022-02-28 00:00\",\"2022-02-28 00:00\",\"2022-02-28 00:00\",\"2022-02-28 00:00\",\"2022-02-28 00:00\",\"2022-02-28 00:00\",\"2022-02-28 00:00\",\"2022-02-28 00:00\",\"2022-02-28 00:00\",\"2022-02-28 00:00\",\"2022-02-28 00:00\",\"2022-02-28 00:00\",\"2022-02-28 00:00\",\"2022-02-28 00:00\",\"2022-02-28 00:00\",\"2022-02-28 00:00\",\"2022-02-28 00:00\",\"2022-02-28 00:00\",\"2022-02-28 00:00\",\"2022-02-28 00:00\",\"2022-02-28 00:00\",\"2022-02-28 00:00\",\"2022-02-28 00:00\",\"2022-02-28 00:00\",\"2022-02-28 00:00\",\"2022-02-28 00:00\",\"2022-02-28 00:00\",\"2022-02-28 00:00\",\"2022-02-28 00:00\",\"2022-02-28 00:00\",\"2022-02-28 00:00\",\"2022-02-28 00:00\",\"2022-02-28 00:00\",\"2022-02-28 00:00\",\"2022-02-28 00:00\",\"2022-02-28 00:00\",\"2022-02-28 00:00\",\"2022-02-28 00:00\",\"2022-02-28 00:00\",\"2022-02-28 00:00\",\"2022-02-28 00:00\",\"2022-02-28 00:00\",\"2022-02-28 00:00\",\"2022-02-28 00:00\",\"2022-02-28 00:00\",\"2022-02-28 00:00\",\"2022-02-28 00:00\",\"2022-02-28 00:00\",\"2022-02-28 00:00\",\"2022-02-28 00:00\",\"2022-02-28 00:00\",\"2022-02-28 00:00\",\"2022-02-28 00:00\",\"2022-02-28 00:00\",\"2022-02-28 00:00\",\"2022-02-28 00:00\",\"2022-02-28 00:00\",\"2022-02-28 00:00\",\"2022-02-28 00:00\",\"2022-02-28 00:00\",\"2022-02-28 00:00\",\"2022-02-28 00:00\",\"2022-02-28 00:00\",\"2022-02-28 00:00\",\"2022-02-28 00:00\",\"2022-02-28 00:00\",\"2022-02-28 00:00\",\"2022-02-28 00:00\",\"2022-02-28 00:00\",\"2022-02-28 00:00\",\"2022-02-28 00:00\",\"2022-02-28 00:00\",\"2022-02-28 00:00\",\"2022-02-28 00:00\",\"2022-02-28 00:00\",\"2022-02-28 00:00\",\"2022-02-28 00:00\",\"2022-02-28 00:00\",\"2022-02-28 00:00\",\"2022-02-28 00:00\",\"2022-02-28 00:00\",\"2022-02-28 00:00\",\"2022-02-28 00:00\",\"2022-02-28 00:00\",\"2022-02-28 00:00\",\"2022-02-28 00:00\",\"2022-02-28 00:00\",\"2022-02-28 00:00\",\"2022-02-28 00:00\",\"2022-02-28 00:00\",\"2022-02-28 00:00\",\"2022-02-28 00:00\",\"2022-02-28 00:00\",\"2022-02-28 00:00\",\"2022-02-28 00:00\",\"2022-02-28 00:00\",\"2022-02-28 00:00\",\"2022-02-28 00:00\",\"2022-02-28 00:00\",\"2022-02-28 00:00\",\"2022-02-28 00:00\",\"2022-02-28 00:00\",\"2022-02-28 00:00\",\"2022-02-28 00:00\",\"2022-02-28 00:00\",\"2022-02-28 00:00\",\"2022-02-28 00:00\",\"2022-02-28 00:00\",\"2022-02-28 00:00\",\"2022-02-28 00:00\",\"2022-02-28 00:00\",\"2022-02-28 00:00\",\"2022-02-28 00:00\",\"2022-02-28 00:00\",\"2022-02-28 00:00\",\"2022-02-28 00:00\",\"2022-02-28 00:00\",\"2022-02-28 00:00\",\"2022-02-28 00:00\",\"2022-02-28 00:00\",\"2022-02-28 00:00\",\"2022-02-28 00:00\",\"2022-02-28 00:00\",\"2022-02-28 00:00\",\"2022-02-28 00:00\",\"2022-02-28 00:00\",\"2022-02-28 00:00\",\"2022-02-28 00:00\",\"2022-02-28 00:00\",\"2022-02-28 00:00\",\"2022-02-28 00:00\",\"2022-02-28 00:00\",\"2022-02-28 00:00\",\"2022-02-28 00:00\",\"2022-02-28 00:00\",\"2022-02-28 00:00\",\"2022-02-28 00:00\",\"2022-02-28 00:00\",\"2022-02-28 00:00\",\"2022-02-28 00:00\",\"2022-02-28 00:00\",\"2022-02-28 00:00\",\"2022-02-28 00:00\",\"2022-02-28 00:00\",\"2022-02-28 00:00\",\"2022-02-28 00:00\",\"2022-02-28 00:00\",\"2022-02-28 00:00\",\"2022-02-28 00:00\",\"2022-02-28 00:00\",\"2022-02-28 00:00\",\"2022-02-28 00:00\",\"2022-02-28 00:00\",\"2022-02-28 00:00\",\"2022-02-28 00:00\",\"2022-02-28 00:00\",\"2022-02-28 00:00\",\"2022-02-28 00:00\",\"2022-02-28 00:00\",\"2022-02-28 00:00\",\"2022-02-28 00:00\",\"2022-02-28 00:00\",\"2022-02-28 00:00\",\"2022-02-28 00:00\",\"2022-02-28 00:00\",\"2022-02-28 00:00\",\"2022-02-28 00:00\",\"2022-02-28 00:00\",\"2022-02-28 00:00\",\"2022-02-28 00:00\",\"2022-02-28 00:00\",\"2022-02-28 00:00\",\"2022-02-28 00:00\",\"2022-02-28 00:00\",\"2022-02-28 00:00\",\"2022-02-28 00:00\",\"2022-02-28 00:00\",\"2022-02-28 00:00\",\"2022-02-28 00:00\",\"2022-02-28 00:00\",\"2022-02-28 00:00\",\"2022-02-28 00:00\",\"2022-02-28 00:00\",\"2022-02-28 00:00\",\"2022-02-28 00:00\",\"2022-02-28 00:00\",\"2022-02-28 00:00\",\"2022-02-28 00:00\",\"2022-02-28 00:00\",\"2022-02-28 00:00\",\"2022-02-28 00:00\",\"2022-02-28 00:00\",\"2022-02-28 00:00\",\"2022-02-28 00:00\",\"2022-02-28 00:00\",\"2022-02-28 00:00\",\"2022-02-28 00:00\",\"2022-02-28 00:00\",\"2022-02-28 00:00\",\"2022-02-28 00:00\",\"2022-02-28 00:00\",\"2022-02-28 00:00\",\"2022-02-28 00:00\",\"2022-02-28 00:00\",\"2022-02-28 00:00\",\"2022-02-28 00:00\",\"2022-02-28 00:00\",\"2022-02-28 00:00\",\"2022-02-28 00:00\",\"2022-02-28 00:00\",\"2022-02-28 00:00\",\"2022-02-28 00:00\",\"2022-02-28 00:00\",\"2022-02-28 00:00\",\"2022-02-28 00:00\",\"2022-02-28 00:00\",\"2022-02-28 00:00\",\"2022-02-28 00:00\",\"2022-02-28 00:00\",\"2022-02-28 00:00\",\"2022-02-28 00:00\",\"2022-02-28 00:00\",\"2022-02-28 00:00\",\"2022-02-28 00:00\",\"2022-02-28 00:00\",\"2022-02-28 00:00\",\"2022-02-28 00:00\",\"2022-02-28 00:00\",\"2022-02-28 00:00\",\"2022-02-28 00:00\",\"2022-02-28 00:00\",\"2022-02-28 00:00\",\"2022-02-28 00:00\",\"2022-02-28 00:00\",\"2022-02-28 00:00\",\"2022-02-28 00:00\",\"2022-02-28 00:00\",\"2022-02-28 00:00\",\"2022-02-28 00:00\",\"2022-02-28 00:00\",\"2022-02-28 00:00\",\"2022-02-28 00:00\",\"2022-02-28 00:00\",\"2022-02-28 00:00\",\"2022-02-28 00:00\",\"2022-02-28 00:00\",\"2022-02-28 00:00\",\"2022-02-28 00:00\",\"2022-02-28 00:00\",\"2022-02-28 00:00\",\"2022-02-28 00:00\",\"2022-02-28 00:00\",\"2022-02-28 00:00\",\"2022-02-28 00:00\",\"2022-02-28 00:00\",\"2022-02-28 00:00\",\"2022-02-28 00:00\",\"2022-02-28 00:00\",\"2022-02-28 00:00\",\"2022-02-28 00:00\",\"2022-02-28 00:00\",\"2022-02-28 00:00\",\"2022-02-28 00:00\",\"2022-02-28 00:00\",\"2022-02-28 00:00\",\"2022-02-28 00:00\",\"2022-02-28 00:00\",\"2022-02-28 00:00\",\"2022-02-28 00:00\",\"2022-02-28 00:00\",\"2022-02-28 00:00\",\"2022-02-28 00:00\",\"2022-02-28 00:00\",\"2022-02-28 00:00\",\"2022-02-28 00:00\",\"2022-02-28 00:00\",\"2022-02-28 00:00\",\"2022-02-28 00:00\",\"2022-02-28 00:00\",\"2022-02-28 00:00\",\"2022-02-28 00:00\",\"2022-02-28 00:00\",\"2022-02-28 00:00\",\"2022-02-28 00:00\",\"2022-02-28 00:00\",\"2022-02-28 00:00\",\"2022-02-28 00:00\",\"2022-02-28 00:00\",\"2022-02-28 00:00\",\"2022-02-28 00:00\",\"2022-02-28 00:00\",\"2022-02-28 00:00\",\"2022-02-28 00:00\",\"2022-02-28 00:00\",\"2022-02-28 00:00\",\"2022-02-28 00:00\",\"2022-02-28 00:00\",\"2022-02-28 00:00\",\"2022-02-28 00:00\",\"2022-02-28 00:00\",\"2022-02-28 00:00\",\"2022-02-28 00:00\",\"2022-02-28 00:00\",\"2022-02-28 00:00\",\"2022-02-28 00:00\",\"2022-02-28 00:00\",\"2022-02-28 00:00\",\"2022-02-28 00:00\",\"2022-02-28 00:00\",\"2022-02-28 00:00\",\"2022-02-28 00:00\",\"2022-02-28 00:00\",\"2022-02-28 00:00\",\"2022-02-28 00:00\",\"2022-02-28 00:00\",\"2022-02-28 00:00\",\"2022-02-28 00:00\",\"2022-02-28 00:00\",\"2022-02-28 00:00\",\"2022-02-28 00:00\",\"2022-02-28 00:00\",\"2022-02-28 00:00\",\"2022-02-28 00:00\",\"2022-02-28 00:00\",\"2022-02-28 00:00\",\"2022-02-28 00:00\",\"2022-02-28 00:00\",\"2022-02-28 00:00\",\"2022-02-28 00:00\",\"2022-02-28 00:00\",\"2022-02-28 00:00\",\"2022-02-28 00:00\",\"2022-02-28 00:00\",\"2022-02-28 00:00\",\"2022-02-28 00:00\",\"2022-02-28 00:00\",\"2022-02-28 00:00\",\"2022-02-28 00:00\",\"2022-02-28 00:00\",\"2022-02-28 00:00\",\"2022-02-28 00:00\",\"2022-02-28 00:00\",\"2022-02-28 00:00\",\"2022-02-28 00:00\",\"2022-02-28 00:00\",\"2022-02-28 00:00\",\"2022-02-28 00:00\",\"2022-02-28 00:00\",\"2022-02-28 00:00\",\"2022-02-28 00:00\",\"2022-02-28 00:00\",\"2022-02-28 00:00\",\"2022-02-28 00:00\",\"2022-02-28 00:00\",\"2022-02-28 00:00\",\"2022-02-28 00:00\",\"2022-02-28 00:00\",\"2022-02-28 00:00\",\"2022-02-28 00:00\",\"2022-02-28 00:00\",\"2022-02-28 00:00\",\"2022-02-28 00:00\",\"2022-02-28 00:00\",\"2022-02-28 00:00\",\"2022-02-28 00:00\",\"2022-02-28 00:00\",\"2022-02-28 00:00\",\"2022-02-28 00:00\",\"2022-02-28 00:00\",\"2022-02-28 00:00\",\"2022-02-28 00:00\",\"2022-02-28 00:00\",\"2022-02-28 00:00\",\"2022-02-28 00:00\",\"2022-02-28 00:00\",\"2022-02-28 00:00\",\"2022-02-28 00:00\",\"2022-02-28 00:00\",\"2022-02-28 00:00\",\"2022-02-28 00:00\",\"2022-02-28 00:00\",\"2022-02-28 00:00\",\"2022-02-28 00:00\",\"2022-02-28 00:00\",\"2022-02-28 00:00\",\"2022-02-28 00:00\",\"2022-02-28 00:00\",\"2022-02-28 00:00\",\"2022-02-28 00:00\",\"2022-02-28 00:00\",\"2022-02-28 00:00\",\"2022-02-28 00:00\",\"2022-02-28 00:00\",\"2022-02-28 00:00\",\"2022-02-28 00:00\",\"2022-02-28 00:00\",\"2022-02-28 00:00\",\"2022-02-28 00:00\",\"2022-02-28 00:00\",\"2022-02-28 00:00\",\"2022-02-28 00:00\",\"2022-02-28 00:00\",\"2022-02-28 00:00\",\"2022-02-28 00:00\",\"2022-02-28 00:00\",\"2022-02-28 00:00\",\"2022-02-28 00:00\",\"2022-02-28 00:00\",\"2022-02-28 00:00\",\"2022-02-28 00:00\",\"2022-02-28 00:00\",\"2022-02-28 00:00\",\"2022-02-28 00:00\",\"2022-02-28 00:00\",\"2022-02-28 00:00\",\"2022-02-28 00:00\",\"2022-02-28 00:00\",\"2022-02-28 00:00\",\"2022-02-28 00:00\",\"2022-02-28 00:00\",\"2022-02-28 00:00\",\"2022-02-28 00:00\",\"2022-02-28 00:00\",\"2022-02-28 00:00\",\"2022-02-28 00:00\",\"2022-02-28 00:00\",\"2022-02-28 00:00\",\"2022-02-28 00:00\",\"2022-02-28 00:00\",\"2022-02-28 00:00\",\"2022-02-28 00:00\",\"2022-02-28 00:00\",\"2022-02-28 00:00\",\"2022-02-28 00:00\",\"2022-02-28 00:00\",\"2022-02-28 00:00\",\"2022-02-28 00:00\",\"2022-02-28 00:00\",\"2022-02-28 00:00\",\"2022-02-28 00:00\",\"2022-02-28 00:00\",\"2022-02-28 00:00\",\"2022-02-28 00:00\",\"2022-02-28 00:00\",\"2022-02-28 00:00\",\"2022-02-28 00:00\",\"2022-02-28 00:00\",\"2022-02-28 00:00\",\"2022-02-28 00:00\",\"2022-02-28 00:00\",\"2022-02-28 00:00\",\"2022-02-28 00:00\",\"2022-02-28 00:00\",\"2022-02-28 00:00\",\"2022-02-28 00:00\",\"2022-02-28 00:00\",\"2022-02-28 00:00\",\"2022-02-28 00:00\",\"2022-02-28 00:00\",\"2022-02-28 00:00\",\"2022-02-28 00:00\",\"2022-02-28 00:00\",\"2022-02-28 00:00\",\"2022-02-28 00:00\",\"2022-02-28 00:00\",\"2022-02-28 00:00\",\"2022-02-28 00:00\",\"2022-02-28 00:00\",\"2022-02-28 00:00\",\"2022-02-28 00:00\",\"2022-02-28 00:00\",\"2022-02-28 00:00\",\"2022-02-28 00:00\",\"2022-02-28 00:00\",\"2022-02-28 00:00\",\"2022-02-28 00:00\",\"2022-02-28 00:00\",\"2022-02-28 00:00\",\"2022-02-28 00:00\",\"2022-02-28 00:00\",\"2022-02-28 00:00\",\"2022-02-28 00:00\",\"2022-02-28 00:00\",\"2022-02-28 00:00\",\"2022-02-28 00:00\",\"2022-02-28 00:00\",\"2022-02-28 00:00\",\"2022-02-28 00:00\",\"2022-02-28 00:00\",\"2022-02-28 00:00\",\"2022-02-28 00:00\",\"2022-02-28 00:00\",\"2022-02-28 00:00\",\"2022-02-28 00:00\",\"2022-02-28 00:00\",\"2022-02-28 00:00\",\"2022-02-28 00:00\",\"2022-02-28 00:00\",\"2022-02-28 00:00\",\"2022-02-28 00:00\",\"2022-02-28 00:00\",\"2022-02-28 00:00\",\"2022-02-28 00:00\",\"2022-02-28 00:00\",\"2022-02-28 00:00\",\"2022-02-28 00:00\",\"2022-02-28 00:00\",\"2022-02-28 00:00\",\"2022-02-28 00:00\",\"2022-02-28 00:00\",\"2022-02-28 00:00\",\"2022-02-28 00:00\",\"2022-02-28 00:00\",\"2022-02-28 00:00\",\"2022-02-28 00:00\",\"2022-02-28 00:00\",\"2022-02-28 00:00\",\"2022-02-28 00:00\",\"2022-02-28 00:00\",\"2022-02-28 00:00\",\"2022-02-28 00:00\",\"2022-02-28 00:00\",\"2022-02-28 00:00\",\"2022-02-28 00:00\",\"2022-02-28 00:00\",\"2022-02-28 00:00\",\"2022-02-28 00:00\",\"2022-02-28 00:00\",\"2022-02-28 00:00\",\"2022-02-28 00:00\",\"2022-02-28 00:00\",\"2022-02-28 00:00\",\"2022-02-28 00:00\",\"2022-02-28 00:00\",\"2022-02-28 00:00\",\"2022-02-28 00:00\",\"2022-02-28 00:00\",\"2022-02-28 00:00\",\"2022-02-28 00:00\",\"2022-02-28 00:00\",\"2022-02-28 00:00\",\"2022-02-28 00:00\",\"2022-02-28 00:00\",\"2022-02-28 00:00\",\"2022-02-28 00:00\",\"2022-02-28 00:00\",\"2022-02-28 00:00\",\"2022-02-28 00:00\",\"2022-02-28 00:00\",\"2022-02-28 00:00\",\"2022-02-28 00:00\",\"2022-02-28 00:00\",\"2022-02-28 00:00\",\"2022-02-28 00:00\",\"2022-02-28 00:00\",\"2022-02-28 00:00\",\"2022-02-28 00:00\",\"2022-02-28 00:00\",\"2022-02-28 00:00\",\"2022-02-28 00:00\",\"2022-02-28 00:00\",\"2022-02-28 00:00\",\"2022-02-28 00:00\",\"2022-02-28 00:00\",\"2022-02-28 00:00\",\"2022-02-28 00:00\",\"2022-02-28 00:00\",\"2022-02-28 00:00\",\"2022-02-28 00:00\",\"2022-02-28 00:00\",\"2022-02-28 00:00\",\"2022-02-28 00:00\",\"2022-02-28 00:00\",\"2022-02-28 00:00\",\"2022-02-28 00:00\",\"2022-02-28 00:00\",\"2022-02-28 00:00\",\"2022-02-28 00:00\",\"2022-02-28 00:00\",\"2022-02-28 00:00\",\"2022-02-28 00:00\",\"2022-02-28 00:00\",\"2022-02-28 00:00\",\"2022-02-28 00:00\",\"2022-02-28 00:00\",\"2022-02-28 00:00\",\"2022-02-28 00:00\",\"2022-02-28 00:00\",\"2022-02-28 00:00\",\"2022-02-28 00:00\",\"2022-02-28 00:00\",\"2022-02-28 00:00\",\"2022-02-28 00:00\",\"2022-02-28 00:00\",\"2022-02-28 00:00\",\"2022-02-28 00:00\",\"2022-02-28 00:00\",\"2022-02-28 00:00\",\"2022-02-28 00:00\",\"2022-02-28 00:00\",\"2022-02-28 00:00\",\"2022-02-28 00:00\",\"2022-02-28 00:00\",\"2022-02-28 00:00\",\"2022-02-28 00:00\",\"2022-02-28 00:00\",\"2022-02-28 00:00\",\"2022-02-28 00:00\",\"2022-02-28 00:00\",\"2022-02-28 00:00\",\"2022-02-28 00:00\",\"2022-02-28 00:00\",\"2022-02-28 00:00\",\"2022-02-28 00:00\",\"2022-02-28 00:00\",\"2022-02-28 00:00\",\"2022-02-28 00:00\",\"2022-02-28 00:00\",\"2022-02-28 00:00\",\"2022-02-28 00:00\",\"2022-02-28 00:00\",\"2022-02-28 00:00\",\"2022-02-28 00:00\",\"2022-02-28 00:00\",\"2022-02-28 00:00\",\"2022-02-28 00:00\",\"2022-02-28 00:00\",\"2022-02-28 00:00\",\"2022-02-28 00:00\",\"2022-02-28 00:00\",\"2022-02-28 00:00\",\"2022-02-28 00:00\",\"2022-02-28 00:00\",\"2022-02-28 00:00\",\"2022-02-28 00:00\",\"2022-02-28 00:00\",\"2022-02-28 00:00\",\"2022-02-28 00:00\",\"2022-02-28 00:00\",\"2022-02-28 00:00\",\"2022-02-28 00:00\",\"2022-02-28 00:00\",\"2022-02-28 00:00\",\"2022-02-28 00:00\",\"2022-02-28 00:00\",\"2022-02-28 00:00\",\"2022-02-28 00:00\",\"2022-02-28 00:00\",\"2022-02-28 00:00\",\"2022-02-28 00:00\",\"2022-02-28 00:00\",\"2022-02-28 00:00\",\"2022-02-28 00:00\",\"2022-02-28 00:00\",\"2022-02-28 00:00\",\"2022-02-28 00:00\",\"2022-02-28 00:00\",\"2022-02-28 00:00\",\"2022-02-28 00:00\",\"2022-02-28 00:00\",\"2022-02-28 00:00\",\"2022-02-28 00:00\",\"2022-02-28 00:00\",\"2022-02-28 00:00\",\"2022-02-28 00:00\",\"2022-02-28 00:00\",\"2022-02-28 00:00\",\"2022-02-28 00:00\",\"2022-02-28 00:00\",\"2022-02-28 00:00\",\"2022-02-28 00:00\",\"2022-02-28 00:00\",\"2022-02-28 00:00\",\"2022-02-28 00:00\",\"2022-02-28 00:00\",\"2022-02-28 00:00\",\"2022-02-28 00:00\",\"2022-02-28 00:00\",\"2022-02-28 00:00\",\"2022-02-28 00:00\",\"2022-02-28 00:00\",\"2022-02-28 00:00\",\"2022-02-28 00:00\",\"2022-02-28 00:00\",\"2022-02-28 00:00\",\"2022-02-28 00:00\",\"2022-02-28 00:00\",\"2022-02-28 00:00\",\"2022-02-28 00:00\",\"2022-02-28 00:00\",\"2022-02-28 00:00\",\"2022-02-28 00:00\",\"2022-02-28 00:00\",\"2022-02-28 00:00\",\"2022-02-28 00:00\",\"2022-02-28 00:00\",\"2022-02-28 00:00\",\"2022-02-28 00:00\",\"2022-02-28 00:00\",\"2022-02-28 00:00\",\"2022-02-28 00:00\",\"2022-02-28 00:00\",\"2022-02-28 00:00\",\"2022-02-28 00:00\",\"2022-02-28 00:00\",\"2022-02-28 00:00\",\"2022-02-28 00:00\",\"2022-02-28 00:00\",\"2022-02-28 00:00\",\"2022-02-28 00:00\",\"2022-02-28 00:00\",\"2022-02-28 00:00\",\"2022-02-28 00:00\",\"2022-02-28 00:00\",\"2022-02-28 00:00\",\"2022-02-28 00:00\",\"2022-02-28 00:00\",\"2022-02-28 00:00\",\"2022-02-28 00:00\",\"2022-02-28 00:00\",\"2022-02-28 00:00\",\"2022-02-28 00:00\",\"2022-02-28 00:00\",\"2022-02-28 00:00\",\"2022-02-28 00:00\",\"2022-02-28 00:00\",\"2022-02-28 00:00\",\"2022-02-28 00:00\",\"2022-02-28 00:00\",\"2022-02-28 00:00\",\"2022-02-28 00:00\",\"2022-02-28 00:00\",\"2022-02-28 00:00\",\"2022-02-28 00:00\",\"2022-02-28 00:00\",\"2022-02-28 00:00\",\"2022-02-28 00:00\",\"2022-02-28 00:00\",\"2022-02-28 00:00\",\"2022-02-28 00:00\",\"2022-02-28 00:00\",\"2022-02-28 00:00\",\"2022-02-28 00:00\",\"2022-02-28 00:00\",\"2022-02-28 00:00\",\"2022-02-28 00:00\",\"2022-02-28 00:00\",\"2022-02-28 00:00\",\"2022-02-28 00:00\",\"2022-02-28 00:00\",\"2022-02-28 00:00\",\"2022-02-28 00:00\",\"2022-02-28 00:00\",\"2022-02-28 00:00\",\"2022-02-28 00:00\",\"2022-02-28 00:00\",\"2022-02-28 00:00\",\"2022-02-28 00:00\",\"2022-02-28 00:00\",\"2022-02-28 00:00\",\"2022-02-28 00:00\",\"2022-02-28 00:00\",\"2022-02-28 00:00\",\"2022-02-28 00:00\",\"2022-02-28 00:00\",\"2022-02-28 00:00\",\"2022-02-28 00:00\",\"2022-02-28 00:00\",\"2022-02-28 00:00\",\"2022-02-28 00:00\",\"2022-02-28 00:00\",\"2022-02-28 00:00\",\"2022-02-28 00:00\",\"2022-02-28 00:00\",\"2022-02-28 00:00\",\"2022-02-28 00:00\",\"2022-02-28 00:00\",\"2022-02-28 00:00\",\"2022-02-28 00:00\",\"2022-02-28 00:00\",\"2022-02-28 00:00\",\"2022-02-28 00:00\",\"2022-02-28 00:00\",\"2022-02-28 00:00\",\"2022-02-28 00:00\",\"2022-02-28 00:00\",\"2022-02-28 00:00\",\"2022-02-28 00:00\",\"2022-02-28 00:00\",\"2022-02-28 00:00\",\"2022-02-28 00:00\",\"2022-02-28 00:00\",\"2022-02-28 00:00\",\"2022-02-28 00:00\",\"2022-02-28 00:00\",\"2022-02-28 00:00\",\"2022-02-28 00:00\",\"2022-02-28 00:00\",\"2022-02-28 00:00\",\"2022-02-28 00:00\",\"2022-02-28 00:00\",\"2022-02-28 00:00\",\"2022-02-28 00:00\",\"2022-02-28 00:00\",\"2022-02-28 00:00\",\"2022-02-28 00:00\",\"2022-02-28 00:00\",\"2022-02-28 00:00\",\"2022-02-28 00:00\",\"2022-02-28 00:00\",\"2022-02-28 00:00\",\"2022-02-28 00:00\",\"2022-02-28 00:00\",\"2022-02-28 00:00\",\"2022-02-28 00:00\",\"2022-02-28 00:00\",\"2022-02-28 00:00\",\"2022-02-28 00:00\",\"2022-02-28 00:00\",\"2022-02-28 00:00\",\"2022-02-28 00:00\",\"2022-02-28 00:00\",\"2022-02-28 00:00\",\"2022-02-28 00:00\",\"2022-02-28 00:00\",\"2022-02-28 00:00\",\"2022-02-28 00:00\",\"2022-02-28 00:00\",\"2022-02-28 00:00\",\"2022-02-28 00:00\",\"2022-02-28 00:00\",\"2022-02-28 00:00\",\"2022-02-28 00:00\",\"2022-02-28 00:00\",\"2022-02-28 00:00\",\"2022-02-28 00:00\",\"2022-02-28 00:00\",\"2022-02-28 00:00\",\"2022-02-28 00:00\",\"2022-02-28 00:00\",\"2022-02-28 00:00\",\"2022-02-28 00:00\",\"2022-02-28 00:00\",\"2022-02-28 00:00\",\"2022-02-28 00:00\",\"2022-02-28 00:00\",\"2022-02-28 00:00\",\"2022-02-28 00:00\",\"2022-02-28 00:00\",\"2022-02-28 00:00\",\"2022-02-28 00:00\",\"2022-02-28 00:00\",\"2022-02-28 00:00\",\"2022-02-28 00:00\",\"2022-02-28 00:00\",\"2022-02-28 00:00\",\"2022-02-28 00:00\",\"2022-02-28 00:00\",\"2022-02-28 00:00\",\"2022-02-28 00:00\",\"2022-02-28 00:00\",\"2022-02-28 00:00\",\"2022-02-28 00:00\",\"2022-02-28 00:00\",\"2022-02-28 00:00\",\"2022-02-28 00:00\",\"2022-02-28 00:00\",\"2022-02-28 00:00\",\"2022-02-28 00:00\",\"2022-02-28 00:00\",\"2022-02-28 00:00\",\"2022-02-28 00:00\",\"2022-02-28 00:00\",\"2022-02-28 00:00\",\"2022-02-28 00:00\",\"2022-02-28 00:00\",\"2022-02-28 00:00\",\"2022-02-28 00:00\",\"2022-02-28 00:00\",\"2022-02-28 00:00\",\"2022-02-28 00:00\",\"2022-02-28 00:00\",\"2022-02-28 00:00\",\"2022-02-28 00:00\",\"2022-02-28 00:00\",\"2022-02-28 00:00\",\"2022-02-28 00:00\",\"2022-02-28 00:00\",\"2022-02-28 00:00\",\"2022-02-28 00:00\",\"2022-02-28 00:00\",\"2022-02-28 00:00\",\"2022-02-28 00:00\",\"2022-02-28 00:00\",\"2022-02-28 00:00\",\"2022-02-28 00:00\",\"2022-02-28 00:00\",\"2022-02-28 00:00\",\"2022-02-28 00:00\",\"2022-02-28 00:00\",\"2022-02-28 00:00\",\"2022-02-28 00:00\",\"2022-02-28 00:00\",\"2022-02-28 00:00\",\"2022-02-28 00:00\",\"2022-02-28 00:00\",\"2022-02-28 00:00\",\"2022-02-28 00:00\",\"2022-02-28 00:00\",\"2022-02-28 00:00\",\"2022-02-28 00:00\",\"2022-02-28 00:00\",\"2022-02-28 00:00\",\"2022-02-28 00:00\",\"2022-02-28 00:00\",\"2022-02-28 00:00\",\"2022-02-28 00:00\",\"2022-02-28 00:00\",\"2022-02-28 00:00\",\"2022-02-28 00:00\",\"2022-02-28 00:00\",\"2022-02-28 00:00\",\"2022-02-28 00:00\",\"2022-02-28 00:00\",\"2022-02-28 00:00\",\"2022-02-28 00:00\",\"2022-02-28 00:00\",\"2022-02-28 00:00\",\"2022-02-28 00:00\",\"2022-02-28 00:00\",\"2022-02-28 00:00\",\"2022-02-28 00:00\",\"2022-02-28 00:00\",\"2022-02-28 00:00\",\"2022-02-28 00:00\",\"2022-02-28 00:00\",\"2022-02-28 00:00\",\"2022-02-28 00:00\",\"2022-02-28 00:00\",\"2022-02-28 00:00\",\"2022-02-28 00:00\",\"2022-02-28 00:00\",\"2022-02-28 00:00\",\"2022-02-28 00:00\",\"2022-02-28 00:00\",\"2022-02-28 00:00\",\"2022-02-28 00:00\",\"2022-02-28 00:00\",\"2022-02-28 00:00\",\"2022-02-28 00:00\",\"2022-02-28 00:00\",\"2022-02-28 00:00\",\"2022-02-28 00:00\",\"2022-02-28 00:00\",\"2022-02-28 00:00\",\"2022-02-28 00:00\",\"2022-02-28 00:00\",\"2022-02-28 00:00\",\"2022-02-28 00:00\",\"2022-02-28 00:00\",\"2022-02-28 00:00\",\"2022-02-28 00:00\",\"2022-02-28 00:00\",\"2022-02-28 00:00\",\"2022-02-28 00:00\",\"2022-02-28 00:00\",\"2022-02-28 00:00\",\"2022-02-28 00:00\",\"2022-02-28 00:00\",\"2022-02-28 00:00\",\"2022-02-28 00:00\",\"2022-02-28 00:00\",\"2022-02-28 00:00\",\"2022-02-28 00:00\",\"2022-02-28 00:00\",\"2022-02-28 00:00\",\"2022-02-28 00:00\",\"2022-02-28 00:00\",\"2022-02-28 00:00\",\"2022-02-28 00:00\",\"2022-02-28 00:00\",\"2022-02-28 00:00\",\"2022-02-28 00:00\",\"2022-02-28 00:00\",\"2022-02-28 00:00\",\"2022-02-28 00:00\",\"2022-02-28 00:00\",\"2022-02-28 00:00\",\"2022-02-28 00:00\",\"2022-02-28 00:00\",\"2022-02-28 00:00\",\"2022-02-28 00:00\",\"2022-02-28 00:00\",\"2022-02-28 00:00\",\"2022-02-28 00:00\",\"2022-02-28 00:00\",\"2022-02-28 00:00\",\"2022-02-28 00:00\",\"2022-02-28 00:00\",\"2022-02-28 00:00\",\"2022-02-28 00:00\",\"2022-02-28 00:00\",\"2022-02-28 00:00\",\"2022-02-28 00:00\",\"2022-02-28 00:00\",\"2022-02-28 00:00\",\"2022-02-28 00:00\",\"2022-02-28 00:00\",\"2022-02-28 00:00\",\"2022-02-28 00:00\",\"2022-02-28 00:00\",\"2022-02-28 00:00\",\"2022-02-28 00:00\",\"2022-02-28 00:00\",\"2022-02-28 00:00\",\"2022-02-28 00:00\",\"2022-02-28 00:00\",\"2022-02-28 00:00\",\"2022-02-28 00:00\",\"2022-02-28 00:00\",\"2022-02-28 00:00\",\"2022-02-28 00:00\",\"2022-02-28 00:00\",\"2022-02-28 00:00\",\"2022-02-28 00:00\",\"2022-02-28 00:00\",\"2022-02-28 00:00\",\"2022-02-28 00:00\",\"2022-02-28 00:00\",\"2022-02-28 00:00\",\"2022-02-28 00:00\",\"2022-02-28 00:00\",\"2022-02-28 00:00\",\"2022-02-28 00:00\",\"2022-02-28 00:00\",\"2022-02-28 00:00\",\"2022-02-28 00:00\",\"2022-02-28 00:00\",\"2022-02-28 00:00\",\"2022-02-28 00:00\",\"2022-02-28 00:00\",\"2022-02-28 00:00\",\"2022-02-28 00:00\",\"2022-02-28 00:00\",\"2022-02-28 00:00\",\"2022-02-28 00:00\",\"2022-02-28 00:00\",\"2022-02-28 00:00\",\"2022-02-28 00:00\",\"2022-02-28 00:00\",\"2022-02-28 00:00\",\"2022-02-28 00:00\",\"2022-02-28 00:00\",\"2022-02-28 00:00\",\"2022-02-28 00:00\",\"2022-02-28 00:00\",\"2022-02-28 00:00\",\"2022-02-28 00:00\",\"2022-02-28 00:00\",\"2022-02-28 00:00\",\"2022-02-28 00:00\",\"2022-02-28 00:00\",\"2022-02-28 00:00\",\"2022-02-28 00:00\",\"2022-02-28 00:00\",\"2022-02-28 00:00\",\"2022-02-28 00:00\",\"2022-02-28 00:00\",\"2022-02-28 00:00\",\"2022-02-28 00:00\",\"2022-02-28 00:00\",\"2022-02-28 00:00\",\"2022-02-28 00:00\",\"2022-02-28 00:00\",\"2022-02-28 00:00\",\"2022-02-28 00:00\",\"2022-02-28 00:00\",\"2022-02-28 00:00\",\"2022-02-28 00:00\",\"2022-02-28 00:00\",\"2022-02-28 00:00\",\"2022-02-28 00:00\",\"2022-02-28 00:00\",\"2022-02-28 00:00\",\"2022-02-28 00:00\",\"2022-02-28 00:00\",\"2022-02-28 00:00\",\"2022-02-28 00:00\",\"2022-02-28 00:00\",\"2022-02-28 00:00\",\"2022-02-28 00:00\",\"2022-02-28 00:00\",\"2022-02-28 00:00\",\"2022-02-28 00:00\",\"2022-02-28 00:00\",\"2022-02-28 00:00\",\"2022-02-28 00:00\",\"2022-02-28 00:00\",\"2022-02-28 00:00\",\"2022-02-28 00:00\",\"2022-02-28 00:00\",\"2022-02-28 00:00\",\"2022-02-28 00:00\",\"2022-02-28 00:00\",\"2022-02-28 00:00\",\"2022-02-28 00:00\",\"2022-02-28 00:00\",\"2022-02-28 00:00\",\"2022-02-28 00:00\",\"2022-02-28 00:00\",\"2022-02-28 00:00\",\"2022-02-28 00:00\",\"2022-02-28 00:00\",\"2022-02-28 00:00\",\"2022-02-28 00:00\",\"2022-02-28 00:00\",\"2022-02-28 00:00\",\"2022-02-28 00:00\",\"2022-02-28 00:00\",\"2022-02-28 00:00\",\"2022-02-28 00:00\",\"2022-02-28 00:00\",\"2022-02-28 00:00\",\"2022-02-28 00:00\",\"2022-02-28 00:00\",\"2022-02-28 00:00\",\"2022-02-28 00:00\",\"2022-02-28 00:00\",\"2022-02-28 00:00\",\"2022-02-28 00:00\",\"2022-02-28 00:00\",\"2022-02-28 00:00\",\"2022-02-28 00:00\",\"2022-02-28 00:00\",\"2022-02-28 00:00\",\"2022-02-28 00:00\",\"2022-02-28 00:00\",\"2022-02-28 00:00\",\"2022-02-28 00:00\",\"2022-02-28 00:00\",\"2022-02-28 00:00\",\"2022-02-28 00:00\",\"2022-02-28 00:00\",\"2022-02-28 00:00\",\"2022-02-28 00:00\",\"2022-02-28 00:00\",\"2022-02-28 00:00\",\"2022-02-28 00:00\",\"2022-02-28 00:00\",\"2022-02-28 00:00\",\"2022-02-28 00:00\",\"2022-02-28 00:00\",\"2022-02-28 00:00\",\"2022-02-28 00:00\",\"2022-02-28 00:00\",\"2022-02-28 00:00\",\"2022-02-28 00:00\",\"2022-02-28 00:00\",\"2022-02-28 00:00\",\"2022-02-28 00:00\",\"2022-02-28 00:00\",\"2022-02-28 00:00\",\"2022-02-28 00:00\",\"2022-02-28 00:00\",\"2022-02-28 00:00\",\"2022-02-28 00:00\",\"2022-02-28 00:00\",\"2022-02-28 00:00\",\"2022-02-28 00:00\",\"2022-02-28 00:00\",\"2022-02-28 00:00\",\"2022-02-28 00:00\",\"2022-02-28 00:00\",\"2022-02-28 00:00\",\"2022-02-28 00:00\",\"2022-02-28 00:00\",\"2022-02-28 00:00\",\"2022-02-28 00:00\",\"2022-02-28 00:00\",\"2022-02-28 00:00\",\"2022-02-28 00:00\",\"2022-02-28 00:00\",\"2022-02-28 00:00\",\"2022-02-28 00:00\",\"2022-02-28 00:00\",\"2022-02-28 00:00\",\"2022-02-28 00:00\",\"2022-02-28 00:00\",\"2022-02-28 00:00\",\"2022-02-28 00:00\",\"2022-02-28 00:00\",\"2022-02-28 00:00\",\"2022-02-28 00:00\",\"2022-02-28 00:00\",\"2022-02-28 00:00\",\"2022-02-28 00:00\",\"2022-02-28 00:00\",\"2022-02-28 00:00\",\"2022-02-28 00:00\",\"2022-02-28 00:00\",\"2022-02-28 00:00\",\"2022-02-28 00:00\",\"2022-02-28 00:00\",\"2022-02-28 00:00\",\"2022-02-28 00:00\",\"2022-02-28 00:00\",\"2022-02-28 00:00\",\"2022-02-28 00:00\",\"2022-02-28 00:00\",\"2022-02-28 00:00\",\"2022-02-28 00:00\",\"2022-02-28 00:00\",\"2022-02-28 00:00\",\"2022-02-28 00:00\",\"2022-02-28 00:00\",\"2022-02-28 00:00\",\"2022-02-28 00:00\",\"2022-02-28 00:00\",\"2022-02-28 00:00\",\"2022-02-28 00:00\",\"2022-02-28 00:00\",\"2022-02-28 00:00\",\"2022-02-28 00:00\",\"2022-02-28 00:00\",\"2022-02-28 00:00\",\"2022-02-28 00:00\",\"2022-02-28 00:00\",\"2022-02-28 00:00\",\"2022-02-28 00:00\",\"2022-02-28 00:00\",\"2022-02-28 00:00\",\"2022-02-28 00:00\",\"2022-02-28 00:00\",\"2022-02-28 00:00\",\"2022-02-28 00:00\",\"2022-02-28 00:00\",\"2022-02-28 00:00\",\"2022-02-28 00:00\",\"2022-02-28 00:00\",\"2022-02-28 00:00\",\"2022-02-28 00:00\",\"2022-02-28 00:00\",\"2022-02-28 00:00\",\"2022-02-28 00:00\",\"2022-02-28 00:00\",\"2022-02-28 00:00\",\"2022-02-28 00:00\",\"2022-02-28 00:00\",\"2022-02-28 00:00\",\"2022-02-28 00:00\",\"2022-02-28 00:00\",\"2022-02-28 00:00\",\"2022-02-28 00:00\",\"2022-02-28 00:00\",\"2022-02-28 00:00\",\"2022-02-28 00:00\",\"2022-02-28 00:00\",\"2022-02-28 00:00\",\"2022-02-28 00:00\",\"2022-02-28 00:00\",\"2022-02-28 00:00\",\"2022-02-28 00:00\",\"2022-02-28 00:00\",\"2022-02-28 00:00\",\"2022-02-28 00:00\",\"2022-02-28 00:00\",\"2022-02-28 00:00\",\"2022-02-28 00:00\",\"2022-02-28 00:00\",\"2022-02-28 00:00\",\"2022-02-28 00:00\",\"2022-02-28 00:00\",\"2022-02-28 00:00\",\"2022-02-28 00:00\",\"2022-02-28 00:00\",\"2022-02-28 00:00\",\"2022-02-28 00:00\",\"2022-02-28 00:00\",\"2022-02-28 00:00\",\"2022-02-28 00:00\",\"2022-02-28 00:00\",\"2022-02-28 00:00\",\"2022-02-28 00:00\",\"2022-02-28 00:00\",\"2022-02-28 00:00\",\"2022-02-28 00:00\",\"2022-02-28 00:00\",\"2022-02-28 00:00\",\"2022-02-28 00:00\",\"2022-02-28 00:00\",\"2022-02-28 00:00\",\"2022-02-28 00:00\",\"2022-02-28 00:00\",\"2022-02-28 00:00\",\"2022-02-28 00:00\",\"2022-02-28 00:00\",\"2022-02-28 00:00\",\"2022-02-28 00:00\",\"2022-02-28 00:00\",\"2022-02-28 00:00\",\"2022-02-28 00:00\",\"2022-02-28 00:00\",\"2022-02-28 00:00\",\"2022-02-28 00:00\",\"2022-02-28 00:00\",\"2022-02-28 00:00\",\"2022-02-28 00:00\",\"2022-02-28 00:00\",\"2022-02-28 00:00\",\"2022-02-28 00:00\",\"2022-02-28 00:00\",\"2022-02-28 00:00\",\"2022-02-28 00:00\",\"2022-02-28 00:00\",\"2022-02-28 00:00\",\"2022-02-28 00:00\",\"2022-02-28 00:00\",\"2022-02-28 00:00\",\"2022-02-28 00:00\",\"2022-02-28 00:00\",\"2022-02-28 00:00\",\"2022-02-28 00:00\",\"2022-02-28 00:00\",\"2022-02-28 00:00\",\"2022-02-28 00:00\",\"2022-02-28 00:00\",\"2022-02-28 00:00\",\"2022-02-28 00:00\",\"2022-02-28 00:00\",\"2022-02-28 00:00\",\"2022-02-28 00:00\",\"2022-02-28 00:00\",\"2022-02-28 00:00\",\"2022-02-28 00:00\",\"2022-02-28 00:00\",\"2022-02-28 00:00\",\"2022-02-28 00:00\",\"2022-02-28 00:00\",\"2022-02-28 00:00\",\"2022-02-28 00:00\",\"2022-02-28 00:00\",\"2022-02-28 00:00\",\"2022-02-28 00:00\",\"2022-02-28 00:00\",\"2022-02-28 00:00\",\"2022-02-28 00:00\",\"2022-02-28 00:00\",\"2022-02-28 00:00\",\"2022-02-28 00:00\",\"2022-02-28 00:00\",\"2022-02-28 00:00\",\"2022-02-28 00:00\",\"2022-02-28 00:00\",\"2022-02-28 00:00\",\"2022-02-28 00:00\",\"2022-02-28 00:00\",\"2022-02-28 00:00\",\"2022-02-28 00:00\",\"2022-02-28 00:00\",\"2022-02-28 00:00\",\"2022-02-28 00:00\",\"2022-02-28 00:00\",\"2022-02-28 00:00\",\"2022-02-28 00:00\",\"2022-02-28 00:00\",\"2022-02-28 00:00\",\"2022-02-28 00:00\",\"2022-02-28 00:00\",\"2022-02-28 00:00\",\"2022-02-28 00:00\",\"2022-02-28 00:00\",\"2022-02-28 00:00\",\"2022-02-28 00:00\",\"2022-02-28 00:00\",\"2022-02-28 00:00\",\"2022-02-28 00:00\",\"2022-02-28 00:00\",\"2022-02-28 00:00\",\"2022-02-28 00:00\",\"2022-02-28 00:00\",\"2022-02-28 00:00\",\"2022-02-28 00:00\",\"2022-02-28 00:00\",\"2022-02-28 00:00\",\"2022-02-28 00:00\",\"2022-02-28 00:00\",\"2022-02-28 00:00\",\"2022-02-28 00:00\",\"2022-02-28 00:00\",\"2022-02-28 00:00\",\"2022-02-28 00:00\",\"2022-02-28 00:00\",\"2022-02-28 00:00\",\"2022-02-28 00:00\",\"2022-02-28 00:00\",\"2022-02-28 00:00\",\"2022-02-28 00:00\",\"2022-02-28 00:00\",\"2022-02-28 00:00\",\"2022-02-28 00:00\",\"2022-02-28 00:00\",\"2022-02-28 00:00\",\"2022-02-28 00:00\",\"2022-02-28 00:00\",\"2022-02-28 00:00\",\"2022-02-28 00:00\",\"2022-02-28 00:00\",\"2022-02-28 00:00\",\"2022-02-28 00:00\",\"2022-02-28 00:00\",\"2022-02-28 00:00\",\"2022-02-28 00:00\",\"2022-02-28 00:00\",\"2022-02-28 00:00\",\"2022-02-28 00:00\",\"2022-02-28 00:00\",\"2022-02-28 00:00\",\"2022-02-28 00:00\",\"2022-02-28 00:00\",\"2022-02-28 00:00\",\"2022-02-28 00:00\",\"2022-02-28 00:00\",\"2022-02-28 00:00\",\"2022-02-28 00:00\",\"2022-02-28 00:00\",\"2022-02-28 00:00\",\"2022-02-28 00:00\",\"2022-02-28 00:00\",\"2022-02-28 00:00\",\"2022-02-28 00:00\",\"2022-02-28 00:00\",\"2022-02-28 00:00\",\"2022-02-28 00:00\",\"2022-02-28 00:00\",\"2022-02-28 00:00\",\"2022-02-28 00:00\",\"2022-02-28 00:00\",\"2022-02-28 00:00\",\"2022-02-28 00:00\",\"2022-02-28 00:00\",\"2022-02-28 00:00\",\"2022-02-28 00:00\",\"2022-02-28 00:00\",\"2022-02-28 00:00\",\"2022-02-28 00:00\",\"2022-02-28 00:00\",\"2022-02-28 00:00\",\"2022-02-28 00:00\",\"2022-02-28 00:00\",\"2022-02-28 00:00\",\"2022-02-28 00:00\",\"2022-02-28 00:00\",\"2022-02-28 00:00\",\"2022-02-28 00:00\",\"2022-02-28 00:00\",\"2022-02-28 00:00\",\"2022-02-28 00:00\",\"2022-02-28 00:00\",\"2022-02-28 00:00\",\"2022-02-28 00:00\",\"2022-02-28 00:00\",\"2022-02-28 00:00\",\"2022-02-28 00:00\",\"2022-02-28 00:00\",\"2022-02-28 00:00\",\"2022-02-28 00:00\",\"2022-02-28 00:00\",\"2022-02-28 00:00\",\"2022-02-28 00:00\",\"2022-02-28 00:00\",\"2022-02-28 00:00\",\"2022-02-28 00:00\",\"2022-02-28 00:00\",\"2022-02-28 00:00\",\"2022-02-28 00:00\",\"2022-02-28 00:00\",\"2022-02-28 00:00\",\"2022-02-28 00:00\",\"2022-02-28 00:00\",\"2022-02-28 00:00\",\"2022-02-28 00:00\",\"2022-02-28 00:00\",\"2022-02-28 00:00\",\"2022-02-28 00:00\",\"2022-02-28 00:00\",\"2022-02-28 00:00\",\"2022-02-28 00:00\",\"2022-02-28 00:00\",\"2022-02-28 00:00\",\"2022-02-28 00:00\",\"2022-02-28 00:00\",\"2022-02-28 00:00\",\"2022-02-28 00:00\",\"2022-02-28 00:00\",\"2022-02-28 00:00\",\"2022-02-28 00:00\",\"2022-02-28 00:00\",\"2022-02-28 00:00\",\"2022-02-28 00:00\",\"2022-02-28 00:00\",\"2022-02-28 00:00\",\"2022-02-28 00:00\",\"2022-02-28 00:00\",\"2022-02-28 00:00\",\"2022-02-28 00:00\",\"2022-02-28 00:00\",\"2022-02-28 00:00\",\"2022-02-28 00:00\",\"2022-02-28 00:00\",\"2022-02-28 00:00\",\"2022-02-28 00:00\",\"2022-02-28 00:00\",\"2022-02-28 00:00\",\"2022-02-28 00:00\",\"2022-02-28 00:00\",\"2022-02-28 00:00\",\"2022-02-28 00:00\",\"2022-02-28 00:00\",\"2022-02-28 00:00\",\"2022-02-28 00:00\",\"2022-02-28 00:00\",\"2022-02-28 00:00\",\"2022-02-28 00:00\",\"2022-02-28 00:00\",\"2022-02-28 00:00\",\"2022-02-28 00:00\",\"2022-02-28 00:00\",\"2022-02-28 00:00\",\"2022-02-28 00:00\",\"2022-02-28 00:00\",\"2022-02-28 00:00\",\"2022-02-28 00:00\",\"2022-02-28 00:00\",\"2022-02-28 00:00\",\"2022-02-28 00:00\",\"2022-02-28 00:00\",\"2022-02-28 00:00\",\"2022-02-28 00:00\",\"2022-02-28 00:00\",\"2022-02-28 00:00\",\"2022-02-28 00:00\",\"2022-02-28 00:00\",\"2022-02-28 00:00\",\"2022-02-28 00:00\",\"2022-02-28 00:00\",\"2022-02-28 00:00\",\"2022-02-28 00:00\",\"2022-02-28 00:00\",\"2022-02-28 00:00\",\"2022-02-28 00:00\",\"2022-02-28 00:00\",\"2022-02-28 00:00\",\"2022-02-28 00:00\",\"2022-02-28 00:00\",\"2022-02-28 00:00\",\"2022-02-28 00:00\",\"2022-02-28 00:00\",\"2022-02-28 00:00\",\"2022-02-28 00:00\",\"2022-02-28 00:00\",\"2022-02-28 00:00\",\"2022-02-28 00:00\",\"2022-02-28 00:00\",\"2022-02-28 00:00\",\"2022-02-28 00:00\",\"2022-02-28 00:00\",\"2022-02-28 00:00\",\"2022-02-28 00:00\",\"2022-02-28 00:00\",\"2022-02-28 00:00\",\"2022-02-28 00:00\",\"2022-02-28 00:00\",\"2022-02-28 00:00\",\"2022-02-28 00:00\",\"2022-02-28 00:00\",\"2022-02-28 00:00\",\"2022-02-28 00:00\",\"2022-02-28 00:00\",\"2022-02-28 00:00\",\"2022-02-28 00:00\",\"2022-02-28 00:00\",\"2022-02-28 00:00\",\"2022-02-28 00:00\",\"2022-02-28 00:00\",\"2022-02-28 00:00\",\"2022-02-28 00:00\",\"2022-02-28 00:00\",\"2022-02-28 00:00\",\"2022-02-28 00:00\",\"2022-02-28 00:00\",\"2022-02-28 00:00\",\"2022-02-28 00:00\",\"2022-02-28 00:00\",\"2022-02-28 00:00\",\"2022-02-28 00:00\",\"2022-02-28 00:00\",\"2022-02-28 00:00\",\"2022-02-28 00:00\",\"2022-02-28 00:00\",\"2022-02-28 00:00\",\"2022-02-28 00:00\",\"2022-02-28 00:00\",\"2022-02-28 00:00\",\"2022-02-28 00:00\",\"2022-02-28 00:00\",\"2022-02-28 00:00\",\"2022-02-28 00:00\",\"2022-02-28 00:00\",\"2022-02-28 00:00\",\"2022-02-28 00:00\",\"2022-02-28 00:00\",\"2022-02-28 00:00\",\"2022-02-28 00:00\",\"2022-02-28 00:00\",\"2022-02-28 00:00\",\"2022-02-28 00:00\",\"2022-02-28 00:00\",\"2022-02-28 00:00\",\"2022-02-28 00:00\",\"2022-02-28 00:00\",\"2022-02-28 00:00\",\"2022-02-28 00:00\",\"2022-02-28 00:00\",\"2022-02-28 00:00\",\"2022-02-28 00:00\",\"2022-02-28 00:00\",\"2022-02-28 00:00\",\"2022-02-28 00:00\",\"2022-02-28 00:00\",\"2022-02-28 00:00\",\"2022-02-28 00:00\",\"2022-02-28 00:00\",\"2022-02-28 00:00\",\"2022-02-28 00:00\",\"2022-02-28 00:00\",\"2022-02-28 00:00\",\"2022-02-28 00:00\",\"2022-02-28 00:00\",\"2022-02-28 00:00\",\"2022-02-28 00:00\",\"2022-02-28 00:00\",\"2022-02-28 00:00\",\"2022-02-28 00:00\",\"2022-02-28 00:00\",\"2022-02-28 00:00\",\"2022-02-28 00:00\",\"2022-02-28 00:00\",\"2022-02-28 00:00\",\"2022-02-28 00:00\",\"2022-02-28 00:00\",\"2022-02-28 00:00\",\"2022-02-28 00:00\",\"2022-02-28 00:00\",\"2022-02-28 00:00\",\"2022-02-28 00:00\",\"2022-02-28 00:00\",\"2022-02-28 00:00\",\"2022-02-28 00:00\",\"2022-02-28 00:00\",\"2022-02-28 00:00\",\"2022-02-28 00:00\",\"2022-02-28 00:00\",\"2022-02-28 00:00\",\"2022-02-28 00:00\",\"2022-02-28 00:00\",\"2022-02-28 00:00\",\"2022-02-28 00:00\",\"2022-02-28 00:00\",\"2022-02-28 00:00\",\"2022-02-28 00:00\",\"2022-02-28 00:00\",\"2022-02-28 00:00\",\"2022-02-28 00:00\",\"2022-02-28 00:00\",\"2022-02-28 00:00\",\"2022-02-28 00:00\",\"2022-02-28 00:00\",\"2022-02-28 00:00\",\"2022-02-28 00:00\",\"2022-02-28 00:00\",\"2022-02-28 00:00\",\"2022-02-28 00:00\",\"2022-02-28 00:00\",\"2022-02-28 00:00\",\"2022-02-28 00:00\",\"2022-02-28 00:00\",\"2022-02-28 00:00\",\"2022-02-28 00:00\",\"2022-02-28 00:00\",\"2022-02-28 00:00\",\"2022-02-28 00:00\",\"2022-02-28 00:00\",\"2022-02-28 00:00\",\"2022-02-28 00:00\",\"2022-02-28 00:00\",\"2022-02-28 00:00\",\"2022-02-28 00:00\",\"2022-02-28 00:00\",\"2022-02-28 00:00\",\"2022-02-28 00:00\",\"2022-02-28 00:00\",\"2022-02-28 00:00\",\"2022-02-28 00:00\",\"2022-02-28 00:00\",\"2022-02-28 00:00\",\"2022-02-28 00:00\",\"2022-02-28 00:00\",\"2022-02-28 00:00\",\"2022-02-28 00:00\",\"2022-02-28 00:00\",\"2022-02-28 00:00\",\"2022-02-28 00:00\",\"2022-02-28 00:00\",\"2022-02-28 00:00\",\"2022-02-28 00:00\",\"2022-02-28 00:00\",\"2022-02-28 00:00\",\"2022-02-28 00:00\",\"2022-02-28 00:00\",\"2022-02-28 00:00\",\"2022-02-28 00:00\",\"2022-02-28 00:00\",\"2022-02-28 00:00\",\"2022-02-28 00:00\",\"2022-02-28 00:00\",\"2022-02-28 00:00\",\"2022-02-28 00:00\",\"2022-02-28 00:00\",\"2022-02-28 00:00\",\"2022-02-28 00:00\",\"2022-02-28 00:00\",\"2022-02-28 00:00\",\"2022-02-28 00:00\",\"2022-02-28 00:00\",\"2022-02-28 00:00\",\"2022-02-28 00:00\",\"2022-02-28 00:00\",\"2022-02-28 00:00\",\"2022-02-28 00:00\",\"2022-02-28 00:00\",\"2022-02-28 00:00\",\"2022-02-28 00:00\",\"2022-02-28 00:00\",\"2022-02-28 00:00\",\"2022-02-28 00:00\",\"2022-02-28 00:00\",\"2022-02-28 00:00\",\"2022-02-28 00:00\",\"2022-02-28 00:00\",\"2022-02-28 00:00\",\"2022-02-28 00:00\",\"2022-02-28 00:00\",\"2022-02-28 00:00\",\"2022-02-28 00:00\",\"2022-02-28 00:00\",\"2022-02-28 00:00\",\"2022-02-28 00:00\",\"2022-02-28 00:00\",\"2022-02-28 00:00\",\"2022-02-28 00:00\",\"2022-02-28 00:00\",\"2022-02-28 00:00\",\"2022-02-28 00:00\",\"2022-02-28 00:00\",\"2022-02-28 00:00\",\"2022-02-28 00:00\",\"2022-02-28 00:00\",\"2022-02-28 00:00\",\"2022-02-28 00:00\",\"2022-02-28 00:00\",\"2022-02-28 00:00\",\"2022-02-28 00:00\",\"2022-02-28 00:00\",\"2022-02-28 00:00\",\"2022-02-28 00:00\",\"2022-02-28 00:00\",\"2022-02-28 00:00\",\"2022-02-28 00:00\",\"2022-02-28 00:00\",\"2022-02-28 00:00\",\"2022-02-28 00:00\",\"2022-02-28 00:00\",\"2022-02-28 00:00\",\"2022-02-28 00:00\",\"2022-02-28 00:00\",\"2022-02-28 00:00\",\"2022-02-28 00:00\",\"2022-02-28 00:00\",\"2022-02-28 00:00\",\"2022-02-28 00:00\",\"2022-02-28 00:00\",\"2022-02-28 00:00\",\"2022-02-28 00:00\",\"2022-02-28 00:00\",\"2022-02-28 00:00\",\"2022-02-28 00:00\",\"2022-02-28 00:00\",\"2022-02-28 00:00\",\"2022-02-28 00:00\",\"2022-02-28 00:00\",\"2022-02-28 00:00\",\"2022-02-28 00:00\",\"2022-02-28 00:00\",\"2022-02-28 00:00\",\"2022-02-28 00:00\",\"2022-02-28 00:00\",\"2022-02-28 00:00\",\"2022-02-28 00:00\",\"2022-02-28 00:00\",\"2022-02-28 00:00\",\"2022-02-28 00:00\",\"2022-02-28 00:00\",\"2022-02-28 00:00\",\"2022-02-28 00:00\",\"2022-02-28 00:00\",\"2022-02-28 00:00\",\"2022-02-28 00:00\",\"2022-02-28 00:00\",\"2022-02-28 00:00\",\"2022-02-28 00:00\",\"2022-02-28 00:00\",\"2022-02-28 00:00\",\"2022-02-28 00:00\",\"2022-02-28 00:00\",\"2022-02-28 00:00\",\"2022-02-28 00:00\",\"2022-02-28 00:00\",\"2022-02-28 00:00\",\"2022-02-28 00:00\",\"2022-02-28 00:00\",\"2022-02-28 00:00\",\"2022-02-28 00:00\",\"2022-02-28 00:00\",\"2022-02-28 00:00\",\"2022-02-28 00:00\",\"2022-02-28 00:00\",\"2022-02-28 00:00\",\"2022-02-28 00:00\",\"2022-02-28 00:00\",\"2022-02-28 00:00\",\"2022-02-28 00:00\",\"2022-02-28 00:00\",\"2022-02-28 00:00\",\"2022-02-28 00:00\",\"2022-02-28 00:00\",\"2022-02-28 00:00\",\"2022-02-28 00:00\",\"2022-02-28 00:00\",\"2022-02-28 00:00\",\"2022-02-28 00:00\",\"2022-02-28 00:00\",\"2022-02-28 00:00\",\"2022-02-28 00:00\",\"2022-02-28 00:00\",\"2022-02-28 00:00\",\"2022-02-28 00:00\",\"2022-02-28 00:00\",\"2022-02-28 00:00\",\"2022-02-28 00:00\",\"2022-02-28 00:00\",\"2022-02-28 00:00\",\"2022-02-28 00:00\",\"2022-02-28 00:00\",\"2022-02-28 00:00\",\"2022-02-28 00:00\",\"2022-02-28 00:00\",\"2022-02-28 00:00\",\"2022-02-28 00:00\",\"2022-02-28 00:00\",\"2022-02-28 00:00\",\"2022-02-28 00:00\",\"2022-02-28 00:00\",\"2022-02-28 00:00\",\"2022-02-28 00:00\",\"2022-02-28 00:00\",\"2022-02-28 00:00\",\"2022-02-28 00:00\",\"2022-02-28 00:00\",\"2022-02-28 00:00\",\"2022-02-28 00:00\",\"2022-02-28 00:00\",\"2022-02-28 00:00\",\"2022-02-28 00:00\",\"2022-02-28 00:00\",\"2022-02-28 00:00\",\"2022-02-28 00:00\",\"2022-02-28 00:00\",\"2022-02-28 00:00\",\"2022-02-28 00:00\",\"2022-02-28 00:00\",\"2022-02-28 00:00\",\"2022-02-28 00:00\",\"2022-02-28 00:00\",\"2022-02-28 00:00\",\"2022-02-28 00:00\",\"2022-02-28 00:00\",\"2022-02-28 00:00\",\"2022-02-28 00:00\",\"2022-02-28 00:00\",\"2022-02-28 00:00\",\"2022-02-28 00:00\",\"2022-02-28 00:00\",\"2022-02-28 00:00\",\"2022-02-28 00:00\",\"2022-02-28 00:00\",\"2022-02-28 00:00\",\"2022-02-28 00:00\",\"2022-02-28 00:00\",\"2022-02-28 00:00\",\"2022-02-28 00:00\",\"2022-02-28 00:00\",\"2022-02-28 00:00\",\"2022-02-28 00:00\",\"2022-02-28 00:00\",\"2022-02-28 00:00\",\"2022-02-28 00:00\",\"2022-02-28 00:00\",\"2022-02-28 00:00\",\"2022-02-28 00:00\",\"2022-02-28 00:00\",\"2022-02-28 00:00\",\"2022-02-28 00:00\",\"2022-02-28 00:00\",\"2022-02-28 00:00\",\"2022-02-28 00:00\",\"2022-02-28 00:00\",\"2022-02-28 00:00\",\"2022-02-28 00:00\",\"2022-02-28 00:00\",\"2022-02-28 00:00\",\"2022-02-28 00:00\",\"2022-02-28 00:00\",\"2022-02-28 00:00\",\"2022-02-28 00:00\",\"2022-02-28 00:00\",\"2022-02-28 00:00\",\"2022-02-28 00:00\",\"2022-02-28 00:00\",\"2022-02-28 00:00\",\"2022-02-28 00:00\",\"2022-02-28 00:00\",\"2022-02-28 00:00\",\"2022-02-28 00:00\",\"2022-02-28 00:00\",\"2022-02-28 00:00\",\"2022-02-28 00:00\",\"2022-02-28 00:00\",\"2022-02-28 00:00\",\"2022-02-28 00:00\",\"2022-02-28 00:00\",\"2022-02-28 00:00\",\"2022-02-28 00:00\",\"2022-02-28 00:00\",\"2022-02-28 00:00\",\"2022-02-28 00:00\",\"2022-02-28 00:00\",\"2022-02-28 00:00\",\"2022-02-28 00:00\",\"2022-02-28 00:00\",\"2022-02-28 00:00\",\"2022-02-28 00:00\",\"2022-02-28 00:00\",\"2022-02-28 00:00\",\"2022-02-28 00:00\",\"2022-02-28 00:00\",\"2022-02-28 00:00\",\"2022-02-28 00:00\",\"2022-02-28 00:00\",\"2022-02-28 00:00\",\"2022-02-28 00:00\",\"2022-02-28 00:00\",\"2022-02-28 00:00\",\"2022-02-28 00:00\",\"2022-02-28 00:00\",\"2022-02-28 00:00\",\"2022-02-28 00:00\",\"2022-02-28 00:00\",\"2022-02-28 00:00\",\"2022-02-28 00:00\",\"2022-02-28 00:00\",\"2022-02-28 00:00\",\"2022-02-28 00:00\",\"2022-02-28 00:00\",\"2022-02-28 00:00\",\"2022-02-28 00:00\",\"2022-02-28 00:00\",\"2022-02-28 00:00\",\"2022-02-28 00:00\",\"2022-02-28 00:00\",\"2022-02-28 00:00\",\"2022-02-28 00:00\",\"2022-02-28 00:00\",\"2022-02-28 00:00\",\"2022-02-28 00:00\",\"2022-02-28 00:00\",\"2022-02-28 00:00\",\"2022-02-28 00:00\",\"2022-02-28 00:00\",\"2022-02-28 00:00\",\"2022-02-28 00:00\",\"2022-02-28 00:00\",\"2022-02-28 00:00\",\"2022-02-28 00:00\",\"2022-02-28 00:00\",\"2022-02-28 00:00\",\"2022-02-28 00:00\",\"2022-02-28 00:00\",\"2022-02-28 00:00\",\"2022-02-28 00:00\",\"2022-02-28 00:00\",\"2022-02-28 00:00\",\"2022-02-28 00:00\",\"2022-02-28 00:00\",\"2022-02-28 00:00\",\"2022-02-28 00:00\",\"2022-02-28 00:00\",\"2022-02-28 00:00\",\"2022-02-28 00:00\",\"2022-02-28 00:00\",\"2022-02-28 00:00\",\"2022-02-28 00:00\",\"2022-02-28 00:00\",\"2022-02-28 00:00\",\"2022-02-28 00:00\",\"2022-02-28 00:00\",\"2022-02-28 00:00\",\"2022-02-28 00:00\",\"2022-02-28 00:00\",\"2022-02-28 00:00\",\"2022-02-28 00:00\",\"2022-02-28 00:00\",\"2022-02-28 00:00\",\"2022-02-28 00:00\",\"2022-02-28 00:00\",\"2022-02-28 00:00\",\"2022-02-28 00:00\",\"2022-02-28 00:00\",\"2022-02-28 00:00\",\"2022-02-28 00:00\",\"2022-02-28 00:00\",\"2022-02-28 00:00\",\"2022-02-28 00:00\",\"2022-02-28 00:00\",\"2022-02-28 00:00\",\"2022-02-28 00:00\",\"2022-02-28 00:00\",\"2022-02-28 00:00\",\"2022-02-28 00:00\",\"2022-02-28 00:00\",\"2022-02-28 00:00\",\"2022-02-28 00:00\",\"2022-02-28 00:00\",\"2022-02-28 00:00\",\"2022-02-28 00:00\",\"2022-02-28 00:00\",\"2022-02-28 00:00\",\"2022-02-28 00:00\",\"2022-02-28 00:00\",\"2022-02-28 00:00\",\"2022-02-28 00:00\",\"2022-02-28 00:00\",\"2022-02-28 00:00\",\"2022-02-28 00:00\",\"2022-02-28 00:00\",\"2022-02-28 00:00\",\"2022-02-28 00:00\",\"2022-02-28 00:00\",\"2022-02-28 00:00\",\"2022-02-28 00:00\",\"2022-02-28 00:00\",\"2022-02-28 00:00\",\"2022-02-28 00:00\",\"2022-02-28 00:00\",\"2022-02-28 00:00\",\"2022-02-28 00:00\",\"2022-02-28 00:00\",\"2022-02-28 00:00\",\"2022-02-28 00:00\",\"2022-02-28 00:00\",\"2022-02-28 00:00\",\"2022-02-28 00:00\",\"2022-02-28 00:00\",\"2022-02-28 00:00\",\"2022-02-28 00:00\",\"2022-02-28 00:00\",\"2022-02-28 00:00\",\"2022-02-28 00:00\",\"2022-02-28 00:00\",\"2022-02-28 00:00\",\"2022-02-28 00:00\",\"2022-02-28 00:00\",\"2022-02-28 00:00\",\"2022-02-28 00:00\",\"2022-02-28 00:00\",\"2022-02-28 00:00\",\"2022-02-28 00:00\",\"2022-02-28 00:00\",\"2022-02-28 00:00\",\"2022-02-28 00:00\",\"2022-02-28 00:00\",\"2022-02-28 00:00\",\"2022-02-28 00:00\",\"2022-02-28 00:00\",\"2022-02-28 00:00\",\"2022-02-28 00:00\",\"2022-02-28 00:00\",\"2022-02-28 00:00\",\"2022-02-28 00:00\",\"2022-02-28 00:00\",\"2022-02-28 00:00\",\"2022-02-28 00:00\",\"2022-02-28 00:00\",\"2022-02-28 00:00\",\"2022-02-28 00:00\",\"2022-02-28 00:00\",\"2022-02-28 00:00\",\"2022-02-28 00:00\",\"2022-02-28 00:00\",\"2022-02-28 00:00\",\"2022-02-28 00:00\",\"2022-02-28 00:00\",\"2022-02-28 00:00\",\"2022-02-28 00:00\",\"2022-02-28 00:00\",\"2022-02-28 00:00\",\"2022-02-28 00:00\",\"2022-02-28 00:00\",\"2022-02-28 00:00\",\"2022-02-28 00:00\",\"2022-02-28 00:00\",\"2022-02-28 00:00\",\"2022-02-28 00:00\",\"2022-02-28 00:00\",\"2022-02-28 00:00\",\"2022-02-28 00:00\",\"2022-02-28 00:00\",\"2022-02-28 00:00\",\"2022-02-28 00:00\",\"2022-02-28 00:00\",\"2022-02-28 00:00\",\"2022-02-28 00:00\",\"2022-02-28 00:00\",\"2022-02-28 00:00\",\"2022-02-28 00:00\",\"2022-02-28 00:00\",\"2022-02-28 00:00\",\"2022-02-28 00:00\",\"2022-02-28 00:00\",\"2022-02-28 00:00\",\"2022-02-28 00:00\",\"2022-02-28 00:00\",\"2022-02-28 00:00\",\"2022-02-28 00:00\",\"2022-02-28 00:00\",\"2022-02-28 00:00\",\"2022-02-28 00:00\",\"2022-02-28 00:00\",\"2022-02-28 00:00\",\"2022-02-28 00:00\",\"2022-02-28 00:00\",\"2022-02-28 00:00\",\"2022-02-28 00:00\",\"2022-02-28 00:00\",\"2022-02-28 00:00\",\"2022-02-28 00:00\",\"2022-02-28 00:00\",\"2022-02-28 00:00\",\"2022-02-28 00:00\",\"2022-02-28 00:00\",\"2022-02-28 00:00\",\"2022-02-28 00:00\",\"2022-02-28 00:00\",\"2022-02-28 00:00\",\"2022-02-28 00:00\",\"2022-02-28 00:00\",\"2022-02-28 00:00\",\"2022-02-28 00:00\",\"2022-02-28 00:00\",\"2022-02-28 00:00\",\"2022-02-28 00:00\",\"2022-02-28 00:00\",\"2022-02-28 00:00\",\"2022-02-28 00:00\",\"2022-02-28 00:00\",\"2022-02-28 00:00\",\"2022-02-28 00:00\",\"2022-02-28 00:00\",\"2022-02-28 00:00\",\"2022-02-28 00:00\",\"2022-02-28 00:00\",\"2022-02-28 00:00\",\"2022-02-28 00:00\",\"2022-02-28 00:00\",\"2022-02-28 00:00\",\"2022-02-28 00:00\",\"2022-02-28 00:00\",\"2022-02-28 00:00\",\"2022-02-28 00:00\",\"2022-02-28 00:00\",\"2022-02-28 00:00\",\"2022-02-28 00:00\",\"2022-02-28 00:00\",\"2022-02-28 00:00\",\"2022-02-28 00:00\",\"2022-02-28 00:00\",\"2022-02-28 00:00\",\"2022-02-28 00:00\",\"2022-02-28 00:00\",\"2022-02-28 00:00\",\"2022-02-28 00:00\",\"2022-02-28 00:00\",\"2022-02-28 00:00\",\"2022-02-28 00:00\",\"2022-02-28 00:00\",\"2022-02-28 00:00\",\"2022-02-28 00:00\",\"2022-02-28 00:00\",\"2022-02-28 00:00\",\"2022-02-28 00:00\",\"2022-02-28 00:00\",\"2022-02-28 00:00\",\"2022-02-28 00:00\",\"2022-02-28 00:00\",\"2022-02-28 00:00\",\"2022-02-28 00:00\",\"2022-02-28 00:00\",\"2022-02-28 00:00\",\"2022-02-28 00:00\",\"2022-02-28 00:00\",\"2022-02-28 00:00\",\"2022-02-28 00:00\",\"2022-02-28 00:00\",\"2022-02-28 00:00\",\"2022-02-28 00:00\",\"2022-02-28 00:00\",\"2022-02-28 00:00\",\"2022-02-28 00:00\",\"2022-02-28 00:00\",\"2022-02-28 00:00\",\"2022-02-28 00:00\",\"2022-02-28 00:00\",\"2022-02-28 00:00\",\"2022-02-28 00:00\",\"2022-02-28 00:00\",\"2022-02-28 00:00\",\"2022-02-28 00:00\",\"2022-02-28 00:00\",\"2022-02-28 00:00\",\"2022-02-28 00:00\",\"2022-02-28 00:00\",\"2022-02-28 00:00\",\"2022-02-28 00:00\",\"2022-02-28 00:00\",\"2022-02-28 00:00\",\"2022-02-28 00:00\",\"2022-02-28 00:00\",\"2022-02-28 00:00\",\"2022-02-28 00:00\",\"2022-02-28 00:00\",\"2022-02-28 00:00\",\"2022-02-28 00:00\",\"2022-02-28 00:00\",\"2022-02-28 00:00\",\"2022-02-28 00:00\",\"2022-02-28 00:00\",\"2022-02-28 00:00\",\"2022-02-28 00:00\",\"2022-02-28 00:00\",\"2022-02-28 00:00\",\"2022-02-28 00:00\",\"2022-02-28 00:00\",\"2022-02-28 00:00\",\"2022-02-28 00:00\",\"2022-02-28 00:00\",\"2022-02-28 00:00\",\"2022-02-28 00:00\",\"2022-02-28 00:00\",\"2022-02-28 00:00\",\"2022-02-28 00:00\",\"2022-02-28 00:00\",\"2022-02-28 00:00\",\"2022-02-28 00:00\",\"2022-02-28 00:00\",\"2022-02-28 00:00\",\"2022-02-28 00:00\",\"2022-02-28 00:00\",\"2022-02-28 00:00\",\"2022-02-28 00:00\",\"2022-02-28 00:00\",\"2022-02-28 00:00\",\"2022-02-28 00:00\",\"2022-02-28 00:00\",\"2022-02-28 00:00\",\"2022-02-28 00:00\",\"2022-02-28 00:00\",\"2022-02-28 00:00\",\"2022-02-28 00:00\",\"2022-02-28 00:00\",\"2022-02-28 00:00\",\"2022-02-28 00:00\",\"2022-02-28 00:00\",\"2022-02-28 00:00\",\"2022-02-28 00:00\",\"2022-02-28 00:00\",\"2022-02-28 00:00\",\"2022-02-28 00:00\",\"2022-02-28 00:00\",\"2022-02-28 00:00\",\"2022-02-28 00:00\",\"2022-02-28 00:00\",\"2022-02-28 00:00\",\"2022-02-28 00:00\",\"2022-02-28 00:00\",\"2022-02-28 00:00\",\"2022-02-28 00:00\",\"2022-02-28 00:00\",\"2022-02-28 00:00\",\"2022-02-28 00:00\",\"2022-02-28 00:00\",\"2022-02-28 00:00\",\"2022-02-28 00:00\",\"2022-02-28 00:00\",\"2022-02-28 00:00\",\"2022-02-28 00:00\",\"2022-02-28 00:00\",\"2022-02-28 00:00\",\"2022-02-28 00:00\",\"2022-02-28 00:00\",\"2022-02-28 00:00\",\"2022-02-28 00:00\",\"2022-02-28 00:00\",\"2022-02-28 00:00\",\"2022-02-28 00:00\",\"2022-02-28 00:00\",\"2022-02-28 00:00\",\"2022-02-28 00:00\",\"2022-02-28 00:00\",\"2022-02-28 00:00\",\"2022-02-28 00:00\",\"2022-02-28 00:00\",\"2022-02-28 00:00\",\"2022-02-28 00:00\",\"2022-02-28 00:00\",\"2022-02-28 00:00\",\"2022-02-28 00:00\",\"2022-02-28 00:00\",\"2022-02-28 00:00\",\"2022-02-28 00:00\",\"2022-02-28 00:00\",\"2022-02-28 00:00\",\"2022-02-28 00:00\",\"2022-02-28 00:00\",\"2022-02-28 00:00\",\"2022-02-28 00:00\",\"2022-02-28 00:00\",\"2022-02-28 00:00\",\"2022-02-28 00:00\",\"2022-02-28 00:00\",\"2022-02-28 00:00\",\"2022-02-28 00:00\",\"2022-02-28 00:00\",\"2022-02-28 00:00\",\"2022-02-28 00:00\",\"2022-02-28 00:00\",\"2022-02-28 00:00\",\"2022-02-28 00:00\",\"2022-02-28 00:00\",\"2022-02-28 00:00\",\"2022-02-28 00:00\",\"2022-02-28 00:00\",\"2022-02-28 00:00\",\"2022-02-28 00:00\",\"2022-02-28 00:00\",\"2022-02-28 00:00\",\"2022-02-28 00:00\",\"2022-02-28 00:00\",\"2022-02-28 00:00\",\"2022-02-28 00:00\",\"2022-02-28 00:00\",\"2022-02-28 00:00\",\"2022-02-28 00:00\",\"2022-02-28 00:00\",\"2022-02-28 00:00\",\"2022-02-28 00:00\",\"2022-02-28 00:00\",\"2022-02-28 00:00\",\"2022-02-28 00:00\",\"2022-02-28 00:00\",\"2022-02-28 00:00\",\"2022-02-28 00:00\",\"2022-02-28 00:00\",\"2022-02-28 00:00\",\"2022-02-28 00:00\",\"2022-02-28 00:00\",\"2022-02-28 00:00\",\"2022-02-28 00:00\",\"2022-02-28 00:00\",\"2022-02-28 00:00\",\"2022-02-28 00:00\",\"2022-02-28 00:00\",\"2022-02-28 00:00\",\"2022-02-28 00:00\",\"2022-02-28 00:00\",\"2022-02-28 00:00\",\"2022-02-28 00:00\",\"2022-02-28 00:00\",\"2022-02-28 00:00\",\"2022-02-28 00:00\",\"2022-02-28 00:00\",\"2022-02-28 00:00\",\"2022-02-28 00:00\",\"2022-02-28 00:00\",\"2022-02-28 00:00\",\"2022-02-28 00:00\",\"2022-02-28 00:00\",\"2022-02-28 00:00\",\"2022-02-28 00:00\",\"2022-02-28 00:00\",\"2022-02-28 00:00\",\"2022-02-28 00:00\",\"2022-02-28 00:00\",\"2022-02-28 00:00\",\"2022-02-28 00:00\",\"2022-02-28 00:00\",\"2022-02-28 00:00\",\"2022-02-28 00:00\",\"2022-02-28 00:00\",\"2022-02-28 00:00\",\"2022-02-28 00:00\",\"2022-02-28 00:00\",\"2022-02-28 00:00\",\"2022-02-28 00:00\",\"2022-02-28 00:00\",\"2022-02-28 00:00\",\"2022-02-28 00:00\",\"2022-02-28 00:00\",\"2022-02-28 00:00\",\"2022-02-28 00:00\",\"2022-02-28 00:00\",\"2022-02-28 00:00\",\"2022-02-28 00:00\",\"2022-02-28 00:00\",\"2022-02-28 00:00\",\"2022-02-28 00:00\",\"2022-02-28 00:00\",\"2022-02-28 00:00\",\"2022-02-28 00:00\",\"2022-02-28 00:00\",\"2022-02-28 00:00\",\"2022-02-28 00:00\",\"2022-02-28 00:00\",\"2022-02-28 00:00\",\"2022-02-28 00:00\",\"2022-02-28 00:00\",\"2022-02-28 00:00\",\"2022-02-28 00:00\",\"2022-02-28 00:00\",\"2022-02-28 00:00\",\"2022-02-28 00:00\",\"2022-02-28 00:00\",\"2022-02-28 00:00\",\"2022-02-28 00:00\",\"2022-02-28 00:00\",\"2022-02-28 00:00\",\"2022-02-28 00:00\",\"2022-02-28 00:00\",\"2022-02-28 00:00\",\"2022-02-28 00:00\",\"2022-02-28 00:00\",\"2022-02-28 00:00\",\"2022-02-28 00:00\",\"2022-02-28 00:00\",\"2022-02-28 00:00\",\"2022-02-28 00:00\",\"2022-02-28 00:00\",\"2022-02-28 00:00\",\"2022-02-28 00:00\",\"2022-02-28 00:00\",\"2022-02-28 00:00\",\"2022-02-28 00:00\",\"2022-02-28 00:00\",\"2022-02-28 00:00\",\"2022-02-28 00:00\",\"2022-02-28 00:00\",\"2022-02-28 00:00\",\"2022-02-28 00:00\",\"2022-02-28 00:00\",\"2022-02-28 00:00\",\"2022-02-28 00:00\",\"2022-02-28 00:00\",\"2022-02-28 00:00\",\"2022-02-28 00:00\",\"2022-02-28 00:00\",\"2022-02-28 00:00\",\"2022-02-28 00:00\",\"2022-02-28 00:00\",\"2022-02-28 00:00\",\"2022-02-28 00:00\",\"2022-02-28 00:00\",\"2022-02-28 00:00\",\"2022-02-28 00:00\",\"2022-02-28 00:00\",\"2022-02-28 00:00\",\"2022-02-28 00:00\",\"2022-02-28 00:00\",\"2022-02-28 00:00\",\"2022-02-28 00:00\",\"2022-02-28 00:00\",\"2022-02-28 00:00\",\"2022-02-28 00:00\",\"2022-02-28 00:00\",\"2022-02-28 00:00\",\"2022-02-28 00:00\",\"2022-02-28 00:00\",\"2022-02-28 00:00\",\"2022-02-28 00:00\",\"2022-02-28 00:00\",\"2022-02-28 00:00\",\"2022-02-28 00:00\",\"2022-02-28 00:00\",\"2022-02-28 00:00\",\"2022-02-28 00:00\",\"2022-02-28 00:00\",\"2022-02-28 00:00\",\"2022-02-28 00:00\",\"2022-02-28 00:00\",\"2022-02-28 00:00\",\"2022-02-28 00:00\",\"2022-02-28 00:00\",\"2022-02-28 00:00\",\"2022-02-28 00:00\",\"2022-02-28 00:00\",\"2022-02-28 00:00\",\"2022-02-28 00:00\",\"2022-02-28 00:00\",\"2022-02-28 00:00\",\"2022-02-28 00:00\",\"2022-02-28 00:00\",\"2022-02-28 00:00\",\"2022-02-28 00:00\",\"2022-02-28 00:00\",\"2022-02-28 00:00\",\"2022-02-28 00:00\",\"2022-02-28 00:00\",\"2022-02-28 00:00\",\"2022-02-28 00:00\",\"2022-02-28 00:00\",\"2022-02-28 00:00\",\"2022-02-28 00:00\",\"2022-02-28 00:00\",\"2022-02-28 00:00\",\"2022-02-28 00:00\",\"2022-02-28 00:00\",\"2022-02-28 00:00\",\"2022-02-28 00:00\",\"2022-02-28 00:00\",\"2022-02-28 00:00\",\"2022-02-28 00:00\",\"2022-02-28 00:00\",\"2022-02-28 00:00\",\"2022-02-28 00:00\",\"2022-02-28 00:00\",\"2022-02-28 00:00\",\"2022-02-28 00:00\",\"2022-02-28 00:00\",\"2022-02-28 00:00\",\"2022-02-28 00:00\",\"2022-02-28 00:00\",\"2022-02-28 00:00\",\"2022-02-28 00:00\",\"2022-02-28 00:00\",\"2022-02-28 00:00\",\"2022-02-28 00:00\",\"2022-02-28 00:00\",\"2022-02-28 00:00\",\"2022-02-28 00:00\",\"2022-02-28 00:00\",\"2022-02-28 00:00\",\"2022-02-28 00:00\",\"2022-02-28 00:00\",\"2022-02-28 00:00\",\"2022-02-28 00:00\",\"2022-02-28 00:00\",\"2022-02-28 00:00\",\"2022-02-28 00:00\",\"2022-02-28 00:00\",\"2022-02-28 00:00\",\"2022-02-28 00:00\",\"2022-02-28 00:00\",\"2022-02-28 00:00\",\"2022-02-28 00:00\",\"2022-02-28 00:00\",\"2022-02-28 00:00\",\"2022-02-28 00:00\",\"2022-02-28 00:00\",\"2022-02-28 00:00\",\"2022-02-28 00:00\",\"2022-02-28 00:00\",\"2022-02-28 00:00\",\"2022-02-28 00:00\",\"2022-02-28 00:00\",\"2022-02-28 00:00\",\"2022-02-28 00:00\",\"2022-02-28 00:00\",\"2022-02-28 00:00\",\"2022-02-28 00:00\",\"2022-02-28 00:00\",\"2022-02-28 00:00\",\"2022-02-28 00:00\",\"2022-02-28 00:00\",\"2022-02-28 00:00\",\"2022-02-28 00:00\",\"2022-02-28 00:00\",\"2022-02-28 00:00\",\"2022-02-28 00:00\",\"2022-02-28 00:00\",\"2022-02-28 00:00\",\"2022-02-28 00:00\",\"2022-02-28 00:00\",\"2022-02-28 00:00\",\"2022-02-28 00:00\",\"2022-02-28 00:00\",\"2022-02-28 00:00\",\"2022-02-28 00:00\",\"2022-02-28 00:00\",\"2022-02-28 00:00\",\"2022-02-28 00:00\",\"2022-02-28 00:00\",\"2022-02-28 00:00\",\"2022-02-28 00:00\",\"2022-02-28 00:00\",\"2022-02-28 00:00\",\"2022-02-28 00:00\",\"2022-02-28 00:00\",\"2022-02-28 00:00\",\"2022-02-28 00:00\",\"2022-02-28 00:00\",\"2022-02-28 00:00\",\"2022-02-28 00:00\",\"2022-02-28 00:00\",\"2022-02-28 00:00\",\"2022-02-28 00:00\",\"2022-02-28 00:00\",\"2022-02-28 00:00\",\"2022-02-28 00:00\",\"2022-02-28 00:00\",\"2022-02-28 00:00\",\"2022-02-28 00:00\",\"2022-02-28 00:00\",\"2022-02-28 00:00\",\"2022-02-28 00:00\",\"2022-02-28 00:00\",\"2022-02-28 00:00\",\"2022-02-28 00:00\",\"2022-02-28 00:00\",\"2022-02-28 00:00\",\"2022-02-28 00:00\",\"2022-02-28 00:00\",\"2022-02-28 00:00\",\"2022-02-28 00:00\",\"2022-02-28 00:00\",\"2022-02-28 00:00\",\"2022-02-28 00:00\",\"2022-02-28 00:00\",\"2022-02-28 00:00\",\"2022-02-28 00:00\",\"2022-02-28 00:00\",\"2022-02-28 00:00\",\"2022-02-28 00:00\",\"2022-02-28 00:00\",\"2022-02-28 00:00\",\"2022-02-28 00:00\",\"2022-02-28 00:00\",\"2022-02-28 00:00\",\"2022-02-28 00:00\",\"2022-02-28 00:00\",\"2022-02-28 00:00\",\"2022-02-28 00:00\",\"2022-02-28 00:00\",\"2022-02-28 00:00\",\"2022-02-28 00:00\",\"2022-02-28 00:00\",\"2022-02-28 00:00\",\"2022-02-28 00:00\",\"2022-02-28 00:00\",\"2022-02-28 00:00\",\"2022-02-28 00:00\",\"2022-02-28 00:00\",\"2022-02-28 00:00\",\"2022-02-28 00:00\",\"2022-02-28 00:00\",\"2022-02-28 00:00\",\"2022-02-28 00:00\",\"2022-02-28 00:00\",\"2022-02-28 00:00\",\"2022-02-28 00:00\",\"2022-02-28 00:00\",\"2022-02-28 00:00\",\"2022-02-28 00:00\",\"2022-02-28 00:00\",\"2022-02-28 00:00\",\"2022-02-28 00:00\",\"2022-02-28 00:00\",\"2022-02-28 00:00\",\"2022-02-28 00:00\",\"2022-02-28 00:00\",\"2022-02-28 00:00\",\"2022-02-28 00:00\",\"2022-02-28 00:00\",\"2022-02-28 00:00\",\"2022-02-28 00:00\",\"2022-02-28 00:00\",\"2022-02-28 00:00\",\"2022-02-28 00:00\",\"2022-02-28 00:00\",\"2022-02-28 00:00\",\"2022-02-28 00:00\",\"2022-02-28 00:00\",\"2022-02-28 00:00\",\"2022-02-28 00:00\",\"2022-02-28 00:00\",\"2022-02-28 00:00\",\"2022-02-28 00:00\",\"2022-02-28 00:00\",\"2022-02-28 00:00\",\"2022-02-28 00:00\",\"2022-02-28 00:00\",\"2022-02-28 00:00\",\"2022-02-28 00:00\",\"2022-02-28 00:00\",\"2022-02-28 00:00\",\"2022-02-28 00:00\",\"2022-02-28 00:00\",\"2022-02-28 00:00\",\"2022-02-28 00:00\",\"2022-02-28 00:00\",\"2022-02-28 00:00\",\"2022-02-28 00:00\",\"2022-02-28 00:00\",\"2022-02-28 00:00\",\"2022-02-28 00:00\",\"2022-02-28 00:00\",\"2022-02-28 00:00\",\"2022-02-28 00:00\",\"2022-02-28 00:00\",\"2022-02-28 00:00\",\"2022-02-28 00:00\",\"2022-02-28 00:00\",\"2022-02-28 00:00\",\"2022-02-28 00:00\",\"2022-02-28 00:00\",\"2022-02-28 00:00\",\"2022-02-28 00:00\",\"2022-02-28 00:00\",\"2022-02-28 00:00\",\"2022-02-28 00:00\",\"2022-02-28 00:00\",\"2022-02-28 00:00\",\"2022-02-28 00:00\",\"2022-02-28 00:00\",\"2022-02-28 00:00\",\"2022-02-28 00:00\",\"2022-02-28 00:00\",\"2022-02-28 00:00\",\"2022-02-28 00:00\",\"2022-02-28 00:00\",\"2022-02-28 00:00\",\"2022-02-28 00:00\",\"2022-02-28 00:00\",\"2022-02-28 00:00\",\"2022-02-28 00:00\",\"2022-02-28 00:00\",\"2022-02-28 00:00\",\"2022-02-28 00:00\",\"2022-02-28 00:00\",\"2022-02-28 00:00\",\"2022-02-28 00:00\",\"2022-02-28 00:00\",\"2022-02-28 00:00\",\"2022-02-28 00:00\",\"2022-02-28 00:00\",\"2022-02-28 00:00\",\"2022-02-28 00:00\",\"2022-02-28 00:00\",\"2022-02-28 00:00\",\"2022-02-28 00:00\",\"2022-02-28 00:00\",\"2022-02-28 00:00\",\"2022-02-28 00:00\",\"2022-02-28 00:00\",\"2022-02-28 00:00\",\"2022-02-28 00:00\",\"2022-02-28 00:00\",\"2022-02-28 00:00\",\"2022-02-28 00:00\",\"2022-02-28 00:00\",\"2022-02-28 00:00\",\"2022-02-28 00:00\",\"2022-02-28 00:00\",\"2022-02-28 00:00\",\"2022-02-28 00:00\",\"2022-02-28 00:00\",\"2022-02-28 00:00\",\"2022-02-28 00:00\",\"2022-02-28 00:00\",\"2022-02-28 00:00\",\"2022-02-28 00:00\",\"2022-02-28 00:00\",\"2022-02-28 00:00\",\"2022-02-28 00:00\",\"2022-02-28 00:00\",\"2022-02-28 00:00\",\"2022-02-28 00:00\",\"2022-02-28 00:00\",\"2022-02-28 00:00\",\"2022-02-28 00:00\",\"2022-02-28 00:00\",\"2022-02-28 00:00\",\"2022-02-28 00:00\",\"2022-02-28 00:00\",\"2022-02-28 00:00\",\"2022-02-28 00:00\",\"2022-02-28 00:00\",\"2022-02-28 00:00\",\"2022-02-28 00:00\",\"2022-02-28 00:00\",\"2022-02-28 00:00\",\"2022-02-28 00:00\",\"2022-02-28 00:00\",\"2022-02-28 00:00\",\"2022-02-28 00:00\",\"2022-02-28 00:00\",\"2022-02-28 00:00\",\"2022-02-28 00:00\",\"2022-02-28 00:00\",\"2022-02-28 00:00\",\"2022-02-28 00:00\",\"2022-02-28 00:00\",\"2022-02-28 00:00\",\"2022-02-28 00:00\",\"2022-02-28 00:00\",\"2022-02-28 00:00\",\"2022-02-28 00:00\",\"2022-02-28 00:00\",\"2022-02-28 00:00\",\"2022-02-28 00:00\",\"2022-02-28 00:00\",\"2022-02-28 00:00\",\"2022-02-28 00:00\",\"2022-02-28 00:00\",\"2022-02-28 00:00\",\"2022-02-28 00:00\",\"2022-02-28 00:00\",\"2022-02-28 00:00\",\"2022-02-28 00:00\",\"2022-02-28 00:00\",\"2022-02-28 00:00\",\"2022-02-28 00:00\",\"2022-02-28 00:00\",\"2022-02-28 00:00\",\"2022-02-28 00:00\",\"2022-02-28 00:00\",\"2022-02-28 00:00\",\"2022-02-28 00:00\",\"2022-02-28 00:00\",\"2022-02-28 00:00\",\"2022-02-28 00:00\",\"2022-02-28 00:00\",\"2022-02-28 00:00\",\"2022-02-28 00:00\",\"2022-02-28 00:00\",\"2022-02-28 00:00\",\"2022-02-28 00:00\",\"2022-02-28 00:00\",\"2022-02-28 00:00\",\"2022-02-28 00:00\",\"2022-02-28 00:00\",\"2022-02-28 00:00\",\"2022-02-28 00:00\",\"2022-02-28 00:00\",\"2022-02-28 00:00\",\"2022-02-28 00:00\",\"2022-02-28 00:00\",\"2022-02-28 00:00\",\"2022-02-28 00:00\",\"2022-02-28 00:00\",\"2022-02-28 00:00\",\"2022-02-28 00:00\",\"2022-02-28 00:00\",\"2022-02-28 00:00\",\"2022-02-28 00:00\",\"2022-02-28 00:00\",\"2022-02-28 00:00\",\"2022-02-28 00:00\",\"2022-02-28 00:00\",\"2022-02-28 00:00\",\"2022-02-28 00:00\",\"2022-02-28 00:00\",\"2022-02-28 00:00\",\"2022-02-28 00:00\",\"2022-02-28 00:00\",\"2022-02-28 00:00\",\"2022-02-28 00:00\",\"2022-02-28 00:00\",\"2022-02-28 00:00\",\"2022-02-28 00:00\",\"2022-02-28 00:00\",\"2022-02-28 00:00\",\"2022-02-28 00:00\",\"2022-02-28 00:00\",\"2022-02-28 00:00\",\"2022-02-28 00:00\",\"2022-02-28 00:00\",\"2022-02-28 00:00\",\"2022-02-28 00:00\",\"2022-02-28 00:00\",\"2022-02-28 00:00\",\"2022-02-28 00:00\",\"2022-02-28 00:00\",\"2022-02-28 00:00\",\"2022-02-28 00:00\",\"2022-02-28 00:00\",\"2022-02-28 00:00\",\"2022-02-28 00:00\",\"2022-02-28 00:00\",\"2022-02-28 00:00\",\"2022-02-28 00:00\",\"2022-02-28 00:00\",\"2022-02-28 00:00\",\"2022-02-28 00:00\",\"2022-02-28 00:00\",\"2022-02-28 00:00\",\"2022-02-28 00:00\",\"2022-02-28 00:00\",\"2022-02-28 00:00\",\"2022-02-28 00:00\",\"2022-02-28 00:00\",\"2022-02-28 00:00\",\"2022-02-28 00:00\",\"2022-02-28 00:00\",\"2022-02-28 00:00\",\"2022-02-28 00:00\",\"2022-02-28 00:00\",\"2022-02-28 00:00\",\"2022-02-28 00:00\",\"2022-02-28 00:00\",\"2022-02-28 00:00\",\"2022-02-28 00:00\",\"2022-02-28 00:00\",\"2022-02-28 00:00\",\"2022-02-28 00:00\",\"2022-02-28 00:00\",\"2022-02-28 00:00\",\"2022-02-28 00:00\",\"2022-02-28 00:00\",\"2022-02-28 00:00\",\"2022-02-28 00:00\",\"2022-02-28 00:00\",\"2022-02-28 00:00\",\"2022-02-28 00:00\",\"2022-02-28 00:00\",\"2022-02-28 00:00\",\"2022-02-28 00:00\",\"2022-02-28 00:00\",\"2022-02-28 00:00\",\"2022-02-28 00:00\",\"2022-02-28 00:00\",\"2022-02-28 00:00\",\"2022-02-28 00:00\",\"2022-02-28 00:00\",\"2022-02-28 00:00\",\"2022-02-28 00:00\",\"2022-02-28 00:00\",\"2022-02-28 00:00\",\"2022-02-28 00:00\",\"2022-02-28 00:00\",\"2022-02-28 00:00\",\"2022-02-28 00:00\",\"2022-02-28 00:00\",\"2022-02-28 00:00\",\"2022-02-28 00:00\",\"2022-02-28 00:00\",\"2022-02-28 00:00\",\"2022-02-28 00:00\",\"2022-02-28 00:00\",\"2022-02-28 00:00\",\"2022-02-28 00:00\",\"2022-02-28 00:00\",\"2022-02-28 00:00\",\"2022-02-28 00:00\",\"2022-02-28 00:00\",\"2022-02-28 00:00\",\"2022-02-28 00:00\",\"2022-02-28 00:00\",\"2022-02-28 00:00\",\"2022-02-28 00:00\",\"2022-02-28 00:00\",\"2022-02-28 00:00\",\"2022-02-28 00:00\",\"2022-02-28 00:00\",\"2022-02-28 00:00\",\"2022-02-28 00:00\",\"2022-02-28 00:00\",\"2022-02-28 00:00\",\"2022-02-28 00:00\",\"2022-02-28 00:00\",\"2022-02-28 00:00\",\"2022-02-28 00:00\",\"2022-02-28 00:00\",\"2022-02-28 00:00\",\"2022-02-28 00:00\",\"2022-02-28 00:00\",\"2022-02-28 00:00\",\"2022-02-28 00:00\",\"2022-02-28 00:00\",\"2022-02-28 00:00\",\"2022-02-28 00:00\",\"2022-02-28 00:00\",\"2022-02-28 00:00\",\"2022-02-28 00:00\",\"2022-02-28 00:00\",\"2022-02-28 00:00\",\"2022-02-28 00:00\",\"2022-02-28 00:00\",\"2022-02-28 00:00\",\"2022-02-28 00:00\",\"2022-02-28 00:00\",\"2022-02-28 00:00\",\"2022-02-28 00:00\",\"2022-02-28 00:00\",\"2022-02-28 00:00\",\"2022-02-28 00:00\",\"2022-02-28 00:00\",\"2022-02-28 00:00\",\"2022-02-28 00:00\",\"2022-02-28 00:00\",\"2022-02-28 00:00\",\"2022-02-28 00:00\",\"2022-02-28 00:00\",\"2022-02-28 00:00\",\"2022-02-28 00:00\",\"2022-02-28 00:00\",\"2022-02-28 00:00\",\"2022-02-28 00:00\",\"2022-02-28 00:00\",\"2022-02-28 00:00\",\"2022-02-28 00:00\",\"2022-02-28 00:00\",\"2022-02-28 00:00\",\"2022-02-28 00:00\",\"2022-02-28 00:00\",\"2022-02-28 00:00\",\"2022-02-28 00:00\",\"2022-02-28 00:00\",\"2022-02-28 00:00\",\"2022-02-28 00:00\",\"2022-02-28 00:00\",\"2022-02-28 00:00\",\"2022-02-28 00:00\",\"2022-02-28 00:00\",\"2022-02-28 00:00\",\"2022-02-28 00:00\",\"2022-02-28 00:00\",\"2022-02-28 00:00\",\"2022-02-28 00:00\",\"2022-02-28 00:00\",\"2022-02-28 00:00\",\"2022-02-28 00:00\",\"2022-02-28 00:00\",\"2022-02-28 00:00\",\"2022-02-28 00:00\",\"2022-02-28 00:00\",\"2022-02-28 00:00\",\"2022-02-28 00:00\",\"2022-02-28 00:00\",\"2022-02-28 00:00\",\"2022-02-28 00:00\",\"2022-02-28 00:00\",\"2022-02-28 00:00\",\"2022-02-28 00:00\",\"2022-02-28 00:00\",\"2022-02-28 00:00\",\"2022-02-28 00:00\",\"2022-02-28 00:00\",\"2022-02-28 00:00\",\"2022-02-28 00:00\",\"2022-02-28 00:00\",\"2022-02-28 00:00\",\"2022-02-28 00:00\",\"2022-02-28 00:00\",\"2022-02-28 00:00\",\"2022-02-28 00:00\",\"2022-02-28 00:00\",\"2022-02-28 00:00\",\"2022-02-28 00:00\",\"2022-02-28 00:00\",\"2022-02-28 00:00\",\"2022-02-28 00:00\",\"2022-02-28 00:00\",\"2022-02-28 00:00\",\"2022-02-28 00:00\",\"2022-02-28 00:00\",\"2022-02-28 00:00\",\"2022-02-28 00:00\",\"2022-02-28 00:00\",\"2022-02-28 00:00\",\"2022-02-28 00:00\",\"2022-02-28 00:00\",\"2022-02-28 00:00\",\"2022-02-28 00:00\",\"2022-02-28 00:00\",\"2022-02-28 00:00\",\"2022-02-28 00:00\",\"2022-02-28 00:00\",\"2022-02-28 00:00\",\"2022-02-28 00:00\",\"2022-02-28 00:00\",\"2022-02-28 00:00\",\"2022-02-28 00:00\",\"2022-02-28 00:00\",\"2022-02-28 00:00\",\"2022-02-28 00:00\",\"2022-02-28 00:00\",\"2022-02-28 00:00\",\"2022-02-28 00:00\",\"2022-02-28 00:00\",\"2022-02-28 00:00\",\"2022-02-28 00:00\",\"2022-02-28 00:00\",\"2022-02-28 00:00\",\"2022-02-28 00:00\",\"2022-02-28 00:00\",\"2022-02-28 00:00\",\"2022-02-28 00:00\",\"2022-02-28 00:00\",\"2022-02-28 00:00\",\"2022-02-28 00:00\",\"2022-02-28 00:00\",\"2022-02-28 00:00\",\"2022-02-28 00:00\",\"2022-02-28 00:00\",\"2022-02-28 00:00\",\"2022-02-28 00:00\",\"2022-02-28 00:00\",\"2022-02-28 00:00\",\"2022-02-28 00:00\",\"2022-02-28 00:00\",\"2022-02-28 00:00\",\"2022-02-28 00:00\",\"2022-02-28 00:00\",\"2022-02-28 00:00\",\"2022-02-28 00:00\",\"2022-02-28 00:00\",\"2022-02-28 00:00\",\"2022-02-28 00:00\",\"2022-02-28 00:00\",\"2022-02-28 00:00\",\"2022-02-28 00:00\",\"2022-02-28 00:00\",\"2022-02-28 00:00\",\"2022-02-28 00:00\",\"2022-02-28 00:00\",\"2022-02-28 00:00\",\"2022-02-28 00:00\",\"2022-02-28 00:00\",\"2022-02-28 00:00\",\"2022-02-28 00:00\",\"2022-02-28 00:00\",\"2022-02-28 00:00\",\"2022-02-28 00:00\",\"2022-02-28 00:00\",\"2022-02-28 00:00\",\"2022-02-28 00:00\",\"2022-02-28 00:00\",\"2022-02-28 00:00\",\"2022-02-28 00:00\",\"2022-02-28 00:00\",\"2022-02-28 00:00\",\"2022-02-28 00:00\",\"2022-02-28 00:00\",\"2022-02-28 00:00\",\"2022-02-28 00:00\",\"2022-02-28 00:00\",\"2022-02-28 00:00\",\"2022-02-28 00:00\",\"2022-02-28 00:00\",\"2022-02-28 00:00\",\"2022-02-28 00:00\",\"2022-02-28 00:00\",\"2022-02-28 00:00\",\"2022-02-28 00:00\",\"2022-02-28 00:00\",\"2022-02-28 00:00\",\"2022-02-28 00:00\",\"2022-02-28 00:00\",\"2022-02-28 00:00\",\"2022-02-28 00:00\",\"2022-02-28 00:00\",\"2022-02-28 00:00\",\"2022-02-28 00:00\",\"2022-02-28 00:00\",\"2022-02-28 00:00\",\"2022-02-28 00:00\",\"2022-02-28 00:00\",\"2022-02-28 00:00\",\"2022-02-28 00:00\",\"2022-02-28 00:00\",\"2022-02-28 00:00\",\"2022-02-28 00:00\",\"2022-02-28 00:00\",\"2022-02-28 00:00\",\"2022-02-28 00:00\",\"2022-02-28 00:00\",\"2022-02-28 00:00\",\"2022-02-28 00:00\",\"2022-02-28 00:00\",\"2022-02-28 00:00\",\"2022-02-28 00:00\",\"2022-02-28 00:00\",\"2022-02-28 00:00\",\"2022-02-28 00:00\",\"2022-02-28 00:00\",\"2022-02-28 00:00\",\"2022-02-28 00:00\",\"2022-02-28 00:00\",\"2022-02-28 00:00\",\"2022-02-28 00:00\",\"2022-02-28 00:00\",\"2022-02-28 00:00\",\"2022-02-28 00:00\",\"2022-02-28 00:00\",\"2022-02-28 00:00\",\"2022-02-28 00:00\",\"2022-02-28 00:00\",\"2022-02-28 00:00\",\"2022-02-28 00:00\",\"2022-02-28 00:00\",\"2022-02-28 00:00\",\"2022-02-28 00:00\",\"2022-02-28 00:00\",\"2022-02-28 00:00\",\"2022-02-28 00:00\",\"2022-02-28 00:00\",\"2022-02-28 00:00\",\"2022-02-28 00:00\",\"2022-02-28 00:00\",\"2022-02-28 00:00\",\"2022-02-28 00:00\",\"2022-02-28 00:00\",\"2022-02-28 00:00\",\"2022-02-28 00:00\",\"2022-02-28 00:00\",\"2022-02-28 00:00\",\"2022-02-28 00:00\",\"2022-02-28 00:00\",\"2022-02-28 00:00\",\"2022-02-28 00:00\",\"2022-02-28 00:00\",\"2022-02-28 00:00\",\"2022-02-28 00:00\",\"2022-02-28 00:00\",\"2022-02-28 00:00\",\"2022-02-28 00:00\",\"2022-02-28 00:00\",\"2022-02-28 00:00\",\"2022-02-28 00:00\",\"2022-02-28 00:00\",\"2022-02-28 00:00\",\"2022-02-28 00:00\",\"2022-02-28 00:00\",\"2022-02-28 00:00\",\"2022-02-28 00:00\",\"2022-02-28 00:00\",\"2022-02-28 00:00\",\"2022-02-28 00:00\",\"2022-02-28 00:00\",\"2022-02-28 00:00\",\"2022-02-28 00:00\",\"2022-02-28 00:00\",\"2022-02-28 00:00\",\"2022-02-28 00:00\",\"2022-02-28 00:00\",\"2022-02-28 00:00\",\"2022-02-28 00:00\",\"2022-02-28 00:00\",\"2022-02-28 00:00\",\"2022-02-28 00:00\",\"2022-02-28 00:00\",\"2022-02-28 00:00\",\"2022-02-28 00:00\",\"2022-02-28 00:00\",\"2022-02-28 00:00\",\"2022-02-28 00:00\",\"2022-02-28 00:00\",\"2022-02-28 00:00\",\"2022-02-28 00:00\",\"2022-02-28 00:00\",\"2022-02-28 00:00\",\"2022-02-28 00:00\",\"2022-02-28 00:00\",\"2022-02-28 00:00\",\"2022-02-28 00:00\",\"2022-02-28 00:00\",\"2022-02-28 00:00\",\"2022-02-28 00:00\",\"2022-02-28 00:00\",\"2022-02-28 00:00\",\"2022-02-28 00:00\",\"2022-02-28 00:00\",\"2022-02-28 00:00\",\"2022-02-28 00:00\",\"2022-02-28 00:00\",\"2022-02-28 00:00\",\"2022-02-28 00:00\",\"2022-02-28 00:00\",\"2022-02-28 00:00\",\"2022-02-28 00:00\",\"2022-02-28 00:00\",\"2022-02-28 00:00\",\"2022-02-28 00:00\",\"2022-02-28 00:00\",\"2022-02-28 00:00\",\"2022-02-28 00:00\",\"2022-02-28 00:00\",\"2022-02-28 00:00\",\"2022-02-28 00:00\",\"2022-02-28 00:00\",\"2022-02-28 00:00\",\"2022-02-28 00:00\",\"2022-02-28 00:00\",\"2022-02-28 00:00\",\"2022-02-28 00:00\",\"2022-02-28 00:00\",\"2022-02-28 00:00\",\"2022-02-28 00:00\",\"2022-02-28 00:00\",\"2022-02-28 00:00\",\"2022-02-28 00:00\",\"2022-02-28 00:00\",\"2022-02-28 00:00\",\"2022-02-28 00:00\",\"2022-02-28 00:00\",\"2022-02-28 00:00\",\"2022-02-28 00:00\",\"2022-02-28 00:00\",\"2022-02-28 00:00\",\"2022-02-28 00:00\",\"2022-02-28 00:00\",\"2022-02-28 00:00\",\"2022-02-28 00:00\",\"2022-02-28 00:00\",\"2022-02-28 00:00\",\"2022-02-28 00:00\",\"2022-02-28 00:00\",\"2022-02-28 00:00\",\"2022-02-28 00:00\",\"2022-02-28 00:00\",\"2022-02-28 00:00\",\"2022-02-28 00:00\",\"2022-02-28 00:00\",\"2022-02-28 00:00\",\"2022-02-28 00:00\",\"2022-02-28 00:00\",\"2022-02-28 00:00\",\"2022-02-28 00:00\",\"2022-02-28 00:00\",\"2022-02-28 00:00\",\"2022-02-28 00:00\",\"2022-02-28 00:00\",\"2022-02-28 00:00\",\"2022-02-28 00:00\",\"2022-02-28 00:00\",\"2022-02-28 00:00\",\"2022-02-28 00:00\",\"2022-02-28 00:00\",\"2022-02-28 00:00\",\"2022-02-28 00:00\",\"2022-02-28 00:00\",\"2022-02-28 00:00\",\"2022-02-28 00:00\",\"2022-02-28 00:00\",\"2022-02-28 00:00\",\"2022-02-28 00:00\",\"2022-02-28 00:00\",\"2022-02-28 00:00\",\"2022-02-28 00:00\",\"2022-02-28 00:00\",\"2022-02-28 00:00\",\"2022-02-28 00:00\",\"2022-02-28 00:00\",\"2022-02-28 00:00\",\"2022-02-28 00:00\",\"2022-02-28 00:00\",\"2022-02-28 00:00\",\"2022-02-28 00:00\",\"2022-02-28 00:00\",\"2022-02-28 00:00\",\"2022-02-28 00:00\",\"2022-02-28 00:00\",\"2022-02-28 00:00\",\"2022-02-28 00:00\",\"2022-02-28 00:00\",\"2022-02-28 00:00\",\"2022-02-28 00:00\",\"2022-02-28 00:00\",\"2022-02-28 00:00\",\"2022-02-28 00:00\",\"2022-02-28 00:00\",\"2022-02-28 00:00\",\"2022-02-28 00:00\",\"2022-02-28 00:00\",\"2022-02-28 00:00\",\"2022-02-28 00:00\",\"2022-02-28 00:00\",\"2022-02-28 00:00\",\"2022-02-28 00:00\",\"2022-02-28 00:00\",\"2022-02-28 00:00\",\"2022-02-28 00:00\",\"2022-02-28 00:00\",\"2022-02-28 00:00\",\"2022-02-28 00:00\",\"2022-02-28 00:00\",\"2022-02-28 00:00\",\"2022-02-28 00:00\",\"2022-02-28 00:00\",\"2022-02-28 00:00\",\"2022-02-28 00:00\",\"2022-02-28 00:00\",\"2022-02-28 00:00\",\"2022-02-28 00:00\",\"2022-02-28 00:00\",\"2022-02-28 00:00\",\"2022-02-28 00:00\",\"2022-02-28 00:00\",\"2022-02-28 00:00\",\"2022-02-28 00:00\",\"2022-02-28 00:00\",\"2022-02-28 00:00\",\"2022-02-28 00:00\",\"2022-02-28 00:00\",\"2022-02-28 00:00\",\"2022-02-28 00:00\",\"2022-02-28 00:00\",\"2022-02-28 00:00\",\"2022-02-28 00:00\",\"2022-02-28 00:00\",\"2022-02-28 00:00\",\"2022-02-28 00:00\",\"2022-02-28 00:00\",\"2022-02-28 00:00\",\"2022-02-28 00:00\",\"2022-02-28 00:00\",\"2022-02-28 00:00\",\"2022-02-28 00:00\",\"2022-02-28 00:00\",\"2022-02-28 00:00\",\"2022-02-28 00:00\",\"2022-02-28 00:00\",\"2022-02-28 00:00\",\"2022-02-28 00:00\",\"2022-02-28 00:00\",\"2022-02-28 00:00\",\"2022-02-28 00:00\",\"2022-02-28 00:00\",\"2022-02-28 00:00\",\"2022-02-28 00:00\",\"2022-02-28 00:00\",\"2022-02-28 00:00\",\"2022-02-28 00:00\",\"2022-02-28 00:00\",\"2022-02-28 00:00\",\"2022-02-28 00:00\",\"2022-02-28 00:00\",\"2022-02-28 00:00\",\"2022-02-28 00:00\",\"2022-02-28 00:00\",\"2022-02-28 00:00\",\"2022-02-28 00:00\",\"2022-02-28 00:00\",\"2022-02-28 00:00\",\"2022-02-28 00:00\",\"2022-02-28 00:00\",\"2022-02-28 00:00\",\"2022-02-28 00:00\",\"2022-02-28 00:00\",\"2022-02-28 00:00\",\"2022-02-28 00:00\",\"2022-02-28 00:00\",\"2022-02-28 00:00\",\"2022-02-28 00:00\",\"2022-02-28 00:00\",\"2022-02-28 00:00\",\"2022-02-28 00:00\",\"2022-02-28 00:00\",\"2022-02-28 00:00\",\"2022-02-28 00:00\",\"2022-02-28 00:00\",\"2022-02-28 00:00\",\"2022-02-28 00:00\",\"2022-02-28 00:00\",\"2022-02-28 00:00\",\"2022-02-28 00:00\",\"2022-02-28 00:00\",\"2022-02-28 00:00\",\"2022-02-28 00:00\",\"2022-02-28 00:00\",\"2022-02-28 00:00\",\"2022-02-28 00:00\",\"2022-02-28 00:00\",\"2022-02-28 00:00\",\"2022-02-28 00:00\",\"2022-02-28 00:00\",\"2022-02-28 00:00\",\"2022-02-28 00:00\",\"2022-02-28 00:00\",\"2022-02-28 00:00\",\"2022-02-28 00:00\",\"2022-02-28 00:00\",\"2022-02-28 00:00\",\"2022-02-28 00:00\",\"2022-02-28 00:00\",\"2022-02-28 00:00\",\"2022-02-28 00:00\",\"2022-02-28 00:00\",\"2022-02-28 00:00\",\"2022-02-28 00:00\",\"2022-02-28 00:00\",\"2022-02-28 00:00\",\"2022-02-28 00:00\",\"2022-02-28 00:00\",\"2022-02-28 00:00\",\"2022-02-28 00:00\",\"2022-02-28 00:00\",\"2022-02-28 00:00\",\"2022-02-28 00:00\",\"2022-02-28 00:00\",\"2022-02-28 00:00\",\"2022-02-28 00:00\",\"2022-02-28 00:00\",\"2022-02-28 00:00\",\"2022-02-28 00:00\",\"2022-02-28 00:00\",\"2022-02-28 00:00\",\"2022-02-28 00:00\",\"2022-02-28 00:00\",\"2022-02-28 00:00\",\"2022-02-28 00:00\",\"2022-02-28 00:00\",\"2022-02-28 00:00\",\"2022-02-28 00:00\",\"2022-02-28 00:00\",\"2022-02-28 00:00\",\"2022-02-28 00:00\",\"2022-02-28 00:00\",\"2022-02-28 00:00\",\"2022-02-28 00:00\",\"2022-02-28 00:00\",\"2022-02-28 00:00\",\"2022-02-28 00:00\",\"2022-02-28 00:00\",\"2022-02-28 00:00\",\"2022-02-28 00:00\",\"2022-02-28 00:00\",\"2022-02-28 00:00\",\"2022-02-28 00:00\",\"2022-02-28 00:00\",\"2022-02-28 00:00\",\"2022-02-28 00:00\",\"2022-02-28 00:00\",\"2022-02-28 00:00\",\"2022-02-28 00:00\",\"2022-02-28 00:00\",\"2022-02-28 00:00\",\"2022-02-28 00:00\",\"2022-02-28 00:00\",\"2022-02-28 00:00\",\"2022-02-28 00:00\",\"2022-02-28 00:00\",\"2022-02-28 00:00\",\"2022-02-28 00:00\",\"2022-02-28 00:00\",\"2022-02-28 00:00\",\"2022-02-28 00:00\",\"2022-02-28 00:00\",\"2022-02-28 00:00\",\"2022-02-28 00:00\",\"2022-02-28 00:00\",\"2022-02-28 00:00\",\"2022-02-28 00:00\",\"2022-02-28 00:00\",\"2022-02-28 00:00\",\"2022-02-28 00:00\",\"2022-02-28 00:00\",\"2022-02-28 00:00\",\"2022-02-28 00:00\",\"2022-02-28 00:00\",\"2022-02-28 00:00\",\"2022-02-28 00:00\",\"2022-02-28 00:00\",\"2022-02-28 00:00\",\"2022-02-28 00:00\",\"2022-02-28 00:00\",\"2022-02-28 00:00\",\"2022-02-28 00:00\",\"2022-02-28 00:00\",\"2022-02-28 00:00\",\"2022-02-28 00:00\",\"2022-02-28 00:00\",\"2022-02-28 00:00\",\"2022-02-28 00:00\",\"2022-02-28 00:00\",\"2022-02-28 00:00\",\"2022-02-28 00:00\",\"2022-02-28 00:00\",\"2022-02-28 00:00\",\"2022-02-28 00:00\",\"2022-02-28 00:00\",\"2022-02-28 00:00\",\"2022-02-28 00:00\",\"2022-02-28 00:00\",\"2022-02-28 00:00\",\"2022-02-28 00:00\",\"2022-02-28 00:00\",\"2022-02-28 00:00\",\"2022-02-28 00:00\",\"2022-02-28 00:00\",\"2022-02-28 00:00\",\"2022-02-28 00:00\",\"2022-02-28 00:00\",\"2022-02-28 00:00\",\"2022-02-28 00:00\",\"2022-02-28 00:00\",\"2022-02-28 00:00\",\"2022-02-28 00:00\",\"2022-02-28 00:00\",\"2022-02-28 00:00\",\"2022-02-28 00:00\",\"2022-02-28 00:00\",\"2022-02-28 00:00\",\"2022-02-28 00:00\",\"2022-02-28 00:00\",\"2022-02-28 00:00\",\"2022-02-28 00:00\",\"2022-02-28 00:00\",\"2022-02-28 00:00\",\"2022-02-28 00:00\",\"2022-02-28 00:00\",\"2022-02-28 00:00\",\"2022-02-28 00:00\",\"2022-02-28 00:00\",\"2022-02-28 00:00\",\"2022-02-28 00:00\",\"2022-02-28 00:00\",\"2022-02-28 00:00\",\"2022-02-28 00:00\",\"2022-02-28 00:00\",\"2022-02-28 00:00\",\"2022-02-28 00:00\",\"2022-02-28 00:00\",\"2022-02-28 00:00\",\"2022-02-28 00:00\",\"2022-02-28 00:00\",\"2022-02-28 00:00\",\"2022-02-28 00:00\",\"2022-02-28 00:00\",\"2022-02-28 00:00\",\"2022-02-28 00:00\",\"2022-02-28 00:00\",\"2022-02-28 00:00\",\"2022-02-28 00:00\",\"2022-02-28 00:00\",\"2022-02-28 00:00\",\"2022-02-28 00:00\",\"2022-02-28 00:00\",\"2022-02-28 00:00\",\"2022-02-28 00:00\",\"2022-02-28 00:00\",\"2022-02-28 00:00\",\"2022-02-28 00:00\",\"2022-02-28 00:00\",\"2022-02-28 00:00\",\"2022-02-28 00:00\",\"2022-02-28 00:00\",\"2022-02-28 00:00\",\"2022-02-28 00:00\",\"2022-02-28 00:00\",\"2022-02-28 00:00\",\"2022-02-28 00:00\",\"2022-02-28 00:00\",\"2022-02-28 00:00\",\"2022-02-28 00:00\",\"2022-02-28 00:00\",\"2022-02-28 00:00\",\"2022-02-28 00:00\",\"2022-02-28 00:00\",\"2022-02-28 00:00\",\"2022-02-28 00:00\",\"2022-02-28 00:00\",\"2022-02-28 00:00\",\"2022-02-28 00:00\",\"2022-02-28 00:00\",\"2022-02-28 00:00\",\"2022-02-28 00:00\",\"2022-02-28 00:00\",\"2022-02-28 00:00\",\"2022-02-28 00:00\",\"2022-02-28 00:00\",\"2022-02-28 00:00\",\"2022-02-28 00:00\",\"2022-02-28 00:00\",\"2022-02-28 00:00\",\"2022-02-28 00:00\",\"2022-02-28 00:00\",\"2022-02-28 00:00\",\"2022-02-28 00:00\",\"2022-02-28 00:00\",\"2022-02-28 00:00\",\"2022-02-28 00:00\",\"2022-02-28 00:00\",\"2022-02-28 00:00\",\"2022-02-28 00:00\",\"2022-02-28 00:00\",\"2022-02-28 00:00\",\"2022-02-28 00:00\",\"2022-02-28 00:00\",\"2022-02-28 00:00\",\"2022-02-28 00:00\",\"2022-02-28 00:00\",\"2022-02-28 00:00\",\"2022-02-28 00:00\",\"2022-02-28 00:00\",\"2022-02-28 00:00\",\"2022-02-28 00:00\",\"2022-02-28 00:00\",\"2022-02-28 00:00\",\"2022-02-28 00:00\",\"2022-02-28 00:00\",\"2022-02-28 00:00\",\"2022-02-28 00:00\",\"2022-02-28 00:00\",\"2022-02-28 00:00\",\"2022-02-28 00:00\",\"2022-02-28 00:00\",\"2022-02-28 00:00\",\"2022-02-28 00:00\",\"2022-02-28 00:00\",\"2022-02-28 00:00\",\"2022-02-28 00:00\",\"2022-02-28 00:00\",\"2022-02-28 00:00\",\"2022-02-28 00:00\",\"2022-02-28 00:00\",\"2022-02-28 00:00\",\"2022-02-28 00:00\",\"2022-02-28 00:00\",\"2022-02-28 00:00\",\"2022-02-28 00:00\",\"2022-02-28 00:00\",\"2022-02-28 00:00\",\"2022-02-28 00:00\",\"2022-02-28 00:00\",\"2022-02-28 00:00\",\"2022-02-28 00:00\",\"2022-02-28 00:00\",\"2022-02-28 00:00\",\"2022-02-28 00:00\",\"2022-02-28 00:00\",\"2022-02-28 00:00\",\"2022-02-28 00:00\",\"2022-02-28 00:00\",\"2022-02-28 00:00\",\"2022-02-28 00:00\",\"2022-02-28 00:00\",\"2022-02-28 00:00\",\"2022-02-28 00:00\",\"2022-02-28 00:00\",\"2022-02-28 00:00\",\"2022-02-28 00:00\",\"2022-02-28 00:00\",\"2022-02-28 00:00\",\"2022-02-28 00:00\",\"2022-02-28 00:00\",\"2022-02-28 00:00\",\"2022-02-28 00:00\",\"2022-02-28 00:00\",\"2022-02-28 00:00\",\"2022-02-28 00:00\",\"2022-02-28 00:00\",\"2022-02-28 00:00\",\"2022-02-28 00:00\",\"2022-02-28 00:00\",\"2022-02-28 00:00\",\"2022-02-28 00:00\",\"2022-02-28 00:00\",\"2022-02-28 00:00\",\"2022-02-28 00:00\",\"2022-02-28 00:00\",\"2022-02-28 00:00\",\"2022-02-28 00:00\",\"2022-02-28 00:00\",\"2022-02-28 00:00\",\"2022-02-28 00:00\",\"2022-02-28 00:00\",\"2022-02-28 00:00\",\"2022-02-28 00:00\",\"2022-02-28 00:00\",\"2022-02-28 00:00\",\"2022-02-28 00:00\",\"2022-02-28 00:00\",\"2022-02-28 00:00\",\"2022-02-28 00:00\",\"2022-02-28 00:00\",\"2022-02-28 00:00\",\"2022-02-28 00:00\",\"2022-02-28 00:00\",\"2022-02-28 00:00\",\"2022-02-28 00:00\",\"2022-02-28 00:00\",\"2022-02-28 00:00\",\"2022-02-28 00:00\",\"2022-02-28 00:00\",\"2022-02-28 00:00\",\"2022-02-28 00:00\",\"2022-02-28 00:00\",\"2022-02-28 00:00\",\"2022-02-28 00:00\",\"2022-02-28 00:00\",\"2022-02-28 00:00\",\"2022-02-28 00:00\",\"2022-02-28 00:00\",\"2022-02-28 00:00\",\"2022-02-28 00:00\",\"2022-02-28 00:00\",\"2022-02-28 00:00\",\"2022-02-28 00:00\",\"2022-02-28 00:00\",\"2022-02-28 00:00\",\"2022-02-28 00:00\",\"2022-02-28 00:00\",\"2022-02-28 00:00\",\"2022-02-28 00:00\",\"2022-02-28 00:00\",\"2022-02-28 00:00\",\"2022-02-28 00:00\",\"2022-02-28 00:00\",\"2022-02-28 00:00\",\"2022-02-28 00:00\",\"2022-02-28 00:00\",\"2022-02-28 00:00\",\"2022-02-28 00:00\",\"2022-02-28 00:00\",\"2022-02-28 00:00\",\"2022-02-28 00:00\",\"2022-02-28 00:00\",\"2022-02-28 00:00\",\"2022-02-28 00:00\",\"2022-02-28 00:00\",\"2022-02-28 00:00\",\"2022-02-28 00:00\",\"2022-02-28 00:00\",\"2022-02-28 00:00\",\"2022-02-28 00:00\",\"2022-02-28 00:00\",\"2022-02-28 00:00\",\"2022-02-28 00:00\",\"2022-02-28 00:00\",\"2022-02-28 00:00\",\"2022-02-28 00:00\",\"2022-02-28 00:00\",\"2022-02-28 00:00\",\"2022-02-28 00:00\",\"2022-02-28 00:00\",\"2022-02-28 00:00\",\"2022-02-28 00:00\",\"2022-02-28 00:00\",\"2022-02-28 00:00\",\"2022-02-28 00:00\",\"2022-02-28 00:00\",\"2022-02-28 00:00\",\"2022-02-28 00:00\",\"2022-02-28 00:00\",\"2022-02-28 00:00\",\"2022-02-28 00:00\",\"2022-02-28 00:00\",\"2022-02-28 00:00\",\"2022-02-28 00:00\",\"2022-02-28 00:00\",\"2022-02-28 00:00\",\"2022-02-28 00:00\",\"2022-02-28 00:00\",\"2022-02-28 00:00\",\"2022-02-28 00:00\",\"2022-02-28 00:00\",\"2022-02-28 00:00\",\"2022-02-28 00:00\",\"2022-02-28 00:00\",\"2022-02-28 00:00\",\"2022-02-28 00:00\",\"2022-02-28 00:00\",\"2022-02-28 00:00\",\"2022-02-28 00:00\",\"2022-02-28 00:00\",\"2022-02-28 00:00\",\"2022-02-28 00:00\",\"2022-02-28 00:00\",\"2022-02-28 00:00\",\"2022-02-28 00:00\",\"2022-02-28 00:00\",\"2022-02-28 00:00\",\"2022-02-28 00:00\",\"2022-02-28 00:00\",\"2022-02-28 00:00\",\"2022-02-28 00:00\",\"2022-02-28 00:00\",\"2022-02-28 00:00\",\"2022-02-28 00:00\",\"2022-02-28 00:00\",\"2022-02-28 00:00\",\"2022-02-28 00:00\",\"2022-02-28 00:00\",\"2022-02-28 00:00\",\"2022-02-28 00:00\",\"2022-02-28 00:00\",\"2022-02-28 00:00\",\"2022-02-28 00:00\",\"2022-02-28 00:00\",\"2022-02-28 00:00\",\"2022-02-28 00:00\",\"2022-02-28 00:00\",\"2022-02-28 00:00\",\"2022-02-28 00:00\",\"2022-02-28 00:00\",\"2022-02-28 00:00\",\"2022-02-28 00:00\",\"2022-02-28 00:00\",\"2022-02-28 00:00\",\"2022-02-28 00:00\",\"2022-02-28 00:00\",\"2022-02-28 00:00\",\"2022-02-28 00:00\",\"2022-02-28 00:00\",\"2022-02-28 00:00\",\"2022-02-28 00:00\",\"2022-02-28 00:00\",\"2022-02-28 00:00\",\"2022-02-28 00:00\",\"2022-02-28 00:00\",\"2022-02-28 00:00\",\"2022-02-28 00:00\",\"2022-02-28 00:00\",\"2022-02-28 00:00\",\"2022-02-28 00:00\",\"2022-02-28 00:00\",\"2022-02-28 00:00\",\"2022-02-28 00:00\",\"2022-02-28 00:00\",\"2022-02-28 00:00\",\"2022-02-28 00:00\",\"2022-02-28 00:00\",\"2022-02-28 00:00\",\"2022-02-28 00:00\",\"2022-02-28 00:00\",\"2022-02-28 00:00\",\"2022-02-28 00:00\",\"2022-02-28 00:00\",\"2022-02-28 00:00\",\"2022-02-28 00:00\",\"2022-02-28 00:00\",\"2022-02-28 00:00\",\"2022-02-28 00:00\",\"2022-02-28 00:00\",\"2022-02-28 00:00\",\"2022-02-28 00:00\",\"2022-02-28 00:00\",\"2022-02-28 00:00\",\"2022-02-28 00:00\",\"2022-02-28 00:00\",\"2022-02-28 00:00\",\"2022-02-28 00:00\",\"2022-02-28 00:00\",\"2022-02-28 00:00\",\"2022-02-28 00:00\",\"2022-02-28 00:00\",\"2022-02-28 00:00\",\"2022-02-28 00:00\",\"2022-02-28 00:00\",\"2022-02-28 00:00\",\"2022-02-28 00:00\",\"2022-02-28 00:00\",\"2022-02-28 00:00\",\"2022-02-28 00:00\",\"2022-02-28 00:00\",\"2022-02-28 00:00\",\"2022-02-28 00:00\",\"2022-02-28 00:00\",\"2022-02-28 00:00\",\"2022-02-28 00:00\",\"2022-02-28 00:00\",\"2022-02-28 00:00\",\"2022-02-28 00:00\",\"2022-02-28 00:00\",\"2022-02-28 00:00\",\"2022-02-28 00:00\",\"2022-02-28 00:00\",\"2022-02-28 00:00\",\"2022-02-28 00:00\",\"2022-02-28 00:00\",\"2022-02-28 00:00\",\"2022-02-28 00:00\",\"2022-02-28 00:00\",\"2022-02-28 00:00\",\"2022-02-28 00:00\",\"2022-02-28 00:00\",\"2022-02-28 00:00\",\"2022-02-28 00:00\",\"2022-02-28 00:00\",\"2022-02-28 00:00\",\"2022-02-28 00:00\",\"2022-02-28 00:00\",\"2022-02-28 00:00\",\"2022-02-28 00:00\",\"2022-02-28 00:00\",\"2022-02-28 00:00\",\"2022-02-28 00:00\",\"2022-02-28 00:00\",\"2022-02-28 00:00\",\"2022-02-28 00:00\",\"2022-02-28 00:00\",\"2022-02-28 00:00\",\"2022-02-28 00:00\",\"2022-02-28 00:00\",\"2022-02-28 00:00\",\"2022-02-28 00:00\",\"2022-02-28 00:00\",\"2022-02-28 00:00\",\"2022-02-28 00:00\",\"2022-02-28 00:00\",\"2022-02-28 00:00\",\"2022-02-28 00:00\",\"2022-02-28 00:00\",\"2022-02-28 00:00\",\"2022-02-28 00:00\",\"2022-02-28 00:00\",\"2022-02-28 00:00\",\"2022-02-28 00:00\",\"2022-02-28 00:00\",\"2022-02-28 00:00\",\"2022-02-28 00:00\",\"2022-02-28 00:00\",\"2022-02-28 00:00\",\"2022-02-28 00:00\",\"2022-02-28 00:00\",\"2022-02-28 00:00\",\"2022-02-28 00:00\",\"2022-02-28 00:00\",\"2022-02-28 00:00\",\"2022-02-28 00:00\",\"2022-02-28 00:00\",\"2022-02-28 00:00\",\"2022-02-28 00:00\",\"2022-02-28 00:00\",\"2022-02-28 00:00\",\"2022-02-28 00:00\",\"2022-02-28 00:00\",\"2022-02-28 00:00\",\"2022-02-28 00:00\",\"2022-02-28 00:00\",\"2022-02-28 00:00\",\"2022-02-28 00:00\",\"2022-02-28 00:00\",\"2022-02-28 00:00\",\"2022-02-28 00:00\",\"2022-02-28 00:00\",\"2022-02-28 00:00\",\"2022-02-28 00:00\",\"2022-02-28 00:00\",\"2022-02-28 00:00\",\"2022-02-28 00:00\",\"2022-02-28 00:00\",\"2022-02-28 00:00\",\"2022-02-28 00:00\",\"2022-02-28 00:00\",\"2022-02-28 00:00\",\"2022-02-28 00:00\",\"2022-02-28 00:00\",\"2022-02-28 00:00\",\"2022-02-28 00:00\",\"2022-02-28 00:00\",\"2022-02-28 00:00\",\"2022-02-28 00:00\",\"2022-02-28 00:00\",\"2022-02-28 00:00\",\"2022-02-28 00:00\",\"2022-02-28 00:00\",\"2022-02-28 00:00\",\"2022-02-28 00:00\",\"2022-02-28 00:00\",\"2022-02-28 00:00\",\"2022-02-28 00:00\",\"2022-02-28 00:00\",\"2022-02-28 00:00\",\"2022-02-28 00:00\",\"2022-02-28 00:00\",\"2022-02-28 00:00\",\"2022-02-28 00:00\",\"2022-02-28 00:00\",\"2022-02-28 00:00\",\"2022-02-28 00:00\",\"2022-02-28 00:00\",\"2022-02-28 00:00\",\"2022-02-28 00:00\",\"2022-02-28 00:00\",\"2022-02-28 00:00\",\"2022-02-28 00:00\",\"2022-02-28 00:00\",\"2022-02-28 00:00\",\"2022-02-28 00:00\",\"2022-02-28 00:00\",\"2022-02-28 00:00\",\"2022-02-28 00:00\",\"2022-02-28 00:00\",\"2022-02-28 00:00\",\"2022-02-28 00:00\",\"2022-02-28 00:00\",\"2022-02-28 00:00\",\"2022-02-28 00:00\",\"2022-02-28 00:00\",\"2022-02-28 00:00\",\"2022-02-28 00:00\",\"2022-02-28 00:00\",\"2022-02-28 00:00\",\"2022-02-28 00:00\",\"2022-02-28 00:00\",\"2022-02-28 00:00\",\"2022-02-28 00:00\",\"2022-02-28 00:00\",\"2022-02-28 00:00\",\"2022-02-28 00:00\",\"2022-02-28 00:00\",\"2022-02-28 00:00\",\"2022-02-28 00:00\",\"2022-02-28 00:00\",\"2022-02-28 00:00\",\"2022-02-28 00:00\",\"2022-02-28 00:00\",\"2022-02-28 00:00\",\"2022-02-28 00:00\",\"2022-02-28 00:00\",\"2022-02-28 00:00\",\"2022-02-28 00:00\",\"2022-02-28 00:00\",\"2022-02-28 00:00\",\"2022-02-28 00:00\",\"2022-02-28 00:00\",\"2022-02-28 00:00\",\"2022-02-28 00:00\",\"2022-02-28 00:00\",\"2022-02-28 00:00\",\"2022-02-28 00:00\",\"2022-02-28 00:00\",\"2022-02-28 00:00\",\"2022-02-28 00:00\",\"2022-02-28 00:00\",\"2022-02-28 00:00\",\"2022-02-28 00:00\",\"2022-02-28 00:00\",\"2022-02-28 00:00\",\"2022-02-28 00:00\",\"2022-02-28 00:00\",\"2022-02-28 00:00\",\"2022-02-28 00:00\",\"2022-02-28 00:00\",\"2022-02-28 00:00\",\"2022-02-28 00:00\",\"2022-02-28 00:00\",\"2022-02-28 00:00\",\"2022-02-28 00:00\",\"2022-02-28 00:00\",\"2022-02-28 00:00\",\"2022-02-28 00:00\",\"2022-02-28 00:00\",\"2022-02-28 00:00\",\"2022-02-28 00:00\",\"2022-02-28 00:00\",\"2022-02-28 00:00\",\"2022-02-28 00:00\",\"2022-02-28 00:00\",\"2022-02-28 00:00\",\"2022-02-28 00:00\",\"2022-02-28 00:00\",\"2022-02-28 00:00\",\"2022-02-28 00:00\",\"2022-02-28 00:00\",\"2022-02-28 00:00\",\"2022-02-28 00:00\",\"2022-02-28 00:00\",\"2022-02-28 00:00\",\"2022-02-28 00:00\",\"2022-02-28 00:00\",\"2022-02-28 00:00\",\"2022-02-28 00:00\",\"2022-02-28 00:00\",\"2022-02-28 00:00\",\"2022-02-28 00:00\",\"2022-02-28 00:00\",\"2022-02-28 00:00\",\"2022-02-28 00:00\",\"2022-02-28 00:00\",\"2022-02-28 00:00\",\"2022-02-28 00:00\",\"2022-02-28 00:00\",\"2022-02-28 00:00\",\"2022-02-28 00:00\",\"2022-02-28 00:00\",\"2022-02-28 00:00\",\"2022-02-28 00:00\",\"2022-02-28 00:00\",\"2022-02-28 00:00\",\"2022-02-28 00:00\",\"2022-02-28 00:00\",\"2022-02-28 00:00\",\"2022-02-28 00:00\",\"2022-02-28 00:00\",\"2022-02-28 00:00\",\"2022-02-28 00:00\",\"2022-02-28 00:00\",\"2022-02-28 00:00\",\"2022-02-28 00:00\",\"2022-02-28 00:00\",\"2022-02-28 00:00\",\"2022-02-28 00:00\",\"2022-02-28 00:00\",\"2022-02-28 00:00\",\"2022-02-28 00:00\",\"2022-02-28 00:00\",\"2022-02-28 00:00\",\"2022-02-28 00:00\",\"2022-02-28 00:00\",\"2022-02-28 00:00\",\"2022-02-28 00:00\",\"2022-02-28 00:00\",\"2022-02-28 00:00\",\"2022-02-28 00:00\",\"2022-02-28 00:00\",\"2022-02-28 00:00\",\"2022-02-28 00:00\",\"2022-02-28 00:00\",\"2022-02-28 00:00\",\"2022-02-28 00:00\",\"2022-02-28 00:00\",\"2022-02-28 00:00\",\"2022-02-28 00:00\",\"2022-02-28 00:00\",\"2022-02-28 00:00\",\"2022-02-28 00:00\",\"2022-02-28 00:00\",\"2022-02-28 00:00\",\"2022-02-28 00:00\",\"2022-02-28 00:00\",\"2022-02-28 00:00\",\"2022-02-28 00:00\",\"2022-02-28 00:00\",\"2022-02-28 00:00\",\"2022-02-28 00:00\",\"2022-02-28 00:00\",\"2022-02-28 00:00\",\"2022-02-28 00:00\",\"2022-02-28 00:00\",\"2022-02-28 00:00\",\"2022-02-28 00:00\",\"2022-02-28 00:00\",\"2022-02-28 00:00\",\"2022-02-28 00:00\",\"2022-02-28 00:00\",\"2022-02-28 00:00\",\"2022-02-28 00:00\",\"2022-02-28 00:00\",\"2022-02-28 00:00\",\"2022-02-28 00:00\",\"2022-02-28 00:00\",\"2022-02-28 00:00\",\"2022-02-28 00:00\",\"2022-02-28 00:00\",\"2022-02-28 00:00\",\"2022-02-28 00:00\",\"2022-02-28 00:00\",\"2022-02-28 00:00\",\"2022-02-28 00:00\",\"2022-02-28 00:00\",\"2022-02-28 00:00\",\"2022-02-28 00:00\",\"2022-02-28 00:00\",\"2022-02-28 00:00\",\"2022-02-28 00:00\",\"2022-02-28 00:00\",\"2022-02-28 00:00\",\"2022-02-28 00:00\",\"2022-02-28 00:00\",\"2022-02-28 00:00\",\"2022-02-28 00:00\",\"2022-02-28 00:00\",\"2022-02-28 00:00\",\"2022-02-28 00:00\",\"2022-02-28 00:00\",\"2022-02-28 00:00\",\"2022-02-28 00:00\",\"2022-02-28 00:00\",\"2022-02-28 00:00\",\"2022-02-28 00:00\",\"2022-02-28 00:00\",\"2022-02-28 00:00\",\"2022-02-28 00:00\",\"2022-02-28 00:00\",\"2022-02-28 00:00\",\"2022-02-28 00:00\",\"2022-02-28 00:00\",\"2022-02-28 00:00\",\"2022-02-28 00:00\",\"2022-02-28 00:00\",\"2022-02-28 00:00\",\"2022-02-28 00:00\",\"2022-02-28 00:00\",\"2022-02-28 00:00\",\"2022-02-28 00:00\",\"2022-02-28 00:00\",\"2022-02-28 00:00\",\"2022-02-28 00:00\",\"2022-02-28 00:00\",\"2022-02-28 00:00\",\"2022-02-28 00:00\",\"2022-02-28 00:00\",\"2022-02-28 00:00\",\"2022-02-28 00:00\",\"2022-02-28 00:00\",\"2022-02-28 00:00\",\"2022-02-28 00:00\",\"2022-02-28 00:00\",\"2022-02-28 00:00\",\"2022-02-28 00:00\",\"2022-02-28 00:00\",\"2022-02-28 00:00\",\"2022-02-28 00:00\",\"2022-02-28 00:00\",\"2022-02-28 00:00\",\"2022-02-28 00:00\",\"2022-02-28 00:00\",\"2022-02-28 00:00\",\"2022-02-28 00:00\",\"2022-02-28 00:00\",\"2022-02-28 00:00\",\"2022-02-28 00:00\",\"2022-02-28 00:00\",\"2022-02-28 00:00\",\"2022-02-28 00:00\",\"2022-02-28 00:00\",\"2022-02-28 00:00\",\"2022-02-28 00:00\",\"2022-02-28 00:00\",\"2022-02-28 00:00\",\"2022-02-28 00:00\",\"2022-02-28 00:00\",\"2022-02-28 00:00\",\"2022-02-28 00:00\",\"2022-02-28 00:00\",\"2022-02-28 00:00\",\"2022-02-28 00:00\",\"2022-02-28 00:00\",\"2022-02-28 00:00\",\"2022-02-28 00:00\",\"2022-02-28 00:00\",\"2022-02-28 00:00\",\"2022-02-28 00:00\",\"2022-02-28 00:00\",\"2022-02-28 00:00\",\"2022-02-28 00:00\",\"2022-02-28 00:00\",\"2022-02-28 00:00\",\"2022-02-28 00:00\",\"2022-02-28 00:00\",\"2022-02-28 00:00\",\"2022-02-28 00:00\",\"2022-02-28 00:00\",\"2022-02-28 00:00\",\"2022-02-28 00:00\",\"2022-02-28 00:00\",\"2022-02-28 00:00\",\"2022-02-28 00:00\",\"2022-02-28 00:00\",\"2022-02-28 00:00\",\"2022-02-28 00:00\",\"2022-02-28 00:00\",\"2022-02-28 00:00\",\"2022-02-28 00:00\",\"2022-02-28 00:00\",\"2022-02-28 00:00\",\"2022-02-28 00:00\",\"2022-02-28 00:00\",\"2022-02-28 00:00\",\"2022-02-28 00:00\",\"2022-02-28 00:00\",\"2022-02-28 00:00\",\"2022-02-28 00:00\",\"2022-02-28 00:00\",\"2022-02-28 00:00\",\"2022-02-28 00:00\",\"2022-02-28 00:00\",\"2022-02-28 00:00\",\"2022-02-28 00:00\",\"2022-02-28 00:00\",\"2022-02-28 00:00\",\"2022-02-28 00:00\",\"2022-02-28 00:00\",\"2022-02-28 00:00\",\"2022-02-28 00:00\",\"2022-02-28 00:00\",\"2022-02-28 00:00\",\"2022-02-28 00:00\",\"2022-02-28 00:00\",\"2022-02-28 00:00\",\"2022-02-28 00:00\",\"2022-02-28 00:00\",\"2022-02-28 00:00\",\"2022-02-28 00:00\",\"2022-02-28 00:00\",\"2022-02-28 00:00\",\"2022-02-28 00:00\",\"2022-02-28 00:00\",\"2022-02-28 00:00\",\"2022-02-28 00:00\",\"2022-02-28 00:00\",\"2022-02-28 00:00\",\"2022-02-28 00:00\",\"2022-02-28 00:00\",\"2022-02-28 00:00\",\"2022-02-28 00:00\",\"2022-02-28 00:00\",\"2022-02-28 00:00\",\"2022-02-28 00:00\",\"2022-02-28 00:00\",\"2022-02-28 00:00\",\"2022-02-28 00:00\",\"2022-02-28 00:00\",\"2022-02-28 00:00\",\"2022-02-28 00:00\",\"2022-02-28 00:00\",\"2022-02-28 00:00\",\"2022-02-28 00:00\",\"2022-02-28 00:00\",\"2022-02-28 00:00\",\"2022-02-28 00:00\",\"2022-02-28 00:00\",\"2022-02-28 00:00\",\"2022-02-28 00:00\",\"2022-02-28 00:00\",\"2022-02-28 00:00\",\"2022-02-28 00:00\",\"2022-02-28 00:00\",\"2022-02-28 00:00\",\"2022-02-28 00:00\",\"2022-02-28 00:00\",\"2022-02-28 00:00\",\"2022-02-28 00:00\",\"2022-02-28 00:00\",\"2022-02-28 00:00\",\"2022-02-28 00:00\",\"2022-02-28 00:00\",\"2022-02-28 00:00\",\"2022-02-28 00:00\",\"2022-02-28 00:00\",\"2022-02-28 00:00\",\"2022-02-28 00:00\",\"2022-02-28 00:00\",\"2022-02-28 00:00\",\"2022-02-28 00:00\",\"2022-02-28 00:00\",\"2022-02-28 00:00\",\"2022-02-28 00:00\",\"2022-02-28 00:00\",\"2022-02-28 00:00\",\"2022-02-28 00:00\",\"2022-02-28 00:00\",\"2022-02-28 00:00\",\"2022-02-28 00:00\",\"2022-02-28 00:00\",\"2022-02-28 00:00\",\"2022-02-28 00:00\",\"2022-02-28 00:00\",\"2022-02-28 00:00\",\"2022-02-28 00:00\",\"2022-02-28 00:00\",\"2022-02-28 00:00\",\"2022-02-28 00:00\",\"2022-02-28 00:00\",\"2022-02-28 00:00\",\"2022-02-28 00:00\",\"2022-02-28 00:00\",\"2022-02-28 00:00\",\"2022-02-28 00:00\",\"2022-02-28 00:00\",\"2022-02-28 00:00\",\"2022-02-28 00:00\",\"2022-02-28 00:00\",\"2022-02-28 00:00\",\"2022-02-28 00:00\",\"2022-02-28 00:00\",\"2022-02-28 00:00\",\"2022-02-28 00:00\",\"2022-02-28 00:00\",\"2022-02-28 00:00\",\"2022-02-28 00:00\",\"2022-02-28 00:00\",\"2022-02-28 00:00\",\"2022-02-28 00:00\",\"2022-02-28 00:00\",\"2022-02-28 00:00\",\"2022-02-28 00:00\",\"2022-02-28 00:00\",\"2022-02-28 00:00\",\"2022-02-28 00:00\",\"2022-02-28 00:00\",\"2022-02-28 00:00\",\"2022-02-28 00:00\",\"2022-02-28 00:00\",\"2022-02-28 00:00\",\"2022-02-28 00:00\",\"2022-02-28 00:00\",\"2022-02-28 00:00\",\"2022-02-28 00:00\",\"2022-02-28 00:00\",\"2022-02-28 00:00\",\"2022-02-28 00:00\",\"2022-02-28 00:00\",\"2022-02-28 00:00\",\"2022-02-28 00:00\",\"2022-02-28 00:00\",\"2022-02-28 00:00\",\"2022-02-28 00:00\",\"2022-02-28 00:00\",\"2022-02-28 00:00\",\"2022-02-28 00:00\",\"2022-02-28 00:00\",\"2022-02-28 00:00\",\"2022-02-28 00:00\",\"2022-02-28 00:00\",\"2022-02-28 00:00\",\"2022-02-28 00:00\",\"2022-02-28 00:00\",\"2022-02-28 00:00\",\"2022-02-28 00:00\",\"2022-02-28 00:00\",\"2022-02-28 00:00\",\"2022-02-28 00:00\",\"2022-02-28 00:00\",\"2022-02-28 00:00\",\"2022-02-28 00:00\",\"2022-02-28 00:00\",\"2022-02-28 00:00\",\"2022-02-28 00:00\",\"2022-02-28 00:00\",\"2022-02-28 00:00\",\"2022-02-28 00:00\",\"2022-02-28 00:00\",\"2022-02-28 00:00\",\"2022-02-28 00:00\",\"2022-02-28 00:00\",\"2022-02-28 00:00\",\"2022-02-28 00:00\",\"2022-02-28 00:00\",\"2022-02-28 00:00\",\"2022-02-28 00:00\",\"2022-02-28 00:00\",\"2022-02-28 00:00\",\"2022-02-28 00:00\",\"2022-02-28 00:00\",\"2022-02-28 00:00\",\"2022-02-28 00:00\",\"2022-02-28 00:00\",\"2022-02-28 00:00\",\"2022-02-28 00:00\",\"2022-02-28 00:00\",\"2022-02-28 00:00\",\"2022-02-28 00:00\",\"2022-02-28 00:00\",\"2022-02-28 00:00\",\"2022-02-28 00:00\",\"2022-02-28 00:00\",\"2022-02-28 00:00\",\"2022-02-28 00:00\",\"2022-02-28 00:00\",\"2022-02-28 00:00\",\"2022-02-28 00:00\",\"2022-02-28 00:00\",\"2022-02-28 00:00\",\"2022-02-28 00:00\",\"2022-02-28 00:00\",\"2022-02-28 00:00\",\"2022-02-28 00:00\",\"2022-02-28 00:00\",\"2022-02-28 00:00\",\"2022-02-28 00:00\",\"2022-02-28 00:00\",\"2022-02-28 00:00\",\"2022-02-28 00:00\",\"2022-02-28 00:00\",\"2022-02-28 00:00\",\"2022-02-28 00:00\",\"2022-02-28 00:00\",\"2022-02-28 00:00\",\"2022-02-28 00:00\",\"2022-02-28 00:00\",\"2022-02-28 00:00\",\"2022-02-28 00:00\",\"2022-02-28 00:00\",\"2022-02-28 00:00\",\"2022-02-28 00:00\",\"2022-02-28 00:00\",\"2022-02-28 00:00\",\"2022-02-28 00:00\",\"2022-02-28 00:00\",\"2022-02-28 00:00\",\"2022-02-28 00:00\",\"2022-02-28 00:00\",\"2022-02-28 00:00\",\"2022-02-28 00:00\",\"2022-02-28 00:00\",\"2022-02-28 00:00\",\"2022-02-28 00:00\",\"2022-02-28 00:00\",\"2022-02-28 00:00\",\"2022-02-28 00:00\",\"2022-02-28 00:00\",\"2022-02-28 00:00\",\"2022-02-28 00:00\",\"2022-02-28 00:00\",\"2022-02-28 00:00\",\"2022-02-28 00:00\",\"2022-02-28 00:00\",\"2022-02-28 00:00\",\"2022-02-28 00:00\",\"2022-02-28 00:00\",\"2022-02-28 00:00\",\"2022-02-28 00:00\",\"2022-02-28 00:00\",\"2022-02-28 00:00\",\"2022-02-28 00:00\",\"2022-02-28 00:00\",\"2022-02-28 00:00\",\"2022-02-28 00:00\",\"2022-02-28 00:00\"],\"Latitude\":{\"__ndarray__\":\"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\",\"dtype\":\"float64\",\"order\":\"little\",\"shape\":[6019]},\"Longitude\":{\"__ndarray__\":\"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\",\"dtype\":\"float64\",\"order\":\"little\",\"shape\":[6019]},\"Sonde1_SpCond\":{\"__ndarray__\":\"ZmZmZmZGikDXo3A9CkmKQIXrUbgeO4pA16NwPQpJikApXI/C9UiKQM3MzMzMSIpAw/UoXI9IikB7FK5H4UiKQHsUrkfhOopA4XoUrkdJikAzMzMzMz2KQK5H4XoUPIpAj8L1KFxJikCkcD0K10mKQPYoXI/CSYpASOF6FK5JikBI4XoUrjuKQLgehetRSopAcT0K16NKikC4HoXrUUqKQPYoXI/CSYpArkfhehQ8ikBSuB6F6zuKQOxRuB6FO4pACtejcD1KikBSuB6F60mKQAAAAAAASopAUrgehetJikCuR+F6FDSKQJqZmZmZR4pAuB6F61FGikCPwvUoXEWKQB+F61G4RIpAUrgehetDikDNzMzMzECKQBSuR+F6PopArkfhehRAikD2KFyPwjmKQBSuR+F6OIpArkfhehQ2ikB7FK5H4TSKQHE9CtejMopAUrgehes1ikDhehSuRzWKQClcj8L1MopASOF6FK4zikBmZmZmZjSKQPYoXI/COYpAPQrXo3A3ikCkcD0K1zuKQHsUrkfhPopArkfhehRCikCkcD0K1w2JQArXo3A9RIpAXI/C9ShAikDXo3A9CkWKQFyPwvUoRopAUrgehetFikB7FK5H4QqJQBSuR+F6RopAexSuR+FGikD2KFyPwkeKQArXo3A9SIpAAAAAAABIikAUrkfhekiKQB+F61G4SIpAKVyPwvVIikDsUbgehUmKQEjhehSuSYpAuB6F61FIikD2KFyPwkeKQHsUrkfhRopAH4XrUbhEikBSuB6F60GKQB+F61G4QIpAw/UoXI8+ikC4HoXrUTyKQD0K16NwO4pAFK5H4Xo6ikCF61G4HjmKQArXo3A9OIpArkfhehQ4ikDXo3A9CjeKQKRwPQrXNYpAhetRuB41ikBI4XoUrjWKQGZmZmZmNopAhetRuB43ikCuR+F6FDiKQHE9CtejOIpA7FG4HoU3ikAzMzMzMzeKQFyPwvUoNopA7FG4HoU1ikBI4XoUrjWKQIXrUbgeNYpACtejcD00ikD2KFyPwjOKQIXrUbgeM4pAZmZmZmYyikAzMzMzMzGKQBSuR+F6MIpA9ihcj8IvikDNzMzMzC6KQPYoXI/CLYpA4XoUrkctikAzMzMzMy2KQB+F61G4LIpAZmZmZmYsikD2KFyPwiuKQDMzMzMzK4pA16NwPQorikDhehSuRyuKQJqZmZmZK4pA4XoUrkcrikBcj8L1KCyKQArXo3A9LIpAUrgehesrikB7FK5H4SqKQFK4HoXrKYpASOF6FK4pikAzMzMzMymKQBSuR+F6KIpA9ihcj8InikCF61G4HieKQOxRuB6FJYpAhetRuB4likDD9ShcjySKQArXo3A9JIpAAAAAAAAkikBSuB6F6yOKQI/C9ShcI4pAH4XrUbgiikC4HoXrUSKKQMP1KFyPIopAXI/C9SgiikDXo3A9CiGKQArXo3A9IIpASOF6FK4fikDD9Shcjx6KQPYoXI/CHYpAKVyPwvUcikCamZmZmRuKQHE9CtejGopASOF6FK4ZikAK16NwPRiKQI/C9ShcF4pAH4XrUbgWikBSuB6F6xWKQBSuR+F6FIpAexSuR+ESikBSuB6F6xGKQClcj8L1EIpAj8L1KFwPikDXo3A9Cg+KQIXrUbgeD4pA16NwPQoPikCF61G4Hg+KQI/C9ShcD4pA7FG4HoUPikBSuB6F6w+KQIXrUbgeEYpAexSuR+ESikDXo3A9ChOKQM3MzMzMEopAmpmZmZkRikB7FK5H4RCKQAAAAAAAEIpAKVyPwvUOikDsUbgehQ2KQM3MzMzMCopAUrgehesJikDNzMzMzAiKQEjhehSuB4pAcT0K16MGikAAAAAAAAaKQEjhehSuBYpAZmZmZmYGikAfhetRuAaKQOF6FK5HB4pAuB6F61EIikB7FK5H4QiKQBSuR+F6CIpAuB6F61EIikDD9ShcjwiKQHE9CtejCIpAw/UoXI8IikDD9ShcjwiKQK5H4XoUCIpApHA9CtcHikDsUbgehQeKQDMzMzMzB4pACtejcD0GikDsUbgehQWKQOF6FK5HBYpAcT0K16MEikCuR+F6FASKQHE9CtejAopAPQrXo3ABikAfhetRuACKQK5H4XoUAIpAPQrXo3D/iUCF61G4Hv+JQEjhehSu/4lASOF6FK7/iUCkcD0K1/+JQPYoXI/C/4lA4XoUrkf/iUCF61G4Hv+JQI/C9Shc/YlAMzMzMzP9iUCF61G4Hv2JQK5H4XoU/IlAKVyPwvX6iUCamZmZmfeJQBSuR+F69olASOF6FK71iUAK16NwPfSJQJqZmZmZ84lAKVyPwvXyiUApXI/C9fKJQK5H4XoU8olA7FG4HoXviUBmZmZmZu6JQD0K16Nw7YlAmpmZmZnriUBxPQrXo+aJQKRwPQrX44lAuB6F61HgiUCF61G4Ht2JQMP1KFyP2IlAw/UoXI/UiUD2KFyPwtOJQGZmZmZm0olAj8L1KFzRiUDD9Shcj9CJQFK4HoXrz4lAAAAAAADQiUBI4XoUrs+JQIXrUbgez4lASOF6FK7PiUBxPQrXo9CJQDMzMzMzz4lAZmZmZmbKiUCF61G4HseJQI/C9Shcw4lArkfhehTAiUBmZmZmZryJQOF6FK5HuYlAXI/C9SiwiUDNzMzMzKyJQClcj8L1qIlASOF6FK6liUApXI/C9aKJQHsUrkfhoIlAKVyPwvWeiUAK16NwPZyJQKRwPQrXmYlAXI/C9SiWiUDNzMzMzJSJQFyPwvUokolAZmZmZmaQiUBmZmZmZo6JQK5H4XoUjIlAXI/C9SiKiUA9CtejcIeJQDMzMzMzhYlAmpmZmZmBiUDsUbgehX+JQOF6FK5HfYlAj8L1KFx7iUApXI/C9XiJQM3MzMzMdolA4XoUrkd1iUA9CtejcHOJQLgehetRcolAXI/C9ShwiUBmZmZmZm6JQAAAAAAAbIlAMzMzMzNriUDD9Shcj2qJQJqZmZmZaYlAH4XrUbhoiUBI4XoUrmeJQD0K16NwZYlAzczMzMxkiUC4HoXrUWSJQOF6FK5HY4lAZmZmZmZiiUAAAAAAAGKJQOF6FK5HYYlAKVyPwvVgiUC4HoXrUWCJQDMzMzMzX4lAKVyPwvVeiUBcj8L1KF6JQKRwPQrXXYlA4XoUrkddiUB7FK5H4VyJQClcj8L1XIlAXI/C9ShciUDhehSuR1uJQHsUrkfhWolArkfhehRaiUCF61G4HlmJQHE9CtejWIlAmpmZmZlXiUDXo3A9CleJQMP1KFyPVolArkfhehRWiUApXI/C9VSJQBSuR+F6VIlA16NwPQpViUDXo3A9ClWJQPYoXI/CVYlAexSuR+FWiUAAAAAAAFqJQOxRuB6FW4lAcT0K16NciUDsUbgehV2JQBSuR+F6XolAKVyPwvVeiUDD9Shcj16JQEjhehSuXYlA4XoUrkddiUBSuB6F61uJQEjhehSuWYlAhetRuB5ViUAUrkfhelKJQFK4HoXrT4lA16NwPQpNiUB7FK5H4UqJQGZmZmZmSIlAZmZmZmZGiUCuR+F6FESJQEjhehSuQYlAw/UoXI8+iUApXI/C9TyJQDMzMzMzO4lAmpmZmZk5iUCuR+F6FDiJQB+F61G4NolAzczMzMw0iUCF61G4HjOJQDMzMzMzMYlAH4XrUbgsiUDhehSuRyuJQIXrUbgeKYlAmpmZmZkniUAAAAAAACaJQHsUrkfhIolA4XoUrkchiUAzMzMzMx+JQGZmZmZmHIlAcT0K16MaiUDNzMzMzBiJQFyPwvUoFolAAAAAAAAUiUD2KFyPwhGJQFK4HoXrD4lASOF6FK4NiUB7FK5H4QqJQK5H4XoUAolApHA9Ctf9iEApXI/C9fqIQB+F61G49ohAZmZmZmbyiECuR+F6FOiIQLgehetR5IhAH4XrUbjeiED2KFyPwtuIQOxRuB6F2YhAzczMzMzYiED2KFyPwteIQM3MzMzM1ohA9ihcj8LViEAUrkfhetSIQOF6FK5H04hAAAAAAADSiEBcj8L1KNKIQNejcD0K04hAmpmZmZnTiEBxPQrXo9SIQPYoXI/C1YhA9ihcj8LXiEDD9Shcj9iIQMP1KFyP2ohASOF6FK7diECPwvUoXN+IQB+F61G44IhArkfhehTiiEC4HoXrUeKIQBSuR+F64ohAXI/C9SjiiEA9CtejcOGIQKRwPQrX34hAPQrXo3DfiEBxPQrXo9yIQHsUrkfh2ohAcT0K16PYiEBxPQrXo9SIQDMzMzMz04hA16NwPQrRiECF61G4Hs+IQFyPwvUozohApHA9CtfLiEAAAAAAAMqIQFyPwvUoyIhAhetRuB7HiEC4HoXrUcaIQEjhehSuxYhAhetRuB7FiECF61G4HsOIQPYoXI/CwYhASOF6FK7AiECamZmZmb+IQKRwPQrXvYhAFK5H4Xq8iEAUrkfheriIQIXrUbget4hAmpmZmZm1iEBcj8L1KLSIQGZmZmZmsohAPQrXo3CxiEApXI/C9bCIQMP1KFyPsIhAw/UoXI+wiEBSuB6F66+IQEjhehSur4hAFK5H4XquiEAAAAAAAK6IQD0K16NwrYhA16NwPQqtiEDXo3A9Cq2IQGZmZmZmrIhAZmZmZmasiEBcj8L1KKyIQFyPwvUorIhAXI/C9SisiEAK16NwPayIQMP1KFyPrIhAhetRuB6tiEApXI/C9ayIQMP1KFyPrIhAZmZmZmasiEBSuB6F66uIQM3MzMzMqohACtejcD2qiEAzMzMzM6mIQK5H4XoUqIhAzczMzMymiEBmZmZmZqaIQOxRuB6FpYhAH4XrUbikiEAAAAAAAKSIQJqZmZmZo4hAKVyPwvWiiEBcj8L1KKKIQNejcD0KoYhAXI/C9SigiEA9CtejcJ+IQLgehetRnohAw/UoXI+eiEAAAAAAAJ6IQOxRuB6FnYhAmpmZmZmdiEDhehSuR52IQDMzMzMznYhAAAAAAACciEDhehSuR5uIQD0K16NwmYhApHA9CteXiEA9CtejcJWIQOF6FK5Hk4hAXI/C9SiQiEB7FK5H4YyIQOF6FK5HiYhAPQrXo3CDiEBI4XoUrn+IQBSuR+F6fIhAj8L1KFx5iEBI4XoUrneIQOxRuB6Fd4hACtejcD14iED2KFyPwnmIQFyPwvUofIhAFK5H4XqAiEDD9Shcj4qIQJqZmZmZjYhACtejcD2QiEDXo3A9CpOIQM3MzMzMlIhACtejcD2WiEApXI/C9ZaIQM3MzMzMlohAexSuR+GWiEAK16NwPZaIQAAAAAAAlohAj8L1KFyViEB7FK5H4ZSIQBSuR+F6lIhAXI/C9SiUiEDsUbgehZOIQAAAAAAAkohAPQrXo3CRiEA9CtejcJGIQFK4HoXrk4hAMzMzMzOViECuR+F6FJiIQI/C9ShcmYhAMzMzMzObiECamZmZmZ2IQHsUrkfhnohAXI/C9SigiEAAAAAAAKKIQD0K16NwpYhAw/UoXI+miEAfhetRuKSIQArXo3A9oohAAAAAAACiiEAUrkfheqCIQKRwPQrXn4hAhetRuB6fiEC4HoXrUZ6IQPYoXI/CnYhAcT0K16OciEBSuB6F65uIQNejcD0Km4hAPQrXo3CZiEBI4XoUrpmIQPYoXI/CmYhAmpmZmZmXiEAAAAAAAJaIQD0K16NwkYhASOF6FK6PiEC4HoXrUY6IQHsUrkfhjIhACtejcD2MiED2KFyPwomIQB+F61G4iIhASOF6FK6HiEAK16NwPYaIQD0K16NwhYhACtejcD2EiECF61G4HoOIQHsUrkfhgohA7FG4HoWBiEC4HoXrUYCIQD0K16Nwf4hAAAAAAAB+iECF61G4HnuIQOF6FK5HeYhAMzMzMzN3iEAzMzMzM3WIQI/C9Shcc4hAMzMzMzNxiEAfhetRuGqIQLgehetRaIhA7FG4HoVliEDNzMzMzGKIQEjhehSuX4hAhetRuB5diEAfhetRuFqIQBSuR+F6WIhAhetRuB5ViEA9CtejcFOIQJqZmZmZUYhAuB6F61FOiEB7FK5H4UyIQI/C9ShcS4hAXI/C9ShKiEAzMzMzM0mIQAAAAAAARohAhetRuB5FiEBmZmZmZkSIQPYoXI/CQ4hAMzMzMzNDiEDNzMzMzEKIQBSuR+F6QohAZmZmZmZCiEAAAAAAAEKIQI/C9ShcQYhA7FG4HoVBiEBSuB6F60GIQEjhehSuQ4hAH4XrUbhEiEAzMzMzM0WIQPYoXI/CRYhAFK5H4XpGiEB7FK5H4UaIQFyPwvUoSIhAKVyPwvVIiEDXo3A9CkmIQBSuR+F6SIhAUrgehetHiEDXo3A9CkeIQFK4HoXrRYhAw/UoXI9EiEAzMzMzM0OIQNejcD0KQYhAXI/C9ShAiEBSuB6F6z2IQOF6FK5HPYhAH4XrUbg8iEAfhetRuDyIQHE9CtejPIhAUrgehes7iEBSuB6F6zuIQArXo3A9PIhAcT0K16M8iEBxPQrXozyIQHE9CtejPIhAuB6F61E8iEDD9ShcjzyIQArXo3A9PIhA4XoUrkc7iEDD9ShcjzqIQB+F61G4OohAzczMzMw6iEAfhetRuDqIQMP1KFyPOohAFK5H4Xo6iECamZmZmTmIQM3MzMzMPIhAuB6F61E+iECPwvUoXD+IQLgehetRQIhAH4XrUbhAiEDhehSuR0GIQB+F61G4QIhAw/UoXI9AiEA9CtejcD+IQEjhehSuPYhAhetRuB47iECamZmZmTGIQLgehetRLIhAmpmZmZkliEDNzMzMzB6IQHsUrkfhFohACtejcD0QiECamZmZmQOIQNejcD0K/YdAexSuR+H2h0D2KFyPwvOHQPYoXI/C8YdAj8L1KFzvh0B7FK5H4e6HQKRwPQrX74dArkfhehTyh0DXo3A9CvWHQPYoXI/C+YdAMzMzMzMBiEB7FK5H4QSIQFyPwvUoCIhAPQrXo3ALiECkcD0K1w2IQK5H4XoUEIhA9ihcj8ITiEB7FK5H4RSIQFyPwvUoFohAH4XrUbgWiEAzMzMzMxeIQI/C9ShcF4hA7FG4HoUXiEBI4XoUrheIQOxRuB6FF4hAj8L1KFwXiEApXI/C9RaIQFyPwvUoFohArkfhehQWiEA9CtejcBWIQBSuR+F6FIhAhetRuB4TiEDNzMzMzBCIQIXrUbgeCYhAH4XrUbgEiEBxPQrXo/6HQAAAAAAA9IdAAAAAAADqh0DD9Shcj+CHQM3MzMzM1IdAUrgehevJh0BI4XoUrr2HQOxRuB6FsYdAZmZmZmaih0CkcD0K14WHQDMzMzMzcYdAhetRuB5jh0CamZmZmVeHQOxRuB6FS4dAMzMzMzNBh0AAAAAAADaHQM3MzMzMLIdAMzMzMzMjh0AfhetRuBqHQIXrUbgeEYdAuB6F61EMh0A9CtejcAeHQJqZmZmZA4dAj8L1KFz/hkBSuB6F6/uGQI/C9Shc+YZAhetRuB73hkA9CtejcPOGQM3MzMzM8IZAKVyPwvXuhkDhehSuR+2GQEjhehSu64ZAXI/C9SjqhkBxPQrXo+iGQD0K16Nw54ZAAAAAAADmhkBxPQrXo+SGQB+F61G44oZAFK5H4XrghkApXI/C9d6GQEjhehSu3YZAw/UoXI/chkCF61G4HtuGQArXo3A92oZAPQrXo3DZhkBI4XoUrteGQOF6FK5H14ZAPQrXo3DXhkAAAAAAANiGQFyPwvUo2IZAH4XrUbjYhkBSuB6F69mGQLgehetR2oZAPQrXo3DbhkBSuB6F69uGQEjhehSu24ZApHA9CtfbhkBI4XoUrtuGQDMzMzMz24ZAAAAAAADahkB7FK5H4diGQPYoXI/C14ZApHA9CtfVhkBxPQrXo9SGQI/C9Shc04ZACtejcD3ShkDsUbgehdGGQB+F61G40IZAPQrXo3DPhkDhehSuR8+GQD0K16Nwz4ZAhetRuB7PhkApXI/C9c6GQLgehetRzoZAUrgehevNhkD2KFyPws2GQFK4HoXrzYZACtejcD3OhkDNzMzMzM6GQI/C9Shcz4ZAmpmZmZnPhkBSuB6F68+GQM3MzMzM0IZA4XoUrkfRhkBI4XoUrtGGQAAAAAAA0oZArkfhehTShkD2KFyPwtGGQD0K16Nw0YZA16NwPQrRhkB7FK5H4dCGQGZmZmZm0IZAAAAAAADQhkAzMzMzM8+GQMP1KFyPzoZAhetRuB7NhkD2KFyPwsuGQClcj8L1yoZAAAAAAADKhkApXI/C9ciGQAAAAAAAyIZAhetRuB7HhkBmZmZmZsaGQArXo3A9xoZAUrgehevFhkBmZmZmZsaGQDMzMzMzx4ZAUrgehevHhkApXI/C9ciGQHE9CtejyoZACtejcD3MhkD2KFyPws2GQD0K16Nwz4ZAexSuR+HQhkBSuB6F69OGQOF6FK5H1YZAXI/C9SjWhkAfhetRuNaGQHsUrkfh1oZAw/UoXI/WhkA9CtejcNWGQLgehetR1IZAFK5H4XrShkDD9Shcj9CGQHE9CtejzoZAFK5H4XrMhkCPwvUoXMmGQKRwPQrXx4ZApHA9CtfFhkBmZmZmZsSGQNejcD0Kw4ZA4XoUrkfBhkApXI/C9cCGQOxRuB6FwYZAZmZmZmbChkC4HoXrUcSGQJqZmZmZxYZA7FG4HoXHhkBmZmZmZsiGQD0K16NwyYZAFK5H4XrKhkApXI/C9cqGQJqZmZmZy4ZACtejcD3MhkBxPQrXo8yGQClcj8L1zIZAzczMzMzMhkApXI/C9cyGQFK4HoXrzYZAFK5H4XrOhkB7FK5H4c6GQIXrUbgez4ZA9ihcj8LPhkBxPQrXo9CGQOxRuB6F0YZACtejcD3ShkDNzMzMzNKGQI/C9Shc04ZAmpmZmZnThkBSuB6F69OGQK5H4XoU1IZAUrgehevThkCuR+F6FNSGQFK4HoXr04ZAmpmZmZnThkDNzMzMzNKGQAAAAAAA0oZA16NwPQrRhkBmZmZmZtCGQEjhehSuz4ZAMzMzMzPNhkDD9Shcj8yGQEjhehSuy4ZAhetRuB7LhkDD9Shcj8qGQKRwPQrXyYZAj8L1KFzJhkDXo3A9CsmGQBSuR+F6yIZAXI/C9SjIhkCuR+F6FMiGQEjhehSux4ZASOF6FK7HhkDhehSuR8eGQIXrUbgex4ZAexSuR+HGhkAUrkfhesaGQFK4HoXrxYZAj8L1KFzFhkAzMzMzM8WGQGZmZmZmxIZApHA9CtfDhkB7FK5H4cKGQK5H4XoUwoZA16NwPQrBhkBcj8L1KMCGQGZmZmZmvoZAXI/C9Si8hkApXI/C9biGQOF6FK5Hs4ZApHA9CtevhkBSuB6F66uGQMP1KFyPqIZAUrgeheujhkCF61G4HpWGQClcj8L1joZAPQrXo3CHhkAfhetRuICGQHsUrkfheIZAcT0K16NyhkDD9Shcj2qGQFyPwvUoYoZAw/UoXI9ahkDD9Shcj0yGQOF6FK5HQYZASOF6FK43hkBcj8L1KCSGQJqZmZmZG4ZA4XoUrkcThkBcj8L1KAyGQKRwPQrXA4ZAFK5H4Xr8hUD2KFyPwumFQM3MzMzM4oVAw/UoXI/chUBI4XoUrtWFQKRwPQrXz4VAPQrXo3DJhUDsUbgehcOFQI/C9Shcu4VASOF6FK6zhUAUrkfheqaFQHE9CtejnoVAcT0K16OOhUAUrkfheoaFQKRwPQrXf4VAzczMzMx4hUAUrkfhenKFQKRwPQrXY4VA7FG4HoVXhUAfhetRuFCFQM3MzMzMSIVAj8L1KFxBhUDsUbgehTmFQGZmZmZmMoVAuB6F61EqhUDsUbgehSOFQEjhehSuG4VAH4XrUbgQhUAUrkfhegiFQFyPwvUo/IRAKVyPwvX2hED2KFyPwvGEQKRwPQrX7YRAhetRuB7phEAUrkfheuSEQOF6FK5H24RA7FG4HoXVhEBSuB6F69GEQBSuR+F6zoRA16NwPQrLhEBSuB6F68eEQGZmZmZmxIRAexSuR+HAhEDNzMzMzLyEQI/C9ShcuYRAexSuR+EEgECuR+F6FHqEQM3MzMzMgIRAPQrXo3CBhEDXo3A9CoOEQFyPwvUohIRAw/UoXI+ChECPwvUoXIGEQB+F61G4gIRAUrgehet/hEA9CtejcH+EQClcj8L1foRAw/UoXI9+hEAK16NwPX6EQI/C9ShcfYRAUrgehet7hED2KFyPwnmEQKRwPQrXd4RAj8L1KFx3hECPwvUoXHeEQD0K16Nwd4RAmpmZmZl3hEBSuB6F63eEQFyPwvUoeIRAH4XrUbh4hEBI4XoUrnmEQMP1KFyPeoRA9ihcj8J7hEBxPQrXo3yEQOxRuB6FfYRA9ihcj8J9hECuR+F6FH6EQFyPwvUofoRACtejcD1+hEAK16NwPX6EQKRwPQrXfYRA7FG4HoV9hEAfhetRuHyEQEjhehSue4RAH4XrUbh6hEDXo3A9CnmEQGZmZmZmeIRAMzMzMzN3hEAK16NwPXaEQClcj8L1dIRA9ihcj8JzhEBmZmZmZnKEQOxRuB6FcYRAZmZmZmZwhEA9CtejcG+EQBSuR+F6boRAj8L1KFxrhEDD9Shcj2qEQKRwPQrXaYRAKVyPwvVohEBcj8L1KGiEQOxRuB6FZ4RASOF6FK5lhEAfhetRuGSEQAAAAAAAZIRA4XoUrkdjhEApXI/C9WKEQGZmZmZmYoRAUrgehethhEDhehSuR2GEQHE9CtejYIRAZmZmZmZghEAK16NwPWCEQHE9CtejYIRAMzMzMzNhhECPwvUoXGGEQAAAAAAAYoRAzczMzMxihEDsUbgehWOEQD0K16NwZYRAZmZmZmZmhEBI4XoUrmeEQClcj8L1aoRAPQrXo3BthEDD9Shcj3CEQJqZmZmZc4RAj8L1KFx3hEDD9Shcj3qEQHE9CtejfoRAZmZmZmaChEA9CtejcIuEQMP1KFyPkoRAZmZmZmaWhEBcj8L1KJqEQOF6FK5HnYRAzczMzMyghEBSuB6F66OEQEjhehSup4RAPQrXo3CrhEAUrkfheq6EQAAAAAAAsoRAFK5H4Xq2hECF61G4HrmEQM3MzMzMvIRAzczMzMzAhECuR+F6FMSEQEjhehSux4RAKVyPwvXKhED2KFyPwtGEQLgehetR6oRAexSuR+HqhEAUrkfheuyEQAAAAAAACIVAKVyPwvX+hEAfhetRuPSEQAAAAAAAJIVAuB6F61EshUDsUbgehWuFQFK4HoXrW4VAuB6F61FChUBmZmZmZjaFQM3MzMzMioVAH4XrUbiWhUCamZmZmX2FQFK4HoXrvYVAmpmZmZmhhUC4HoXrUc6FQDMzMzMz3YVAcT0K16P2hUCamZmZmQGGQFK4HoXrC4ZAUrgehesfhkCPwvUoXCWGQEjhehSuKYZA9ihcj8IrhkB7FK5H4SyGQB+F61G4LIZA7FG4HoUrhkCamZmZmSmGQD0K16NwJ4ZA16NwPQolhkBmZmZmZiKGQK5H4XoUIoZAZmZmZmYihkBI4XoUriOGQClcj8L1JoZAzczMzMwqhkBSuB6F6zWGQD0K16NwPYZAMzMzMzNHhkB7FK5H4VCGQM3MzMzMXIZAAAAAAABohkAK16NwPXyGQBSuR+F6iIZAH4XrUbiWhkDXo3A9CqOGQD0K16NwsYZAhetRuB7LhkDsUbgehdWGQDMzMzMz4YZAH4XrUbjqhkAzMzMzM/mGQMP1KFyPAIdAFK5H4XoOh0ApXI/C9RSHQK5H4XoUGodA7FG4HoUfh0D2KFyPwiOHQHE9CtejKIdAMzMzMzMvh0DsUbgehTOHQK5H4XoUOIdAPQrXo3A9h0D2KFyPwkGHQLgehetRSodAw/UoXI9Oh0C4HoXrUVKHQIXrUbgeVYdA16NwPQpZh0DhehSuR1+HQKRwPQrXZ4dAuB6F61Fsh0CkcD0K12+HQI/C9Shcc4dAcT0K16N2h0Bcj8L1KHqHQNejcD0KfYdASOF6FK6Bh0DXo3A9CoOHQFyPwvUohIdAcT0K16OEh0CPwvUoXIWHQD0K16NwhYdA7FG4HoWFh0AUrkfheoaHQK5H4XoUiIdAuB6F61GKh0CamZmZmZGHQI/C9ShclYdA7FG4HoWbh0CkcD0K16GHQI/C9ShcqYdAXI/C9Siwh0CuR+F6FLiHQClcj8L1vodAFK5H4XrKh0AfhetRuNCHQD0K16Nw14dASOF6FK7jh0DD9Shcj+iHQD0K16Nw7YdAzczMzMzwh0B7FK5H4fKHQB+F61G49IdAXI/C9Sj2h0DNzMzMzPaHQHE9Ctej9odAuB6F61H2h0DhehSuR/WHQD0K16Nw84dASOF6FK7xh0BSuB6F6++HQClcj8L17odAXI/C9Sjuh0Bcj8L1KO6HQFK4HoXr7YdAZmZmZmbuh0BxPQrXo+6HQDMzMzMz74dAAAAAAADwh0A9CtejcPGHQHsUrkfh8odAcT0K16P2h0AzMzMzM/eHQD0K16Nw94dAuB6F61H2h0D2KFyPwvWHQAAAAAAA9IdAUrgehevxh0BxPQrXo+6HQNejcD0K54dAj8L1KFzfh0B7FK5H4daHQLgehetRwIdApHA9Ctexh0AfhetRuKKHQMP1KFyPlIdAzczMzMyCh0CF61G4HnGHQAAAAAAAQIdAFK5H4Xouh0AfhetRuBqHQB+F61G4CIdAKVyPwvX4hkCkcD0K1+WGQLgehetR1IZAH4XrUbjAhkCF61G4Hq+GQFyPwvUokoZAUrgeheuBhkA9CtejcFuGQJqZmZmZRYZAmpmZmZkxhkBcj8L1KBqGQI/C9ShcA4ZAAAAAAADqhUAUrkfheqyFQD0K16NwlYVAPQrXo3B5hUBmZmZmZmCFQKRwPQrXQ4VAKVyPwvUqhUCamZmZmQ2FQIXrUbge84RAZmZmZmbUhED2KFyPwqmEQGZmZmZmioRApHA9CtdNhECPwvUoXDGEQLgehetREoRA4XoUrkfzg0AAAAAAANiDQDMzMzMzuYNAPQrXo3CDg0CF61G4Hl+DQB+F61G4RoNAMzMzMzMzg0DNzMzMzB6DQD0K16NwD4NA7FG4HoX/gkDsUbgehfOCQD0K16Nw54JAZmZmZmbegkA9CtejcNGCQArXo3A9xoJAMzMzMzPDgkApXI/C9cCCQD0K16Nwv4JAAAAAAAC+gkDNzMzMzLyCQAAAAAAAsoJA16NwPQqvgkDXo3A9CquCQNejcD0Kp4JAXI/C9SiigkDNzMzMzJyCQKRwPQrXlYJAFK5H4XqOgkAAAAAAAIiCQHsUrkfhgIJA16NwPQpzgkDhehSuR22CQHsUrkfhaIJAZmZmZmZkgkC4HoXrUWCCQI/C9ShcXYJACtejcD1agkCuR+F6FFiCQEjhehSuVYJAMzMzMzNTgkBSuB6F61GCQM3MzMzMUIJAhetRuB5PgkBcj8L1KE6CQHE9CtejTIJAMzMzMzNLgkD2KFyPwkmCQGZmZmZmSIJAw/UoXI9EgkApXI/C9UKCQI/C9ShcQYJAj8L1KFw/gkDhehSuRz2CQHsUrkfhOoJAw/UoXI82gkDD9ShcjzSCQK5H4XoUMoJAw/UoXI8wgkB7FK5H4S6CQOF6FK5HLYJAhetRuB4rgkCF61G4HimCQClcj8L1JoJAMzMzMzMlgkCkcD0K1yOCQAAAAAAAIoJAcT0K16MggkCamZmZmR+CQBSuR+F6HoJAKVyPwvUcgkBI4XoUrhuCQKRwPQrXGYJAj8L1KFwZgkAfhetRuBiCQFK4HoXrF4JAKVyPwvUWgkBI4XoUrhWCQBSuR+F6FIJA4XoUrkcTgkAUrkfhehKCQKRwPQrXEYJA9ihcj8IRgkBmZmZmZhCCQIXrUbgeD4JACtejcD0OgkDsUbgehQ2CQM3MzMzMDIJAZmZmZmYMgkBI4XoUrguCQIXrUbgeC4JAAAAAAAAKgkBI4XoUrgeCQFK4HoXrBYJASOF6FK4DgkA9CtejcAGCQM3MzMzM/oFApHA9Ctf7gUCuR+F6FPiBQGZmZmZm9IFAuB6F61HsgUAUrkfheuiBQFK4HoXr44FAj8L1KFzhgUDsUbgehd+BQJqZmZmZ3YFA9ihcj8LbgUBmZmZmZtyBQPYoXI/C3YFApHA9CtffgUCF61G4HuGBQHE9Ctej4oFAXI/C9SjkgUCamZmZmeWBQOxRuB6F54FAhetRuB7pgUBSuB6F6+uBQDMzMzMz7YFACtejcD3ugUAAAAAAAPCBQOF6FK5H8YFAH4XrUbjygUAAAAAAAPSBQEjhehSu9YFAZmZmZmb2gUDNzMzMzPaBQFK4HoXr94FAH4XrUbj4gUCPwvUoXPmBQJqZmZmZ+YFApHA9Ctf5gUCuR+F6FPqBQArXo3A9+oFAcT0K16P6gUDhehSuR/uBQKRwPQrX+4FApHA9Ctf7gUD2KFyPwvuBQAAAAAAA/IFAZmZmZmb8gUDNzMzMzPyBQDMzMzMz/YFAexSuR+H8gUDD9Shcj/yBQArXo3A9/IFApHA9Ctf7gUDhehSuR/uBQBSuR+F6+oFApHA9Ctf5gUCF61G4HvmBQLgehetR+IFA7FG4HoX1gUAUrkfhevSBQOF6FK5H84FAH4XrUbjygUDsUbgehfGBQHE9Ctej8IFAMzMzMzPvgUAfhetRuO6BQMP1KFyP7oFAZmZmZmbugUC4HoXrUe6BQGZmZmZm7oFAZmZmZmbugUAfhetRuO6BQIXrUbge74FApHA9CtfvgUAUrkfhevCBQClcj8L18IFAMzMzMzPxgUBI4XoUrvGBQArXo3A98oFAKVyPwvXygUA9CtejcPOBQKRwPQrX84FA9ihcj8LzgUD2KFyPwvOBQEjhehSu84FAUrgehevzgUCamZmZmfOBQOF6FK5H84FAhetRuB7zgUDXo3A9CvOBQHsUrkfh8oFAw/UoXI/ygUC4HoXrUfKBQFyPwvUo8oFApHA9CtfxgUA9CtejcPGBQDMzMzMz8YFAuB6F61HwgUDsUbgehe+BQMP1KFyP7oFAUrgehevtgUA9CtejcO2BQB+F61G47IFAMzMzMzPrgUA9CtejcOmBQFK4HoXr54FArkfhehTmgUCuR+F6FOSBQK5H4XoU4IFAFK5H4XregUCuR+F6FNyBQM3MzMzM2IFAmpmZmZnVgUAAAAAAANCBQB+F61G4yIFA9ihcj8LFgUCuR+F6FMKBQClcj8L1voFAPQrXo3C7gUAUrkfheriBQI/C9ShctYFACtejcD2ygUDD9Shcj7CBQDMzMzMzr4FArkfhehSugUAzMzMzM62BQIXrUbgerYFA4XoUrketgUCPwvUoXK2BQD0K16NwrYFAmpmZmZmtgUDD9Shcj66BQM3MzMzMroFAexSuR+GugUAfhetRuK6BQFyPwvUoroFA9ihcj8KtgUAzMzMzM62BQNejcD0KrYFA4XoUrketgUD2KFyPwq2BQM3MzMzMroFAPQrXo3CvgUAK16NwPbCBQNejcD0KsYFAXI/C9SiygUCF61G4HrOBQFK4HoXrtYFAhetRuB63gUAAAAAAALiBQHsUrkfhuIFA7FG4HoW5gUBcj8L1KLqBQHE9CtejuoFAj8L1KFy7gUBmZmZmZryBQDMzMzMzvYFAUrgeheu9gUDhehSuR7+BQAAAAAAAwIFAcT0K16PAgUDsUbgehcGBQK5H4XoUwoFAcT0K16PCgUBmZmZmZsKBQLgehetRwoFAw/UoXI/CgUApXI/C9cKBQD0K16Nww4FA9ihcj8LDgUD2KFyPwsOBQKRwPQrXw4FA9ihcj8LDgUCkcD0K18OBQK5H4XoUxIFAcT0K16PEgUB7FK5H4cSBQIXrUbgexYFA16NwPQrFgUCF61G4HsWBQDMzMzMzxYFAj8L1KFzFgUDXo3A9CsWBQNejcD0KxYFAH4XrUbjEgUDD9Shcj8SBQB+F61G4xIFAzczMzMzEgUApXI/C9cSBQIXrUbgexYFA4XoUrkfFgUBcj8L1KMaBQMP1KFyPxoFAH4XrUbjGgUApXI/C9caBQClcj8L1xoFAMzMzMzPHgUAzMzMzM8eBQB+F61G4xoFAAAAAAADGgUAzMzMzM8WBQK5H4XoUxIFAPQrXo3DDgUBxPQrXo8KBQFyPwvUowoFAmpmZmZnBgUB7FK5H4cCBQAAAAAAAwIFAhetRuB6/gUB7FK5H4b6BQM3MzMzMvoFAKVyPwvW+gUApXI/C9b6BQB+F61G4voFApHA9Cte9gUCuR+F6FL6BQFyPwvUovoFArkfhehS+gUD2KFyPwr2BQI/C9ShcvYFAzczMzMy8gUAUrkfheryBQFyPwvUovIFArkfhehS8gUAAAAAAALyBQEjhehSuu4FAMzMzMzO7gUBxPQrXo7qBQFyPwvUouoFAXI/C9Si6gUBxPQrXo7qBQNejcD0Ku4FAhetRuB67gUDhehSuR7uBQIXrUbgeu4FAMzMzMzO7gUA9CtejcLuBQAAAAAAAvIFAw/UoXI+8gUApXI/C9byBQHsUrkfhvIFAH4XrUbi6gUDhehSuR7mBQKRwPQrXt4FAAAAAAAC2gUAUrkfherSBQIXrUbger4FAPQrXo3CtgUAK16NwPaqBQGZmZmZmqIFAexSuR+GmgUAAAAAAAKaBQNejcD0KpYFAZmZmZmakgUCkcD0K16OBQJqZmZmZo4FAPQrXo3CjgUBmZmZmZqSBQM3MzMzMpIFASOF6FK6lgUBxPQrXo6aBQLgehetRqIFACtejcD2qgUAK16NwPbCBQFK4HoXrs4FAuB6F61G4gUA9CtejcLuBQKRwPQrXvYFAcT0K16PAgUAzMzMzM8OBQK5H4XoUxoFAzczMzMzIgUDD9Shcj8qBQFK4HoXry4FAFK5H4XrMgUBcj8L1KMyBQFyPwvUozIFAXI/C9SjMgUBSuB6F68uBQOF6FK5Hy4FAmpmZmZnJgUDhehSuR8mBQNejcD0KyYFAKVyPwvXIgUDNzMzMzMiBQB+F61G4yIFAexSuR+HIgUCF61G4HsmBQDMzMzMzyYFAj8L1KFzJgUDhehSuR8mBQNejcD0KyYFAexSuR+HIgUDNzMzMzMiBQM3MzMzMyIFAzczMzMzIgUD2KFyPwseBQJqZmZmZx4FAmpmZmZnHgUBSuB6F68eBQAAAAAAAyIFAUrgehevHgUBSuB6F68eBQKRwPQrXx4FAUrgehevHgUCuR+F6FMiBQGZmZmZmyIFAFK5H4XrIgUAK16NwPciBQK5H4XoUyIFAXI/C9SjIgUDD9Shcj8iBQEjhehSuyYFArkfhehTKgUDD9Shcj8qBQClcj8L1yoFASOF6FK7LgUBcj8L1KMyBQClcj8L1zIFASOF6FK7NgUBmZmZmZs6BQHsUrkfhzoFA7FG4HoXPgUAUrkfhetCBQDMzMzMz0YFAFK5H4XrSgUApXI/C9dKBQI/C9Shc04FAj8L1KFzTgUBxPQrXo+aBQIXrUbge54FA4XoUrkfngUB7FK5H4eaBQArXo3A95IFAuB6F61HigUApXI/C9d6BQLgehetR3IFAexSuR+HYgUD2KFyPwtOBQI/C9Shcz4FA9ihcj8LLgUCkcD0K18eBQNejcD0KxYFAH4XrUbjCgUA9CtejcMGBQJqZmZmZwYFACtejcD3CgUApXI/C9cKBQOxRuB6Fw4FAuB6F61HEgUAfhetRuMqBQK5H4XoUzIFArkfhehTMgUDhehSuR8uBQMP1KFyPyoFAzczMzMzIgUApXI/C9caBQOxRuB6FxYFACtejcD3EgUC4HoXrUcKBQI/C9ShcvYFAH4XrUbi6gUCkcD0K17eBQEjhehSutYFAcT0K16OygUAzMzMzM7GBQNejcD0Kr4FA9ihcj8KtgUApXI/C9ayBQEjhehSuq4FA4XoUrkergUBmZmZmZqqBQEjhehSuqYFASOF6FK6pgUDsUbgehamBQPYoXI/CqYFAAAAAAACqgUDsUbgehamBQOF6FK5HqYFA4XoUrkepgUApXI/C9aiBQOxRuB6FqYFA9ihcj8KpgUBcj8L1KKiBQD0K16Nwp4FAH4XrUbimgUAAAAAAAKaBQPYoXI/CpYFAPQrXo3ClgUCF61G4HqWBQB+F61G4pIFA9ihcj8KjgUB7FK5H4aKBQM3MzMzMoIFAKVyPwvWegUDD9Shcj5yBQFK4HoXrmYFAAAAAAACYgUBI4XoUrpOBQHsUrkfhkIFAhetRuB6LgUBSuB6F64eBQClcj8L1hIFA7FG4HoWBgUApXI/C9X6BQGZmZmZmfIFAFK5H4Xp6gUBmZmZmZniBQDMzMzMzdYFAKVyPwvVwgUAAAAAAAGaBQPYoXI/CX4FAUrgehetXgUAK16NwPVCBQClcj8L1SIFAZmZmZmY8gUAUrkfheiCBQClcj8L1FoFAcT0K16MOgUD2KFyPwgWBQFK4HoXr/YBAw/UoXI/0gEBxPQrXo+yAQMP1KFyP3oBAcT0K16PWgED2KFyPws2AQJqZmZmZu4BA4XoUrkezgEAAAAAAAKqAQBSuR+F6ooBAXI/C9SiagECuR+F6FJSAQJqZmZmZh4BAMzMzMzODgEAAAAAAAICAQHsUrkfhfIBAH4XrUbh6gEBmZmZmZniAQClcj8L1doBAUrgehet1gEBxPQrXo3SAQD0K16Nwc4BAuB6F61FygEAfhetRuHCAQFK4HoXrb4BA7FG4HoVvgEDNzMzMzG6AQEjhehSubYBAKVyPwvVsgEAzMzMzM2mAQHE9CtejaIBAuB6F61FogECuR+F6FGiAQPYoXI/CZ4BA7FG4HoVngEDhehSuR2eAQClcj8L1ZoBA4XoUrkdngEApXI/C9WaAQM3MzMzMZoBAcT0K16NmgEAfhetRuGaAQIXrUbgeZ4BASOF6FK5ngEBSuB6F62eAQDMzMzMzZ4BA16NwPQpngEDXo3A9CmeAQJqZmZmZZ4BAAAAAAABogEBcj8L1KGiAQBSuR+F6aIBAcT0K16NogEAzMzMzM2eAQK5H4XoUZoBAPQrXo3BlgEA9CtejcGWAQLgehetRZoBAH4XrUbhmgECPwvUoXGeAQOxRuB6FZ4BAuB6F61FogEC4HoXrUWiAQClcj8L1aIBAmpmZmZlpgEAAAAAAAGqAQFK4HoXraYBApHA9CtdpgEB7FK5H4WiAQI/C9ShcZ4BAH4XrUbhmgEBmZmZmZmaAQOxRuB6FZ4BAXI/C9ShogEDhehSuR2mAQMP1KFyPaoBArkfhehRsgECkcD0K122AQOxRuB6Fd4BArkfhehR6gEC4HoXrUXyAQAAAAAAAfoBA7FG4HoV/gEAfhetRuICAQBSuR+F6goBASOF6FK6DgEDNzMzMzISAQHE9CtejhoBAUrgeheuHgEC4HoXrUYiAQM3MzMzMiIBAPQrXo3CJgEAK16NwPYqAQIXrUbgei4BASOF6FK6NgEDNzMzMzI6AQPYoXI/Cj4BAj8L1KFyRgEApXI/C9ZKAQBSuR+F6lIBASOF6FK6VgEDNzMzMzJaAQFK4HoXrl4BAj8L1KFyZgECamZmZmZuAQB+F61G4nIBAj8L1KFydgED2KFyPwp2AQK5H4XoUnoBAXI/C9SiegECkcD0K15+AQB+F61G4oIBAhetRuB6hgECPwvUoXKGAQGZmZmZmoYBAPQrXo3ChgEBSuB6F66GAQGZmZmZmooBAKVyPwvWigEDsUbgehaOAQPYoXI/Co4BASOF6FK6jgECkcD0K16OAQAAAAAAApIBACtejcD2kgECF61G4HqWAQHE9CtejpIBA9ihcj8KlgEDXo3A9CqeAQFyPwvUopoBA9ihcj8KngEB7FK5H4aiAQLgehetRqIBA7FG4HoWpgEAK16NwPaqAQHsUrkfhqoBAPQrXo3CrgEAK16NwPayAQB+F61G4rIBAH4XrUbisgECF61G4Hq2AQHE9CtejtoBAw/UoXI+4gEBI4XoUrrOAQMP1KFyPsoBAUrgeheutgEDNzMzMzK6AQIXrUbgexYBA16NwPQq7gEDhehSuR72AQLgehetRwIBAcT0K16PCgEDXo3A9CseAQBSuR+F6yoBASOF6FK7NgEBI4XoUrs+AQI/C9Shc0YBAZmZmZmbSgECPwvUoXNOAQBSuR+F61IBA16NwPQrVgED2KFyPwtWAQAAAAAAA1oBAAAAAAADWgEAAAAAAANaAQD0K16Nw1YBAw/UoXI/UgEBI4XoUrtOAQM3MzMzM0oBAAAAAAADSgECamZmZmdGAQMP1KFyP0IBA7FG4HoXPgEC4HoXrUc6AQJqZmZmZzYBAUrgehevLgED2KFyPwsuAQOxRuB6FvYBACtejcD3AgEA9CtejcMGAQHsUrkfhwoBAUrgehevDgEBxPQrXo8SAQFK4HoXrxYBACtejcD3GgEBmZmZmZsaAQIXrUbgex4BAUrgehevHgEDsUbgehcmAQD0K16NwyYBAj8L1KFzJgEDsUbgehcmAQArXo3A9yoBAhetRuB7LgEAK16NwPcyAQMP1KFyPzoBAMzMzMzPPgECF61G4Hs+AQClcj8L1zoBAFK5H4XrOgEAAAAAAAM6AQK5H4XoUzoBAAAAAAADOgEBI4XoUrs2AQClcj8L1zIBAcT0K16PKgEAAAAAAAMqAQJqZmZmZyYBAmpmZmZnJgECuR+F6FMqAQFyPwvUoyoBAMzMzMzPLgEDNzMzMzMqAQMP1KFyPyoBACtejcD3KgEAUrkfhesqAQNejcD0Ky4BAPQrXo3DLgED2KFyPwsuAQEjhehSuy4BASOF6FK7LgEBSuB6F68uAQClcj8L1zIBApHA9CtfNgEDD9Shcj86AQIXrUbgez4BArkfhehTQgEApXI/C9dCAQAAAAAAA0oBAzczMzMzSgED2KFyPwtOAQIXrUbge1YBArkfhehTWgEDsUbgehdeAQHE9Ctej2IBAPQrXo3DZgEDNzMzMzNqAQNejcD0K3YBA16NwPQrfgEDXo3A9CuGAQOF6FK5H5YBAMzMzMzPngEDXo3A9CumAQOF6FK5H64BAMzMzMzPtgECPwvUoXO+AQArXo3A99IBAzczMzMz0gECF61G4HvWAQAAAAAAA9oBAcT0K16P2gEA9CtejcPeAQBSuR+F6+IBAzczMzMz4gEAzMzMzM/mAQI/C9Shc+YBAexSuR+H6gEBSuB6F6/uAQClcj8L1/IBAUrgehev9gEApXI/C9f6AQEjhehSu/4BAH4XrUbgCgUBmZmZmZgSBQJqZmZmZBYFAZmZmZmYGgUApXI/C9QaBQIXrUbgeB4FAPQrXo3AHgUCkcD0K1weBQAAAAAAACIFAUrgehesHgUAAAAAAAAiBQK5H4XoUCIFAw/UoXI8IgUA9CtejcAmBQGZmZmZmCoFArkfhehQMgUDsUbgehQ2BQOF6FK5HEYFAhetRuB4TgUApXI/C9RSBQClcj8L1FoFAZmZmZmYYgUAzMzMzMxmBQD0K16NwGYFAmpmZmZkZgUC4HoXrURqBQM3MzMzMGoFAhetRuB4bgUCF61G4HhuBQIXrUbgeG4FAMzMzMzMbgUDhehSuRxuBQI/C9ShcG4FAj8L1KFwbgUA9CtejcBuBQD0K16NwG4FAPQrXo3AbgUCPwvUoXBuBQIXrUbgeG4FAhetRuB4bgUAzMzMzMxuBQNejcD0KG4FAH4XrUbgagUAK16NwPRqBQPYoXI/CGYFAPQrXo3AZgUDNzMzMzBiBQArXo3A9GIFAmpmZmZkXgUApXI/C9RaBQHE9CtejFoFAXI/C9SgWgUAfhetRuBSBQArXo3A9FIFAAAAAAAAUgUAAAAAAABSBQArXo3A9FIFAuB6F61EUgUAK16NwPRSBQArXo3A9FIFAFK5H4XoUgUB7FK5H4RSBQOF6FK5HFYFAPQrXo3AVgUBSuB6F6xWBQK5H4XoUFoFAXI/C9SgWgUAAAAAAABaBQArXo3A9FoFAAAAAAAAWgUD2KFyPwhWBQI/C9ShcFYFA16NwPQoVgUDNzMzMzBSBQHE9CtejFIFAXI/C9SgUgUDsUbgehROBQHsUrkfhEoFAZmZmZmYSgUBSuB6F6xGBQIXrUbgeEYFAFK5H4XoQgUCuR+F6FBCBQKRwPQrXD4FAw/UoXI8OgUC4HoXrUQ6BQK5H4XoUDoFArkfhehQOgUCuR+F6FA6BQFK4HoXrDYFAXI/C9SgOgUBmZmZmZg6BQGZmZmZmDoFAAAAAAAAOgUBcj8L1KA6BQAAAAAAADoFAmpmZmZkNgUB7FK5H4QyBQFK4HoXrC4FAexSuR+EKgUDNzMzMzAiBQFK4HoXrB4FAzczMzMwGgUBI4XoUrgWBQGZmZmZmBIFApHA9CtcDgUBSuB6F6wOBQMP1KFyPBIFASOF6FK4FgUDNzMzMzAaBQJqZmZmZB4FAMzMzMzMJgUCkcD0K1wmBQHE9CtejCoFAmpmZmZkLgUBxPQrXowyBQI/C9ShcDYFAzczMzMwMgUBcj8L1KAyBQIXrUbgeC4FAexSuR+EKgUB7FK5H4QqBQClcj8L1CoFAKVyPwvUKgUDD9ShcjwqBQFK4HoXrCYFASOF6FK4JgUA9CtejcAmBQPYoXI/CCYFAUrgehesJgUBmZmZmZgqBQBSuR+F6CoFAuB6F61EKgUCuR+F6FAqBQFK4HoXrCYFAXI/C9SgKgUBxPQrXowqBQNejcD0KC4FAhetRuB4LgUApXI/C9QqBQHsUrkfhCoFAexSuR+EKgUDNzMzMzAqBQNejcD0KC4FAPQrXo3ALgUAAAAAAAAyBQAAAAAAADIFA9ihcj8ILgUDsUbgehQuBQIXrUbgeC4FAzczMzMwKgUAfhetRuAqBQHE9CtejCoFAZmZmZmYKgUBSuB6F6wmBQOxRuB6FCYFAMzMzMzMJgUAzMzMzMwmBQClcj8L1CIFA16NwPQoJgUDD9ShcjwiBQGZmZmZmCIFASOF6FK4HgUDsUbgehQeBQHE9CtejBoFAXI/C9SgGgUBI4XoUrgWBQIXrUbgeBYFAcT0K16MEgUAUrkfhegSBQGZmZmZmBIFAUrgehesDgUA9CtejcAOBQNejcD0KA4FAH4XrUbgCgUDNzMzMzAKBQClcj8L1AoFA16NwPQoDgUCF61G4HgOBQM3MzMzMAoFACtejcD0CgUCF61G4HgGBQClcj8L1AIFAzczMzMwAgUAfhetRuACBQB+F61G4AIFAuB6F61EAgUD2KFyPwv+AQClcj8L1/oBAUrgehev9gEDhehSuR/2AQMP1KFyP/IBAFK5H4Xr8gEBmZmZmZvyAQGZmZmZm/IBAUrgehev7gEDXo3A9CvuAQArXo3A9+oBAj8L1KFz5gEB7FK5H4fiAQM3MzMzM+IBAzczMzMz4gEAfhetRuPiAQFyPwvUo+IBASOF6FK73gEDhehSuR/eAQM3MzMzM9oBAH4XrUbj2gECF61G4HveAQDMzMzMz94BAMzMzMzP3gEDNzMzMzPaAQPYoXI/C9YBAMzMzMzP1gEAfhetRuPSAQGZmZmZm9IBAuB6F61H0gEC4HoXrUfSAQK5H4XoU9IBA4XoUrkfzgEBmZmZmZvKAQPYoXI/C8YBA16NwPQrxgEBxPQrXo/CAQB+F61G48IBAH4XrUbjwgEB7FK5H4fCAQClcj8L18IBAcT0K16PwgEAAAAAAAPCAQJqZmZmZ74BApHA9CtfvgEAK16NwPfCAQNejcD0K8YBAmpmZmZnxgEBmZmZmZvKAQHE9Ctej8oBAuB6F61HygEAK16NwPfKAQK5H4XoU8oBAFK5H4XrygECF61G4HvOAQOxRuB6F84BAAAAAAAD0gEDD9Shcj/SAQM3MzMzM9IBAH4XrUbj0gEAUrkfhevSAQBSuR+F69IBAH4XrUbj0gEAzMzMzM/WAQPYoXI/C84BAcT0K16P0gEBxPQrXo/SAQMP1KFyP9IBAH4XrUbj0gEAzMzMzM/WAQKRwPQrX9YBAcT0K16P2gEAzMzMzM/eAQOF6FK5H94BAhetRuB75gEApXI/C9fqAQB+F61G4+oBA16NwPQr7gEAzMzMzM/uAQFK4HoXr+4BAXI/C9Sj8gEC4HoXrUfyAQGZmZmZm/IBAXI/C9Sj8gEAAAAAAAPyAQI/C9Shc+4BAcT0K16P6gEAUrkfhevqAQMP1KFyP+oBAXI/C9Sj6gEDsUbgehfmAQClcj8L1+IBA4XoUrkf3gEDD9Shcj/aAQGZmZmZm9oBAFK5H4Xr2gEAUrkfhevaAQHsUrkfh9oBAexSuR+H2gEBmZmZmZvaAQLgehetR9oBArkfhehT2gEAK16NwPfaAQMP1KFyP9oBAhetRuB73gED2KFyPwveAQKRwPQrX94BASOF6FK73gECamZmZmfeAQOF6FK5H94BAPQrXo3D3gEA9CtejcPeAQD0K16Nw94BAmpmZmZn3gEAAAAAAAPiAQKRwPQrX94BAmpmZmZn3gEA9CtejcPeAQI/C9Shc94BAj8L1KFz3gEDhehSuR/eAQOxRuB6F94BA9ihcj8L3gEDD9Shcj/iAQM3MzMzM+IBAH4XrUbj4gEDD9Shcj/iAQHsUrkfh+IBAKVyPwvX4gEA9CtejcPmAQPYoXI/C+YBAFK5H4Xr6gEBxPQrXo/qAQHE9Ctej+oBAZmZmZmb6gEBmZmZmZvqAQMP1KFyP+oBAzczMzMz6gEB7FK5H4fqAQOF6FK5H+4BApHA9Ctf7gEAK16NwPfyAQFK4HoXr+4BAXI/C9Sj8gEBxPQrXo/yAQNejcD0K/YBApHA9Ctf9gEDNzMzMzP6AQJqZmZmZ/4BAuB6F61ECgUB7FK5H4QKBQJqZmZmZA4FAuB6F61EEgUDsUbgehQWBQK5H4XoUBoFAzczMzMwGgUDhehSuRweBQDMzMzMzB4FAcT0K16MGgUDXo3A9CgWBQLgehetRBIFApHA9CtcDgUDhehSuRwOBQHE9CtejAoFAUrgehesBgUBcj8L1KACBQHE9Ctej/oBASOF6FK79gEDhehSuR/2AQHsUrkfh/IBAhetRuB79gECF61G4Hv2AQD0K16Nw/YBAMzMzMzP9gEApXI/C9fyAQHE9Ctej/IBA9ihcj8L7gEA9CtejcPuAQNejcD0K+4BA16NwPQr7gECF61G4HvuAQClcj8L1+oBAZmZmZmb6gEBI4XoUrvmAQOF6FK5H+YBAMzMzMzP5gEDNzMzMzPiAQDMzMzMz+YBA4XoUrkf5gECkcD0K1/mAQFK4HoXr+YBAXI/C9Sj6gEBI4XoUrvmAQOF6FK5H+YBAj8L1KFz5gEA9CtejcPmAQOxRuB6F+YBApHA9Ctf5gEAK16NwPfqAQBSuR+F6+oBAXI/C9Sj6gECamZmZmfmAQPYoXI/C+YBAUrgehev5gEAUrkfhevqAQClcj8L1+oBASOF6FK77gECamZmZmfuAQFyPwvUo/IBAAAAAAAD8gECuR+F6FPyAQHsUrkfh/IBAPQrXo3D9gEAK16NwPf6AQClcj8L1/oBAPQrXo3D/gEDsUbgehf+AQEjhehSu/4BAUrgehev/gEAK16NwPQCBQIXrUbgeAYFAj8L1KFwBgUA9CtejcAGBQJqZmZmZAYFAUrgehesBgUC4HoXrUQKBQFyPwvUoAoFAAAAAAAACgUCkcD0K1wGBQAAAAAAAAoFArkfhehQCgUC4HoXrUQKBQFyPwvUoAoFA9ihcj8IBgUApXI/C9QCBQHE9CtejAIFAw/UoXI8AgUBmZmZmZgCBQBSuR+F6AIFAcT0K16MAgUDD9ShcjwCBQArXo3A9AIFApHA9Ctf/gEDhehSuR/+AQOF6FK5H/4BAPQrXo3D/gED2KFyPwv+AQArXo3A9AIFAZmZmZmYAgUAUrkfhegCBQMP1KFyPAIFAFK5H4XoAgUBSuB6F6/+AQB+F61G4AIFAMzMzMzMBgUCkcD0K1wGBQArXo3A9AoFAexSuR+ECgUCF61G4HgOBQI/C9ShcA4FAAAAAAAAEgUApXI/C9QSBQEjhehSuBYFA16NwPQoHgUCkcD0K1weBQLgehetRCIFAuB6F61EIgUAK16NwPQiBQK5H4XoUCIFACtejcD0IgUB7FK5H4QiBQOF6FK5HCYFA9ihcj8IJgUD2KFyPwgmBQEjhehSuCYFASOF6FK4JgUCamZmZmQmBQAAAAAAACoFAcT0K16MKgUD2KFyPwguBQGZmZmZmDIFAH4XrUbgMgUDXo3A9Cg2BQD0K16NwDYFASOF6FK4NgUCuR+F6FA6BQHsUrkfhDoFAMzMzMzMPgUCPwvUoXA+BQD0K16NwD4FA7FG4HoUPgUDsUbgehQ+BQOxRuB6FD4FApHA9CtcPgUAUrkfhehCBQI/C9ShcEYFAUrgehesRgUBcj8L1KBKBQK5H4XoUEoFArkfhehQSgUC4HoXrURKBQMP1KFyPEoFAMzMzMzMTgUAAAAAAABSBQFyPwvUoFIFAZmZmZmYUgUDD9ShcjxSBQBSuR+F6FIFAFK5H4XoUgUBxPQrXoxSBQArXo3A9FoFAcT0K16MWgUCPwvUoXBeBQK5H4XoUGIFAuB6F61EYgUB7FK5H4RiBQPYoXI/CGYFACtejcD0agUDXo3A9ChuBQD0K16NwG4FAUrgehesbgUBcj8L1KByBQGZmZmZmHIFAFK5H4XocgUAUrkfhehyBQM3MzMzMHIFAhetRuB4dgUDNzMzMzB6BQFyPwvUoIIFAKVyPwvUggUAAAAAAACKBQI/C9ShcI4FAFK5H4XokgUCPwvUoXCeBQM3MzMzMKIFArkfhehQqgUDhehSuRyuBQMP1KFyPLIFAj8L1KFwtgUBcj8L1KC6BQIXrUbgeL4FAZmZmZmYwgUD2KFyPwjGBQIXrUbgeM4FAFK5H4Xo0gUDXo3A9CjWBQKRwPQrXNYFAH4XrUbg2gUBmZmZmZjiBQOxRuB6FOYFApHA9Ctc7gUDNzMzMzDyBQOxRuB6FPYFAAAAAAAA+gUDD9Shcjz6BQPYoXI/CP4FA7FG4HoVBgUDXo3A9CkOBQHE9CtejRIFAFK5H4XpGgUBI4XoUrkeBQNejcD0KS4FAw/UoXI9MgUAAAAAAAE6BQKRwPQrXT4FA7FG4HoVTgUBxPQrXo1qBQLgehetRXIFA9ihcj8JdgUCamZmZmV+BQDMzMzMzYYFAexSuR+FigUA9CtejcGWBQI/C9ShcZ4FAFK5H4XpogUBI4XoUrmmBQGZmZmZmaoFAAAAAAABsgUCPwvUoXG2BQClcj8L1boFAzczMzMxwgUBxPQrXo3KBQFK4HoXrdYFAMzMzMzN5gUBxPQrXo3qBQArXo3A9fIFApHA9Ctd9gUCkcD0K13+BQKRwPQrXgYFAPQrXo3CDgUAzMzMzM4WBQK5H4XoUhoFAuB6F61GGgUB7FK5H4YaBQKRwPQrXh4FAH4XrUbiIgUD2KFyPwomBQNejcD0Ki4FAUrgeheuLgUBxPQrXo4yBQI/C9ShcjYFAXI/C9SiOgUDXo3A9Co+BQGZmZmZmkIFA9ihcj8KRgUDXo3A9CpOBQGZmZmZmlIFAmpmZmZmVgUDNzMzMzJaBQKRwPQrXl4FA16NwPQqZgUAUrkfhepqBQFK4HoXrnYFAmpmZmZmfgUD2KFyPwqGBQD0K16Nwo4FAj8L1KFylgUDhehSuR6eBQClcj8L1rIFACtejcD2wgUB7FK5H4bKBQFK4HoXrtYFAZmZmZma4gUApXI/C9bqBQNejcD0KvYFAPQrXo3C/gUDD9Shcj8KBQIXrUbgexYFAhetRuB7HgUB7FK5H4cqBQK5H4XoUzIFAexSuR+HMgUAAAAAAAM6BQHsUrkfhzoFAXI/C9SjQgUDNzMzMzNKBQKRwPQrX04FAKVyPwvXUgUBI4XoUrtWBQNejcD0K14FACtejcD3YgUDsUbgehdmBQIXrUbge24FAj8L1KFzdgUBxPQrXo96BQEjhehSu34FAXI/C9SjigUDsUbgeheOBQMP1KFyP5IFACtejcD3mgUAAAAAAAOiBQArXo3A96oFASOF6FK7vgUBI4XoUrvGBQM3MzMzM9IFA4XoUrkf3gUCF61G4HvuBQBSuR+F6/oFAH4XrUbgCgkC4HoXrUQaCQFK4HoXrCYJAUrgehesNgkDD9ShcjxCCQM3MzMzMFIJAexSuR+EWgkC4HoXrURiCQDMzMzMzGYJAj8L1KFwZgkCF61G4HhmCQIXrUbgeF4JAj8L1KFwXgkAAAAAAABiCQBSuR+F6GIJAzczMzMwYgkDNzMzMzBiCQHsUrkfhGIJAexSuR+EYgkDXo3A9ChmCQK5H4XoUGoJAMzMzMzMbgkBmZmZmZh6CQArXo3A9IIJAKVyPwvUggkDsUbgehSGCQGZmZmZmIoJA7FG4HoUjgkDNzMzMzCiCQEjhehSuLYJAKVyPwvUwgkAfhetRuDSCQKRwPQrXN4JAmpmZmZk7gkB7FK5H4T6CQM3MzMzMQoJAFK5H4XpGgkC4HoXrUUqCQClcj8L1ToJACtejcD1SgkDXo3A9ClOCQOxRuB6FU4JAAAAAAABUgkBmZmZmZlSCQOF6FK5HU4JAmpmZmZlRgkAfhetRuFCCQArXo3A9UIJArkfhehRQgkC4HoXrUVCCQHsUrkfhUIJASOF6FK5RgkBmZmZmZlKCQM3MzMzMUoJAmpmZmZlTgkCF61G4HlWCQK5H4XoUVoJAexSuR+FWgkA9CtejcFeCQJqZmZmZV4JA7FG4HoVXgkCF61G4HleCQIXrUbgeV4JApHA9CtdXgkCuR+F6FFiCQLgehetRWIJAZmZmZmZYgkBmZmZmZliCQGZmZmZmWIJAhetRuB5ZgkCkcD0K11mCQB+F61G4WoJAMzMzMzNdgkD2KFyPwl2CQK5H4XoUXoJACtejcD1egkDD9Shcj16CQB+F61G4XoJAcT0K16NegkBSuB6F612CQEjhehSuW4JAH4XrUbhYgkCPwvUoXFWCQOF6FK5HUYJA7FG4HoVNgkAzMzMzM0mCQEjhehSuRYJAzczMzMxAgkAAAAAAADyCQArXo3A9MoJAmpmZmZkrgkCuR+F6FCiCQClcj8L1JIJA16NwPQojgkApXI/C9SCCQIXrUbgeHYJAKVyPwvUagkCF61G4HhmCQI/C9ShcF4JAw/UoXI8WgkBcj8L1KBaCQHE9CtejFoJAPQrXo3AXgkCuR+F6FBiCQGZmZmZmGIJAMzMzMzMZgkDD9ShcjxyCQOxRuB6FH4JASOF6FK4hgkD2KFyPwiOCQMP1KFyPJIJAj8L1KFwlgkAfhetRuCaCQFyPwvUoJoJAKVyPwvUmgkDsUbgehSeCQHsUrkfhJoJA9ihcj8IlgkApXI/C9SSCQArXo3A9JIJA4XoUrkcjgkB7FK5H4SKCQHE9CtejIoJAUrgeheshgkBSuB6F6yGCQK5H4XoUIoJAPQrXo3AhgkDXo3A9CiGCQEjhehSuIYJA4XoUrkcjgkBI4XoUriOCQAAAAAAAJIJAAAAAAAAkgkBcj8L1KCSCQArXo3A9JIJAuB6F61EkgkDNzMzMzCSCQHsUrkfhJIJAMzMzMzMlgkCPwvUoXCWCQFK4HoXrI4JApHA9CtcjgkApXI/C9SKCQIXrUbgeI4JAMzMzMzMjgkApXI/C9SKCQAAAAAAAIoJAH4XrUbgggkCkcD0K1x+CQIXrUbgeH4JAXI/C9SgegkBI4XoUrh2CQOF6FK5HHYJAzczMzMwcgkBmZmZmZhyCQKRwPQrXG4JAUrgehesbgkApXI/C9RyCQJqZmZmZHYJAcT0K16MegkCkcD0K1x+CQM3MzMzMIIJAXI/C9SgigkB7FK5H4SaCQLgehetRKoJASOF6FK4tgkDNzMzMzDCCQEjhehSuM4JAPQrXo3A3gkBcj8L1KDqCQBSuR+F6PIJAhetRuB4/gkCF61G4HkGCQGZmZmZmQoJApHA9CtdDgkDXo3A9CkOCQArXo3A9QoJA16NwPQpBgkCPwvUoXEGCQI/C9ShcQYJA7FG4HoVBgkDhehSuR0GCQNejcD0KQYJAhetRuB5BgkApXI/C9UCCQBSuR+F6QIJAKVyPwvVAgkCamZmZmUGCQOxRuB6FQYJA16NwPQpBgkAzMzMzMz+CQBSuR+F6PIJA7FG4HoU7gkAfhetRuDqCQLgehetROoJAMzMzMzM5gkBxPQrXoziCQFK4HoXrNYJAAAAAAAA0gkB7FK5H4TKCQEjhehSuMYJAj8L1KFwxgkAfhetRuDCCQEjhehSuL4JAzczMzMwugkCamZmZmS2CQLgehetRLIJA4XoUrkcrgkBcj8L1KCqCQArXo3A9KoJAXI/C9SgqgkBcj8L1KCqCQI/C9ShcKYJAFK5H4XoogkB7FK5H4SaCQHE9CtejJoJAZmZmZmYmgkCamZmZmSWCQOF6FK5HJYJAXI/C9SgkgkCuR+F6FCKCQArXo3A9IIJAKVyPwvUegkDhehSuRx2CQMP1KFyPHIJA9ihcj8IZgkAK16NwPRiCQBSuR+F6FoJAexSuR+EUgkA9CtejcBOCQDMzMzMzEYJAH4XrUbgOgkBSuB6F6w2CQMP1KFyPDIJAj8L1KFwLgkCuR+F6FAqCQNejcD0KCYJA7FG4HoUHgkBcj8L1KAaCQDMzMzMzBYJAw/UoXI8EgkAAAAAAAASCQLgehetRAoJAmpmZmZkBgkCF61G4HgGCQM3MzMzMAIJAFK5H4XoAgkAAAAAAAACCQLgehetRAIJAFK5H4XoAgkAK16NwPQCCQGZmZmZmAIJAMzMzMzMBgkCkcD0K1wGCQB+F61G4AoJA16NwPQoDgkAzMzMzMwOCQI/C9ShcA4JAj8L1KFwDgkCamZmZmQOCQEjhehSuA4JA7FG4HoUDgkCPwvUoXAOCQNejcD0KA4JAPQrXo3ABgkDNzMzMzACCQIXrUbgeAYJAKVyPwvUAgkDD9ShcjwCCQM3MzMzMAIJAexSuR+EAgkB7FK5H4QCCQIXrUbgeAYJAmpmZmZkBgkAAAAAAAAKCQHsUrkfhAoJAUrgehesDgkCamZmZmQOCQOF6FK5HA4JAKVyPwvUCgkApXI/C9QKCQMP1KFyPAoJA7FG4HoUBgkDD9ShcjwCCQOxRuB6F/4FAFK5H4Xr+gUBSuB6F6/2BQKRwPQrX/YFArkfhehT+gUAK16NwPf6BQLgehetR/oFA7FG4HoX9gUApXI/C9fyBQKRwPQrX+4FA4XoUrkf7gUDXo3A9CvuBQHE9Ctej+oFArkfhehT6gUD2KFyPwveBQArXo3A98IFASOF6FK7tgUAzMzMzM+uBQJqZmZmZ6YFAhetRuB7ngUCF61G4HuWBQFyPwvUo4oFA7FG4HoXfgUBcj8L1KNyBQIXrUbge14FAZmZmZmbUgUDD9Shcj9CBQMP1KFyPzoFApHA9CtfLgUAfhetRuMiBQHE9CtejxoFArkfhehTEgUAzMzMzM7+BQBSuR+F6vIFAXI/C9Si6gUAAAAAAALiBQDMzMzMztYFAw/UoXI+ygUBI4XoUrq+BQD0K16NwrYFAUrgeheurgUBcj8L1KKuBQGZmZmZmqoFA7FG4HoWngUC4HoXrUaSBQOxRuB6Fo4FAzczMzMyigUAUrkfheqKBQLgehetRooFAw/UoXI+igUAK16NwPaKBQHsUrkfhoIFAj8L1KFyfgUCPwvUoXJ2BQAAAAAAAnIFArkfhehSagUBxPQrXo5iBQArXo3A9loFAAAAAAACUgUBxPQrXo5CBQOF6FK5Hi4FAmpmZmZmDgUCamZmZmX+BQBSuR+F6fIFA16NwPQp5gUCuR+F6FHaBQBSuR+F6coFApHA9CtdrgUDNzMzMzGaBQEjhehSuY4FA4XoUrkdhgUDD9Shcj16BQD0K16NwW4FAZmZmZmZYgUB7FK5H4VSBQEjhehSuUYFAXI/C9ShOgUCF61G4HkmBQOxRuB6FQ4FA4XoUrkdBgUCF61G4Hj+BQHE9CtejPIFACtejcD06gUBcj8L1KDiBQGZmZmZmNoFAFK5H4Xo2gUC4HoXrUTaBQAAAAAAANoFAKVyPwvU0gUD2KFyPwjOBQDMzMzMzM4FAH4XrUbgygUBcj8L1KDKBQGZmZmZmKoFAuB6F61EqgUDNzMzMzCqBQM3MzMzMKoFAMzMzMzMpgUDD9ShcjyiBQMP1KFyPJoFAexSuR+EkgUCF61G4HiOBQK5H4XoUIIFAw/UoXI8egUAfhetRuByBQIXrUbgeG4FAexSuR+EYgUAUrkfhehaBQFK4HoXrFYFA4XoUrkcVgUDhehSuRxOBQBSuR+F6EoFAXI/C9SgSgUCkcD0K1xGBQI/C9ShcEYFAzczMzMwQgUA9CtejcBGBQGZmZmZmEoFAPQrXo3ATgUAUrkfhehSBQHsUrkfhFIFAexSuR+EUgUCF61G4HhWBQOF6FK5HFYFAAAAAAAAWgUApXI/C9RaBQEjhehSuF4FAexSuR+EYgUBcj8L1KBiBQIXrUbgeF4FACtejcD0WgUD2KFyPwhWBQAAAAAAAFoFApHA9CtcVgUCamZmZmRWBQHsUrkfhFIFAuB6F61EUgUBI4XoUrhOBQPYoXI/CE4FApHA9CtcTgUCkcD0K1xOBQFK4HoXrE4FAAAAAAAAUgUCkcD0K1xOBQOF6FK5HE4FAPQrXo3ATgUBI4XoUrhOBQJqZmZmZE4FAKVyPwvUSgUBcj8L1KBKBQHsUrkfhDoFAw/UoXI8MgUAAAAAAAAqBQGZmZmZmBoFA9ihcj8L/gEAAAAAAAPiAQClcj8L17oBACtejcD3ggECuR+F6FNKAQLgehetRwIBAFK5H4XqsgEDhehSuR4GAQJqZmZmZaYBAAAAAAABCgEAUrkfheiSAQLgehetRBoBAFK5H4XrYf0DXo3A9CnN/QOxRuB6FQ39ASOF6FK4bf0AfhetRuPJ+QJqZmZmZ0X5AzczMzMykfkCF61G4HpF+QPYoXI/CfX5AexSuR+FufkC4HoXrUWB+QHsUrkfhVn5AzczMzMxIfkAzMzMzM0N+QGZmZmZmPn5Aj8L1KFw3fkCkcD0K1zN+QI/C9ShcL35AZmZmZmYmfkBmZmZmZiJ+QPYoXI/CHX5AhetRuB4ZfkA9CtejcBV+QHE9CtejEH5AhetRuB4NfkAfhetRuAp+QI/C9ShcB35AuB6F61EEfkBSuB6F6wF+QHsUrkfh/n1ArkfhehT+fUD2KFyPwv19QLgehetR/H1AZmZmZmb6fUDNzMzMzPh9QKRwPQrX931ASOF6FK73fUDXo3A9Cvd9QFK4HoXr9X1AzczMzMz0fUDD9Shcj/J9QHsUrkfh7n1AhetRuB7tfUCkcD0K1+t9QNejcD0K631A4XoUrkfpfUCamZmZmeV9QAAAAAAA5H1A4XoUrkfhfUAK16NwPd59QFyPwvUo2H1ASOF6FK7TfUDhehSuR8l9QFyPwvUoxH1AAAAAAADAfUBxPQrXo7x9QJqZmZmZuX1A7FG4HoW3fUDNzMzMzLR9QM3MzMzMtH1AmpmZmZm1fUBI4XoUrrd9QHsUrkfhun1AexSuR+HCfUB7FK5H4cZ9QB+F61G4yn1ArkfhehTOfUCamZmZmdF9QArXo3A91n1ACtejcD3afUBxPQrXo9x9QGZmZmZm3n1ASOF6FK7ffUDNzMzMzOB9QK5H4XoU4n1A9ihcj8LhfUCuR+F6FOJ9QMP1KFyP4n1Aj8L1KFzjfUAAAAAAAOR9QHE9Ctej5H1AhetRuB7lfUCuR+F6FOZ9QDMzMzMz531A4XoUrkfpfUBcj8L1KOx9QGZmZmZm8n1AMzMzMzP3fUAAAAAAAPx9QD0K16NwAX5AMzMzMzMHfkBmZmZmZg5+QOF6FK5HFX5AH4XrUbgifkDsUbgehSt+QK5H4XoUNn5A7FG4HoU/fkBSuB6F61F+QGZmZmZmWn5AcT0K16NgfkDD9Shcj2Z+QGZmZmZman5Aj8L1KFxrfkAUrkfhemR+QKRwPQrXX35AKVyPwvVYfkAK16NwPVJ+QFK4HoXrSX5AAAAAAABAfkBmZmZmZjZ+QOxRuB6FK35AzczMzMwcfkCkcD0K1xN+QHsUrkfh0n1ACtejcD3SfUD2KFyPwtF9QMP1KFyP0n1AXI/C9SjUfUCuR+F6FNZ9QM3MzMzM2H1AUrgehevZfUB7FK5H4dp9QKRwPQrX231A4XoUrkfdfUAfhetRuN59QGZmZmZm0n1A16NwPQrTfUAUrkfhetR9QLgehetR0H1ACtejcD3KfUCamZmZmcV9QClcj8L1wH1AFK5H4Xq8fUAfhetRuLZ9QPYoXI/CsX1A16NwPQqrfUBcj8L1KKR9QEjhehSul31AH4XrUbiOfUBxPQrXo5B9QI/C9Shcl31A4XoUrkehfUBmZmZmZqp9QI/C9Shcs31ACtejcD3OfUDXo3A9Ct99QPYoXI/C+X1ASOF6FK4PfkA9CtejcCF+QD0K16NwNX5AhetRuB5FfkApXI/C9VR+QLgehetRYH5APQrXo3BtfkBI4XoUrnt+QLgehetRlH5A4XoUrkedfkDD9Shcj6Z+QLgehetRsH5A4XoUrke5fkC4HoXrUcB+QB+F61G4zn5ApHA9CtfXfkDsUbgeheN+QB+F61G46n5AexSuR+HyfkDXo3A9Cvt+QNejcD0KA39A7FG4HoULf0DD9ShcjxJ/QI/C9ShcG39AuB6F61Ekf0Bcj8L1KDh/QDMzMzMzR39A7FG4HoVPf0AUrkfhelh/QEjhehSuX39AMzMzMzNnf0CkcD0K13N/QFK4HoXreX9AcT0K16OAf0A9CtejcIl/QMP1KFyPjn9ASOF6FK6Tf0DhehSuR5l/QFK4HoXrnX9Aj8L1KFyjf0BxPQrXo6h/QHsUrkfhrn9AMzMzMzPDf0B7FK5H4cJ/QB+F61G4wn9A7FG4HoXDf0AAAAAAAMR/QFyPwvUoxH9ApHA9CtfDf0BI4XoUrsN/QBSuR+F6xH9A16NwPQrHf0AzMzMzM8t/QKRwPQrXz39A9ihcj8LVf0CamZmZmdl/QFK4HoXr3X9Aj8L1KFzjf0ApXI/C9eh/QNejcD0K739AmpmZmZn1f0AUrkfhegKAQOxRuB6FBYBAFK5H4XoIgEC4HoXrUQqAQPYoXI/CC4BA7FG4HoUNgEC4HoXrURCAQClcj8L1EIBAj8L1KFwRgECkcD0K1xGAQI/C9ShcEYBAXI/C9SgQgEA9CtejcA+AQArXo3A9DoBAH4XrUbgMgEBxPQrXowqAQKRwPQrXB4BAhetRuB4BgEB7FK5H4fp/QHsUrkfh8n9AAAAAAADof0DXo3A9Ct9/QNejcD0K139AZmZmZmbGf0AfhetRuL5/QIXrUbgeuX9ApHA9Ctezf0DD9Shcj65/QHE9CtejqH9A4XoUrkelf0DhehSuR6F/QArXo3A9nn9A7FG4HoWbf0CF61G4Hpl/QClcj8L1lH9Aj8L1KFyTf0AfhetRuHJ/QI/C9Shcb39APQrXo3Btf0BSuB6F611/QI/C9ShcV39ASOF6FK5Tf0D2KFyPwk1/QGZmZmZmSn9A16NwPQpHf0B7FK5H4UJ/QI/C9ShcP39AMzMzMzM7f0BI4XoUrj9/QGZmZmZmSn9Aw/UoXI9if0CF61G4HnF/QJqZmZmZgX9AFK5H4XqQf0BI4XoUrqN/QPYoXI/CwX9Aj8L1KFzbf0AK16NwPfJ/QArXo3A9BoBAXI/C9SgegEAAAAAAACiAQLgehetRMoBArkfhehQ8gEAUrkfhekSAQJqZmZmZUYBAw/UoXI9agEBcj8L1KGKAQArXo3A9aoBArkfhehRygECamZmZmXmAQFyPwvUogoBA4XoUrkeJgEDNzMzMzJCAQLgehetRmoBAXI/C9SiggEDXo3A9CqWAQMP1KFyPqoBArkfhehS0gECuR+F6FLiAQFyPwvUovIBA4XoUrke/gEC4HoXrUcKAQHE9CtejxIBAzczMzMzKgEDXo3A9Cs2AQHE9CtejzoBAuB6F61HQgEApXI/C9dCAQArXo3A90oBAKVyPwvXSgECkcD0K19OAQLgehetR1IBAXI/C9SjUgEBSuB6F69OAQD0K16Nw04BAUrgehevTgEAUrkfhetSAQOF6FK5H1YBArkfhehTWgEAzMzMzM9eAQHsUrkfh2IBAXI/C9SjagEBI4XoUrtuAQOF6FK5H3YBAmpmZmZnfgECkcD0K1+GAQB+F61G45IBAhetRuB7ngEAAAAAAAOqAQHE9Ctej7oBACtejcD3ygECPwvUoXPWAQKRwPQrX+4BA4XoUrkf/gEC4HoXrUQKBQD0K16NwBYFAUrgehesHgUBSuB6F6wmBQK5H4XoUDIFAuB6F61EMgUAAAAAAAAyBQOF6FK5HC4FArkfhehQKgUAUrkfhegiBQFyPwvUoBoFA9ihcj8IDgUCPwvUoXP+AQHE9Ctej/IBAMzMzMzP5gEAK16NwPfKAQHsUrkfh7oBAKVyPwvXqgEBI4XoUrueAQB+F61G45IBAj8L1KFzhgEAUrkfhetqAQEjhehSu14BAexSuR+HUgEA9CtejcNOAQHE9Ctej0oBAuB6F61HSgECPwvUoXNGAQM3MzMzM0IBAuB6F61HQgEBcj8L1KNCAQLgehetR0IBA9ihcj8LRgEAUrkfhetKAQClcj8L10oBA9ihcj8LTgED2KFyPwtOAQJqZmZmZ04BA7FG4HoXTgEBxPQrXo9SAQI/C9Shc1YBArkfhehTWgEDNzMzMzNaAQAAAAAAA2IBAPQrXo3DZgEDNzMzMzNqAQLgehetR3IBAAAAAAADegEC4HoXrUeCAQFK4HoXr4YBAPQrXo3DlgEB7FK5H4eaAQFK4HoXr54BAcT0K16PogECPwvUoXOmAQIXrUbge64BArkfhehTsgECuR+F6FOyAQArXo3A97IBArkfhehTsgEBcj8L1KOyAQGZmZmZm7IBAcT0K16PsgEApXI/C9eyAQOF6FK5H7YBAXI/C9SjugEAzMzMzM++AQPYoXI/C74BAw/UoXI/wgEDsUbgehfGAQArXo3A98oBAj8L1KFzzgECkcD0K1/WAQFyPwvUo+IBAmpmZmZn5gEAfhetRuPqAQK5H4XoU/IBA16NwPQr9gECuR+F6FP6AQDMzMzMz/4BAuB6F61EAgUDsUbgehQGBQM3MzMzMAoFAAAAAAAAEgUDNzMzMzASBQOF6FK5HBYFAAAAAAAAGgUAUrkfhegaBQHsUrkfhBoFAexSuR+EGgUCF61G4HgeBQEjhehSuB4FApHA9CtcHgUDsUbgehQeBQFK4HoXrB4FAXI/C9SgIgUBcj8L1KAiBQGZmZmZmCIFAH4XrUbgIgUAzMzMzMwmBQB+F61G4CoFA7FG4HoULgUBmZmZmZgyBQM3MzMzMDIFAmpmZmZkNgUAK16NwPQ6BQBSuR+F6DoFAFK5H4XoOgUBmZmZmZg6BQBSuR+F6DoFAFK5H4XoOgUBmZmZmZg6BQArXo3A9DoFAuB6F61EOgUDD9Shcjw6BQOF6FK5HD4FAKVyPwvUQgUBmZmZmZhKBQEjhehSuE4FAKVyPwvUUgUDD9ShcjxaBQClcj8L1GIFApHA9CtcZgUB7FK5H4RqBQFK4HoXrG4FAhetRuB4dgUCamZmZmR2BQJqZmZmZHYFAj8L1KFwdgUCF61G4Hh2BQHE9CtejHIFAFK5H4XocgUDD9ShcjxyBQFK4HoXrHYFAhetRuB4fgUBSuB6F6x+BQDMzMzMzIYFA4XoUrkcjgUAzMzMzMyWBQPYoXI/CKYFAUrgehesrgUBI4XoUri2BQOxRuB6FL4FA9ihcj8IxgUDXo3A9CjOBQPYoXI/CM4FAXI/C9Sg0gUC4HoXrUTSBQAAAAAAANIFAhetRuB4zgUDsUbgehTGBQHsUrkfhMIFApHA9CtcvgUAfhetRuC6BQEjhehSuLYFAcT0K16MsgUBxPQrXoyyBQArXo3A9LIFA9ihcj8IrgUD2KFyPwiuBQFyPwvUoLIFA16NwPQotgUBSuB6F6y2BQM3MzMzMLoFAmpmZmZkvgUBmZmZmZjCBQM3MzMzMMIFA9ihcj8IxgUAUrkfhejKBQEjhehSuM4FAAAAAAAA0gUBxPQrXozSBQIXrUbgeNYFASOF6FK41gUAUrkfhejaBQOxRuB6FN4FAZmZmZmY4gUD2KFyPwjmBQIXrUbgeO4FAUrgehes7gUAfhetRuDyBQKRwPQrXPYFAzczMzMw+gUBI4XoUrj+BQI/C9ShcQYFAAAAAAABCgUCF61G4HkOBQIXrUbgeRYFAZmZmZmZGgUD2KFyPwkeBQD0K16NwSYFA16NwPQpLgUA9CtejcE2BQEjhehSuT4FASOF6FK5RgUCPwvUoXFOBQArXo3A9VoFACtejcD1YgUDD9Shcj1qBQOF6FK5HXYFAUrgehetfgUApXI/C9WKBQBSuR+F6aIFAKVyPwvVqgUAAAAAAAG6BQClcj8L1coFA16NwPQp3gUDhehSuR32BQFyPwvUogIFAj8L1KFyDgUAAAAAAAIaBQOF6FK5HiYFAuB6F61GMgUAAAAAAAJKBQClcj8L1lIFAw/UoXI+YgUCamZmZmZuBQD0K16Nwn4FAexSuR+GigUDD9Shcj6qBQKRwPQrXrYFACtejcD2wgUDD9Shcj7KBQDMzMzMztYFApHA9Cte5gUB7FK5H4bqBQFK4HoXru4FA16NwPQq9gUC4HoXrUb6BQEjhehSuv4FASOF6FK7BgUB7FK5H4cKBQAAAAAAAxIFAKVyPwvXEgUD2KFyPwsWBQIXrUbgex4FAUrgehevHgUC4HoXrUciBQNejcD0KyYFAuB6F61HKgUDNzMzMzM6BQOxRuB6F04FAXI/C9SjYgUCamZmZmd2BQB+F61G44oFAZmZmZmbogUCPwvUoXO2BQLgehetR9oFASOF6FK77gUCkcD0K1wGCQM3MzMzMBoJACtejcD0MgkBSuB6F6xGCQPYoXI/CE4JASOF6FK4VgkBI4XoUrheCQIXrUbgeGYJArkfhehQagkDsUbgehRmCQMP1KFyPGIJAhetRuB4XgkCPwvUoXBWCQMP1KFyPFIJAuB6F61EUgkBSuB6F6xOCQK5H4XoUFIJAexSuR+EUgkD2KFyPwhWCQK5H4XoUGIJApHA9CtcfgkDsUbgehSWCQKRwPQrXLYJAhetRuB43gkAUrkfhekKCQNejcD0KX4JAuB6F61FqgkBmZmZmZnaCQOxRuB6FgYJAw/UoXI+OgkCPwvUoXJmCQIXrUbgepYJAXI/C9SiugkBSuB6F67mCQMP1KFyPvoJAMzMzMzPDgkBxPQrXo8aCQHE9CtejzIJApHA9CtfPgkAK16NwPdKCQFyPwvUo1IJAexSuR+HWgkC4HoXrUeKCQIXrUbge6YJAPQrXo3DxgkA9CtejcPmCQLgehetRAoNApHA9CtcJg0BSuB6F6xGDQClcj8L1FYNAAAAAAAAag0A9CtejcCODQEjhehSuL4NAUrgehes1g0CF61G4HjmDQArXo3A9PINAUrgehes7g0BSuB6F6zmDQArXo3A9OINA9ihcj8I3g0BI4XoUrjeDQOxRuB6FPYNAmpmZmZlBg0DsUbgehUmDQHE9CtejVINA9ihcj8Jlg0BI4XoUrneDQKRwPQrXj4NAAAAAAACog0CPwvUoXNODQArXo3A97INAXI/C9SgIhEDNzMzMzDaEQFyPwvUoSoRAXI/C9ShehECuR+F6FG6EQOF6FK5HeYRAmpmZmZmBhEDXo3A9CoeEQFK4HoXrhYRA9ihcj8KDhEBI4XoUroGEQOF6FK5Hf4RAMzMzMzN9hEBI4XoUrnuEQEjhehSue4RAAAAAAAB8hED2KFyPwn2EQHE9CtejgIRAZmZmZmaMhEC4HoXrUZSEQHE9CtejnoRAw/UoXI+ohEDD9Shcj7SEQOF6FK5Hv4RACtejcD3ghECuR+F6FPCEQK5H4XoU/oRACtejcD0OhUAAAAAAAByFQI/C9ShcK4VAZmZmZmY4hUDsUbgehUeFQMP1KFyPVIVAmpmZmZlrhUBxPQrXo3iFQIXrUbgekYVAw/UoXI+chUDsUbgehaeFQNejcD0Kt4VAexSuR+HIhUAzMzMzM9mFQFyPwvUo/IVA9ihcj8IXhkA9CtejcCuGQJqZmZmZP4ZApHA9CtdRhkAAAAAAAGiGQPYoXI/Ce4ZAPQrXo3CRhkBcj8L1KKKGQB+F61G4soZAuB6F61HGhkAK16NwPeCGQFK4HoXr64ZASOF6FK71hkAK16NwPQCHQHE9CtejCIdAXI/C9SgWh0CamZmZmRuHQDMzMzMzJYdACtejcD0wh0BxPQrXozqHQJqZmZmZRYdA4XoUrkdPh0DD9Shcj1qHQDMzMzMzZYdA9ihcj8Jxh0D2KFyPwn2HQLgehetRlIdAH4XrUbi0h0DXo3A9CsOHQGZmZmZm0IdApHA9Ctfbh0AzMzMzM+mHQDMzMzMzA4hAexSuR+EQiEAfhetRuByIQI/C9ShcLYhApHA9Ctc3iEBI4XoUrkGIQI/C9ShcSYhAhetRuB5TiECF61G4HluIQKRwPQrXY4hAKVyPwvVqiED2KFyPwnGIQJqZmZmZe4hAKVyPwvWCiEB7FK5H4YiIQFyPwvUojohASOF6FK6ViECF61G4HqWIQLgehetRrIhAPQrXo3C1iEAAAAAAAMKIQI/C9Shcy4hAKVyPwvXUiEB7FK5H4eCIQJqZmZmZ64hAMzMzMzP3iECF61G4HgGJQAAAAAAADIlAKVyPwvUUiUDsUbgehSeJQPYoXI/CM4lAFK5H4Xo6iUBxPQrXo0KJQFK4HoXrSYlArkfhehRSiUBSuB6F62GJQHE9CtejaolAcT0K16NyiUDD9Shcj36JQOF6FK5Hh4lAzczMzMyOiUAfhetRuFaKQM3MzMzMBIpAw/UoXI/+iUAzMzMzM/OJQBSuR+F6/olAzczMzMwAikCF61G4HgOKQFyPwvUoBopASOF6FK4JikA9CtejcA2KQD0K16NwEYpAzczMzMwYikD2KFyPwhuKQDMzMzMzH4pApHA9CtcjikBxPQrXoy6KQHsUrkfhNIpApHA9Ctc7ikDXo3A9CkGKQHsUrkfhRopAhetRuB5LikAzMzMzM0+KQDMzMzMzVYpAUrgehetXikCuR+F6FFyKQFyPwvUoXopA9ihcj8JfikB7FK5H4WCKQArXo3A9ZIpAj8L1KFxnikBSuB6F62mKQOF6FK5HbYpAH4XrUbhyikCPwvUoXHeKQPYoXI/Ce4pAMzMzMzOBikC4HoXrUYaKQArXo3A9jIpAw/UoXI+SikC4HoXrUaCKQK5H4XoUpopAhetRuB6vikBSuB6F67WKQBSuR+F6vIpAj8L1KFzRikAAAAAAANiKQLgehetR3opAPQrXo3DlikCamZmZme+KQFK4HoXr9YpAPQrXo3D9ikDsUbgehQWLQHE9CtejDItApHA9CtcTi0AK16NwPRqLQOF6FK5HJ4tArkfhehQui0Bcj8L1KDSLQI/C9ShcPYtAUrgehetBi0ApXI/C9U6LQLgehetRUotAuB6F61FWi0CkcD0K11mLQFyPwvUoXotAexSuR+Fki0Bcj8L1KGqLQDMzMzMzb4tAzczMzMx0i0DNzMzMzHqLQLgehetRgItAFK5H4XqAi0D2KFyPwn2LQMP1KFyPdotAexSuR+Foi0Bcj8L1KFyLQMP1KFyPQItAH4XrUbgwi0ApXI/C9RyLQJqZmZmZC4tAPQrXo3D3ikDXo3A9CuWKQM3MzMzM0opAmpmZmZnJikCkcD0K18OKQHsUrkfhwIpAw/UoXI++ikBcj8L1KL6KQDMzMzMzwYpAhetRuB7FikB7FK5H4cqKQLgehetR0IpA16NwPQrbikDXo3A9CumKQOF6FK5H74pAPQrXo3D1ikBxPQrXo/qKQB+F61G4AItA4XoUrkcFi0Bcj8L1KAqLQArXo3A9EItAFK5H4XoUi0D2KFyPwheLQIXrUbgeG4tACtejcD0ei0DsUbgehSOLQD0K16NwJ4tAexSuR+Eqi0DNzMzMzC6LQK5H4XoUNItAUrgehes3i0ApXI/C9TqLQHsUrkfhPotApHA9CtdBi0BxPQrXo0SLQMP1KFyPRotA9ihcj8JHi0BxPQrXo0iLQIXrUbgeS4tAcT0K16NOi0BSuB6F61GLQD0K16NwVYtAuB6F61FYi0C4HoXrUWCLQMP1KFyPZItAFK5H4Xpoi0Bcj8L1KG6LQLgehetRdItAhetRuB6Pi0A9CtejcJWLQD0K16NwnYtAH4XrUbiki0AzMzMzM62LQNejcD0KtYtAexSuR+G+i0AK16NwPcyLQFyPwvUo1otAuB6F61Hei0DhehSuR+eLQK5H4XoU9otAH4XrUbj8i0AAAAAAAASMQFyPwvUoCoxAcT0K16MQjEApXI/C9RiMQHsUrkfhIoxACtejcD0ojEApXI/C9SyMQBSuR+F6MoxAFK5H4Xo4jECamZmZmT2MQI/C9ShcQ4xAFK5H4XpKjEDXo3A9Ck+MQD0K16NwU4xA4XoUrkdXjEBSuB6F61uMQB+F61G4XIxAH4XrUbhcjEBmZmZmZlyMQM3MzMzMWoxAw/UoXI9YjECuR+F6FFCMQFK4HoXrS4xApHA9CtdHjEDD9Shcj0SMQK5H4XoUQoxAexSuR+FAjEAUrkfhekCMQClcj8L1QIxAzczMzMxCjEDD9Shcj0SMQFyPwvUoRoxApHA9CtdJjEAK16NwPUyMQPYoXI/CTYxAhetRuB5PjECamZmZmU+MQLgehetRToxAPQrXo3BNjEBxPQrXo0yMQBSuR+F6TIxAuB6F61FMjEDXo3A9Ck2MQAAAAAAAToxASOF6FK5PjEBxPQrXo1KMQIXrUbgeVYxAXI/C9ShYjECPwvUoXF+MQK5H4XoUZIxArkfhehRojEAzMzMzM22MQArXo3A9coxAhetRuB59jEC4HoXrUYaMQAAAAAAAjIxA4XoUrkeTjEAAAAAAAJqMQD0K16NwoYxAj8L1KFynjEAAAAAAAK6MQKRwPQrXs4xAFK5H4Xq6jEBmZmZmZsKMQFK4HoXrx4xAzczMzMzQjEDD9Shcj9SMQOxRuB6F1oxAFK5H4XrYjEBmZmZmZtyMQPYoXI/C4YxAzczMzMzojEBmZmZmZvCMQB+F61G4/IxA9ihcj8IFjUB7FK5H4QyNQB+F61G4Fo1ASOF6FK4fjUCamZmZmSeNQB+F61G4MI1A9ihcj8I1jUAAAAAAAD6NQArXo3A9Ro1ArkfhehRIjUA9CtejcE2NQJqZmZmZT41A9ihcj8JRjUDD9Shcj1KNQOF6FK5HU41AcT0K16NUjUAUrkfhelKNQKRwPQrXVY1Aj8L1KFxXjUBSuB6F61mNQK5H4XoUXI1AAAAAAABcjUBSuB6F61uNQEjhehSuW41APQrXo3BbjUB7FK5H4VyNQOF6FK5HXY1AMzMzMzNfjUBcj8L1KGCNQLgehetRYI1AmpmZmZlfjUAzMzMzM1+NQOxRuB6FX41Aw/UoXI9ijUCkcD0K12eNQPYoXI/Ca41ApHA9CtdvjUCPwvUoXHWNQLgehetReo1AXI/C9SiCjUBmZmZmZn6NQNejcD0KhY1AH4XrUbiIjUB7FK5H4Y6NQAAAAAAAko1AhetRuB6TjUCkcD0K15ONQLgehetRlI1AXI/C9SiUjUAK16NwPYqNQB+F61G4iI1A9ihcj8KHjUC4HoXrUYiNQOF6FK5Hi41AH4XrUbiOjUAfhetRuJCNQGZmZmZmlI1Aw/UoXI+WjUCuR+F6FJqNQI/C9ShcnY1AXI/C9SiijUApXI/C9aaNQDMzMzMzrY1A7FG4HoWxjUDsUbgehbeNQHsUrkfhuo1AcT0K16O8jUApXI/C9b6NQI/C9ShcwY1AXI/C9SjEjUDsUbgehcWNQBSuR+F6xo1AZmZmZmbGjUAzMzMzM8WNQOxRuB6Fw41AFK5H4XrCjUCF61G4HsGNQDMzMzMzv41AZmZmZma+jUCkcD0K172NQLgehetRvo1AUrgeheu9jUA9CtejcL2NQFK4HoXrvY1ArkfhehS+jUAfhetRuLyNQMP1KFyPvI1AXI/C9Si8jUCkcD0K172NQOxRuB6Fv41AXI/C9SjAjUDD9Shcj8CNQArXo3A9wI1AmpmZmZm/jUBI4XoUrr+NQOxRuB6Fv41AXI/C9SjAjUCamZmZmcGNQK5H4XoUwo1AFK5H4XrCjUD2KFyPwsGNQEjhehSuv41AuB6F61G+jUCPwvUoXL2NQIXrUbgeu41AXI/C9Si6jUDXo3A9CrmNQPYoXI/Ct41A9ihcj8K1jUBmZmZmZrSNQOxRuB6Fs41AFK5H4XqyjUD2KFyPwrGNQKRwPQrXr41ArkfhehSujUCkcD0K16mNQFK4HoXrp41APQrXo3CljUBxPQrXo6SNQHE9Ctejpo1A7FG4HoWpjUCPwvUoXKuNQI/C9ShcrY1AUrgeheutjUAzMzMzM7GNQJqZmZmZs41ApHA9Cte3jUBxPQrXo7qNQNejcD0KvY1ArkfhehTAjUC4HoXrUcCNQK5H4XoUwI1Aj8L1KFy/jUBmZmZmZr6NQJqZmZmZvY1AmpmZmZm9jUDXo3A9Cr2NQM3MzMzMvI1AAAAAAAC8jUBI4XoUrruNQHE9Ctejuo1AH4XrUbi4jUAfhetRuLaNQPYoXI/Cs41ApHA9CtexjUBmZmZmZrKNQM3MzMzMso1AKVyPwvWyjUBSuB6F67GNQAAAAAAAso1ArkfhehSyjUAUrkfherKNQAAAAAAAtI1AAAAAAAC2jUApXI/C9biNQI/C9Shcu41AexSuR+G6jUBcj8L1KLqNQBSuR+F6uo1AexSuR+G6jUCF61G4Hr2NQHE9Ctejvo1AH4XrUbjAjUCPwvUoXMGNQFyPwvUowo1AH4XrUbjCjUAK16NwPcKNQMP1KFyPwo1AZmZmZmbCjUBcj8L1KMKNQPYoXI/CwY1APQrXo3C/jUAUrkfherqNQAAAAAAAuI1AhetRuB61jUDhehSuR7ONQNejcD0KsY1A7FG4HoWvjUBI4XoUrq2NQD0K16Nwq41ApHA9CtepjUApXI/C9aiNQK5H4XoUqI1APQrXo3CnjUDD9Shcj6aNQBSuR+F6po1AAAAAAACmjUA9CtejcKWNQHE9CtejpI1ApHA9CtejjUB7FK5H4aKNQArXo3A9oo1AhetRuB6hjUAK16NwPaCNQOxRuB6Fn41ArkfhehSejUAzMzMzM52NQKRwPQrXm41AH4XrUbiYjUC4HoXrUZaNQEjhehSuk41APQrXo3CRjUAUrkfheoyNQM3MzMzMiI1ASOF6FK6FjUCuR+F6FIKNQI/C9Shcf41AUrgehet5jUBxPQrXo3aNQFyPwvUodI1AcT0K16NwjUBI4XoUrm2NQFyPwvUoao1AMzMzMzNljUAfhetRuGCNQI/C9ShcW41AuB6F61FUjUDXo3A9Ck+NQMP1KFyPSo1A7FG4HoVFjUBcj8L1KD6NQI/C9ShcO41AFK5H4Xo6jUCF61G4HjmNQFyPwvUoOI1A9ihcj8I3jUApXI/C9TiNQArXo3A9Eo1AcT0K16MSjUC4HoXrURiNQGZmZmZmFo1AUrgehesTjUCuR+F6FBKNQIXrUbgeE41AMzMzMzMVjUBmZmZmZhSNQFyPwvUoGI1A4XoUrkcZjUAUrkfhehqNQD0K16NwG41AzczMzMwcjUBxPQrXoyCNQPYoXI/CIY1AH4XrUbggjUDXo3A9Ch+NQOxRuB6FHY1AUrgehesbjUBmZmZmZhqNQB+F61G4GI1AMzMzMzMXjUDhehSuRxWNQBSuR+F6FI1A16NwPQoTjUBI4XoUrg+NQJqZmZmZD41AKVyPwvUOjUBmZmZmZg6NQArXo3A9Do1A4XoUrkcNjUDsUbgehQ2NQHsUrkfhDI1AcT0K16MMjUAfhetRuAqNQKRwPQrXCY1AhetRuB4JjUAAAAAAAAiNQLgehetRBo1A16NwPQoFjUDhehSuRwONQJqZmZmZ/4xAmpmZmZn9jEBI4XoUrvuMQI/C9Shc+YxAzczMzMz2jEC4HoXrUfKMQK5H4XoU8IxAzczMzMzujEAfhetRuOyMQM3MzMzM6IxAhetRuB7ljEDhehSuR+GMQGZmZmZm4IxAmpmZmZnfjEA9CtejcN2MQNejcD0K24xAexSuR+HYjEDNzMzMzNqMQNejcD0K24xASOF6FK7ZjEDhehSuR9uMQDMzMzMz3YxACtejcD3ejECPwvUoXN2MQDMzMzMz24xA7FG4HoXZjEA9CtejcNeMQHE9Ctej1IxA4XoUrkfPjECuR+F6FMqMQKRwPQrXw4xA16NwPQq/jEAK16NwPbiMQHE9CtejsIxAzczMzMyqjEAfhetRuKiMQHsUrkfhpoxArkfhehSmjECamZmZmaWMQM3MzMzMpIxAhetRuB6ljEA9CtejcKWMQMP1KFyPpoxA4XoUrkepjEBSuB6F66uMQAAAAAAAroxAw/UoXI+ujEAzMzMzM6+MQNejcD0Kr4xAPQrXo3CvjEB7FK5H4a6MQHE9CtejroxAPQrXo3CrjEDD9Shcj6iMQDMzMzMzpYxA7FG4HoWhjEBI4XoUrp2MQMP1KFyPlIxAPQrXo3CPjECamZmZmYuMQJqZmZmZhYxAuB6F61F+jEDsUbgehXmMQArXo3A9doxAcT0K16NyjEAfhetRuHCMQOxRuB6FbYxASOF6FK5pjEBI4XoUrmeMQHsUrkfhYoxApHA9CtdfjEA9CtejcF+MQLgehetRXoxAexSuR+FcjECPwvUoXFmMQArXo3A9WIxASOF6FK5VjEBxPQrXo1SMQK5H4XoUVIxACtejcD1SjEDXo3A9ClGMQJqZmZmZT4xAAAAAAABOjEC4HoXrUUyMQGZmZmZmSoxA7FG4HoVHjECPwvUoXEGMQPYoXI/CPYxAH4XrUbg8jEDsUbgehTmMQOF6FK5HN4xAPQrXo3AvjEBI4XoUri2MQPYoXI/CK4xAFK5H4XoqjEBSuB6F6ymMQArXo3A9KIxAMzMzMzMnjEAAAAAAACaMQHsUrkfhJIxAexSuR+EijEAK16NwPSKMQLgehetRIoxASOF6FK4hjECF61G4HiGMQHsUrkfhHoxAmpmZmZkdjEApXI/C9RyMQBSuR+F6HIxA16NwPQobjEBmZmZmZhqMQBSuR+F6GoxAXI/C9SgYjEApXI/C9RaMQI/C9ShcFYxAFK5H4XoUjEBmZmZmZhSMQM3MzMzMFIxAw/UoXI8UjED2KFyPwhOMQBSuR+F6EoxAzczMzMwQjEDsUbgehQ+MQK5H4XoUDoxAj8L1KFwLjEBmZmZmZgqMQLgehetRCIxAZmZmZmYGjEAK16NwPQSMQOF6FK5HAYxAUrgehev/i0ApXI/C9f6LQIXrUbge/YtAZmZmZmb8i0BI4XoUrvuLQIXrUbge+4tACtejcD36i0CamZmZmfmLQClcj8L1+ItAmpmZmZn3i0CuR+F6FPaLQFyPwvUo9ItApHA9Ctfvi0AUrkfheu6LQArXo3A97ItAPQrXo3Dpi0BmZmZmZuaLQM3MzMzM4ItA9ihcj8Ldi0CuR+F6FNqLQD0K16Nw14tAH4XrUbjUi0AfhetRuNKLQPYoXI/Cz4tAj8L1KFzNi0CamZmZmcuLQLgehetRyItAZmZmZmbGi0AK16NwPcCLQHE9CtejvotAcT0K16O8i0AfhetRuLqLQLgehetRuItAUrgeheu1i0D2KFyPwrOLQGZmZmZmsotAhetRuB6xi0CuR+F6FLCLQIXrUbgefYtAKVyPwvV8i0C4HoXrUXyLQI/C9ShcfYtAMzMzMzOFi0AAAAAAAIqLQI/C9ShcjYtAcT0K16OQi0AAAAAAAJSLQEjhehSul4tA4XoUrkedi0BxPQrXo56LQOF6FK5Hn4tAH4XrUbigi0D2KFyPwqGLQNejcD0KoYtAPQrXo3Cfi0CF61G4Hp+LQOF6FK5Hn4tAmpmZmZmfi0CamZmZmZ+LQIXrUbgen4tAw/UoXI+ei0BmZmZmZp6LQAAAAAAAnotAzczMzMyei0CF61G4Hp2LQIXrUbgem4tAexSuR+Gai0D2KFyPwpuLQHsUrkfhnItAw/UoXI+ei0CamZmZmZ+LQIXrUbgeoYtA9ihcj8Kji0C4HoXrUaaLQB+F61G4potAFK5H4Xqmi0BmZmZmZqaLQNejcD0KpYtAhetRuB6li0CF61G4HqWLQIXrUbgepYtApHA9Cteli0DNzMzMzKaLQKRwPQrXp4tAhetRuB6pi0CF61G4HquLQHE9CtejrItAUrgeheuti0D2KFyPwq+LQNejcD0KsYtAj8L1KFyxi0AfhetRuLCLQJqZmZmZr4tA4XoUrketi0AK16NwPayLQKRwPQrXqYtACtejcD2oi0Bcj8L1KKaLQJqZmZmZoYtA9ihcj8Kfi0CkcD0K152LQFyPwvUonItAuB6F61Gai0A9CtejcJmLQEjhehSul4tAzczMzMyWi0D2KFyPwpWLQJqZmZmZk4tASOF6FK6Ri0DhehSuR4+LQMP1KFyPiotAFK5H4XqIi0BSuB6F64WLQHsUrkfhgotApHA9Ctd/i0BSuB6F63mLQArXo3A9eItA16NwPQp3i0BSuB6F63WLQMP1KFyPdItA9ihcj8Jzi0AzMzMzM3OLQGZmZmZmcotAUrgehetxi0A9CtejcHGLQD0K16NwcYtAMzMzMzNxi0DsUbgehXGLQM3MzMzMcItAcT0K16Nwi0CPwvUoXHGLQJqZmZmZcYtAuB6F61Fyi0CPwvUoXHOLQOxRuB6FdYtAFK5H4Xp2i0CuR+F6FHiLQI/C9ShceYtAexSuR+F6i0CPwvUoXHuLQHsUrkfhfItACtejcD1+i0DhehSuR3+LQFK4HoXrf4tAUrgeheuBi0CF61G4HoWLQBSuR+F6hotAAAAAAACIi0B7FK5H4YiLQOxRuB6FiYtAFK5H4XqKi0A9CtejcImLQJqZmZmZiYtAAAAAAACKi0DNzMzMzIiLQFK4HoXrh4tAKVyPwvWGi0CamZmZmYWLQI/C9ShchYtAw/UoXI+Ei0AK16NwPYSLQB+F61G4hItArkfhehSGi0BxPQrXo4aLQJqZmZmZh4tAexSuR+GIi0DsUbgehYmLQJqZmZmZkYtA7FG4HoWNi0DsUbgehY+LQB+F61G4kItAuB6F61GSi0DhehSuR5OLQPYoXI/Ck4tAexSuR+GUi0DsUbgehZWLQFK4HoXrlYtAH4XrUbiWi0CamZmZmZWLQClcj8L1lItAXI/C9SiUi0AfhetRuJSLQFyPwvUolItAPQrXo3CTi0C4HoXrUZKLQIXrUbgekYtA16NwPQqRi0AK16NwPZCLQKRwPQrXj4tAmpmZmZmPi0BSuB6F642LQNejcD0Kj4tAPQrXo3CLi0DNzMzMzIyLQI/C9ShciYtAMzMzMzOHi0CamZmZmYWLQFyPwvUohItAw/UoXI+Ci0B7FK5H4YCLQJqZmZmZfYtAUrgehet7i0AfhetRuHqLQKRwPQrXd4tAcT0K16N0i0AAAAAAAHaLQDMzMzMzc4tAj8L1KFxxi0CkcD0K12+LQD0K16NwbYtA7FG4HoVri0CF61G4HmmLQFK4HoXrYYtA16NwPQpfi0CamZmZmVuLQHE9CtejWItAMzMzMzNVi0A9CtejcFGLQPYoXI/CSYtAZmZmZmZGi0BxPQrXo0KLQFK4HoXrPYtASOF6FK47i0ApXI/C9TiLQLgehetRNotACtejcD00i0D2KFyPwjGLQAAAAAAAMItACtejcD0ui0C4HoXrUSqLQHsUrkfhKItA9ihcj8Ini0DD9ShcjyaLQNejcD0KJYtA4XoUrkchi0C4HoXrUSCLQBSuR+F6IItACtejcD0gi0BmZmZmZh6LQHsUrkfhHotAexSuR+Eei0AUrkfheh6LQJqZmZmZHYtA7FG4HoUdi0BmZmZmZhyLQM3MzMzMHItA7FG4HoUdi0CkcD0K1xuLQMP1KFyPGotApHA9CtcZi0CuR+F6FBiLQD0K16NwFYtAAAAAAAAUi0DhehSuRxOLQFK4HoXrEYtAhetRuB4Pi0AzMzMzMw2LQOF6FK5HC4tAexSuR+EIi0AfhetRuAaLQBSuR+F6BItAAAAAAAACi0BmZmZmZgCLQHE9Ctej+opAj8L1KFz3ikDNzMzMzPKKQBSuR+F6AotAw/UoXI8Ci0AfhetRuAKLQAAAAAAAAotA9ihcj8IBi0AAAAAAAAKLQOF6FK5H/4pA16NwPQoDi0AAAAAAAAKLQOxRuB6F/YpAw/UoXI/6ikAAAAAAAPaKQFyPwvUo9IpAMzMzMzPzikD2KFyPwvOKQFK4HoXr9YpAXI/C9Sj6ikCPwvUoXPuKQOxRuB6F/4pApHA9CtcDi0AfhetRuAaLQHE9CtejCotArkfhehQMi0AzMzMzMw2LQI/C9ShcDYtAPQrXo3ALi0DhehSuRwmLQDMzMzMzBYtA4XoUrkcBi0A9CtejcP+KQClcj8L1/IpAhetRuB77ikCamZmZmfmKQFK4HoXr94pA4XoUrkf3ikApXI/C9faKQPYoXI/C9YpAexSuR+H0ikBSuB6F6/OKQHE9Ctej8opAexSuR+HwikA9CtejcO+KQJqZmZmZ64pAzczMzMzqikDsUbgehemKQMP1KFyP5opASOF6FK7likBxPQrXo+SKQKRwPQrX44pAKVyPwvXiikBmZmZmZuKKQOxRuB6F4YpASOF6FK7hikCF61G4HuOKQNejcD0K44pAXI/C9SjiikD2KFyPwuGKQKRwPQrX4YpA7FG4HoXhikB7FK5H4eCKQMP1KFyP4IpA4XoUrkfhikCPwvUoXOGKQHE9Ctej4opAH4XrUbjiikApXI/C9eKKQOF6FK5H44pAj8L1KFzjikCPwvUoXOOKQEjhehSu44pASOF6FK7jikAfhetRuOKKQFK4HoXr4YpAMzMzMzPhikC4HoXrUeCKQIXrUbge34pAXI/C9SjeikA9CtejcN2KQM3MzMzM2opAXI/C9SjaikD2KFyPwteKQHsUrkfh1opAXI/C9SjWikDNzMzMzNSKQLgehetR1IpAKVyPwvXSikBI4XoUrtGKQGZmZmZm0IpAMzMzMzPRikBcj8L1KNKKQArXo3A90opAFK5H4XrSikBmZmZmZtKKQFK4HoXr0YpAzczMzMzSikCF61G4HtOKQK5H4XoU1IpApHA9CtfVikBcj8L1KNaKQKRwPQrX1YpASOF6FK7VikCPwvUoXNWKQBSuR+F62IpAcT0K16PaikDNzMzMzNyKQMP1KFyP3opAH4XrUbjgikCPwvUoXOOKQOxRuB6F5YpAAAAAAADoikApXI/C9eqKQEjhehSu7YpAzczMzMzwikCF61G4HvGKQB+F61G48IpAj8L1KFzvikCPwvUoXO2KQB+F61G46opAUrgehevnikAAAAAAAOSKQMP1KFyP4IpApHA9CtfbikBSuB6F69OKQMP1KFyPzopAZmZmZmbKikD2KFyPwsWKQFK4HoXrwYpAPQrXo3C9ikAAAAAAALqKQGZmZmZmtopAhetRuB6zikCkcD0K16uKQOxRuB6FqYpAKVyPwvWmikCuR+F6FKSKQJqZmZmZoYpACtejcD2cikCuR+F6FJqKQFyPwvUomIpAhetRuB6VikAfhetRuJSKQArXo3A9lIpASOF6FK6TikApXI/C9ZKKQB+F61G4kopAPQrXo3CTikAK16NwPZSKQNejcD0KlYpA7FG4HoWXikDhehSuR5mKQDMzMzMzm4pApHA9CtebikAAAAAAAJyKQIXrUbgenYpAZmZmZmacikCkcD0K15uKQLgehetRmopA16NwPQqZikAUrkfhepiKQGZmZmZmmIpApHA9CteXikCuR+F6FJaKQMP1KFyPlIpAj8L1KFyTikCamZmZmZGKQBSuR+F6kIpApHA9CteRikCkcD0K15GKQB+F61G4kopA7FG4HoWTikDsUbgehZOKQKRwPQrXk4pAZmZmZmaUikAzMzMzM5WKQI/C9ShclYpAPQrXo3CVikCkcD0K15WKQArXo3A9lopAj8L1KFyVikBmZmZmZpSKQEjhehSuk4pAZmZmZmaQikDXo3A9Co+KQBSuR+F6jopAUrgeheuNikApXI/C9YyKQFK4HoXri4pAmpmZmZmJikDD9Shcj4iKQKRwPQrXh4pAmpmZmZmHikCkcD0K14eKQBSuR+F6iIpAexSuR+GIikA9CtejcImKQKRwPQrXiYpAuB6F61GKikAzMzMzM4uKQHE9CtejjIpASOF6FK6NikDNzMzMzI6KQJqZmZmZj4pAAAAAAACQikAUrkfhepCKQOxRuB6FkYpAZmZmZmaSikDsUbgehZOKQHE9CtejlIpAAAAAAACWikD2KFyPwpeKQI/C9ShcmYpAFK5H4XqaikDXo3A9Cp2KQOxRuB6Fn4pApHA9CtehikBcj8L1KKaKQBSuR+F6qIpAFK5H4XqqikBI4XoUrquKQLgehetRrIpAH4XrUbisikAK16NwPayKQArXo3A9qopAH4XrUbioikApXI/C9aaKQPYoXI/Co4pAmpmZmZmhikBSuB6F65+KQDMzMzMznYpAj8L1KFybikAUrkfhepiKQKRwPQrXk4pAKVyPwvWQikDsUbgehY2KQBSuR+F6iIpAZmZmZmaEikCkcD0K13mKQPYoXI/CdYpAcT0K16NyikBcj8L1KG6KQHsUrkfhaopAKVyPwvVmikB7FK5H4WSKQB+F61G4YopAj8L1KFxhikBI4XoUrl+KQMP1KFyPXIpACtejcD1YikCPwvUoXFeKQGZmZmZmVopA4XoUrkdVikDD9Shcj1SKQK5H4XoUUopACtejcD1SikBxPQrXo1KKQI/C9ShcU4pAKVyPwvVSikDsUbgehVOKQIXrUbgeU4pAFK5H4XpSikAK16NwPVKKQJqZmZmZUYpAMzMzMzNRikDNzMzMzFCKQK5H4XoUUIpAexSuR+FOikD2KFyPwk2KQM3MzMzMTIpACtejcD1MikCamZmZmUuKQNejcD0KS4pAuB6F61FKikDXo3A9CkmKQPYoXI/CR4pAH4XrUbhGikA9CtejcEOKQHsUrkfhQIpArkfhehQ+ikBSuB6F6zuKQMP1KFyPOopAMzMzMzM5ikC4HoXrUTiKQOxRuB6FN4pA4XoUrkc3ikCamZmZmTeKQEjhehSuN4pAw/UoXI86ikDNzMzMzDyKQPYoXI/CP4pAhetRuB5BikBI4XoUrkGKQKRwPQrXQYpAFK5H4XpCikDhehSuR0OKQFK4HoXrQ4pAXI/C9ShEikAK16NwPUSKQFK4HoXrQ4pAmpmZmZlDikCPwvUoXEOKQGZmZmZmQopASOF6FK5BikB7FK5H4UCKQGZmZmZmQIpAAAAAAABAikAzMzMzMz+KQAAAAAAAPopAmpmZmZk9ikAUrkfhejyKQLgehetROopA9ihcj8I1ikC4HoXrUTSKQHE9CtejNIpAexSuR+E0ikCuR+F6FDKKQHE9CtejMIpAcT0K16MuikCamZmZmS2KQJqZmZmZLYpAcT0K16MsikBcj8L1KDCKQB+F61G4MIpAZmZmZmYwikCkcD0K1y2KQM3MzMzMLIpAMzMzMzMrikDsUbgehSuKQAAAAAAALopAmpmZmZkvikCkcD0K1zGKQM3MzMzMMopA4XoUrkc1ikDXo3A9CjeKQHsUrkfhOIpAj8L1KFw7ikDhehSuRz2KQI/C9ShcP4pAuB6F61FCikBcj8L1KEKKQDMzMzMzNYpArkfhehQ0ikCkcD0K1zGKQAAAAAAAMopAKVyPwvUyikAUrkfhejKKQIXrUbgeM4pAj8L1KFwzikAAAAAAADSKQFK4HoXrM4pAw/UoXI80ikAzMzMzMzWKQOF6FK5HN4pAhetRuB45ikBxPQrXozqKQB+F61G4OopAhetRuB47ikCkcD0K1zuKQJqZmZmZO4pA16NwPQo7ikAfhetRuDqKQClcj8L1OopAzczMzMw6ikCuR+F6FDqKQHsUrkfhOIpAj8L1KFw3ikAUrkfhejaKQMP1KFyPNIpAmpmZmZkzikDNzMzMzDSKQIXrUbgeNYpA9ihcj8I1ikDNzMzMzDaKQJqZmZmZN4pAexSuR+E4ikD2KFyPwjmKQM3MzMzMOopAuB6F61E8ikBxPQrXoz6KQOF6FK5HP4pAj8L1KFw/ikCF61G4Hj+KQOF6FK5HP4pAzczMzMw+ikAK16NwPT6KQOF6FK5HPYpAFK5H4Xo6ikB7FK5H4TiKQOxRuB6FN4pAhetRuB43ikB7FK5H4TaKQHE9CtejNopAZmZmZmY2ikDD9ShcjzaKQBSuR+F6NopAFK5H4Xo2ikCkcD0K1zeKQPYoXI/COYpA7FG4HoU7ikDD9ShcjzyKQEjhehSuPYpAmpmZmZk9ikCamZmZmT2KQOxRuB6FPYpA16NwPQo9ikDNzMzMzDyKQBSuR+F6PIpAZmZmZmY8ikB7FK5H4TyKQHsUrkfhPIpAzczMzMw8ikAfhetRuDyKQAAAAAAAPIpACtejcD06ikAUrkfhejiKQJqZmZmZN4pAuB6F61E2ikD2KFyPwjWKQB+F61G4NIpAhetRuB41ikA9CtejcDWKQAAAAAAANopAZmZmZmY2ikCuR+F6FDiKQFK4HoXrOYpA9ihcj8I7ikCPwvUoXD2KQHE9CtejPopAMzMzMzM/ikCuR+F6FECKQB+F61G4QIpAcT0K16NAikAzMzMzMz2KQHE9CtejPIpAMzMzMzM7ikBmZmZmZjqKQOxRuB6FOYpAzczMzMw4ikCamZmZmTeKQEjhehSuN4pAj8L1KFw3ikDXo3A9CjeKQEjhehSuN4pAZmZmZmY4ikDD9ShcjziKQBSuR+F6OIpAcT0K16M4ikBmZmZmZjiKQArXo3A9OIpAFK5H4Xo4ikBxPQrXoziKQHE9CtejOIpA4XoUrkc5ikDsUbgehTmKQD0K16NwOYpA9ihcj8I5ikAzMzMzMzmKQD0K16NwOYpA7FG4HoU5ikA9CtejcDmKQPYoXI/COYpAhetRuB45ikDNzMzMzDiKQM3MzMzMOIpAcT0K16M4ikC4HoXrUTiKQAAAAAAAOIpA9ihcj8I3ikCPwvUoXDeKQNejcD0KN4pAexSuR+E2ikBSuB6F6zWKQEjhehSuNYpA16NwPQo1ikBxPQrXozSKQBSuR+F6NIpACtejcD00ikCuR+F6FDSKQFK4HoXrM4pAuB6F61E0ikBSuB6F6zOKQFK4HoXrM4pAuB6F61E0ikAUrkfhejSKQHsUrkfhNIpAMzMzMzM1ikAAAAAAADaKQBSuR+F6NopAcT0K16M2ikAfhetRuDaKQHsUrkfhNopAH4XrUbg2ikDNzMzMzDaKQMP1KFyPNopACtejcD02ikAK16NwPTaKQFK4HoXrNYpAPQrXo3A1ikApXI/C9TSKQMP1KFyPNIpArkfhehQ0ikAAAAAAADSKQD0K16NwM4pA7FG4HoUzikDsUbgehTOKQClcj8L1MopA4XoUrkczikDhehSuRzOKQOxRuB6FM4pApHA9CtczikAK16NwPTSKQLgehetRNIpAAAAAAAA0ikCkcD0K1zOKQMP1KFyPNIpAKVyPwvU0ikBcj8L1KDaKQMP1KFyPNopAXI/C9Sg4ikCF61G4HjmKQEjhehSuOYpAAAAAAAA6ikApXI/C9TqKQNejcD0KPYpAhetRuB49ikA9CtejcD2KQJqZmZmZPYpAXI/C9Sg+ikBcj8L1KD6KQKRwPQrXPYpAPQrXo3A9ikCkcD0K1z2KQAAAAAAAPopAuB6F61E+ikCPwvUoXD+KQK5H4XoUQIpAH4XrUbhAikA9CtejcEGKQD0K16NwQYpApHA9CtdBikB7FK5H4UKKQLgehetRRIpA16NwPQpFikCamZmZmUWKQLgehetRRopAKVyPwvVGikCF61G4HkeKQClcj8L1RopAzczMzMxGikB7FK5H4UaKQOxRuB6FR4pA16NwPQpJikDhehSuR0mKQJqZmZmZSYpAPQrXo3BJikBSuB6F60mKQK5H4XoUSopAZmZmZmZKikBmZmZmZkqKQAAAAAAASopASOF6FK5JikB7FK5H4UiKQLgehetRSIpAH4XrUbhGikA9CtejcEWKQB+F61G4RIpAKVyPwvVEikDNzMzMzESKQHsUrkfhRIpAzczMzMxEikD2KFyPwkWKQClcj8L1RopAFK5H4XpIikBI4XoUrkmKQPYoXI/CS4pAFK5H4XpMikA9CtejcE2KQClcj8L1TIpAw/UoXI9MikBmZmZmZkyKQB+F61G4TIpAw/UoXI9MikDD9Shcj0yKQFyPwvUoTIpApHA9CtdLikDsUbgehUuKQBSuR+F6SopAw/UoXI9KikBmZmZmZkqKQJqZmZmZSYpAMzMzMzNHikBSuB6F60WKQB+F61G4RIpA4XoUrkdDikC4HoXrUUKKQHsUrkfhQIpApHA9Ctc/ikDD9Shcjz6KQM3MzMzMPIpA4XoUrkc7ikBxPQrXozqKQOxRuB6FOYpAZmZmZmY6ikA9CtejcDuKQM3MzMzMPIpArkfhehQ+ikB7FK5H4T6KQFyPwvUoQIpA7FG4HoVBikBxPQrXo0KKQArXo3A9RIpA7FG4HoVFikA9CtejcEeKQD0K16NwSYpAUrgehetJikCuR+F6FEqKQD0K16NwSYpA9ihcj8JJikBmZmZmZkqKQB+F61G4SopAAAAAAABMikDNzMzMzEyKQNejcD0KTYpA16NwPQpNikAzMzMzM02KQEjhehSuTYpA16NwPQpNikBxPQrXo0yKQHE9CtejTIpAuB6F61FMikAUrkfhekyKQArXo3A9TIpAAAAAAABMikCkcD0K10uKQKRwPQrXS4pAUrgehetLikD2KFyPwkuKQFK4HoXrS4pAKVyPwvVMikDXo3A9Ck2KQKRwPQrXTYpAcT0K16NOikDsUbgehVGKQLgehetRUopASOF6FK5TikDNzMzMzFSKQEjhehSuVYpAhetRuB5XikC4HoXrUViKQGZmZmZmWopA4XoUrkdbikBmZmZmZlyKQGZmZmZmXIpAXI/C9ShcikC4HoXrUVyKQK5H4XoUXIpApHA9CtdbikAAAAAAAFyKQJqZmZmZW4pAj8L1KFxbikAzMzMzM1uKQFyPwvUoWopAUrgehetZikA9CtejcFmKQNejcD0KWYpAZmZmZmZYikCkcD0K11eKQDMzMzMzV4pAzczMzMxWikAAAAAAAFaKQM3MzMzMVIpArkfhehRUikDD9Shcj1KKQFK4HoXrUYpAhetRuB5RikAfhetRuFCKQBSuR+F6UIpAcT0K16NQikDsUbgehVGKQJqZmZmZUYpAuB6F61FSikB7FK5H4VKKQNejcD0KU4pAPQrXo3BTikBI4XoUrlOKQArXo3A9VIpAH4XrUbhUikB7FK5H4VSKQMP1KFyPVIpA9ihcj8JTikCF61G4HlOKQHsUrkfhUopAZmZmZmZSikCkcD0K11GKQKRwPQrXT4pAhetRuB5PikDD9Shcj06KQFK4HoXrTYpAMzMzMzNNikCkcD0K10uKQBSuR+F6TIpAFK5H4XpMikDNzMzMzEyKQM3MzMzMTIpA9ihcj8JNikDXo3A9ClGKQPYoXI/CUYpAzczMzMxSikD2KFyPwlOKQNejcD0KVYpAj8L1KFxfikD2KFyPwluKQEjhehSuWYpApHA9CtddikCF61G4HmGKQAAAAAAAYopArkfhehRkikBI4XoUrmWKQMP1KFyPaIpA9ihcj8JrikBxPQrXo26KQEjhehSucYpAXI/C9Sh2ikDsUbgehXeKQI/C9ShceYpAZmZmZmZ6ikDsUbgehXuKQK5H4XoUfIpAUrgehet7ikBSuB6F63uKQKRwPQrXe4pAmpmZmZl7ikCamZmZmXuKQOxRuB6Fe4pACtejcD16ikCamZmZmXmKQJqZmZmZeYpAmpmZmZl5ikCkcD0K13mKQEjhehSueYpAuB6F61F4ikC4HoXrUXiKQPYoXI/Cd4pAPQrXo3B3ikCkcD0K13eKQFyPwvUoeIpACtejcD14ikCPwvUoXHeKQPYoXI/Cd4pAPQrXo3B3ikCF61G4HneKQFyPwvUoeIpAXI/C9Sh4ikBmZmZmZniKQHE9CtejeIpAH4XrUbh4ikCPwvUoXHmKQDMzMzMzeYpAKVyPwvV4ikAfhetRuHiKQGZmZmZmeIpAUrgehet3ikA9CtejcHeKQHsUrkfhdopAuB6F61F2ikDD9Shcj3aKQFK4HoXrdYpA7FG4HoV1ikAzMzMzM3WKQNejcD0KdYpAKVyPwvV0ikA9CtejcHWKQIXrUbgedYpAhetRuB51ikDhehSuR3WKQKRwPQrXdYpASOF6FK51ikDhehSuR3WKQNejcD0KdYpAexSuR+F0ikB7FK5H4XSKQIXrUbgedYpAexSuR+F0ikBxPQrXo3SKQM3MzMzMdIpAzczMzMx0ikBxPQrXo3SKQHsUrkfhdIpA16NwPQp1ikA9CtejcHWKQOF6FK5Hd4pAw/UoXI94ikAzMzMzM3mKQFyPwvUoeopAZmZmZmZ6ikD2KFyPwnmKQNejcD0KeYpAAAAAAAB4ikCPwvUoXHWKQPYoXI/Cc4pAMzMzMzNxikDNzMzMzG6KQOF6FK5HbYpAPQrXo3BrikC4HoXrUWqKQEjhehSuaYpAH4XrUbhoikAzMzMzM2mKQFyPwvUoaopAexSuR+FqikC4HoXrUWyKQPYoXI/Cb4pAKVyPwvVwikC4HoXrUXKKQD0K16Nwc4pAw/UoXI90ikCF61G4HnWKQJqZmZmZdYpACtejcD12ikDD9Shcj3aKQD0K16Nwd4pArkfhehR4ikBSuB6F63eKQMP1KFyPeIpAH4XrUbh4ikAUrkfheniKQFK4HoXrd4pAPQrXo3B3ikAzMzMzM3eKQOxRuB6Fd4pArkfhehR4ikAK16NwPXiKQBSuR+F6eIpAH4XrUbh6ikBcj8L1KHyKQM3MzMzMfIpA9ihcj8J9ikAfhetRuH6KQFyPwvUogIpAFK5H4XqCikCamZmZmYOKQBSuR+F6hIpA7FG4HoWFikD2KFyPwoWKQClcj8L1hIpAexSuR+GEikAUrkfheoSKQFyPwvUohIpAj8L1KFyDikDNzMzMzIKKQFyPwvUogopA7FG4HoWBikBxPQrXo4CKQAAAAAAAgIpAj8L1KFx/ikDhehSuR32KQOF6FK5He4pAAAAAAAB6ikAzMzMzM3mKQFyPwvUoeIpAPQrXo3B3ikB7FK5H4XaKQBSuR+F6dopAUrgehet1ikCF61G4HnWKQClcj8L1dIpAKVyPwvV0ikCPwvUoXHWKQAAAAAAAdopAzczMzMx2ikDNzMzMzHaKQMP1KFyPdopA4XoUrkd3ikCF61G4HneKQNejcD0Kd4pAj8L1KFx3ikCPwvUoXHeKQLgehetRdopA4XoUrkd1ikBxPQrXo3SKQK5H4XoUdIpAUrgehetzikDsUbgehXOKQHE9CtejcopApHA9CtdxikBxPQrXo3CKQGZmZmZmcIpA9ihcj8JvikCkcD0K12+KQOF6FK5Hb4pAKVyPwvVuikDD9Shcj26KQArXo3A9bopAAAAAAABuikAK16NwPW6KQLgehetRbopAH4XrUbhuikAAAAAAAG6KQArXo3A9bopA9ihcj8JtikCF61G4Hm2KQM3MzMzMbIpAAAAAAABsikDsUbgehWuKQMP1KFyPaopApHA9CtdpikAfhetRuGiKQArXo3A9aIpAmpmZmZlnikA9CtejcGeKQClcj8L1ZopAXI/C9ShmikAzMzMzM2WKQNejcD0KY4pAPQrXo3BhikBI4XoUrl+KQFK4HoXrX4pAZmZmZmZgikAUrkfhemCKQKRwPQrXX4pAhetRuB5fikBxPQrXo16KQAAAAAAAXopASOF6FK5dikCkcD0K112KQClcj8L1XopAAAAAAABgikBcj8L1KGCKQI/C9ShcX4pAzczMzMxcikBmZmZmZlyKQFyPwvUoXIpASOF6FK5bikCPwvUoXFuKQI/C9ShcW4pA4XoUrkdbikDsUbgehVuKQKRwPQrXW4pA9ihcj8JbikBI4XoUrluKQPYoXI/CW4pAUrgehetbikCamZmZmVuKQOF6FK5HW4pA16NwPQpbikB7FK5H4VqKQOF6FK5HWYpAexSuR+FYikAUrkfheliKQK5H4XoUWIpAUrgehetXikCPwvUoXFeKQHE9CtejVopAXI/C9ShWikDXo3A9ClWKQFyPwvUoVIpASOF6FK5TikCF61G4HlOKQB+F61G4UopArkfhehRSikCamZmZmVGKQIXrUbgeUYpA16NwPQpRikCPwvUoXFGKQOF6FK5HUYpAhetRuB5RikAzMzMzM1GKQDMzMzMzUYpAH4XrUbhQikCuR+F6FFCKQKRwPQrXT4pAmpmZmZlPikBI4XoUrk+KQK5H4XoUUIpA9ihcj8JPikD2KFyPwk+KQKRwPQrXT4pAXI/C9ShQikDD9Shcj1CKQNejcD0KUYpA9ihcj8JTikC4HoXrUVSKQBSuR+F6VIpAexSuR+FUikAzMzMzM1WKQDMzMzMzVYpAmpmZmZlVikCPwvUoXFWKQDMzMzMzVYpACtejcD1UikD2KFyPwlOKQGZmZmZmUopA9ihcj8JRikDNzMzMzFCKQArXo3A9UIpApHA9CtdPikDhehSuR0+KQOF6FK5HT4pA4XoUrkdPikDsUbgehU+KQJqZmZmZT4pAPQrXo3BPikAzMzMzM0+KQIXrUbgeT4pA16NwPQpPikApXI/C9U6KQHsUrkfhTopAcT0K16NOikDD9Shcj06KQHE9CtejTopAZmZmZmZOikD2KFyPwk2KQEjhehSuTYpAhetRuB5NikBcj8L1KEyKQPYoXI/CS4pAPQrXo3BLikApXI/C9UqKQFyPwvUoSopAPQrXo3BJikAfhetRuEiKQAAAAAAASIpAhetRuB5HikBcj8L1KEaKQMP1KFyPRIpAuB6F61FGikA9CtejcEmKQIXrUbgeTYpAPQrXo3BPikD2KFyPwk+KQPYoXI/CT4pAPQrXo3BPikDhehSuR0+KQB+F61G4TopAPQrXo3BNikD2KFyPwkuKQD0K16NwSYpAZmZmZmZEikDsUbgehT2KQAAAAAAANopACtejcD3uiUC4HoXrUeyJQBSuR+F66olAH4XrUbjoiUDhehSuR+eJQAAAAAAA5IlAH4XrUbjiiUAK16NwPeCJQHsUrkfh3olAexSuR+HeiUDD9Shcj96JQI/C9Shc34lAZmZmZmbiiUB7FK5H4eKJQHE9Ctej4olAAAAAAADiiUDhehSuR9+JQOxRuB6F3YlAFK5H4XrciUCF61G4HtuJQAAAAAAA2IlAPQrXo3DRiUDhehSuR82JQPYoXI/CyYlAPQrXo3DHiUBcj8L1KMSJQAAAAAAAwolAhetRuB6/iUAUrkfheryJQOxRuB6FuYlA4XoUrke3iUAfhetRuLSJQHE9CtejsolAhetRuB6viUAAAAAAAKyJQMP1KFyPqolArkfhehSoiUDNzMzMzKaJQEjhehSuo4lAzczMzMyiiUAAAAAAAKKJQFK4HoXrn4lApHA9CtediUC4HoXrUZyJQDMzMzMzm4lAPQrXo3CZiUAAAAAAAJiJQArXo3A9lolAH4XrUbiUiUC4HoXrUZCJQPYoXI/CjYlAuB6F61GKiUD2KFyPwoeJQAAAAAAAholASOF6FK6DiUAK16NwPYCJQB+F61G4folA16NwPQp9iUAzMzMzM3uJQLgehetReIlAzczMzMx2iUDXo3A9CnWJQK5H4XoUdIlAuB6F61FyiUApXI/C9XCJQJqZmZmZb4lAKVyPwvVqiUDsUbgehWmJQK5H4XoUZolACtejcD1kiUDD9Shcj2KJQOF6FK5HYYlArkfhehReiUBSuB6F61uJQHsUrkfhWolAPQrXo3BZiUBI4XoUrleJQM3MzMzMVolApHA9CtdViUDNzMzMzFSJQPYoXI/CU4lAFK5H4XpSiUCF61G4HlGJQK5H4XoUTolA7FG4HoVNiUBmZmZmZkyJQMP1KFyPSolAXI/C9ShKiUBSuB6F60mJQFK4HoXrSYlAH4XrUbhKiUBI4XoUrkuJQM3MzMzMTIlACtejcD1OiUBcj8L1KFCJQClcj8L1UIlAAAAAAABSiUCF61G4HlOJQFK4HoXrU4lAw/UoXI9UiUCkcD0K11WJQB+F61G4VIlAhetRuB5TiUDD9Shcj1SJQBSuR+F6VolAZmZmZmZYiUCF61G4HluJQMP1KFyPXIlACtejcD1eiUDXo3A9Cl+JQFK4HoXrX4lAMzMzMzNhiUBSuB6F62GJQAAAAAAAZIlAw/UoXI9kiUDhehSuR2OJQOxRuB6FYYlAhetRuB5fiUAUrkfhel6JQOxRuB6FXYlACtejcD1ciUA9CtejcFuJQPYoXI/CWYlA9ihcj8JZiUAzMzMzM1mJQBSuR+F6WIlAAAAAAABYiUB7FK5H4VaJQFyPwvUoVolACtejcD1UiUCkcD0K11GJQFK4HoXrT4lApHA9CtdNiUBI4XoUrkuJQFK4HoXrR4lAAAAAAABGiUCamZmZmUOJQI/C9ShcQYlAAAAAAAA+iUBcj8L1KDqJQHsUrkfhOIlAcT0K16M4iUAAAAAAADiJQHsUrkfhNolAUrgehes1iUDXo3A9CjWJQClcj8L1MolAPQrXo3AxiUAK16NwPTCJQArXo3A9LolAuB6F61EsiUC4HoXrUSiJQK5H4XoUJolA9ihcj8IjiUDXo3A9CiGJQFyPwvUoHolAhetRuB4ZiUBSuB6F6xWJQFK4HoXrE4lAMzMzMzMRiUBSuB6F6w2JQOxRuB6FC4lAzczMzMwIiUAfhetRuAaJQGZmZmZmBIlA16NwPQoBiUDD9Shcj/6IQClcj8L1+IhAKVyPwvX8iEA9CtejcPuIQOxRuB6F+4hAzczMzMz2iEDhehSuR/eIQFK4HoXr+YhAzczMzMz6iEB7FK5H4f6IQD0K16NwAYlAzczMzMwEiUBSuB6F6weJQFK4HoXrM4lAzczMzMwQiUBmZmZmZhSJQK5H4XoUMolACtejcD02iUCPwvUoXDWJQD0K16NwFYlA4XoUrkcXiUBmZmZmZhSJQGZmZmZmNIlAzczMzMwwiUAK16NwPRqJQOxRuB6FGYlAcT0K16MYiUD2KFyPwhmJQM3MzMzMKIlA16NwPQopiUD2KFyPwimJQGZmZmZmKolAAAAAAAAsiUDNzMzMzCqJQFK4HoXrMYlAzczMzMwwiUDXo3A9Ci+JQHE9CtejKolACtejcD0UiUBmZmZmZhaJQAAAAAAAEIlACtejcD0OiUDD9ShcjwyJQArXo3A9FolAKVyPwvUWiUDsUbgehReJQAAAAAAAGIlAXI/C9SgSiUDhehSuRw2JQFyPwvUoFolAuB6F61E0iUDhehSuRzOJQGZmZmZmMolAhetRuB4viUDsUbgehS2JQIXrUbgeE4lAmpmZmZkRiUCamZmZmQ+JQHE9CtejKIlAw/UoXI8oiUDhehSuRyeJQGZmZmZmKIlAw/UoXI8miUDD9ShcjySJQBSuR+F6IolAFK5H4XogiUDhehSuRxWJQArXo3A9FIlAZmZmZmYOiUAUrkfheg6JQK5H4XoUDolAPQrXo3AxiUAAAAAAADCJQLgehetRNIlAmpmZmZk3iUBI4XoUrjWJQGZmZmZmNIlASOF6FK4xiUCamZmZmTOJQNejcD0KM4lApHA9Ctc1iUAUrkfhejaJQHE9CtejMIlAZmZmZmY0iUBcj8L1KCqJQAAAAAAAGolAzczMzMwiiUBI4XoUrhGJQOxRuB6FEIlAj8L1KFwPiUA=\",\"dtype\":\"float64\",\"order\":\"little\",\"shape\":[6019]},\"color\":{\"__ndarray__\":\"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\",\"dtype\":\"float64\",\"order\":\"little\",\"shape\":[6019]},\"size\":{\"__ndarray__\":\"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\",\"dtype\":\"float64\",\"order\":\"little\",\"shape\":[6019]}},\"selected\":{\"id\":\"1076\"},\"selection_policy\":{\"id\":\"1153\"}},\"id\":\"1075\",\"type\":\"ColumnDataSource\"},{\"attributes\":{},\"id\":\"1110\",\"type\":\"SaveTool\"},{\"attributes\":{},\"id\":\"1125\",\"type\":\"BasicTickFormatter\"},{\"attributes\":{},\"id\":\"1129\",\"type\":\"AllLabels\"},{\"attributes\":{\"axis_label\":\"x\",\"coordinates\":null,\"formatter\":{\"id\":\"1125\"},\"group\":null,\"major_label_policy\":{\"id\":\"1126\"},\"ticker\":{\"id\":\"1103\"},\"visible\":false},\"id\":\"1102\",\"type\":\"LinearAxis\"},{\"attributes\":{\"coordinates\":null,\"data_source\":{\"id\":\"1075\"},\"glyph\":{\"id\":\"1078\"},\"group\":null,\"hover_glyph\":{\"id\":\"1081\"},\"muted_glyph\":{\"id\":\"1082\"},\"nonselection_glyph\":{\"id\":\"1079\"},\"selection_glyph\":{\"id\":\"1080\"},\"view\":{\"id\":\"1084\"}},\"id\":\"1083\",\"type\":\"GlyphRenderer\"},{\"attributes\":{\"axis\":{\"id\":\"1106\"},\"coordinates\":null,\"dimension\":1,\"grid_line_color\":null,\"group\":null,\"ticker\":null},\"id\":\"1109\",\"type\":\"Grid\"},{\"attributes\":{},\"id\":\"1132\",\"type\":\"Selection\"},{\"attributes\":{\"end\":-13514243.564161329,\"min_interval\":5,\"reset_end\":-13514243.564161329,\"reset_start\":-13533054.95065194,\"start\":-13533054.95065194,\"tags\":[[[\"Longitude\",\"Longitude\",null]]]},\"id\":\"1012\",\"type\":\"Range1d\"},{\"attributes\":{\"angle\":{\"value\":0.0},\"fill_alpha\":{\"value\":0},\"fill_color\":{\"value\":\"#30a2da\"},\"hatch_alpha\":{\"value\":1.0},\"hatch_color\":{\"value\":\"#30a2da\"},\"hatch_scale\":{\"value\":12.0},\"hatch_weight\":{\"value\":1.0},\"line_alpha\":{\"value\":1.0},\"line_cap\":{\"value\":\"butt\"},\"line_color\":{\"value\":\"#30a2da\"},\"line_dash\":{\"value\":[]},\"line_dash_offset\":{\"value\":0},\"line_join\":{\"value\":\"bevel\"},\"line_width\":{\"value\":1},\"marker\":{\"value\":\"circle\"},\"size\":{\"field\":\"size\"},\"x\":{\"field\":\"x\"},\"y\":{\"field\":\"y\"}},\"id\":\"1148\",\"type\":\"Scatter\"},{\"attributes\":{\"source\":{\"id\":\"1131\"}},\"id\":\"1138\",\"type\":\"CDSView\"},{\"attributes\":{\"range\":null,\"value\":0.4},\"id\":\"1130\",\"type\":\"Dodge\"},{\"attributes\":{\"fill_alpha\":{\"value\":0.5},\"fill_color\":{\"field\":\"color\",\"transform\":{\"id\":\"1074\"}},\"hatch_alpha\":{\"value\":0.5},\"hatch_color\":{\"field\":\"color\",\"transform\":{\"id\":\"1074\"}},\"line_alpha\":{\"value\":0.5},\"line_color\":{\"field\":\"color\",\"transform\":{\"id\":\"1074\"}},\"size\":{\"field\":\"size\"},\"x\":{\"field\":\"Longitude\"},\"y\":{\"field\":\"Latitude\"}},\"id\":\"1078\",\"type\":\"Scatter\"},{\"attributes\":{\"coordinates\":null,\"data_source\":{\"id\":\"1140\"},\"glyph\":{\"id\":\"1143\"},\"group\":null,\"hover_glyph\":null,\"muted_glyph\":{\"id\":\"1145\"},\"nonselection_glyph\":{\"id\":\"1144\"},\"selection_glyph\":{\"id\":\"1148\"},\"view\":{\"id\":\"1147\"}},\"id\":\"1146\",\"type\":\"GlyphRenderer\"},{\"attributes\":{},\"id\":\"1111\",\"type\":\"PanTool\"},{\"attributes\":{\"children\":[{\"id\":\"1005\"},{\"id\":\"1173\"},{\"id\":\"1193\"}],\"margin\":[0,0,0,0],\"name\":\"Row01639\",\"tags\":[\"embedded\"]},\"id\":\"1004\",\"type\":\"Row\"},{\"attributes\":{\"data\":{\"size\":{\"__ndarray__\":\"AQAAAAUAAAAJAAAADgAAABIAAAAWAAAA\",\"dtype\":\"int32\",\"order\":\"little\",\"shape\":[6]},\"x\":{\"__ndarray__\":\"AAAAAAAAAAAAAAAAAAAAAAAAAAAAAAAAAAAAAAAAAAAAAAAAAAAAAAAAAAAAAAAA\",\"dtype\":\"float64\",\"order\":\"little\",\"shape\":[6]},\"y\":{\"__ndarray__\":\"AAAAAAAA8D+rqqqqqqrqP1ZVVVVVVeU/AQAAAAAA4D9YVVVVVVXVP1xVVVVVVcU/\",\"dtype\":\"float64\",\"order\":\"little\",\"shape\":[6]}},\"selected\":{\"id\":\"1141\"},\"selection_policy\":{\"id\":\"1166\"}},\"id\":\"1140\",\"type\":\"ColumnDataSource\"},{\"attributes\":{\"below\":[{\"id\":\"1028\"}],\"center\":[{\"id\":\"1031\"},{\"id\":\"1035\"}],\"frame_width\":800,\"height\":300,\"left\":[{\"id\":\"1032\"}],\"margin\":null,\"min_border_bottom\":10,\"min_border_left\":10,\"min_border_right\":10,\"min_border_top\":10,\"renderers\":[{\"id\":\"1072\"},{\"id\":\"1083\"}],\"right\":[{\"id\":\"1086\"}],\"sizing_mode\":\"fixed\",\"title\":{\"id\":\"1020\"},\"toolbar\":{\"id\":\"1042\"},\"toolbar_location\":null,\"width\":null,\"x_range\":{\"id\":\"1012\"},\"x_scale\":{\"id\":\"1024\"},\"y_range\":{\"id\":\"1013\"},\"y_scale\":{\"id\":\"1026\"}},\"id\":\"1019\",\"subtype\":\"Figure\",\"type\":\"Plot\"},{\"attributes\":{\"code\":\"\\n        var projections = Bokeh.require(\\\"core/util/projections\\\");\\n        var x = special_vars.data_x\\n        var y = special_vars.data_y\\n        if (projections.wgs84_mercator.invert == null) {\\n          var coords = projections.wgs84_mercator.inverse([x, y])\\n        } else {\\n          var coords = projections.wgs84_mercator.invert(x, y)\\n        }\\n        return \\\"\\\" + (coords[0]).toFixed(4)\\n    \"},\"id\":\"1087\",\"type\":\"CustomJSHover\"},{\"attributes\":{\"fill_alpha\":{\"value\":0.2},\"fill_color\":{\"value\":\"#30a2da\"},\"hatch_alpha\":{\"value\":0.2},\"hatch_color\":{\"value\":\"#30a2da\"},\"line_alpha\":{\"value\":0.2},\"line_color\":{\"value\":\"#30a2da\"},\"size\":{\"field\":\"size\"},\"x\":{\"field\":\"x\"},\"y\":{\"field\":\"y\"}},\"id\":\"1145\",\"type\":\"Scatter\"},{\"attributes\":{\"coordinates\":null,\"data_source\":{\"id\":\"1131\"},\"glyph\":{\"id\":\"1134\"},\"group\":null,\"hover_glyph\":null,\"muted_glyph\":{\"id\":\"1136\"},\"nonselection_glyph\":{\"id\":\"1135\"},\"selection_glyph\":{\"id\":\"1139\"},\"view\":{\"id\":\"1138\"}},\"id\":\"1137\",\"type\":\"GlyphRenderer\"},{\"attributes\":{\"code\":\"\\n        var projections = Bokeh.require(\\\"core/util/projections\\\");\\n        var x = special_vars.data_x\\n        var y = special_vars.data_y\\n        if (projections.wgs84_mercator.invert == null) {\\n          var coords = projections.wgs84_mercator.inverse([x, y])\\n        } else {\\n          var coords = projections.wgs84_mercator.invert(x, y)\\n        }\\n        return \\\"\\\" + (coords[1]).toFixed(4)\\n    \"},\"id\":\"1088\",\"type\":\"CustomJSHover\"},{\"attributes\":{\"bottom_units\":\"screen\",\"coordinates\":null,\"fill_alpha\":0.5,\"fill_color\":\"lightgrey\",\"group\":null,\"left_units\":\"screen\",\"level\":\"overlay\",\"line_alpha\":1.0,\"line_color\":\"black\",\"line_dash\":[4,4],\"line_width\":2,\"right_units\":\"screen\",\"syncable\":false,\"top_units\":\"screen\"},\"id\":\"1115\",\"type\":\"BoxAnnotation\"},{\"attributes\":{\"tools\":[{\"id\":\"1016\"},{\"id\":\"1036\"},{\"id\":\"1037\"},{\"id\":\"1038\"},{\"id\":\"1039\"},{\"id\":\"1040\"}]},\"id\":\"1042\",\"type\":\"Toolbar\"},{\"attributes\":{},\"id\":\"1085\",\"type\":\"BasicTicker\"},{\"attributes\":{},\"id\":\"1153\",\"type\":\"UnionRenderers\"},{\"attributes\":{\"fill_alpha\":{\"value\":0.5},\"fill_color\":{\"field\":\"color\",\"transform\":{\"id\":\"1074\"}},\"hatch_alpha\":{\"value\":0.5},\"hatch_color\":{\"field\":\"color\",\"transform\":{\"id\":\"1074\"}},\"line_alpha\":{\"value\":0.5},\"line_color\":{\"field\":\"color\",\"transform\":{\"id\":\"1074\"}},\"size\":{\"field\":\"size\"},\"x\":{\"field\":\"Longitude\"},\"y\":{\"field\":\"Latitude\"}},\"id\":\"1080\",\"type\":\"Scatter\"},{\"attributes\":{},\"id\":\"1103\",\"type\":\"BasicTicker\"},{\"attributes\":{\"text\":{\"field\":\"labels\"},\"text_baseline\":{\"value\":\"middle\"},\"text_color\":{\"value\":\"black\"},\"x\":{\"field\":\"x\",\"transform\":{\"id\":\"1130\"}},\"y\":{\"field\":\"y\"}},\"id\":\"1134\",\"type\":\"Text\"},{\"attributes\":{\"dimension\":\"lat\"},\"id\":\"1053\",\"type\":\"MercatorTicker\"},{\"attributes\":{\"below\":[{\"id\":\"1102\"}],\"center\":[{\"id\":\"1105\"},{\"id\":\"1109\"}],\"frame_height\":150,\"height\":null,\"left\":[{\"id\":\"1106\"}],\"margin\":null,\"min_border_bottom\":10,\"min_border_left\":10,\"min_border_right\":10,\"min_border_top\":10,\"renderers\":[{\"id\":\"1137\"},{\"id\":\"1146\"}],\"sizing_mode\":\"fixed\",\"title\":{\"id\":\"1094\"},\"toolbar\":{\"id\":\"1116\"},\"toolbar_location\":null,\"width\":300,\"x_range\":{\"id\":\"1089\"},\"x_scale\":{\"id\":\"1098\"},\"y_range\":{\"id\":\"1090\"},\"y_scale\":{\"id\":\"1100\"}},\"id\":\"1093\",\"subtype\":\"Figure\",\"type\":\"Plot\"},{\"attributes\":{},\"id\":\"1024\",\"type\":\"LinearScale\"},{\"attributes\":{\"axis\":{\"id\":\"1028\"},\"coordinates\":null,\"grid_line_color\":null,\"group\":null,\"ticker\":null},\"id\":\"1031\",\"type\":\"Grid\"},{\"attributes\":{\"text\":{\"field\":\"labels\"},\"text_alpha\":{\"value\":0.2},\"text_baseline\":{\"value\":\"middle\"},\"text_color\":{\"value\":\"black\"},\"x\":{\"field\":\"x\",\"transform\":{\"id\":\"1130\"}},\"y\":{\"field\":\"y\"}},\"id\":\"1136\",\"type\":\"Text\"},{\"attributes\":{\"axis_label\":\"y\",\"coordinates\":null,\"formatter\":{\"id\":\"1128\"},\"group\":null,\"major_label_policy\":{\"id\":\"1129\"},\"ticker\":{\"id\":\"1107\"},\"visible\":false},\"id\":\"1106\",\"type\":\"LinearAxis\"},{\"attributes\":{\"children\":[[{\"id\":\"1019\"},0,0],[{\"id\":\"1093\"},0,1]]},\"id\":\"1170\",\"type\":\"GridBox\"},{\"attributes\":{\"end\":1.2,\"reset_end\":1.2,\"reset_start\":-1.2,\"start\":-1.2,\"tags\":[[[\"x\",\"x\",null]]]},\"id\":\"1089\",\"type\":\"Range1d\"},{\"attributes\":{},\"id\":\"1128\",\"type\":\"BasicTickFormatter\"},{\"attributes\":{},\"id\":\"1164\",\"type\":\"UnionRenderers\"},{\"attributes\":{\"fill_alpha\":{\"value\":0.5},\"fill_color\":{\"field\":\"color\",\"transform\":{\"id\":\"1074\"}},\"hatch_alpha\":{\"value\":0.1},\"hatch_color\":{\"field\":\"color\",\"transform\":{\"id\":\"1074\"}},\"line_alpha\":{\"value\":0.5},\"line_color\":{\"field\":\"color\",\"transform\":{\"id\":\"1074\"}},\"size\":{\"field\":\"size\"},\"x\":{\"field\":\"Longitude\"},\"y\":{\"field\":\"Latitude\"}},\"id\":\"1079\",\"type\":\"Scatter\"},{\"attributes\":{\"angle\":{\"value\":0},\"text\":{\"field\":\"labels\"},\"text_align\":{\"value\":\"left\"},\"text_alpha\":{\"value\":1.0},\"text_baseline\":{\"value\":\"middle\"},\"text_color\":{\"value\":\"black\"},\"text_font_style\":{\"value\":\"normal\"},\"text_line_height\":{\"value\":1.2},\"x\":{\"field\":\"x\",\"transform\":{\"id\":\"1130\"}},\"x_offset\":{\"value\":0},\"y\":{\"field\":\"y\"},\"y_offset\":{\"value\":0}},\"id\":\"1139\",\"type\":\"Text\"},{\"attributes\":{\"coordinates\":null,\"group\":null,\"text_color\":\"black\",\"text_font_size\":\"12pt\"},\"id\":\"1020\",\"type\":\"Title\"},{\"attributes\":{\"bar_line_color\":\"black\",\"color_mapper\":{\"id\":\"1074\"},\"coordinates\":null,\"group\":null,\"label_standoff\":8,\"location\":[0,0],\"major_label_policy\":{\"id\":\"1151\"},\"major_tick_line_color\":\"black\",\"ticker\":{\"id\":\"1085\"}},\"id\":\"1086\",\"type\":\"ColorBar\"},{\"attributes\":{},\"id\":\"1026\",\"type\":\"LinearScale\"},{\"attributes\":{\"overlay\":{\"id\":\"1115\"}},\"id\":\"1113\",\"type\":\"BoxZoomTool\"},{\"attributes\":{\"axis_label\":\"y\",\"coordinates\":null,\"formatter\":{\"id\":\"1054\"},\"group\":null,\"major_label_policy\":{\"id\":\"1064\"},\"ticker\":{\"id\":\"1053\"}},\"id\":\"1032\",\"type\":\"LinearAxis\"},{\"attributes\":{\"axis_label\":\"x\",\"coordinates\":null,\"formatter\":{\"id\":\"1052\"},\"group\":null,\"major_label_policy\":{\"id\":\"1057\"},\"ticker\":{\"id\":\"1051\"}},\"id\":\"1028\",\"type\":\"LinearAxis\"},{\"attributes\":{},\"id\":\"1064\",\"type\":\"AllLabels\"},{\"attributes\":{\"coordinates\":null,\"group\":null,\"text_color\":\"black\",\"text_font_size\":\"12pt\"},\"id\":\"1094\",\"type\":\"Title\"},{\"attributes\":{\"source\":{\"id\":\"1140\"}},\"id\":\"1147\",\"type\":\"CDSView\"},{\"attributes\":{\"axis\":{\"id\":\"1102\"},\"coordinates\":null,\"grid_line_color\":null,\"group\":null,\"ticker\":null},\"id\":\"1105\",\"type\":\"Grid\"},{\"attributes\":{\"source\":{\"id\":\"1075\"}},\"id\":\"1084\",\"type\":\"CDSView\"},{\"attributes\":{},\"id\":\"1151\",\"type\":\"NoOverlap\"},{\"attributes\":{\"fill_alpha\":{\"value\":0},\"fill_color\":{\"value\":\"#30a2da\"},\"hatch_alpha\":{\"value\":0.1},\"hatch_color\":{\"value\":\"#30a2da\"},\"line_alpha\":{\"value\":0.1},\"line_color\":{\"value\":\"#30a2da\"},\"size\":{\"field\":\"size\"},\"x\":{\"field\":\"x\"},\"y\":{\"field\":\"y\"}},\"id\":\"1144\",\"type\":\"Scatter\"},{\"attributes\":{\"axis\":{\"id\":\"1032\"},\"coordinates\":null,\"dimension\":1,\"grid_line_color\":null,\"group\":null,\"ticker\":null},\"id\":\"1035\",\"type\":\"Grid\"},{\"attributes\":{\"fill_alpha\":{\"value\":0},\"fill_color\":{\"value\":\"#30a2da\"},\"hatch_color\":{\"value\":\"#30a2da\"},\"line_color\":{\"value\":\"#30a2da\"},\"size\":{\"field\":\"size\"},\"x\":{\"field\":\"x\"},\"y\":{\"field\":\"y\"}},\"id\":\"1143\",\"type\":\"Scatter\"},{\"attributes\":{\"margin\":[5,5,5,5],\"name\":\"HSpacer01643\",\"sizing_mode\":\"stretch_width\"},\"id\":\"1005\",\"type\":\"Spacer\"},{\"attributes\":{},\"id\":\"1100\",\"type\":\"LinearScale\"},{\"attributes\":{},\"id\":\"1114\",\"type\":\"ResetTool\"}],\"root_ids\":[\"1004\"]},\"title\":\"Bokeh Application\",\"version\":\"2.4.3\"}};\n",
       "    var render_items = [{\"docid\":\"383f5f27-871e-4b55-88ff-43e8e3d615ba\",\"root_ids\":[\"1004\"],\"roots\":{\"1004\":\"27978a6c-7327-483a-a488-7af02a09d11e\"}}];\n",
       "    root.Bokeh.embed.embed_items_notebook(docs_json, render_items);\n",
       "    for (const render_item of render_items) {\n",
       "      for (const root_id of render_item.root_ids) {\n",
       "\tconst id_el = document.getElementById(root_id)\n",
       "\tif (id_el.children.length && (id_el.children[0].className === 'bk-root')) {\n",
       "\t  const root_el = id_el.children[0]\n",
       "\t  root_el.id = root_el.id + '-rendered'\n",
       "\t}\n",
       "      }\n",
       "    }\n",
       "  }\n",
       "  if (root.Bokeh !== undefined && root.Bokeh.Panel !== undefined) {\n",
       "    embed_document(root);\n",
       "  } else {\n",
       "    var attempts = 0;\n",
       "    var timer = setInterval(function(root) {\n",
       "      if (root.Bokeh !== undefined && root.Bokeh.Panel !== undefined) {\n",
       "        clearInterval(timer);\n",
       "        embed_document(root);\n",
       "      } else if (document.readyState == \"complete\") {\n",
       "        attempts++;\n",
       "        if (attempts > 200) {\n",
       "          clearInterval(timer);\n",
       "          console.log(\"Bokeh: ERROR: Unable to run BokehJS code because BokehJS library is missing\");\n",
       "        }\n",
       "      }\n",
       "    }, 25, root)\n",
       "  }\n",
       "})(window);</script>"
      ],
      "text/plain": [
       ":Layout\n",
       "   .Overlay.I  :Overlay\n",
       "      .Tiles.I  :Tiles   [x,y]\n",
       "      .Points.I :Points   [Longitude,Latitude]   (Sonde1_SpCond,DateTime)\n",
       "   .Overlay.II :Overlay\n",
       "      .Labels.I :Labels   [x,y]   (labels)\n",
       "      .Points.I :Points   [x,y]   (size)"
      ]
     },
     "execution_count": 108,
     "metadata": {
      "application/vnd.holoviews_exec.v0+json": {
       "id": "1004"
      }
     },
     "output_type": "execute_result"
    }
   ],
   "source": [
    "carto_light_tiles*map.opts(frame_width=800, colorbar=True)+legend"
   ]
  },
  {
   "cell_type": "code",
   "execution_count": null,
   "id": "01caeb6c",
   "metadata": {},
   "outputs": [],
   "source": []
  }
 ],
 "metadata": {
  "kernelspec": {
   "display_name": "Python [conda env:dev_transect_viz]",
   "language": "python",
   "name": "conda-env-dev_transect_viz-py"
  },
  "language_info": {
   "codemirror_mode": {
    "name": "ipython",
    "version": 3
   },
   "file_extension": ".py",
   "mimetype": "text/x-python",
   "name": "python",
   "nbconvert_exporter": "python",
   "pygments_lexer": "ipython3",
   "version": "3.7.13"
  },
  "toc": {
   "base_numbering": 1,
   "nav_menu": {},
   "number_sections": true,
   "sideBar": true,
   "skip_h1_title": false,
   "title_cell": "Table of Contents",
   "title_sidebar": "Contents",
   "toc_cell": false,
   "toc_position": {},
   "toc_section_display": true,
   "toc_window_display": false
  },
  "vscode": {
   "interpreter": {
    "hash": "f656b49c43cca08cc10f90635159e59d108aee76bacba62e8bb8235506f4beb4"
   }
  }
 },
 "nbformat": 4,
 "nbformat_minor": 5
}
