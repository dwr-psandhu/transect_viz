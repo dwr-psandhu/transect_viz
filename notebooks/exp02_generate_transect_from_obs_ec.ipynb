{
 "cells": [
  {
   "cell_type": "code",
   "execution_count": null,
   "id": "08571420",
   "metadata": {},
   "outputs": [],
   "source": [
    "import warnings\n",
    "warnings.filterwarnings('ignore')"
   ]
  },
  {
   "cell_type": "code",
   "execution_count": null,
   "id": "bf97363c",
   "metadata": {},
   "outputs": [],
   "source": [
    "import transect_viz\n",
    "from transect_viz import transect_cdec_data\n",
    "import pandas as pd"
   ]
  },
  {
   "cell_type": "code",
   "execution_count": null,
   "id": "8f7a8eff",
   "metadata": {},
   "outputs": [],
   "source": [
    "df = transect_viz.load_transect_file('../data/Transect_20220302_Fabian.csv')\n",
    "df['EC'] = df['Sonde1_SpCond']\n",
    "df.head(3)"
   ]
  },
  {
   "cell_type": "code",
   "execution_count": null,
   "id": "782bfcf8",
   "metadata": {},
   "outputs": [],
   "source": [
    "import shapely"
   ]
  },
  {
   "cell_type": "code",
   "execution_count": null,
   "id": "36c0db45",
   "metadata": {},
   "outputs": [],
   "source": [
    "from shapely.geometry import Point, LineString"
   ]
  },
  {
   "cell_type": "code",
   "execution_count": null,
   "id": "eddbcd03",
   "metadata": {},
   "outputs": [],
   "source": [
    "lonlats=df[['Longitude','Latitude']].values"
   ]
  },
  {
   "cell_type": "code",
   "execution_count": null,
   "id": "623c2770",
   "metadata": {},
   "outputs": [],
   "source": [
    "transect_line = LineString(coordinates=lonlats)"
   ]
  },
  {
   "cell_type": "code",
   "execution_count": null,
   "id": "20eecc68",
   "metadata": {},
   "outputs": [],
   "source": [
    "dfs = transect_cdec_data.get_stations_cached(['ORM','ODM','OLD','GLE','GLC'])"
   ]
  },
  {
   "cell_type": "code",
   "execution_count": null,
   "id": "573c689c",
   "metadata": {},
   "outputs": [],
   "source": [
    "dfs"
   ]
  },
  {
   "cell_type": "code",
   "execution_count": null,
   "id": "db3b6052",
   "metadata": {},
   "outputs": [],
   "source": [
    "transect_line.simplify(tolerance=0.001)"
   ]
  },
  {
   "cell_type": "code",
   "execution_count": null,
   "id": "8c9ffd20",
   "metadata": {},
   "outputs": [],
   "source": [
    "p3 = Point(dfs.loc[3,['Longitude','Latitude']].values)"
   ]
  },
  {
   "cell_type": "code",
   "execution_count": null,
   "id": "bb740347",
   "metadata": {},
   "outputs": [],
   "source": [
    "print(p3)"
   ]
  },
  {
   "cell_type": "code",
   "execution_count": null,
   "id": "7787d6ef",
   "metadata": {},
   "outputs": [],
   "source": [
    "transect_line.project(p3)"
   ]
  },
  {
   "cell_type": "code",
   "execution_count": null,
   "id": "e17640cd",
   "metadata": {},
   "outputs": [],
   "source": [
    "print(transect_line.interpolate(transect_line.project(p3)))"
   ]
  },
  {
   "cell_type": "code",
   "execution_count": null,
   "id": "826a6bcc",
   "metadata": {},
   "outputs": [],
   "source": [
    "from shapely.geometry import LinearRing"
   ]
  },
  {
   "cell_type": "code",
   "execution_count": null,
   "id": "751f8462",
   "metadata": {},
   "outputs": [],
   "source": [
    "transect_ring = LinearRing(transect_line.coords)"
   ]
  },
  {
   "cell_type": "code",
   "execution_count": null,
   "id": "c8759eb5",
   "metadata": {},
   "outputs": [],
   "source": [
    "from shapely.ops import nearest_points"
   ]
  },
  {
   "cell_type": "code",
   "execution_count": null,
   "id": "b6d10c9b",
   "metadata": {},
   "outputs": [],
   "source": [
    "for x in nearest_points(transect_ring, p3): print(x)"
   ]
  },
  {
   "cell_type": "code",
   "execution_count": null,
   "id": "947eca0b",
   "metadata": {},
   "outputs": [],
   "source": [
    "import geopandas as gpd"
   ]
  },
  {
   "cell_type": "code",
   "execution_count": null,
   "id": "ba9c740f",
   "metadata": {},
   "outputs": [],
   "source": [
    "gdf = gpd.GeoDataFrame(df)"
   ]
  },
  {
   "cell_type": "code",
   "execution_count": null,
   "id": "82a697eb",
   "metadata": {},
   "outputs": [],
   "source": [
    "gdf['geometry']=gpd.points_from_xy(df['Longitude'],df['Latitude'],crs=\"EPSG:4326\")"
   ]
  },
  {
   "cell_type": "code",
   "execution_count": null,
   "id": "936c9514",
   "metadata": {},
   "outputs": [],
   "source": [
    "gdf = gdf.to_crs('EPSG:32610')"
   ]
  },
  {
   "cell_type": "code",
   "execution_count": null,
   "id": "b72e4fec",
   "metadata": {},
   "outputs": [],
   "source": [
    "utmxy = gdf.geometry"
   ]
  },
  {
   "cell_type": "code",
   "execution_count": null,
   "id": "2e877daf",
   "metadata": {},
   "outputs": [],
   "source": [
    "transect_line = LineString(utmxy)"
   ]
  },
  {
   "cell_type": "code",
   "execution_count": null,
   "id": "b949d2cf",
   "metadata": {},
   "outputs": [],
   "source": [
    "transect_line.project(utmxy.iloc[-1])"
   ]
  },
  {
   "cell_type": "code",
   "execution_count": null,
   "id": "3b3b7638",
   "metadata": {},
   "outputs": [],
   "source": [
    "cdec_stations=['GLE','GLC','ORM','ODM','OLD']"
   ]
  },
  {
   "cell_type": "code",
   "execution_count": null,
   "id": "ca88dc9a",
   "metadata": {},
   "outputs": [],
   "source": [
    "dfs = transect_cdec_data.get_stations_cached(cdec_stations)"
   ]
  },
  {
   "cell_type": "code",
   "execution_count": null,
   "id": "85391e12",
   "metadata": {},
   "outputs": [],
   "source": [
    "dfs"
   ]
  },
  {
   "cell_type": "code",
   "execution_count": null,
   "id": "744ff575",
   "metadata": {},
   "outputs": [],
   "source": [
    "transect_line.project(Point(dfs.loc[0,['Longitude','Latitude']]))"
   ]
  },
  {
   "cell_type": "code",
   "execution_count": null,
   "id": "71ae6aeb",
   "metadata": {},
   "outputs": [],
   "source": [
    "gdfs = gpd.GeoDataFrame(dfs, geometry=gpd.points_from_xy(dfs['Longitude'],dfs['Latitude'],crs='EPSG:4326'))"
   ]
  },
  {
   "cell_type": "code",
   "execution_count": null,
   "id": "b5d53e1f",
   "metadata": {},
   "outputs": [],
   "source": [
    "gdfs"
   ]
  },
  {
   "cell_type": "code",
   "execution_count": null,
   "id": "cce9eb12",
   "metadata": {},
   "outputs": [],
   "source": [
    "transect_line.project(gdfs.geometry[0])"
   ]
  },
  {
   "cell_type": "code",
   "execution_count": null,
   "id": "02707b62",
   "metadata": {},
   "outputs": [],
   "source": [
    "gdfs = gdfs.to_crs('EPSG:32610')"
   ]
  },
  {
   "cell_type": "code",
   "execution_count": null,
   "id": "d953c9be",
   "metadata": {},
   "outputs": [],
   "source": [
    "gdfs"
   ]
  },
  {
   "cell_type": "code",
   "execution_count": null,
   "id": "dc1091ca",
   "metadata": {},
   "outputs": [],
   "source": [
    "transect_line.project(gdfs.geometry[2])"
   ]
  },
  {
   "cell_type": "code",
   "execution_count": null,
   "id": "6b79bc3f",
   "metadata": {},
   "outputs": [],
   "source": [
    "gdfs['transect_dist']=[transect_line.project(row.geometry) for _,row in gdfs.iterrows()]\n",
    "    "
   ]
  },
  {
   "cell_type": "code",
   "execution_count": null,
   "id": "c5cf0a4f",
   "metadata": {},
   "outputs": [],
   "source": [
    "gdfs.sort_values(by='transect_dist')"
   ]
  },
  {
   "cell_type": "code",
   "execution_count": null,
   "id": "255ac4ad",
   "metadata": {},
   "outputs": [],
   "source": [
    "bsdate, bedate = transect_viz.get_buffered_start_end_dates(df)"
   ]
  },
  {
   "cell_type": "code",
   "execution_count": null,
   "id": "9162aede",
   "metadata": {},
   "outputs": [],
   "source": [
    "import pandas as pd"
   ]
  },
  {
   "cell_type": "code",
   "execution_count": null,
   "id": "ad2f38a0",
   "metadata": {},
   "outputs": [],
   "source": [
    "df_cdec_15 = transect_cdec_data.get_cdec_data_cached(bsdate, bedate, cdec_stations,data_type='EC')"
   ]
  },
  {
   "cell_type": "code",
   "execution_count": null,
   "id": "1fc45c57",
   "metadata": {},
   "outputs": [],
   "source": [
    "df.DateTime"
   ]
  },
  {
   "cell_type": "code",
   "execution_count": null,
   "id": "98598056",
   "metadata": {},
   "outputs": [],
   "source": [
    "df_cdec_15_1min = df_cdec_15.resample('T').interpolate()"
   ]
  },
  {
   "cell_type": "code",
   "execution_count": null,
   "id": "4e6dfb73",
   "metadata": {},
   "outputs": [],
   "source": [
    "df_cdec_15_1min.loc[df.DateTime.iloc[0]]"
   ]
  },
  {
   "cell_type": "code",
   "execution_count": null,
   "id": "d5927399",
   "metadata": {},
   "outputs": [],
   "source": [
    "df_cdec_15_1min.loc[df.DateTime.unique()]"
   ]
  },
  {
   "cell_type": "code",
   "execution_count": null,
   "id": "9ee26a39",
   "metadata": {},
   "outputs": [],
   "source": [
    "gdf['transect_dist'] = [transect_line.project(row.geometry) for _,row in gdf.iterrows()]"
   ]
  },
  {
   "cell_type": "code",
   "execution_count": null,
   "id": "31fbf3c7",
   "metadata": {},
   "outputs": [],
   "source": [
    "gdf"
   ]
  },
  {
   "cell_type": "code",
   "execution_count": null,
   "id": "8c6aaeb1",
   "metadata": {},
   "outputs": [],
   "source": [
    "import numpy as np"
   ]
  },
  {
   "cell_type": "code",
   "execution_count": null,
   "id": "1e12ed86",
   "metadata": {},
   "outputs": [],
   "source": [
    "gdf = gdf.astype({'DateTime':np.datetime64})"
   ]
  },
  {
   "cell_type": "code",
   "execution_count": null,
   "id": "fcc446ed",
   "metadata": {},
   "outputs": [],
   "source": [
    "gdf.join(df_cdec_15_1min)"
   ]
  },
  {
   "cell_type": "code",
   "execution_count": null,
   "id": "ab8a00f9",
   "metadata": {},
   "outputs": [],
   "source": [
    "df_cdec_15_1min"
   ]
  },
  {
   "cell_type": "code",
   "execution_count": null,
   "id": "2b12a9eb",
   "metadata": {},
   "outputs": [],
   "source": [
    "gdf.set_index('DateTime').join(df_cdec_15_1min)"
   ]
  },
  {
   "cell_type": "code",
   "execution_count": null,
   "id": "f97d48db",
   "metadata": {},
   "outputs": [],
   "source": [
    "transect_max, transect_min = gdf.transect_dist.agg(['max','min'])"
   ]
  },
  {
   "cell_type": "code",
   "execution_count": null,
   "id": "71bd1acc",
   "metadata": {},
   "outputs": [],
   "source": [
    "df_cdec_15"
   ]
  },
  {
   "cell_type": "code",
   "execution_count": null,
   "id": "1dc617d6",
   "metadata": {},
   "outputs": [],
   "source": [
    "gdfs = gdfs.sort_values(by='transect_dist').reset_index(drop=True)\n",
    "gdfs"
   ]
  },
  {
   "cell_type": "code",
   "execution_count": null,
   "id": "6b394341",
   "metadata": {},
   "outputs": [],
   "source": []
  },
  {
   "cell_type": "code",
   "execution_count": null,
   "id": "af4c8940",
   "metadata": {},
   "outputs": [],
   "source": [
    "pd.concat([pd.DataFrame(data=[['BEG',37.803,-121.475,np.nan,0]], columns=gdfs.columns),gdfs])"
   ]
  },
  {
   "cell_type": "code",
   "execution_count": null,
   "id": "0e20d6c6",
   "metadata": {},
   "outputs": [],
   "source": [
    "pgdf = gdf[['Latitude','Longitude','Sonde1_SpCond','transect_dist']]"
   ]
  },
  {
   "cell_type": "code",
   "execution_count": null,
   "id": "10f7e823",
   "metadata": {},
   "outputs": [],
   "source": [
    "df_end_points = pd.DataFrame(pgdf.iloc[[0,-1]])\n",
    "df_end_points['Station ID']=['BEG','END']\n",
    "df_end_points"
   ]
  },
  {
   "cell_type": "code",
   "execution_count": null,
   "id": "3a51a5c9",
   "metadata": {},
   "outputs": [],
   "source": [
    "df_ec_linear_refs=pd.concat([df_end_points,gdfs]).sort_values('transect_dist').reset_index(drop=True)\n",
    "df_ec_linear_refs"
   ]
  },
  {
   "cell_type": "code",
   "execution_count": null,
   "id": "9bf8c262",
   "metadata": {},
   "outputs": [],
   "source": [
    "df_ec_linear_refs.iloc[1:6]"
   ]
  },
  {
   "cell_type": "code",
   "execution_count": null,
   "id": "fe263978",
   "metadata": {},
   "outputs": [],
   "source": [
    "df_ec_vals = df_cdec_15.iloc[0:1].T\n",
    "df_ec_vals.columns=['Obs EC']\n",
    "df_ec_vals"
   ]
  },
  {
   "cell_type": "code",
   "execution_count": null,
   "id": "66231d4a",
   "metadata": {},
   "outputs": [],
   "source": [
    "df_ec_at_stations=df_ec_vals.join(df_ec_linear_refs.set_index('Station ID')).sort_values(by='transect_dist')"
   ]
  },
  {
   "cell_type": "code",
   "execution_count": null,
   "id": "bd97dc05",
   "metadata": {},
   "outputs": [],
   "source": [
    "df_ec_at_stations"
   ]
  },
  {
   "cell_type": "code",
   "execution_count": null,
   "id": "e9df1f48",
   "metadata": {},
   "outputs": [],
   "source": [
    "df_ec_at_stations.loc['OLD']['transect_dist'], transect_max"
   ]
  },
  {
   "cell_type": "code",
   "execution_count": null,
   "id": "9065b095",
   "metadata": {},
   "outputs": [],
   "source": [
    "factor = df_ec_at_stations.loc['OLD']['transect_dist']/(transect_max-df_ec_at_stations.loc['ORM']['transect_dist'])"
   ]
  },
  {
   "cell_type": "code",
   "execution_count": null,
   "id": "306b9587",
   "metadata": {},
   "outputs": [],
   "source": [
    "ec_beg_end = df_ec_at_stations.loc['OLD']['Obs EC'] + factor * (df_ec_at_stations.loc['OLD']['Obs EC']-df_ec_at_stations.loc['ORM']['Obs EC'])"
   ]
  },
  {
   "cell_type": "code",
   "execution_count": null,
   "id": "509638f4",
   "metadata": {},
   "outputs": [],
   "source": [
    "ec_beg_end"
   ]
  },
  {
   "cell_type": "code",
   "execution_count": null,
   "id": "8243c54a",
   "metadata": {},
   "outputs": [],
   "source": [
    "df_ec_linear_refs"
   ]
  },
  {
   "cell_type": "code",
   "execution_count": null,
   "id": "450a19d4",
   "metadata": {},
   "outputs": [],
   "source": [
    "df_ec_linear_refs.loc[df_ec_linear_refs['Station ID']=='BEG','Sonde1_SpCond'] = ec_beg_end"
   ]
  },
  {
   "cell_type": "code",
   "execution_count": null,
   "id": "2a3fbf36",
   "metadata": {},
   "outputs": [],
   "source": [
    "df_ec_linear_refs.loc[df_ec_linear_refs['Station ID']=='END','Sonde1_SpCond'] = ec_beg_end"
   ]
  },
  {
   "cell_type": "code",
   "execution_count": null,
   "id": "c3a305de",
   "metadata": {},
   "outputs": [],
   "source": [
    "df_ec_linear_refs = df_ec_linear_refs.set_index('Station ID').join(df_ec_vals).reset_index()\n",
    "df_ec_linear_refs"
   ]
  },
  {
   "cell_type": "code",
   "execution_count": null,
   "id": "9d1c2eed",
   "metadata": {},
   "outputs": [],
   "source": [
    "df_ec_linear_refs['Sonde1_SpCond']=df_ec_linear_refs['Sonde1_SpCond'].fillna(df_ec_linear_refs['Obs EC'])"
   ]
  },
  {
   "cell_type": "code",
   "execution_count": null,
   "id": "b1b10bc4",
   "metadata": {},
   "outputs": [],
   "source": [
    "df_ec_linear_refs"
   ]
  },
  {
   "cell_type": "code",
   "execution_count": null,
   "id": "04ad5bd6",
   "metadata": {},
   "outputs": [],
   "source": [
    "columns = ['Longitude','Latitude','Sonde1_SpCond','transect_dist']"
   ]
  },
  {
   "cell_type": "code",
   "execution_count": null,
   "id": "6cfb6a36",
   "metadata": {},
   "outputs": [],
   "source": [
    "dfcalc = df_ec_linear_refs[columns].copy()"
   ]
  },
  {
   "cell_type": "code",
   "execution_count": null,
   "id": "560223e9",
   "metadata": {},
   "outputs": [],
   "source": [
    "dfcalc.loc[:,'Sonde1_SpCond']=np.nan"
   ]
  },
  {
   "cell_type": "code",
   "execution_count": null,
   "id": "42295149",
   "metadata": {},
   "outputs": [],
   "source": [
    "dfcalc"
   ]
  },
  {
   "cell_type": "code",
   "execution_count": null,
   "id": "d5bcb350",
   "metadata": {},
   "outputs": [],
   "source": [
    "dfmerged=pd.concat([dfcalc,gdf[columns]]).sort_values(by='transect_dist').reset_index(drop=True)"
   ]
  },
  {
   "cell_type": "code",
   "execution_count": null,
   "id": "48a168d2",
   "metadata": {},
   "outputs": [],
   "source": [
    "dfmerged"
   ]
  },
  {
   "cell_type": "code",
   "execution_count": null,
   "id": "115bbd74",
   "metadata": {},
   "outputs": [],
   "source": [
    "dfresult = dfmerged.interpolate().dropna()"
   ]
  },
  {
   "cell_type": "code",
   "execution_count": null,
   "id": "7a1db525",
   "metadata": {},
   "outputs": [],
   "source": [
    "import hvplot.pandas"
   ]
  },
  {
   "cell_type": "code",
   "execution_count": null,
   "id": "54f135ff",
   "metadata": {},
   "outputs": [],
   "source": [
    "dfresult['DateTime']='2022-02-28 00:00'"
   ]
  },
  {
   "cell_type": "code",
   "execution_count": null,
   "id": "119c5db0",
   "metadata": {},
   "outputs": [],
   "source": [
    "dfresult"
   ]
  },
  {
   "cell_type": "code",
   "execution_count": null,
   "id": "8a050944",
   "metadata": {},
   "outputs": [],
   "source": [
    "map, legend = transect_viz.map_transect_with_size_and_color(dfresult, data_column='Sonde1_SpCond')"
   ]
  },
  {
   "cell_type": "code",
   "execution_count": null,
   "id": "6409c8f3",
   "metadata": {},
   "outputs": [],
   "source": [
    "carto_light_tiles=transect_viz.get_tile_layer()"
   ]
  },
  {
   "cell_type": "code",
   "execution_count": null,
   "id": "abce99a7",
   "metadata": {},
   "outputs": [],
   "source": [
    "carto_light_tiles*map.opts(frame_width=800, colorbar=True)+legend"
   ]
  },
  {
   "cell_type": "code",
   "execution_count": null,
   "id": "01caeb6c",
   "metadata": {},
   "outputs": [],
   "source": []
  }
 ],
 "metadata": {
  "kernelspec": {
   "display_name": "Python [conda env:dev_transect_viz]",
   "language": "python",
   "name": "conda-env-dev_transect_viz-py"
  },
  "language_info": {
   "codemirror_mode": {
    "name": "ipython",
    "version": 3
   },
   "file_extension": ".py",
   "mimetype": "text/x-python",
   "name": "python",
   "nbconvert_exporter": "python",
   "pygments_lexer": "ipython3",
   "version": "3.7.13"
  },
  "toc": {
   "base_numbering": 1,
   "nav_menu": {},
   "number_sections": true,
   "sideBar": true,
   "skip_h1_title": false,
   "title_cell": "Table of Contents",
   "title_sidebar": "Contents",
   "toc_cell": false,
   "toc_position": {},
   "toc_section_display": true,
   "toc_window_display": false
  },
  "vscode": {
   "interpreter": {
    "hash": "f656b49c43cca08cc10f90635159e59d108aee76bacba62e8bb8235506f4beb4"
   }
  }
 },
 "nbformat": 4,
 "nbformat_minor": 5
}
