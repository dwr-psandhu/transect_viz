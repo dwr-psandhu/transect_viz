{
 "cells": [
  {
   "cell_type": "code",
   "execution_count": null,
   "id": "dd28b2ea",
   "metadata": {},
   "outputs": [],
   "source": [
    "import warnings\n",
    "warnings.filterwarnings('ignore')"
   ]
  },
  {
   "cell_type": "code",
   "execution_count": null,
   "id": "8e7ade59",
   "metadata": {},
   "outputs": [],
   "source": [
    "import pandas as pd\n",
    "import hvplot.pandas"
   ]
  },
  {
   "cell_type": "code",
   "execution_count": null,
   "id": "e24ae0ca",
   "metadata": {},
   "outputs": [],
   "source": [
    "df=pd.read_csv('../data/Transect_20220302_Fabian.csv')\n",
    "df['EC'] = df['Sonde1_SpCond']"
   ]
  },
  {
   "cell_type": "code",
   "execution_count": null,
   "id": "b5691cc4",
   "metadata": {},
   "outputs": [],
   "source": [
    "df.columns"
   ]
  },
  {
   "cell_type": "code",
   "execution_count": null,
   "id": "0d2bdbbe",
   "metadata": {},
   "outputs": [],
   "source": [
    "df.hvplot.points('Longitude','Latitude',geo=True,tiles='CartoLight', s='Sonde1_SpCond')"
   ]
  },
  {
   "cell_type": "code",
   "execution_count": null,
   "id": "b6b4fe06",
   "metadata": {},
   "outputs": [],
   "source": [
    "import holoviews as hv\n",
    "\n",
    "from holoviews import dim,opts\n",
    "\n",
    "import geoviews as gv"
   ]
  },
  {
   "cell_type": "code",
   "execution_count": null,
   "id": "bceaff4d",
   "metadata": {},
   "outputs": [],
   "source": [
    "hv.element.tile_sources.get('CartoLight')()"
   ]
  },
  {
   "cell_type": "code",
   "execution_count": null,
   "id": "4f6765ef",
   "metadata": {},
   "outputs": [],
   "source": [
    "pts = gv.Points(df, kdims=['Longitude','Latitude'], vdims=['Sonde1_SpCond']).opts(opts.Points(color='Sonde1_SpCond'))"
   ]
  },
  {
   "cell_type": "code",
   "execution_count": null,
   "id": "4fd6e08d",
   "metadata": {},
   "outputs": [],
   "source": [
    "map = hv.element.tiles.CartoLight()*pts.opts(cmap='rainbow4', colorbar=True)\n",
    "map.opts(frame_width=500)"
   ]
  },
  {
   "cell_type": "code",
   "execution_count": null,
   "id": "8a70f30b",
   "metadata": {},
   "outputs": [],
   "source": [
    "# Attemtp to show ec as vector field. failed\n",
    "#dfa = df.copy()\n",
    "\n",
    "#import math\n",
    "#dfa['angle']=math.pi/2\n",
    "\n",
    "#ec_vectors = dfa.hvplot.vectorfield(x='Longitude',y='Latitude',angle='angle',mag='Sonde1_SpCond',geo=True, hover=[]).opts(magnitude='Sonde1_SpCond', frame_width=800, frame_height=1000)\n",
    "#ec_vectors = ec_vectors.opts(opts.VectorField(alpha=0.85,color='black',pivot='tail',line_width=2,line_cap='round'))\n",
    "\n",
    "#ec_vectors"
   ]
  },
  {
   "cell_type": "code",
   "execution_count": null,
   "id": "c78f028b",
   "metadata": {},
   "outputs": [],
   "source": [
    "import numpy as np\n",
    "def create_scaled_points_legend(ns, max_point_size, min_point_size):\n",
    "    #x,y,sz_arr,labels\n",
    "    data = {\n",
    "        'x': np.zeros(ns.maxTicks),\n",
    "        'y':  np.arange(1,0,-1./ns.maxTicks),\n",
    "        'size': np.array([round((ns.tickSpacing*i)/(ns.niceMax-ns.niceMin)*max_point_size+min_point_size) for i in range(ns.maxTicks)]),\n",
    "        'labels':[str(round(a*ns.tickSpacing+ns.niceMin)) for a in range(ns.maxTicks)]\n",
    "    }\n",
    "    #labels = hv.Labels({'x', 'y'): (data['x'], data['y']), 'text': [1, 5, 20]}, ['x', 'y'], 'text')\n",
    "    values = np.array(data['size'])+18\n",
    "    lbls = hv.Labels(data, kdims=['x','y'], vdims='labels').opts(opts.Labels(text_align='left',text_baseline='middle',xoffset=0.4))\n",
    "\n",
    "    #opts.defaults(opts.Points(size=8))\n",
    "\n",
    "    pts = hv.Points(data, kdims=['x','y'] , vdims=['size']).opts(size='size', ylim=(0,1.1)).opts(opts.Points(fill_alpha=0))\n",
    "\n",
    "    return (lbls*pts).opts(xaxis=None, yaxis=None, toolbar=None, frame_height=150, frame_width=100)"
   ]
  },
  {
   "cell_type": "code",
   "execution_count": null,
   "id": "ea9a0e7e",
   "metadata": {},
   "outputs": [],
   "source": [
    "from transect_viz.nice_scale import NiceScale\n",
    "vals=df['EC'].values\n",
    "ns=NiceScale(np.min(vals),np.max(vals))\n",
    "min_point_size=1\n",
    "max_point_size=25\n",
    "points_dim=(dim('Sonde1_SpCond')-ns.niceMin)/(ns.niceMax-ns.niceMin)*max_point_size+min_point_size"
   ]
  },
  {
   "cell_type": "code",
   "execution_count": null,
   "id": "06a01381",
   "metadata": {},
   "outputs": [],
   "source": [
    "spts = gv.Points(df, kdims=['Longitude','Latitude'], vdims=['Sonde1_SpCond']).opts(opts.Points(size=points_dim))"
   ]
  },
  {
   "cell_type": "code",
   "execution_count": null,
   "id": "7decdb97",
   "metadata": {},
   "outputs": [],
   "source": [
    "create_scaled_points_legend(ns,25,1).opts(frame_height=150)"
   ]
  },
  {
   "cell_type": "code",
   "execution_count": null,
   "id": "f208d112",
   "metadata": {},
   "outputs": [],
   "source": [
    "smap = hv.element.tiles.CartoLight()*spts\n",
    "smap.opts(frame_width=500)"
   ]
  },
  {
   "cell_type": "code",
   "execution_count": null,
   "id": "56febbdc",
   "metadata": {},
   "outputs": [],
   "source": [
    "scpts = gv.Points(df, kdims=['Longitude','Latitude'], vdims=['Sonde1_SpCond','DateTime']).opts(opts.Points(tools=['hover'], color='Sonde1_SpCond', size=dim('Sonde1_SpCond')/25-18, alpha=0.5, cmap='fire'))"
   ]
  },
  {
   "cell_type": "code",
   "execution_count": null,
   "id": "cb74d7f2",
   "metadata": {},
   "outputs": [],
   "source": [
    "scmap = hv.element.tiles.CartoLight()*scpts.opts(cmap='ColorBlind', colorbar=True)\n",
    "scmap = scmap.opts(frame_width=500, title='Color and Point sizes scaled by Sonde1 Specific Conductivity', )\n",
    "scmap"
   ]
  },
  {
   "cell_type": "code",
   "execution_count": null,
   "id": "697b92c4",
   "metadata": {},
   "outputs": [],
   "source": [
    "pts_legend = create_scaled_points_legend(ns, max_point_size=25, min_point_size=1)\n",
    "scmap + pts_legend"
   ]
  },
  {
   "cell_type": "code",
   "execution_count": null,
   "id": "03d9fa63",
   "metadata": {},
   "outputs": [],
   "source": [
    "hv.save(scmap.opts(frame_width=1200), 'sonde1_sp_color_size.html')"
   ]
  },
  {
   "cell_type": "markdown",
   "id": "5f1ecfe7",
   "metadata": {},
   "source": [
    "# CDEC stations with flow"
   ]
  },
  {
   "cell_type": "code",
   "execution_count": null,
   "id": "7794950d",
   "metadata": {},
   "outputs": [],
   "source": [
    "sdate,edate=df.DateTime.agg(['min','max'])\n",
    "start_date = pd.to_datetime(sdate).floor('1D')-pd.Timedelta('2D')\n",
    "end_date=pd.to_datetime(edate).ceil('1D')+pd.Timedelta('2D')"
   ]
  },
  {
   "cell_type": "code",
   "execution_count": null,
   "id": "70fe959a",
   "metadata": {},
   "outputs": [],
   "source": [
    "from transect_viz import cdec"
   ]
  },
  {
   "cell_type": "code",
   "execution_count": null,
   "id": "ffac13ed",
   "metadata": {},
   "outputs": [],
   "source": [
    "cr=cdec.Reader()"
   ]
  },
  {
   "cell_type": "code",
   "execution_count": null,
   "id": "0ba854fa",
   "metadata": {},
   "outputs": [],
   "source": [
    "cdec_flow_stations=['ORM','ODM', 'OLD','GLE','GLC']"
   ]
  },
  {
   "cell_type": "code",
   "execution_count": null,
   "id": "f0c17337",
   "metadata": {},
   "outputs": [],
   "source": [
    "print(' Getting FLOW data from CDEC for ',cdec_flow_stations, ' from ', start_date, ' to ',end_date)\n",
    "raw_cdec_flows = [cr.read_station_data(station_id,20,'E', start_date, end_date) for station_id in cdec_flow_stations]"
   ]
  },
  {
   "cell_type": "code",
   "execution_count": null,
   "id": "74b69a86",
   "metadata": {},
   "outputs": [],
   "source": [
    "def get_lon_lat(station_id):\n",
    "    cr=cdec.Reader()\n",
    "    dfmeta = cr.read_station_meta_info(station_id)[0]\n",
    "    dfmeta = dfmeta.reset_index().set_index('Value')\n",
    "    degree_sign = u'\\N{DEGREE SIGN}'\n",
    "    return float(dfmeta.loc['Longitude'][0].replace(degree_sign,'')), float(dfmeta.loc['Latitude'][0].replace(degree_sign,''))"
   ]
  },
  {
   "cell_type": "code",
   "execution_count": null,
   "id": "08500b11",
   "metadata": {},
   "outputs": [],
   "source": [
    "cdec_flow_stations"
   ]
  },
  {
   "cell_type": "code",
   "execution_count": null,
   "id": "9e1de8b8",
   "metadata": {},
   "outputs": [],
   "source": [
    "dfs = pd.DataFrame.from_records({sid:get_lon_lat(sid) for sid in cdec_flow_stations}).T\n",
    "dfs=dfs.reset_index()\n",
    "dfs.columns=['Station ID','Longitude','Latitude']\n",
    "dfs"
   ]
  },
  {
   "cell_type": "code",
   "execution_count": null,
   "id": "3a6899c7",
   "metadata": {},
   "outputs": [],
   "source": [
    "station_pts = dfs.hvplot.points(x='Longitude',y='Latitude',geo=True,hover_cols=['Station ID']).opts(frame_width=800)"
   ]
  },
  {
   "cell_type": "code",
   "execution_count": null,
   "id": "0ea4e26e",
   "metadata": {},
   "outputs": [],
   "source": [
    "station_labels = dfs.hvplot.labels(x='Longitude',y='Latitude',text='Station ID', geo=True, text_align='left_top').opts(\n",
    "    opts.Labels(xoffset=100, yoffset=300))"
   ]
  },
  {
   "cell_type": "code",
   "execution_count": null,
   "id": "f2a8d9c1",
   "metadata": {},
   "outputs": [],
   "source": [
    "stations_map = station_pts*station_labels"
   ]
  },
  {
   "cell_type": "code",
   "execution_count": null,
   "id": "b819c311",
   "metadata": {},
   "outputs": [],
   "source": [
    "scmap*stations_map"
   ]
  },
  {
   "cell_type": "code",
   "execution_count": null,
   "id": "72d0547f",
   "metadata": {},
   "outputs": [],
   "source": [
    "cdec_flows = [pd.DataFrame(dflow.VALUE).rename(columns={'VALUE':dflow.STATION_ID.iloc[0]}) for dflow in raw_cdec_flows]"
   ]
  },
  {
   "cell_type": "code",
   "execution_count": null,
   "id": "33772ecb",
   "metadata": {},
   "outputs": [],
   "source": [
    "sdate,edate"
   ]
  },
  {
   "cell_type": "code",
   "execution_count": null,
   "id": "b8b1a222",
   "metadata": {},
   "outputs": [],
   "source": [
    "flow_around_time = hv.Overlay([dflow.hvplot(label=dflow.columns[0]) for dflow in cdec_flows]).opts(\n",
    "    ylabel='FLOW (cfs)', title='Flow at locations',\n",
    "    xlim=(pd.to_datetime(sdate)-pd.Timedelta('1D'), pd.to_datetime(edate)+pd.Timedelta('1D')))\n",
    "flow_around_time"
   ]
  },
  {
   "cell_type": "code",
   "execution_count": null,
   "id": "8dc1d2fd",
   "metadata": {},
   "outputs": [],
   "source": [
    "collection_timespan = hv.VSpan(x1=pd.to_datetime(sdate),x2=pd.to_datetime(edate))"
   ]
  },
  {
   "cell_type": "code",
   "execution_count": null,
   "id": "3f8ade2b",
   "metadata": {},
   "outputs": [],
   "source": [
    "flow_around_time*collection_timespan"
   ]
  },
  {
   "cell_type": "code",
   "execution_count": null,
   "id": "7f88c8f0",
   "metadata": {},
   "outputs": [],
   "source": [
    "from vtools.functions.filter import godin"
   ]
  },
  {
   "cell_type": "code",
   "execution_count": null,
   "id": "ccf78080",
   "metadata": {},
   "outputs": [],
   "source": [
    "tidal_cdec_flows = [godin(dflow.resample('1H').mean()) for dflow in cdec_flows]"
   ]
  },
  {
   "cell_type": "code",
   "execution_count": null,
   "id": "f35239a8",
   "metadata": {},
   "outputs": [],
   "source": [
    "hv.Overlay([dflow.hvplot(label=dflow.columns[0]) for dflow in tidal_cdec_flows]).opts(xlim=(pd.to_datetime(sdate),pd.to_datetime(edate))\n",
    "                                                         , title = 'Tidal Flow at locations')"
   ]
  },
  {
   "cell_type": "code",
   "execution_count": null,
   "id": "b184e3b9",
   "metadata": {},
   "outputs": [],
   "source": [
    "tidal_flow_around_time = hv.Overlay([dflow.hvplot(label=dflow.columns[0]) for dflow in tidal_cdec_flows]).opts(title = 'Tidal Flow at locations')"
   ]
  },
  {
   "cell_type": "code",
   "execution_count": null,
   "id": "0b8a6b35",
   "metadata": {},
   "outputs": [],
   "source": [
    "tidal_flow_around_time*collection_timespan"
   ]
  },
  {
   "cell_type": "code",
   "execution_count": null,
   "id": "75ced1a0",
   "metadata": {},
   "outputs": [],
   "source": [
    "print(' Getting VELOCITY data from CDEC for ',cdec_flow_stations, ' from ', start_date, ' to ',end_date)\n",
    "raw_cdec_vels = [cr.read_station_data(station_id,21,'E', start_date, end_date) for station_id in cdec_flow_stations]"
   ]
  },
  {
   "cell_type": "code",
   "execution_count": null,
   "id": "0919cf14",
   "metadata": {},
   "outputs": [],
   "source": [
    "cdec_vels = [pd.DataFrame(dvel.VALUE).rename(columns={'VALUE':dvel.STATION_ID.iloc[0]}) for dvel in raw_cdec_vels]"
   ]
  },
  {
   "cell_type": "code",
   "execution_count": null,
   "id": "e6e83d68",
   "metadata": {},
   "outputs": [],
   "source": [
    "vel_around_time = hv.Overlay([dvel.hvplot(label=dvel.columns[0]) for dvel in cdec_vels]).opts(\n",
    "    ylabel='vel (ft/sec)', title='vel at locations',\n",
    "    xlim=(pd.to_datetime(sdate)-pd.Timedelta('1D'), pd.to_datetime(edate)+pd.Timedelta('1D')))\n",
    "vel_around_time*collection_timespan"
   ]
  },
  {
   "cell_type": "code",
   "execution_count": null,
   "id": "09a24c7b",
   "metadata": {},
   "outputs": [],
   "source": [
    "travel_distances=[v.cumsum()*3600/5280.0 for v in cdec_vels]"
   ]
  },
  {
   "cell_type": "code",
   "execution_count": null,
   "id": "ceed2f31",
   "metadata": {},
   "outputs": [],
   "source": [
    "hv.Overlay([d.hvplot(label=d.columns[0]) for d in travel_distances])*collection_timespan"
   ]
  },
  {
   "cell_type": "code",
   "execution_count": null,
   "id": "8e52c1f9",
   "metadata": {},
   "outputs": [],
   "source": [
    "dfvel = pd.DataFrame([v[sdate:edate].mean()[0] for v in cdec_vels], index=[v.columns[0] for v in cdec_vels])\n",
    "dfvel.columns=['mean velocity']\n",
    "dfvel"
   ]
  },
  {
   "cell_type": "code",
   "execution_count": null,
   "id": "0cf1bcda",
   "metadata": {},
   "outputs": [],
   "source": [
    "dfvelgis = dfs.set_index('Station ID').join(dfvel)"
   ]
  },
  {
   "cell_type": "code",
   "execution_count": null,
   "id": "d3e321a2",
   "metadata": {},
   "outputs": [],
   "source": [
    "import math"
   ]
  },
  {
   "cell_type": "code",
   "execution_count": null,
   "id": "96281468",
   "metadata": {},
   "outputs": [],
   "source": [
    "dfvelgis['angle']=math.pi\n",
    "dfvelgis.loc['ODM','angle'] = 120/180*math.pi\n",
    "dfvelgis.loc['ORM','angle'] = 120/180*math.pi\n",
    "dfvelgis.loc['OLD','angle'] = 220/180*math.pi\n"
   ]
  },
  {
   "cell_type": "code",
   "execution_count": null,
   "id": "a66af352",
   "metadata": {},
   "outputs": [],
   "source": [
    "dfvelgis"
   ]
  },
  {
   "cell_type": "code",
   "execution_count": null,
   "id": "560d4d30",
   "metadata": {},
   "outputs": [],
   "source": [
    "vel_vectors=dfvelgis.hvplot.vectorfield(x='Longitude',y='Latitude',angle='angle',mag='mean velocity',geo=True,hover=[]).opts(magnitude='mean velocity')\n",
    "vel_vectors = vel_vectors.opts(opts.VectorField(alpha=0.85,color='blue',pivot='tail',line_width=10,line_cap='round'))"
   ]
  },
  {
   "cell_type": "code",
   "execution_count": null,
   "id": "518e0051",
   "metadata": {},
   "outputs": [],
   "source": [
    "dfvelgis['vel_label']=dfvelgis['mean velocity'].map('{:,.2f} ft/s'.format)"
   ]
  },
  {
   "cell_type": "code",
   "execution_count": null,
   "id": "ed081fba",
   "metadata": {},
   "outputs": [],
   "source": [
    "vel_labels = dfvelgis.hvplot.labels(x='Longitude',y='Latitude',text='vel_label',geo=True).opts(opts.Labels(text_align='top', xoffset=400, yoffset=800))"
   ]
  },
  {
   "cell_type": "code",
   "execution_count": null,
   "id": "63a8d213",
   "metadata": {},
   "outputs": [],
   "source": [
    "scmap*stations_map*vel_vectors*vel_labels"
   ]
  },
  {
   "cell_type": "code",
   "execution_count": null,
   "id": "7628c56c",
   "metadata": {},
   "outputs": [],
   "source": []
  }
 ],
 "metadata": {
  "kernelspec": {
   "display_name": "Python [conda env:dev_transect_viz]",
   "language": "python",
   "name": "conda-env-dev_transect_viz-py"
  },
  "language_info": {
   "codemirror_mode": {
    "name": "ipython",
    "version": 3
   },
   "file_extension": ".py",
   "mimetype": "text/x-python",
   "name": "python",
   "nbconvert_exporter": "python",
   "pygments_lexer": "ipython3",
   "version": "3.7.13"
  },
  "toc": {
   "base_numbering": 1,
   "nav_menu": {},
   "number_sections": true,
   "sideBar": true,
   "skip_h1_title": false,
   "title_cell": "Table of Contents",
   "title_sidebar": "Contents",
   "toc_cell": false,
   "toc_position": {},
   "toc_section_display": true,
   "toc_window_display": false
  },
  "vscode": {
   "interpreter": {
    "hash": "f656b49c43cca08cc10f90635159e59d108aee76bacba62e8bb8235506f4beb4"
   }
  }
 },
 "nbformat": 4,
 "nbformat_minor": 5
}
