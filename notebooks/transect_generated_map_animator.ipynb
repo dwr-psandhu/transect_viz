{
 "cells": [
  {
   "cell_type": "code",
   "execution_count": null,
   "id": "4ec81c00",
   "metadata": {},
   "outputs": [],
   "source": [
    "import warnings\n",
    "warnings.filterwarnings('ignore')\n",
    "import transect_viz\n",
    "from transect_viz import transect_generator\n",
    "from transect_viz import transect_animator\n",
    "from transect_viz import transect_data\n",
    "from transect_viz import transect_cdec_data\n",
    "from transect_viz.transect_animator import GeneratedECMapAnimator\n",
    "import panel as pn\n",
    "pn.extension()"
   ]
  },
  {
   "cell_type": "code",
   "execution_count": null,
   "id": "daf25b98",
   "metadata": {},
   "outputs": [],
   "source": [
    "# uncomment to generate equidistant points from line string geojson (one long line string i.e.)\n",
    "#transect_generator.convert_geojson_line_to_pts('geodata/vns2dgl.geojson','geodata/vns2dgl_pts.geojson')\n",
    "#transect_generator.convert_geojson_line_to_pts('geodata/middle_river.geojson','geodata/middle_river_pts.geojson')\n",
    "#transect_generator.convert_geojson_line_to_pts('geodata/victoria_canal.geojson','geodata/victoria_canal_pts.geojson')\n",
    "#transect_generator.convert_geojson_line_to_pts('geodata/paradise_cut.geojson','geodata/paradise_cut_pts.geojson')"
   ]
  },
  {
   "cell_type": "code",
   "execution_count": null,
   "id": "191cf094",
   "metadata": {},
   "outputs": [],
   "source": [
    "# all variables for driving the animation\n",
    "# These are hardcoded here but can be moved to config file in the future.\n",
    "sdate='2022-01-01'\n",
    "edate='2022-10-16'\n",
    "value_range=(300,800)\n",
    "REGENERATE_CSV = False # set to True if sdate, edate are changed or data needs to be redownloaded from CDEC"
   ]
  },
  {
   "cell_type": "code",
   "execution_count": null,
   "id": "2fa67ae5",
   "metadata": {},
   "outputs": [],
   "source": [
    "# -- Uncomment below only if data is not updated or available in the csv files\n",
    "def generate_csv_files(transect_name, station_ids, varname, sdate=sdate, edate=edate):\n",
    "    stations_csv_file = f'{transect_name}_stations.csv'\n",
    "    data_csv_file = f'{transect_name}_{varname.lower()}_data.csv'\n",
    "    transect_cdec_data.generate_stations_csv_file(station_ids, stations_csv_file)\n",
    "    transect_cdec_data.generate_data_csv_file(station_ids, sdate, edate, varname.upper(), data_csv_file)\n",
    "    return stations_csv_file, data_csv_file\n",
    "\n",
    "def create_transect_map(transect_pts_file, stations_csv_file, data_csv_file, close_transect=False, var_column_name='EC'):\n",
    "    # read in data for fabian tract\n",
    "    transect_pts = transect_data.read_geojson(transect_pts_file)\n",
    "    stations = transect_data.read_stations_csv_file(stations_csv_file)\n",
    "    data = transect_data.read_data_csv_file(data_csv_file)\n",
    "\n",
    "    # configure and return\n",
    "    return transect_animator.TransectMap(\n",
    "        transect_pts, stations, data, close_transect=close_transect, data_column=var_column_name)"
   ]
  },
  {
   "cell_type": "code",
   "execution_count": null,
   "id": "d37b5bdb",
   "metadata": {},
   "outputs": [],
   "source": [
    "# -- Uncomment below only if data is not updated or available in the csv files\n",
    "if (REGENERATE_CSV):\n",
    "    stations_csv_file, data_csv_file = generate_csv_files('fabian_tract', ['ORM', 'ODM', 'OLD', 'GLE', 'GLC', 'DGL'], 'ec')\n",
    "    print((stations_csv_file, data_csv_file))\n",
    "    stations_csv_file, data_csv_file = generate_csv_files('sugarcut', ['DAR', 'SUR', 'SGA'], 'ec')\n",
    "    print((stations_csv_file, data_csv_file))\n",
    "    stations_csv_file, data_csv_file = generate_csv_files('vns2dgl', ['SJR', 'MSD', 'OH1', 'UNI', 'ORX', 'DGL'], 'ec')\n",
    "    print((stations_csv_file, data_csv_file))\n",
    "    stations_csv_file, data_csv_file = generate_csv_files('middle_river', ['UNI', 'MRU', 'MHO', 'MTB', 'MRX'], 'ec')\n",
    "    print((stations_csv_file, data_csv_file))\n",
    "    stations_csv_file, data_csv_file = generate_csv_files('victoria_canal',['VIC', 'VCU', 'WCI', 'ORI'] , 'ec')\n",
    "    print((stations_csv_file, data_csv_file))\n",
    "    stations_csv_file, data_csv_file = generate_csv_files('paradise_cut', ['PDC'], 'ec')\n",
    "    print((stations_csv_file, data_csv_file))\n",
    "    stations_csv_file, data_csv_file = generate_csv_files('tom_paine_slough', ['TPI', 'TPP'], 'ec')\n",
    "    print((stations_csv_file, data_csv_file))\n",
    "    #stations_csv_file, data_csv_file = generate_csv_files('', , 'ec')\n",
    "    #print((stations_csv_file, data_csv_file))\n"
   ]
  },
  {
   "cell_type": "code",
   "execution_count": null,
   "id": "ef5ae9ee",
   "metadata": {},
   "outputs": [],
   "source": [
    "fabian = create_transect_map('../geodata/fabian_tract_pts.geojson', 'fabian_tract_stations.csv',\n",
    "                             'fabian_tract_ec_data.csv', close_transect=True)\n",
    "sugar_cut = create_transect_map('../geodata/sugarcut_pts.geojson',\n",
    "                                          'sugarcut_stations.csv', 'sugarcut_ec_data.csv')\n",
    "vns2dgl = create_transect_map('../geodata/vns2dgl_pts.geojson',\n",
    "                                        'vns2dgl_stations.csv', 'vns2dgl_ec_data.csv')\n",
    "midr = create_transect_map('../geodata/middle_river_pts.geojson',\n",
    "                                     'middle_river_stations.csv', 'middle_river_ec_data.csv')\n",
    "vic = create_transect_map('../geodata/victoria_canal_pts.geojson',\n",
    "                                   'victoria_canal_stations.csv', 'victoria_canal_ec_data.csv')\n",
    "pdc = create_transect_map('../geodata/paradise_cut_pts.geojson',\n",
    "                                    'paradise_cut_stations.csv', 'paradise_cut_ec_data.csv')\n",
    "tps = create_transect_map('../geodata/tom_paine_slough_pts.geojson',\n",
    "                                    'tom_paine_slough_stations.csv', 'tom_paine_slough_ec_data.csv')\n",
    "tmap_list = [fabian, sugar_cut, vns2dgl, midr, vic, pdc, tps]"
   ]
  },
  {
   "cell_type": "code",
   "execution_count": null,
   "id": "c56b570e",
   "metadata": {},
   "outputs": [],
   "source": [
    "if REGENERATE_CSV:\n",
    "    generate_csv_files('south_delta', \n",
    "                       ['ORM','ODM','OLD','GLE','GLC','DAR','SGA','VNS','MSD','OH1','ORX','MRU','MAB','VCU','WCI','ORI','PDC'], \n",
    "                       'flow')"
   ]
  },
  {
   "cell_type": "code",
   "execution_count": null,
   "id": "11cb1fa4",
   "metadata": {},
   "outputs": [],
   "source": [
    "flow_stations = transect_data.read_stations_csv_file('south_delta_stations.csv')\n",
    "flow_data = transect_data.read_data_csv_file('south_delta_flow_data.csv')\n",
    "stations_display_info = transect_data.read_station_display_info('../data/station_info_file.csv')\n",
    "barrier_info = transect_data.read_barriers_info('../data/barriers.csv')"
   ]
  },
  {
   "cell_type": "code",
   "execution_count": null,
   "id": "6b38b743",
   "metadata": {},
   "outputs": [],
   "source": [
    "pn.config.sizing_mode='scale_both'\n",
    "map_animator = GeneratedECMapAnimator(tmap_list, sdate, edate, flow_stations, stations_display_info, flow_data, barrier_info)\n",
    "\n",
    "app = map_animator.create_app()\n",
    "#pn.serve(app, static_dirs={'transect_data':'./transect_data/'}) # uncomment only for running locally\n",
    "\n",
    "def load_anim():\n",
    "    map_animator.setup_main_panel()\n",
    "\n",
    "pn.state.onload(load_anim)\n",
    "\n",
    "#app.show() # uncomment only if running notebook"
   ]
  },
  {
   "cell_type": "markdown",
   "id": "2425834c",
   "metadata": {},
   "source": [
    "#app.show()"
   ]
  }
 ],
 "metadata": {
  "kernelspec": {
   "display_name": "Python [conda env:dev_transect_viz]",
   "language": "python",
   "name": "conda-env-dev_transect_viz-py"
  },
  "language_info": {
   "codemirror_mode": {
    "name": "ipython",
    "version": 3
   },
   "file_extension": ".py",
   "mimetype": "text/x-python",
   "name": "python",
   "nbconvert_exporter": "python",
   "pygments_lexer": "ipython3",
   "version": "3.7.13"
  },
  "toc": {
   "base_numbering": 1,
   "nav_menu": {},
   "number_sections": true,
   "sideBar": true,
   "skip_h1_title": false,
   "title_cell": "Table of Contents",
   "title_sidebar": "Contents",
   "toc_cell": false,
   "toc_position": {},
   "toc_section_display": true,
   "toc_window_display": false
  },
  "vscode": {
   "interpreter": {
    "hash": "f656b49c43cca08cc10f90635159e59d108aee76bacba62e8bb8235506f4beb4"
   }
  }
 },
 "nbformat": 4,
 "nbformat_minor": 5
}
