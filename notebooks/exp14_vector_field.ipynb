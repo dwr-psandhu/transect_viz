{
 "cells": [
  {
   "cell_type": "code",
   "execution_count": null,
   "id": "3437f291",
   "metadata": {},
   "outputs": [],
   "source": [
    "import pandas as pd\n",
    "import numpy as np\n",
    "import math\n",
    "import holoviews as hv\n",
    "import hvplot.pandas\n",
    "from holoviews import opts, dim\n",
    "hv.extension('bokeh')"
   ]
  },
  {
   "cell_type": "code",
   "execution_count": null,
   "id": "732a1c97",
   "metadata": {},
   "outputs": [],
   "source": [
    "n=10"
   ]
  },
  {
   "cell_type": "code",
   "execution_count": null,
   "id": "040ee6bf",
   "metadata": {},
   "outputs": [],
   "source": [
    "np.random.random_sample(n)*5-5"
   ]
  },
  {
   "cell_type": "code",
   "execution_count": null,
   "id": "f9e0989d",
   "metadata": {},
   "outputs": [],
   "source": [
    "dfv = pd.DataFrame({'x':np.arange(n),'y':np.arange(n),'a':np.arange(n)/n*math.pi,'m':np.random.random_sample(n)*5-5})\n",
    "dfv"
   ]
  },
  {
   "cell_type": "code",
   "execution_count": null,
   "id": "935e831c",
   "metadata": {},
   "outputs": [],
   "source": [
    "dfv.loc[5,['a','m']]=[np.nan, np.nan]\n",
    "dfv"
   ]
  },
  {
   "cell_type": "code",
   "execution_count": null,
   "id": "456beb55",
   "metadata": {},
   "outputs": [],
   "source": [
    "hv.VectorField(dfv).opts(magnitude=dim('m')*0.1)+hv.Table(dfv)"
   ]
  },
  {
   "cell_type": "code",
   "execution_count": null,
   "id": "c2b2ceed",
   "metadata": {},
   "outputs": [],
   "source": []
  }
 ],
 "metadata": {
  "kernelspec": {
   "display_name": "Python [conda env:dev_pydelmod]",
   "language": "python",
   "name": "conda-env-dev_pydelmod-py"
  },
  "language_info": {
   "codemirror_mode": {
    "name": "ipython",
    "version": 3
   },
   "file_extension": ".py",
   "mimetype": "text/x-python",
   "name": "python",
   "nbconvert_exporter": "python",
   "pygments_lexer": "ipython3",
   "version": "3.7.13"
  },
  "toc": {
   "base_numbering": 1,
   "nav_menu": {},
   "number_sections": true,
   "sideBar": true,
   "skip_h1_title": false,
   "title_cell": "Table of Contents",
   "title_sidebar": "Contents",
   "toc_cell": false,
   "toc_position": {},
   "toc_section_display": true,
   "toc_window_display": false
  }
 },
 "nbformat": 4,
 "nbformat_minor": 5
}
