{
 "cells": [
  {
   "cell_type": "code",
   "execution_count": null,
   "id": "9f5c3ec7",
   "metadata": {},
   "outputs": [],
   "source": [
    "import warnings\n",
    "warnings.filterwarnings('ignore')"
   ]
  },
  {
   "cell_type": "code",
   "execution_count": null,
   "id": "7c7c4361",
   "metadata": {},
   "outputs": [],
   "source": [
    "import transect_viz\n",
    "from transect_viz import transect_cdec_data\n",
    "from transect_viz import transect_generator\n",
    "import hvplot.pandas"
   ]
  },
  {
   "cell_type": "code",
   "execution_count": null,
   "id": "7384d034",
   "metadata": {},
   "outputs": [],
   "source": [
    "df=transect_viz.load_transect_file('../data/Transect_20220302_Fabian.csv')\n",
    "df['EC'] = df['Sonde1_SpCond'] # 'EC' is mapped from Sonde1_SpCond\n",
    "df.head(3)"
   ]
  },
  {
   "cell_type": "code",
   "execution_count": null,
   "id": "e8854eb4",
   "metadata": {},
   "outputs": [],
   "source": [
    "import panel as pn\n",
    "pn.extension()\n",
    "\n",
    "import holoviews as hv"
   ]
  },
  {
   "cell_type": "code",
   "execution_count": null,
   "id": "53bdbdfe",
   "metadata": {},
   "outputs": [],
   "source": [
    "def map_with_legend_by_color_size(df, cmap='rainbow4'):\n",
    "    mapcz, legend = transect_viz.map_transect_with_size_and_color(df, cmap=cmap)\n",
    "    return mapcz, legend"
   ]
  },
  {
   "cell_type": "code",
   "execution_count": null,
   "id": "1202141a",
   "metadata": {},
   "outputs": [],
   "source": [
    "#list(hv.element.tile_sources.keys()) # full_list\n",
    "tiles=pn.widgets.Select(options=['CartoLight','StamenTerrain','OSM','EsriImagery'], value='CartoLight')"
   ]
  },
  {
   "cell_type": "code",
   "execution_count": null,
   "id": "b3c5a7b3",
   "metadata": {},
   "outputs": [],
   "source": [
    "#from holoviews.plotting import list_cmaps\n",
    "#list_cmaps(category='Uniform Sequential')\n",
    "#list_cmaps()\n",
    "\n",
    "cmap_list=['rainbow4','inferno','viridis','ColorBlind']\n",
    "cmaps=pn.widgets.Select(options=cmap_list, value='rainbow4')"
   ]
  },
  {
   "cell_type": "code",
   "execution_count": null,
   "id": "ad55226a",
   "metadata": {},
   "outputs": [],
   "source": [
    "#mapcs = pn.Column(pn.Column(tiles,cmaps), pn.bind(map_by_color_size, df=df, tile_layer=tiles, cmap=cmaps))\n",
    "#mapcs "
   ]
  },
  {
   "cell_type": "code",
   "execution_count": null,
   "id": "9d82866a",
   "metadata": {},
   "outputs": [],
   "source": [
    "cdec_stations=['ORM', 'ODM', 'OLD', 'GLE', 'GLC']\n",
    "station_info_file='../data/station_info_file.csv'"
   ]
  },
  {
   "cell_type": "code",
   "execution_count": null,
   "id": "1c878208",
   "metadata": {},
   "outputs": [],
   "source": [
    "dfs = transect_cdec_data.get_stations_cached(cdec_stations)\n",
    "dfs = transect_viz.add_in_station_info(dfs, station_info_file=station_info_file)"
   ]
  },
  {
   "cell_type": "code",
   "execution_count": null,
   "id": "1117c798",
   "metadata": {},
   "outputs": [],
   "source": [
    "def create_transect_profile(df):\n",
    "    gdf = transect_generator.to_geoframe(df)\n",
    "    transect_line = transect_generator.create_transect_line(gdf)\n",
    "    gdf = transect_generator.add_transect_dist(gdf, transect_line)\n",
    "    return gdf.hvplot.scatter(x='transect_dist', y='EC').opts(\n",
    "        title='Profile of Specific Conductivity along Transect ', xlabel='Transect Distance (ft)', ylabel='Specific Conductivity')"
   ]
  },
  {
   "cell_type": "code",
   "execution_count": null,
   "id": "15664367",
   "metadata": {},
   "outputs": [],
   "source": [
    "transect_profile_plot = create_transect_profile(df)\n",
    "transect_profile_plot"
   ]
  },
  {
   "cell_type": "code",
   "execution_count": null,
   "id": "6ec95a29",
   "metadata": {},
   "outputs": [],
   "source": [
    "station_map_with_tiles = transect_viz.get_tile_layer('CartoLight') *\\\n",
    "    transect_viz.points_for_station(dfs) *\\\n",
    "    transect_viz.labels_for_stations(dfs).opts(frame_height=350)"
   ]
  },
  {
   "cell_type": "code",
   "execution_count": null,
   "id": "1d6e5826",
   "metadata": {},
   "outputs": [],
   "source": [
    "sdate, edate = transect_viz.get_start_end_dates(df)\n",
    "bsdate, bedate = transect_viz.get_buffered_start_end_dates(df)"
   ]
  },
  {
   "cell_type": "code",
   "execution_count": null,
   "id": "20361b5b",
   "metadata": {},
   "outputs": [],
   "source": [
    "def make_list(df):\n",
    "    return [df[[c]] for c in df.columns]"
   ]
  },
  {
   "cell_type": "code",
   "execution_count": null,
   "id": "6e8f4ec8",
   "metadata": {},
   "outputs": [],
   "source": [
    "cdec_flows = transect_cdec_data.get_cdec_data_cached(bsdate, bedate, cdec_stations, data_type='flow')\n",
    "cdec_flows = make_list(cdec_flows)"
   ]
  },
  {
   "cell_type": "code",
   "execution_count": null,
   "id": "1e061fd1",
   "metadata": {},
   "outputs": [],
   "source": [
    "cdec_vels = transect_cdec_data.get_cdec_data_cached(bsdate, bedate, cdec_stations, data_type='vel')\n",
    "cdec_vels = make_list(cdec_vels)"
   ]
  },
  {
   "cell_type": "code",
   "execution_count": null,
   "id": "812fd5d8",
   "metadata": {},
   "outputs": [],
   "source": [
    "collection_span = transect_viz.timespan(sdate, edate)"
   ]
  },
  {
   "cell_type": "code",
   "execution_count": null,
   "id": "dffaa886",
   "metadata": {},
   "outputs": [],
   "source": [
    "flow_plot = transect_viz.plot_flow_around_time(sdate,edate,cdec_flows)*collection_span"
   ]
  },
  {
   "cell_type": "code",
   "execution_count": null,
   "id": "ea653eda",
   "metadata": {},
   "outputs": [],
   "source": [
    "velocity_plot = transect_viz.plot_velocity_around_time(sdate,edate,cdec_vels)*collection_span"
   ]
  },
  {
   "cell_type": "code",
   "execution_count": null,
   "id": "9c951051",
   "metadata": {},
   "outputs": [],
   "source": [
    "from holoviews import opts"
   ]
  },
  {
   "cell_type": "code",
   "execution_count": null,
   "id": "c613c486",
   "metadata": {},
   "outputs": [],
   "source": [
    "dftidalvelgis = transect_viz.merge_mean_velocity_with_stations(dfs, transect_viz.mean_velocity_over_time(sdate,edate,transect_viz.get_tidal_filtered(cdec_vels)))"
   ]
  },
  {
   "cell_type": "code",
   "execution_count": null,
   "id": "c2f65064",
   "metadata": {},
   "outputs": [],
   "source": [
    "vel_tidal_vectors = transect_viz.plot_velocity_vectors(dftidalvelgis)*transect_viz.plot_velocity_labels(dftidalvelgis)"
   ]
  },
  {
   "cell_type": "code",
   "execution_count": null,
   "id": "98aa4341",
   "metadata": {},
   "outputs": [],
   "source": [
    "vel_tidal_map_with_station = station_map_with_tiles*vel_tidal_vectors\n",
    "vel_tidal_map_with_station.opts(frame_height=350, title='Mean Tidally filtered Velocity over collection period', xlabel='Longitude', ylabel='Latitude')"
   ]
  },
  {
   "cell_type": "code",
   "execution_count": null,
   "id": "45816dd2",
   "metadata": {},
   "outputs": [],
   "source": [
    "dfvelgis = transect_viz.merge_mean_velocity_with_stations(dfs, transect_viz.mean_velocity_over_time(sdate,edate,cdec_vels))"
   ]
  },
  {
   "cell_type": "code",
   "execution_count": null,
   "id": "6c5ce21c",
   "metadata": {},
   "outputs": [],
   "source": [
    "vel_vectors = transect_viz.plot_velocity_vectors(dfvelgis)*transect_viz.plot_velocity_labels(dfvelgis)"
   ]
  },
  {
   "cell_type": "code",
   "execution_count": null,
   "id": "8bcf2e69",
   "metadata": {},
   "outputs": [],
   "source": [
    "#ymin, ymax = hv.util.transform.lon_lat_to_easting_northing(-121.5,37.78)[1], hv.util.transform.lon_lat_to_easting_northing(-121.5,37.83)[1]\n",
    "#ylim=(ymin,ymax))"
   ]
  },
  {
   "cell_type": "code",
   "execution_count": null,
   "id": "f6414fcb",
   "metadata": {},
   "outputs": [],
   "source": [
    "vel_map_with_station = station_map_with_tiles*vel_vectors\n",
    "vel_map_with_station.opts(frame_height=350, title='Mean Velocity over collection period', xlabel='Longitude', ylabel='Latitude')"
   ]
  },
  {
   "cell_type": "code",
   "execution_count": null,
   "id": "dd48a035",
   "metadata": {},
   "outputs": [],
   "source": [
    "def show_begin_end_pts_with_labels(df):\n",
    "    begin_end = df.iloc[[0, -1]][['Longitude', 'Latitude', 'DateTime']].copy()\n",
    "    begin_end['Label'] = ['Start', 'End']\n",
    "    print(begin_end)\n",
    "    plt = begin_end.iloc[0:1, :].hvplot.labels(\n",
    "        x='Longitude', y='Latitude', text='Label', geo=True).opts(opts.Labels(yoffset=300))\n",
    "    plt = plt * begin_end.iloc[-1:, :].hvplot.labels(\n",
    "        x='Longitude', y='Latitude', text='Label', geo=True).opts(opts.Labels(yoffset=-300))\n",
    "    plt = plt * begin_end.hvplot.points(geo=True)\n",
    "    return plt"
   ]
  },
  {
   "cell_type": "code",
   "execution_count": null,
   "id": "6dadaeba",
   "metadata": {},
   "outputs": [],
   "source": [
    "vel_map_with_station*show_begin_end_pts_with_labels(df)"
   ]
  },
  {
   "cell_type": "code",
   "execution_count": null,
   "id": "5d703ed1",
   "metadata": {},
   "outputs": [],
   "source": [
    "map1, legend1 = map_with_legend_by_color_size(df)\n",
    "map1 = transect_viz.get_tile_layer('CartoLight')*map1.opts(xlabel='Longitude', ylabel='Latitude')\n",
    "map1 = map1.opts(opts.Points(colorbar=True)).opts(title='Transect EC by size and color')"
   ]
  },
  {
   "cell_type": "code",
   "execution_count": null,
   "id": "a30f2c2e",
   "metadata": {},
   "outputs": [],
   "source": [
    "vel_map2=pn.Row(vel_map_with_station.opts(frame_width=700, frame_height=300), vel_tidal_map_with_station.opts(frame_width=700, frame_height=300))"
   ]
  },
  {
   "cell_type": "code",
   "execution_count": null,
   "id": "430e7a24",
   "metadata": {},
   "outputs": [],
   "source": [
    "#map_panel = pn.Row(pn.Column(map1.opts(frame_width=700, frame_height=300),vel_map2),legend1.opts(title='Point Size Legend'))\n",
    "map_panel = pn.Row(pn.Column(pn.Row(map1.opts(frame_width=700, frame_height=300),legend1.opts(title='Point Size Legend')),\n",
    "                             pn.Row(vel_map_with_station.opts(frame_width=700, frame_height=300),\n",
    "                                   transect_profile_plot)))"
   ]
  },
  {
   "cell_type": "code",
   "execution_count": null,
   "id": "8d92a954",
   "metadata": {},
   "outputs": [],
   "source": [
    "#list(hv.element.tile_sources.keys()) # full_list\n",
    "tiles=pn.widgets.Select(options=['CartoLight','StamenTerrain','OSM','EsriImagery'], value='CartoLight')"
   ]
  },
  {
   "cell_type": "code",
   "execution_count": null,
   "id": "a4ccbee1",
   "metadata": {},
   "outputs": [],
   "source": [
    "#from holoviews.plotting import list_cmaps\n",
    "#list_cmaps(category='Uniform Sequential')\n",
    "#list_cmaps()\n",
    "\n",
    "cmap_list=['rainbow4','inferno','viridis','ColorBlind']\n",
    "cmaps=pn.widgets.Select(options=cmap_list, value='rainbow4')"
   ]
  },
  {
   "cell_type": "code",
   "execution_count": null,
   "id": "8ff503a3",
   "metadata": {},
   "outputs": [],
   "source": [
    "#mapcs = pn.Column(pn.Column(tiles,cmaps), pn.bind(map_by_color_size, df=df, tile_layer=tiles, cmap=cmaps))\n",
    "#mapcs "
   ]
  },
  {
   "cell_type": "code",
   "execution_count": null,
   "id": "750e425c",
   "metadata": {},
   "outputs": [],
   "source": [
    "tidal_plot = transect_viz.plot_tidal_filtered_flow_around_time(sdate, edate, transect_viz.get_tidal_filtered(cdec_flows))*collection_span"
   ]
  },
  {
   "cell_type": "code",
   "execution_count": null,
   "id": "98d45297",
   "metadata": {},
   "outputs": [],
   "source": [
    "tidal_vel_plot = transect_viz.plot_tidal_filtered_velocity_around_time(sdate, edate, transect_viz.get_tidal_filtered(cdec_vels))*collection_span"
   ]
  },
  {
   "cell_type": "code",
   "execution_count": null,
   "id": "dae39df1",
   "metadata": {},
   "outputs": [],
   "source": [
    "flow_velocity_panel = pn.Column(pn.Row(flow_plot, tidal_plot), pn.Row(velocity_plot, tidal_vel_plot))"
   ]
  },
  {
   "cell_type": "code",
   "execution_count": null,
   "id": "8e7c6f54",
   "metadata": {},
   "outputs": [],
   "source": [
    "cdec_stage = transect_cdec_data.get_cdec_data_cached(\n",
    "    bsdate, bedate, cdec_stations, data_type='stage')\n",
    "cdec_stage = make_list(cdec_stage)\n",
    "cdec_ec = transect_cdec_data.get_cdec_data_cached(\n",
    "    bsdate, bedate, cdec_stations, data_type='ec')\n",
    "cdec_ec = make_list(cdec_ec)\n",
    "\n",
    "stage_plot = transect_viz.plot_data_around_time(\n",
    "    sdate, edate, cdec_stage, data_type='stage', ylabel='Stage (ft)', title='Stage')*transect_viz.timespan(sdate, edate)\n",
    "\n",
    "tidal_stage_plot = transect_viz.plot_data_around_time(sdate, edate, transect_viz.get_tidal_filtered(\n",
    "    cdec_stage), data_type='stage', ylabel='Stage (ft)', title='Stage tidally filtered')*transect_viz.timespan(sdate, edate)\n",
    "\n",
    "ec_plot = transect_viz.plot_data_around_time(\n",
    "    sdate, edate, cdec_ec, data_type='ec', ylabel='EC (umhos/cm)', title='EC')*transect_viz.timespan(sdate, edate)\n",
    "\n",
    "tidal_ec_plot = transect_viz.plot_data_around_time(sdate, edate, transect_viz.get_tidal_filtered(\n",
    "    cdec_ec), data_type='ec', ylabel='Tidally filtered EC (umhos/cm)', title='EC')*transect_viz.timespan(sdate, edate)"
   ]
  },
  {
   "cell_type": "code",
   "execution_count": null,
   "id": "e95a3d2b",
   "metadata": {},
   "outputs": [],
   "source": [
    "stage_ec_panel = pn.Column(pn.Row(stage_plot, tidal_stage_plot), pn.Row(ec_plot, tidal_ec_plot))"
   ]
  },
  {
   "cell_type": "code",
   "execution_count": null,
   "id": "b0511184",
   "metadata": {},
   "outputs": [],
   "source": [
    "full_panel = pn.Column(map_panel, flow_velocity_panel, stage_ec_panel)"
   ]
  },
  {
   "cell_type": "code",
   "execution_count": null,
   "id": "0dffc502",
   "metadata": {},
   "outputs": [],
   "source": [
    "full_panel"
   ]
  },
  {
   "cell_type": "code",
   "execution_count": null,
   "id": "f506175e",
   "metadata": {},
   "outputs": [],
   "source": [
    "pn.io.save.save(full_panel,'../transect_reports/Transect_Viz_20220302_Fabian.html',title='Fabian Tract 2022-03-02 EC Transect Visualization Panel')"
   ]
  },
  {
   "cell_type": "code",
   "execution_count": null,
   "id": "4eb897e3",
   "metadata": {},
   "outputs": [],
   "source": []
  }
 ],
 "metadata": {
  "kernelspec": {
   "display_name": "Python [conda env:dev_transect_viz]",
   "language": "python",
   "name": "conda-env-dev_transect_viz-py"
  },
  "language_info": {
   "codemirror_mode": {
    "name": "ipython",
    "version": 3
   },
   "file_extension": ".py",
   "mimetype": "text/x-python",
   "name": "python",
   "nbconvert_exporter": "python",
   "pygments_lexer": "ipython3",
   "version": "3.7.13"
  },
  "toc": {
   "base_numbering": 1,
   "nav_menu": {},
   "number_sections": true,
   "sideBar": true,
   "skip_h1_title": false,
   "title_cell": "Table of Contents",
   "title_sidebar": "Contents",
   "toc_cell": false,
   "toc_position": {},
   "toc_section_display": true,
   "toc_window_display": false
  },
  "vscode": {
   "interpreter": {
    "hash": "f656b49c43cca08cc10f90635159e59d108aee76bacba62e8bb8235506f4beb4"
   }
  }
 },
 "nbformat": 4,
 "nbformat_minor": 5
}
