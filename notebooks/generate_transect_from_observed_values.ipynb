{
 "cells": [
  {
   "cell_type": "code",
   "execution_count": null,
   "id": "74cc1548",
   "metadata": {},
   "outputs": [],
   "source": [
    "import warnings\n",
    "warnings.filterwarnings('ignore')\n",
    "import transect_viz\n",
    "from transect_viz import transect_generator\n",
    "from transect_viz import transect_cdec_data\n",
    "from transect_viz import transect_data\n",
    "import numpy as np\n",
    "import holoviews as hv\n",
    "from holoviews import opts, dim\n",
    "\n",
    "import pandas as pd\n",
    "import holoviews as hv\n",
    "import panel as pn\n",
    "pn.extension()"
   ]
  },
  {
   "cell_type": "markdown",
   "id": "0b84fe12",
   "metadata": {},
   "source": [
    "# Load transect data\n",
    "\n",
    "Load the transect file containing lon,lat and values from a .csv file\n",
    "\n",
    "Then create a line from that transect sampling by connecting them in the order of timestamp and generating a distance along that line starting with the earliest sampled transect to the last one. \n",
    "\n",
    "Also read the observation station locations and the distance along the transect to them"
   ]
  },
  {
   "cell_type": "code",
   "execution_count": null,
   "id": "59642ce2",
   "metadata": {},
   "outputs": [],
   "source": [
    "df=transect_data.load_transect_file('../data/Transect_20220302_Fabian.csv')\n",
    "df['EC'] = df['Sonde1_SpCond']\n",
    "# get transect and add linear reference distance as 'transect_dist'\n",
    "gdf = transect_generator.to_geoframe(df)\n",
    "transect_line=transect_generator.create_transect_line(gdf)\n",
    "gdf = transect_generator.add_transect_dist(gdf, transect_line)\n",
    "gdf = gdf.astype({'DateTime':np.datetime64})\n",
    "# stations also add them to the linear reference\n",
    "cdec_stations=['ORM', 'ODM', 'OLD', 'GLE', 'GLC']\n",
    "dfs = transect_cdec_data.get_stations_cached(cdec_stations)\n",
    "gdfs = transect_generator.to_geoframe(dfs)\n",
    "gdfs = transect_generator.add_transect_dist(gdfs, transect_line)\n",
    "#"
   ]
  },
  {
   "cell_type": "markdown",
   "id": "f76640ab",
   "metadata": {},
   "source": [
    "## Start and end times\n",
    "\n",
    "The start and end times to be used to build the transects. This is based on a buffered start and end dates around the transect collection time. However this can be any start and end date specified"
   ]
  },
  {
   "cell_type": "code",
   "execution_count": null,
   "id": "702dbf6c",
   "metadata": {},
   "outputs": [],
   "source": [
    "bsdate, bedate = transect_viz.get_buffered_start_end_dates(df)\n",
    "#"
   ]
  },
  {
   "cell_type": "markdown",
   "id": "e27c1d92",
   "metadata": {},
   "source": [
    "## Get CDEC data (EC and Flow)\n",
    "Specify cache=False else the data will be read from the .pkl file it stores the EC and Flow data once cached"
   ]
  },
  {
   "cell_type": "code",
   "execution_count": null,
   "id": "1e07cb24",
   "metadata": {},
   "outputs": [],
   "source": [
    "df_cdec_15 = transect_cdec_data.get_ec_cdec_data(bsdate, bedate, cdec_stations, '15T')\n",
    "flow_data_15 = transect_cdec_data.get_flow_cdec_data(bsdate, bedate, cdec_stations, '15T')\n",
    "transect_min, transect_max = transect_generator.get_transect_min_max(gdf)"
   ]
  },
  {
   "cell_type": "markdown",
   "id": "79496927",
   "metadata": {},
   "source": [
    "## Interpolate to fill in missing values\n",
    "\n",
    "Just inspect the data to ensure there are not too many missing values"
   ]
  },
  {
   "cell_type": "code",
   "execution_count": null,
   "id": "fb988415",
   "metadata": {},
   "outputs": [],
   "source": [
    "df_cdec_15=df_cdec_15.interpolate()\n",
    "flow_data_15=flow_data_15.interpolate() # fill nans"
   ]
  },
  {
   "cell_type": "markdown",
   "id": "7c624aa7",
   "metadata": {},
   "source": [
    "## Define function to..\n",
    "\n",
    " * Create values for dfec along the transect line defined by gdf\n",
    " * create water quality map for the generated transect values from dfec\n",
    " * create a vector field for dfflow at the stations defined by gdfs\n",
    " * create a vector field map \n",
    " * overlay the water quality and vector field maps"
   ]
  },
  {
   "cell_type": "code",
   "execution_count": null,
   "id": "af9d062a",
   "metadata": {},
   "outputs": [],
   "source": [
    "def create_transect_map(date_value, dfec, gdf, gdfs, value_range):\n",
    "    dfresult = transect_generator.create_transect(\n",
    "        date_value, dfec, gdf=gdf, gdfs=gdfs)\n",
    "    tmap = transect_generator.show_map(dfresult, value_range=value_range).opts(\n",
    "        title=f'Transect on {date_value}')\n",
    "    return tmap\n",
    "\n",
    "\n",
    "def create_vectorfield_map(date_value, dfflow, gdfs, value_range):\n",
    "    vfmap = transect_viz.create_vector_field_map(transect_viz.create_vector_field(date_value, dfflow, gdfs, mag_column='flow'),\n",
    "                                                 angle_column='angle', mag_column='flow',\n",
    "                                                 mag_factor=0.3, line_width=5)\n",
    "    return vfmap\n",
    "\n",
    "\n",
    "def show_transect_map(date_value, dfec, dfflow, gdf, gdfs, value_range=None):\n",
    "    tmap = create_transect_map(\n",
    "        date_value, dfec, gdf, gdfs, value_range=value_range)\n",
    "    vfmap = create_vectorfield_map(\n",
    "        date_value, dfflow, gdfs, value_range=value_range)\n",
    "    return tmap.Overlay.I * vfmap"
   ]
  },
  {
   "cell_type": "markdown",
   "id": "66a3775d",
   "metadata": {},
   "source": [
    "# Get Transect Begin and end times"
   ]
  },
  {
   "cell_type": "code",
   "execution_count": null,
   "id": "1430a508",
   "metadata": {},
   "outputs": [],
   "source": [
    "sdate, edate = transect_viz.get_start_end_dates(gdf)"
   ]
  },
  {
   "cell_type": "code",
   "execution_count": null,
   "id": "fba53a1d",
   "metadata": {},
   "outputs": [],
   "source": [
    "def get_interpolated_in_time_transect(dateval, dfec, gdf, gdfs, sampling_freq='15T', value_column='EC'):\n",
    "    d=pd.to_datetime(dateval)\n",
    "    gdf2 = dfec.loc[[d.floor(sampling_freq)]]\n",
    "    dfec1 = dfec.loc[[d.ceil(sampling_freq)]]\n",
    "    st = transect_generator.create_transect(dfec0, gdf=gdf, gdfs=gdfs)\n",
    "    et = transect_generator.create_transect(dfec1, dfec, gdf=gdf, gdfs=gdfs)\n",
    "    td=(d-d.floor(sampling_freq))/pd.Timedelta(sampling_freq)\n",
    "    return st+(et-st)*td"
   ]
  },
  {
   "cell_type": "code",
   "execution_count": null,
   "id": "b6982a45",
   "metadata": {},
   "outputs": [],
   "source": [
    "def create_transect_from_interpolated_observed_stations_in_time_and_distance(dfec, gdf, gdfs, value_column='EC'):\n",
    "    gdf2 = gdf.copy()\n",
    "    gdf2[value_column] = np.nan\n",
    "    freqstr = dfec.index.freqstr\n",
    "    for ct in gdf2.DateTime.unique():\n",
    "        ctransect = get_interpolated_in_time_transect(\n",
    "            ct, dfec, gdf2, gdfs, sampling_freq=freqstr, value_column=value_column)\n",
    "        gdf2.loc[gdf2.DateTime == ct,\n",
    "                 value_column] = ctransect.loc[gdf2.loc[gdf2.DateTime == ct].index]\n",
    "    return gdf2"
   ]
  },
  {
   "cell_type": "code",
   "execution_count": null,
   "id": "6b0c044c",
   "metadata": {},
   "outputs": [],
   "source": [
    "gdf2=gdf.copy()"
   ]
  },
  {
   "cell_type": "code",
   "execution_count": null,
   "id": "5dd7728e",
   "metadata": {},
   "outputs": [],
   "source": [
    "gdf2['EC']=df_cdec_15['2022-03-02 15:00']"
   ]
  },
  {
   "cell_type": "code",
   "execution_count": null,
   "id": "e1bf1aaf",
   "metadata": {},
   "outputs": [],
   "source": [
    "df_cdec_15.loc[['2022-02-28 00:00']]"
   ]
  },
  {
   "cell_type": "code",
   "execution_count": null,
   "id": "d6e3c491",
   "metadata": {},
   "outputs": [],
   "source": [
    "df_cdec_15.index.freqstr"
   ]
  },
  {
   "cell_type": "code",
   "execution_count": null,
   "id": "35b07635",
   "metadata": {},
   "outputs": [],
   "source": [
    "gdf2.DateTime.unique()"
   ]
  },
  {
   "cell_type": "code",
   "execution_count": null,
   "id": "2074f045",
   "metadata": {},
   "outputs": [],
   "source": [
    "gdf2 = create_transect_from_interpolated_observed_stations_in_time_and_distance(df_cdec_15, gdf, gdfs)"
   ]
  },
  {
   "cell_type": "code",
   "execution_count": null,
   "id": "4b39ccda",
   "metadata": {},
   "outputs": [],
   "source": [
    "import holoviews as hv\n",
    "from holoviews import opts, dim"
   ]
  },
  {
   "cell_type": "code",
   "execution_count": null,
   "id": "937a9299",
   "metadata": {},
   "outputs": [],
   "source": [
    "pts,pts_legend = transect_viz.map_transect_with_size_and_color(gdf)\n",
    "map_transect = hv.element.tiles.CartoLight()*pts.opts(frame_width=720, colorbar=True, clim=(400,1000))"
   ]
  },
  {
   "cell_type": "code",
   "execution_count": null,
   "id": "77f12f40",
   "metadata": {},
   "outputs": [],
   "source": [
    "pts,pts_legend = transect_viz.map_transect_with_size_and_color(gdf2)\n",
    "map_transect_generated = hv.element.tiles.CartoLight()*pts.opts(frame_width=720, colorbar=True, clim=(400,1000))"
   ]
  },
  {
   "cell_type": "code",
   "execution_count": null,
   "id": "b9996fce",
   "metadata": {},
   "outputs": [],
   "source": [
    "layout = map_transect.opts(title='Measured Transect') + map_transect_generated.opts(title='Generated Transect from Observation Stations')"
   ]
  },
  {
   "cell_type": "code",
   "execution_count": null,
   "id": "0b6498aa",
   "metadata": {},
   "outputs": [],
   "source": [
    "hv.save(layout.cols(1),'Measured_vs_Generated_Transect.html')"
   ]
  },
  {
   "cell_type": "code",
   "execution_count": null,
   "id": "d7dd3ecb",
   "metadata": {},
   "outputs": [],
   "source": []
  }
 ],
 "metadata": {
  "kernelspec": {
   "display_name": "Python [conda env:dev_transect_viz]",
   "language": "python",
   "name": "conda-env-dev_transect_viz-py"
  },
  "language_info": {
   "codemirror_mode": {
    "name": "ipython",
    "version": 3
   },
   "file_extension": ".py",
   "mimetype": "text/x-python",
   "name": "python",
   "nbconvert_exporter": "python",
   "pygments_lexer": "ipython3",
   "version": "3.7.13"
  },
  "toc": {
   "base_numbering": 1,
   "nav_menu": {},
   "number_sections": true,
   "sideBar": true,
   "skip_h1_title": false,
   "title_cell": "Table of Contents",
   "title_sidebar": "Contents",
   "toc_cell": false,
   "toc_position": {},
   "toc_section_display": true,
   "toc_window_display": false
  },
  "vscode": {
   "interpreter": {
    "hash": "f656b49c43cca08cc10f90635159e59d108aee76bacba62e8bb8235506f4beb4"
   }
  }
 },
 "nbformat": 4,
 "nbformat_minor": 5
}
