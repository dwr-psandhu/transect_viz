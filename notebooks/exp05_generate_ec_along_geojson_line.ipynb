{
 "cells": [
  {
   "cell_type": "code",
   "execution_count": null,
   "id": "4b5bf1e9",
   "metadata": {},
   "outputs": [],
   "source": [
    "import warnings\n",
    "warnings.filterwarnings('ignore')\n",
    "# final destination for local functions\n",
    "import transect_viz\n",
    "from transect_viz import transect_generator\n",
    "\n",
    "#for comps\n",
    "import numpy as np\n",
    "import pandas as pd\n",
    "import geopandas as gpd\n",
    "\n",
    "# for viz\n",
    "import holoviews as hv\n",
    "from holoviews import opts, dim\n",
    "import panel as pn\n",
    "pn.extension(sizing_mode='stretch_width')\n",
    "import hvplot.pandas\n",
    "\n",
    "# for caching\n",
    "import functools\n",
    "import os"
   ]
  },
  {
   "cell_type": "code",
   "execution_count": null,
   "id": "7b64ac4a",
   "metadata": {},
   "outputs": [],
   "source": [
    "def read_geojson(file):\n",
    "    '''\n",
    "    read geojson file and return it in crs of UTM Zone 10N, i.e. epsg=32610'''\n",
    "    gdf = gpd.read_file(file)\n",
    "    return gdf.to_crs('epsg:32610')"
   ]
  },
  {
   "cell_type": "code",
   "execution_count": null,
   "id": "31c578e9",
   "metadata": {},
   "outputs": [],
   "source": [
    "def create_points_along_line(line, delx=25):\n",
    "    '''\n",
    "    line is a shapely line string\n",
    "    create equidistant points (delx (25) apart) along line by projection \n",
    "    return a geodata frame in crs of epsg 32610 (UTM Zone 10N)\n",
    "    '''\n",
    "    return gpd.GeoDataFrame(data={'transect_dist':np.arange(0,line.length,delx)},\n",
    "                            geometry=[line.interpolate(x) for x in np.arange(0,line.length,delx)], crs='epsg:32610')"
   ]
  },
  {
   "cell_type": "code",
   "execution_count": null,
   "id": "1699c535",
   "metadata": {},
   "outputs": [],
   "source": [
    "line = read_geojson('../geodata/sugarcut.geojson')"
   ]
  },
  {
   "cell_type": "code",
   "execution_count": null,
   "id": "1785206b",
   "metadata": {},
   "outputs": [],
   "source": [
    "#line.hvplot(geo=True, tiles=True)"
   ]
  },
  {
   "cell_type": "code",
   "execution_count": null,
   "id": "0df73589",
   "metadata": {},
   "outputs": [],
   "source": [
    "#convert to UTM Zone 10N to get length in feet"
   ]
  },
  {
   "cell_type": "code",
   "execution_count": null,
   "id": "0c5ef0ab",
   "metadata": {},
   "outputs": [],
   "source": [
    "print(line.length[0])"
   ]
  },
  {
   "cell_type": "code",
   "execution_count": null,
   "id": "1e0c0048",
   "metadata": {},
   "outputs": [],
   "source": [
    "#line.hvplot(crs='+init=epsg:32610', geo=True, tiles=True)"
   ]
  },
  {
   "cell_type": "code",
   "execution_count": null,
   "id": "f27ec42d",
   "metadata": {},
   "outputs": [],
   "source": [
    "gdfp = create_points_along_line(line.iloc[0].geometry)\n",
    "gdfp.head(2)"
   ]
  },
  {
   "cell_type": "code",
   "execution_count": null,
   "id": "baf10d28",
   "metadata": {},
   "outputs": [],
   "source": [
    "gdfp.info()"
   ]
  },
  {
   "cell_type": "code",
   "execution_count": null,
   "id": "c67ea56d",
   "metadata": {},
   "outputs": [],
   "source": [
    "ptsmap = hv.element.tiles.CartoLight()*gdfp.hvplot(crs='+init=epsg:32610',geo=True)*line.hvplot(crs='+init=epsg:32610',geo=True)"
   ]
  },
  {
   "cell_type": "code",
   "execution_count": null,
   "id": "5de6e0f0",
   "metadata": {},
   "outputs": [],
   "source": [
    "ptsmap"
   ]
  },
  {
   "cell_type": "code",
   "execution_count": null,
   "id": "bc8e5af7",
   "metadata": {},
   "outputs": [],
   "source": [
    "#add longitude and latitude for geoviews to work\n",
    "def add_lon_lat(gdfp):\n",
    "    gdfp_ll = gdfp.copy().to_crs('+init=epsg:4326')\n",
    "    gdfp['Longitude']=gdfp_ll.geometry.x\n",
    "    gdfp['Latitude']=gdfp_ll.geometry.y\n",
    "    return gdfp"
   ]
  },
  {
   "cell_type": "code",
   "execution_count": null,
   "id": "cfb87ca5",
   "metadata": {},
   "outputs": [],
   "source": [
    "gdfp = add_lon_lat(gdfp)"
   ]
  },
  {
   "cell_type": "code",
   "execution_count": null,
   "id": "6b8ef0e4",
   "metadata": {},
   "outputs": [],
   "source": [
    "# saving generated points (equally spaced) to geojson file\n",
    "gdfp.to_file(\"../geodata/sugarcut_pts.geojson\", driver='GeoJSON')"
   ]
  },
  {
   "cell_type": "code",
   "execution_count": null,
   "id": "6d8ee363",
   "metadata": {},
   "outputs": [],
   "source": [
    "gdfp2 = gpd.read_file('../geodata/sugarcut_pts.geojson')\n",
    "gdfp2.head(3)"
   ]
  },
  {
   "cell_type": "code",
   "execution_count": null,
   "id": "3dd9882b",
   "metadata": {},
   "outputs": [],
   "source": [
    "from transect_viz import transect_cdec_data\n",
    "def load_stations(stations):\n",
    "    dfs = transect_cdec_data.get_stations(stations)\n",
    "    gdfs = transect_generator.to_geoframe(dfs)\n",
    "    #gdfs=gdfs.drop(columns=['Longitude','Latitude'])\n",
    "    return gdfs"
   ]
  },
  {
   "cell_type": "code",
   "execution_count": null,
   "id": "fd26c5b4",
   "metadata": {},
   "outputs": [],
   "source": [
    "station_ids = ['DAR', 'SUR', 'SGA']\n",
    "gdfs = load_stations(station_ids)"
   ]
  },
  {
   "cell_type": "code",
   "execution_count": null,
   "id": "93e6158f",
   "metadata": {},
   "outputs": [],
   "source": [
    "#ptsmap*\n",
    "#gdfs.hvplot.points(crs=\"+init=epsg:32610\",geo=True,tiles=True)\n",
    "#print(gdfs.hvplot(geo=True))#,tiles=True)\n",
    "\n",
    "#print(ptsmap)"
   ]
  },
  {
   "cell_type": "code",
   "execution_count": null,
   "id": "c2d4423e",
   "metadata": {},
   "outputs": [],
   "source": [
    "gdfs"
   ]
  },
  {
   "cell_type": "code",
   "execution_count": null,
   "id": "84eb4696",
   "metadata": {},
   "outputs": [],
   "source": [
    "gdfp.crs"
   ]
  },
  {
   "cell_type": "code",
   "execution_count": null,
   "id": "ef6c7482",
   "metadata": {},
   "outputs": [],
   "source": [
    "#gdfp.hvplot(crs='+init=epsg:32610',geo=True)*gdfs.hvplot(crs='+init=epsg:32610',geo=True)\n",
    "gdfp.hvplot(geo=True)*gdfs.hvplot(geo=True) # looks like uses latitude/longitude by default over the geometry column"
   ]
  },
  {
   "cell_type": "code",
   "execution_count": null,
   "id": "902407b3",
   "metadata": {},
   "outputs": [],
   "source": [
    "# create a combined data frame of all points with Station ID and values column\n",
    "gdfs=transect_generator.add_transect_dist(gdfs, line.iloc[0].geometry)\n",
    "gdfa = pd.concat([gdfs,gdfp]).set_index('transect_dist').sort_index()\n",
    "gdfa.head(3)"
   ]
  },
  {
   "cell_type": "code",
   "execution_count": null,
   "id": "97713258",
   "metadata": {},
   "outputs": [],
   "source": [
    "#@pn.io.cache # not available till panel 0.14.1+\n",
    "#def get_station_data(sdate, edate, station_ids, data_type):\n",
    "#    # get values for the Station ID and set values in this to those\n",
    "#    dflist = transect_cdec_data.get_cdec_data_cached(sdate, edate, station_ids=station_ids, data_type=data_type)\n",
    "#    dflist = [df.resample('15T').mean() for df in dflist]\n",
    "#    df = pd.concat(dflist, axis=1)\n",
    "#    return df"
   ]
  },
  {
   "cell_type": "code",
   "execution_count": null,
   "id": "4cc05711",
   "metadata": {},
   "outputs": [],
   "source": [
    "# cache into pickled file\n",
    "#def get_station_data_cached(sdate, edate, station_ids, data_type):\n",
    "#    pfname = 'dataset_'+'_'.join(station_ids)+'_'.join([sdate,edate,data_type])+'.pkl'\n",
    "#    if os.path.exists(pfname):\n",
    "#        dfec = pd.read_pickle(pfname)\n",
    "#    else:\n",
    "#        dfec = get_station_data(sdate, edate, station_ids, data_type)\n",
    "#        dfec.to_pickle(pfname)\n",
    "#    return dfec"
   ]
  },
  {
   "cell_type": "code",
   "execution_count": null,
   "id": "67dbf543",
   "metadata": {},
   "outputs": [],
   "source": [
    "sdate, edate = '01-01-2022','10-07-2022'\n",
    "data_type='EC'\n",
    "date_value = '2022-10-05 12:45:00'"
   ]
  },
  {
   "cell_type": "code",
   "execution_count": null,
   "id": "7b827b84",
   "metadata": {},
   "outputs": [],
   "source": [
    "def interpolate_values(date_value, gdfa, dfdata):\n",
    "    '''\n",
    "    Uses interpolation over index on gdfa for the dfdata value at the date_value\n",
    "    Adds a 'values' column to the gdfa data set \n",
    "    '''\n",
    "    df = dfdata.loc[date_value].to_frame()\n",
    "    df.columns=['values']\n",
    "    gdfx = gdfa.join(df, on='Station ID')\n",
    "    gdfx['values']=gdfx['values'].interpolate('index')\n",
    "    gdfx['DateTime']=date_value\n",
    "    return gdfx"
   ]
  },
  {
   "cell_type": "code",
   "execution_count": null,
   "id": "6d6af076",
   "metadata": {},
   "outputs": [],
   "source": [
    "dfec = transect_cdec_data.get_cdec_data_cached(sdate, edate, station_ids, data_type)\n",
    "gdfx = interpolate_values(date_value, gdfa, dfec)"
   ]
  },
  {
   "cell_type": "code",
   "execution_count": null,
   "id": "b435ed03",
   "metadata": {},
   "outputs": [],
   "source": [
    "gdfx"
   ]
  },
  {
   "cell_type": "code",
   "execution_count": null,
   "id": "9f3ce542",
   "metadata": {},
   "outputs": [],
   "source": [
    "pts_map, pts_legend = transect_viz.map_transect_with_size_and_color(gdfx,data_column='values')"
   ]
  },
  {
   "cell_type": "code",
   "execution_count": null,
   "id": "bd3529ad",
   "metadata": {},
   "outputs": [],
   "source": [
    "hv.element.tiles.CartoLight()*pts_map+pts_legend"
   ]
  },
  {
   "cell_type": "code",
   "execution_count": null,
   "id": "74393154",
   "metadata": {},
   "outputs": [],
   "source": []
  }
 ],
 "metadata": {
  "kernelspec": {
   "display_name": "Python [conda env:dev_pydelmod]",
   "language": "python",
   "name": "conda-env-dev_pydelmod-py"
  },
  "language_info": {
   "codemirror_mode": {
    "name": "ipython",
    "version": 3
   },
   "file_extension": ".py",
   "mimetype": "text/x-python",
   "name": "python",
   "nbconvert_exporter": "python",
   "pygments_lexer": "ipython3",
   "version": "3.7.13"
  },
  "toc": {
   "base_numbering": 1,
   "nav_menu": {},
   "number_sections": true,
   "sideBar": true,
   "skip_h1_title": false,
   "title_cell": "Table of Contents",
   "title_sidebar": "Contents",
   "toc_cell": false,
   "toc_position": {},
   "toc_section_display": true,
   "toc_window_display": false
  },
  "vscode": {
   "interpreter": {
    "hash": "f656b49c43cca08cc10f90635159e59d108aee76bacba62e8bb8235506f4beb4"
   }
  }
 },
 "nbformat": 4,
 "nbformat_minor": 5
}
