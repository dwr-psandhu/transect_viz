{
 "cells": [
  {
   "cell_type": "code",
   "execution_count": null,
   "id": "e0cfab11",
   "metadata": {},
   "outputs": [],
   "source": [
    "import transect_viz\n",
    "from transect_viz import transect_generator"
   ]
  },
  {
   "cell_type": "code",
   "execution_count": null,
   "id": "1dae499a",
   "metadata": {},
   "outputs": [],
   "source": [
    "dft = transect_viz.load_transect_file('../data/Transect_20220302_Fabian.csv')\n",
    "dft"
   ]
  },
  {
   "cell_type": "code",
   "execution_count": null,
   "id": "54da584e",
   "metadata": {},
   "outputs": [],
   "source": [
    "dft = transect_generator.to_geoframe(dft)"
   ]
  },
  {
   "cell_type": "code",
   "execution_count": null,
   "id": "9789de0c",
   "metadata": {},
   "outputs": [],
   "source": [
    "line = transect_generator.create_transect_line(dft)"
   ]
  },
  {
   "cell_type": "code",
   "execution_count": null,
   "id": "9d3136d8",
   "metadata": {},
   "outputs": [],
   "source": [
    "line"
   ]
  },
  {
   "cell_type": "code",
   "execution_count": null,
   "id": "1a67d9e2",
   "metadata": {},
   "outputs": [],
   "source": [
    "dfp = transect_generator.create_points_along_line(line)"
   ]
  },
  {
   "cell_type": "code",
   "execution_count": null,
   "id": "d3518c22",
   "metadata": {},
   "outputs": [],
   "source": [
    "dfp = transect_generator.add_lon_lat(dfp)"
   ]
  },
  {
   "cell_type": "code",
   "execution_count": null,
   "id": "9ccc5b9b",
   "metadata": {},
   "outputs": [],
   "source": [
    "dfp.to_file('geodata/fabian_tract.geojson',driver='GeoJSON')"
   ]
  },
  {
   "cell_type": "code",
   "execution_count": null,
   "id": "0d5d7b34",
   "metadata": {},
   "outputs": [],
   "source": [
    "dfp.hvplot(geo=True, tiles='CartoLight')"
   ]
  },
  {
   "cell_type": "code",
   "execution_count": null,
   "id": "ff3c2bc8",
   "metadata": {},
   "outputs": [],
   "source": []
  }
 ],
 "metadata": {
  "kernelspec": {
   "display_name": "Python [conda env:dev_transect_viz]",
   "language": "python",
   "name": "conda-env-dev_transect_viz-py"
  },
  "language_info": {
   "codemirror_mode": {
    "name": "ipython",
    "version": 3
   },
   "file_extension": ".py",
   "mimetype": "text/x-python",
   "name": "python",
   "nbconvert_exporter": "python",
   "pygments_lexer": "ipython3",
   "version": "3.7.13"
  },
  "toc": {
   "base_numbering": 1,
   "nav_menu": {},
   "number_sections": true,
   "sideBar": true,
   "skip_h1_title": false,
   "title_cell": "Table of Contents",
   "title_sidebar": "Contents",
   "toc_cell": false,
   "toc_position": {},
   "toc_section_display": true,
   "toc_window_display": false
  }
 },
 "nbformat": 4,
 "nbformat_minor": 5
}
