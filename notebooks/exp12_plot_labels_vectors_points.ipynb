{
 "cells": [
  {
   "cell_type": "code",
   "execution_count": null,
   "id": "4b3621b7",
   "metadata": {},
   "outputs": [],
   "source": [
    "import warnings\n",
    "warnings.filterwarnings('ignore')"
   ]
  },
  {
   "cell_type": "code",
   "execution_count": null,
   "id": "54265980",
   "metadata": {},
   "outputs": [],
   "source": [
    "import holoviews as hv\n",
    "hv.extension('bokeh')\n",
    "import hvplot.pandas"
   ]
  },
  {
   "cell_type": "code",
   "execution_count": null,
   "id": "72524529",
   "metadata": {},
   "outputs": [],
   "source": [
    "import panel as pn\n",
    "pn.extension()"
   ]
  },
  {
   "cell_type": "code",
   "execution_count": null,
   "id": "367e8b68",
   "metadata": {},
   "outputs": [],
   "source": [
    "import pandas as pd"
   ]
  },
  {
   "cell_type": "code",
   "execution_count": null,
   "id": "6bb09b7c",
   "metadata": {},
   "outputs": [],
   "source": [
    "df=pd.DataFrame({'x':[1,2],'y':[2,3], 'label':['A','B'],})\n",
    "df"
   ]
  },
  {
   "cell_type": "code",
   "execution_count": null,
   "id": "69bc9baf",
   "metadata": {},
   "outputs": [],
   "source": [
    "hv.Labels(df)"
   ]
  },
  {
   "cell_type": "code",
   "execution_count": null,
   "id": "68e8c414",
   "metadata": {},
   "outputs": [],
   "source": [
    "hv.Points(df)"
   ]
  },
  {
   "cell_type": "code",
   "execution_count": null,
   "id": "8cc2596c",
   "metadata": {},
   "outputs": [],
   "source": [
    "values=[1,2,3]"
   ]
  },
  {
   "cell_type": "code",
   "execution_count": null,
   "id": "683f2835",
   "metadata": {},
   "outputs": [],
   "source": [
    "player = pn.widgets.DiscretePlayer(options=[1,2,3])"
   ]
  },
  {
   "cell_type": "code",
   "execution_count": null,
   "id": "a99c20a2",
   "metadata": {},
   "outputs": [],
   "source": [
    "def show_labelled_points(value):\n",
    "    df=pd.DataFrame({'x':[1,2],'y':[2,3], 'label':[v+str(value) for v in ['A','B']],})\n",
    "    return hv.Labels(df)*hv.Points(df)"
   ]
  },
  {
   "cell_type": "code",
   "execution_count": null,
   "id": "9d3dbc2b",
   "metadata": {},
   "outputs": [],
   "source": [
    "player"
   ]
  },
  {
   "cell_type": "code",
   "execution_count": null,
   "id": "4f2dbd6c",
   "metadata": {},
   "outputs": [],
   "source": [
    "hv.DynamicMap(show_labelled_points, streams=[player.param.value])"
   ]
  },
  {
   "cell_type": "code",
   "execution_count": null,
   "id": "bf59c394",
   "metadata": {},
   "outputs": [],
   "source": [
    "import geoviews as gv"
   ]
  },
  {
   "cell_type": "code",
   "execution_count": null,
   "id": "d01918e3",
   "metadata": {},
   "outputs": [],
   "source": [
    "def show_geolabelled_points(value):\n",
    "    df=pd.DataFrame({'x':[1,2],'y':[2,3], 'label':[v+str(value) for v in ['A','B']],})\n",
    "    return gv.Labels(df)*gv.Points(df)"
   ]
  },
  {
   "cell_type": "code",
   "execution_count": null,
   "id": "536665f8",
   "metadata": {},
   "outputs": [],
   "source": [
    "playerg = pn.widgets.DiscretePlayer(options=[1,2,3])\n",
    "playerg"
   ]
  },
  {
   "cell_type": "code",
   "execution_count": null,
   "id": "68b1a7a6",
   "metadata": {},
   "outputs": [],
   "source": [
    "hv.DynamicMap(show_geolabelled_points, streams=[playerg.param.value])"
   ]
  },
  {
   "cell_type": "code",
   "execution_count": null,
   "id": "217e0618",
   "metadata": {},
   "outputs": [],
   "source": [
    "gv.Labels(data=df, kdims=['x','y'], label='label')"
   ]
  },
  {
   "cell_type": "code",
   "execution_count": null,
   "id": "f99b1dc0",
   "metadata": {},
   "outputs": [],
   "source": [
    "dfv = pd.DataFrame({'Longitude':[-121.5,-121.6],'Latitude':[38.5, 38.6],'angle':[0,3],'magnitude':[100,1000]})\n",
    "dfv"
   ]
  },
  {
   "cell_type": "code",
   "execution_count": null,
   "id": "339715c8",
   "metadata": {},
   "outputs": [],
   "source": [
    "gv.VectorField(dfv, kdims=['Longitude','Latitude'], vdims=['angle','magnitude']).opts(magnitude='magnitude')"
   ]
  },
  {
   "cell_type": "code",
   "execution_count": null,
   "id": "990fe1a8",
   "metadata": {},
   "outputs": [],
   "source": []
  }
 ],
 "metadata": {
  "kernelspec": {
   "display_name": "Python [conda env:dev_transect_viz]",
   "language": "python",
   "name": "conda-env-dev_transect_viz-py"
  },
  "language_info": {
   "codemirror_mode": {
    "name": "ipython",
    "version": 3
   },
   "file_extension": ".py",
   "mimetype": "text/x-python",
   "name": "python",
   "nbconvert_exporter": "python",
   "pygments_lexer": "ipython3",
   "version": "3.7.13"
  },
  "toc": {
   "base_numbering": 1,
   "nav_menu": {},
   "number_sections": true,
   "sideBar": true,
   "skip_h1_title": false,
   "title_cell": "Table of Contents",
   "title_sidebar": "Contents",
   "toc_cell": false,
   "toc_position": {},
   "toc_section_display": true,
   "toc_window_display": false
  }
 },
 "nbformat": 4,
 "nbformat_minor": 5
}
